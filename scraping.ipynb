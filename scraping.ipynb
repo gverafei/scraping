{
  "cells": [
    {
      "cell_type": "markdown",
      "metadata": {
        "colab_type": "text",
        "id": "view-in-github"
      },
      "source": [
        "<a href=\"https://colab.research.google.com/github/gverafei/scraping/blob/main/scraping.ipynb\" target=\"_parent\"><img src=\"https://colab.research.google.com/assets/colab-badge.svg\" alt=\"Open In Colab\"/></a>"
      ]
    },
    {
      "cell_type": "markdown",
      "metadata": {
        "id": "3flX_YcJTu05"
      },
      "source": [
        "# **Investigating how to scrape the web**\n",
        "April 2025\n",
        "\n"
      ]
    },
    {
      "cell_type": "markdown",
      "metadata": {},
      "source": [
        "### Initial method\n",
        "\n",
        "<center><img src=\"images/metodo.jpg\" style=\"margin:auto; width:90%\"/></center>"
      ]
    },
    {
      "cell_type": "markdown",
      "metadata": {},
      "source": [
        "### Método simple como control\n",
        "\n",
        "<center><img src=\"images/metodo-slim1.jpg\" style=\"margin:auto; width:50%\"/></center>"
      ]
    },
    {
      "cell_type": "markdown",
      "metadata": {},
      "source": [
        "### Método propuesto v1\n",
        "\n",
        "<center><img src=\"images/metodo-slim2.jpg\" style=\"margin:auto; width:50%\"/></center>"
      ]
    },
    {
      "cell_type": "markdown",
      "metadata": {},
      "source": [
        "\n",
        "### Scraping WCAG\n",
        "\n",
        "Necesitamos guardar de alguna manera todo este conocimiento: https://www.w3.org/WAI/WCAG22/Understanding/\n",
        "\n",
        "<center><img src=\"images/metodo-craw.jpg\" style=\"margin:auto; width:50%\"/></center>"
      ]
    },
    {
      "cell_type": "markdown",
      "metadata": {
        "id": "ctzFiDtTTu07"
      },
      "source": [
        "## Configure virtual environment\n",
        "\n",
        "Solo se ejecuta lo siguiente la primera vez. Pedirá seleccionar the kernel from the upper right corner. Choose this virtual environment we just created."
      ]
    },
    {
      "cell_type": "code",
      "execution_count": 73,
      "metadata": {
        "id": "p1TQVRZzadcO",
        "vscode": {
          "languageId": "shellscript"
        }
      },
      "outputs": [],
      "source": [
        "# !python3 -m venv .venv\n",
        "# !source .venv/bin/activate # Linux/Mac\n",
        "# !.\\venv\\Scripts\\activate # Windows"
      ]
    },
    {
      "cell_type": "markdown",
      "metadata": {
        "id": "VyXLvtvmadcP"
      },
      "source": [
        "Inicializa el repositorio en GitHub. Todo esto se hace desde la terminal."
      ]
    },
    {
      "cell_type": "code",
      "execution_count": 74,
      "metadata": {
        "id": "2ztygE_IadcP",
        "vscode": {
          "languageId": "shellscript"
        }
      },
      "outputs": [],
      "source": [
        "# !git init\n",
        "# !git remote add origin https://github.com/gverafei/scraping.git\n",
        "# !git pull origin main\n",
        "# git add .\n",
        "# git commit -m \"Initial commit\"\n",
        "# git push --set-upstream origin main"
      ]
    },
    {
      "cell_type": "code",
      "execution_count": 75,
      "metadata": {
        "id": "p0PLl5W4adcP",
        "vscode": {
          "languageId": "shellscript"
        }
      },
      "outputs": [],
      "source": [
        "!pip install --upgrade pip --quiet"
      ]
    },
    {
      "cell_type": "markdown",
      "metadata": {
        "id": "EspH7Z_nadcP"
      },
      "source": [
        "## Create the initial data"
      ]
    },
    {
      "cell_type": "code",
      "execution_count": 76,
      "metadata": {
        "id": "Vo40HI4tnIBm"
      },
      "outputs": [],
      "source": [
        "competitor_sites = [\n",
        "    # {\n",
        "    #     \"name\": \"Amazon\",\n",
        "    #     \"url\": \"https://www.amazon.com\"\n",
        "    # },\n",
        "    # {\n",
        "    #     \"name\": \"UV\",\n",
        "    #     \"url\": \"https://www.uv.mx\"\n",
        "    # },\n",
        "    # {\n",
        "    #     \"name\": \"W3C ACT Rules\",\n",
        "    #     \"url\": \"https://www.w3.org/WAI/standards-guidelines/act/rules/\"\n",
        "    # },\n",
        "    # {\n",
        "    #     \"name\": \"Chedrahui\",\n",
        "    #     \"url\": \"https://www.chedraui.com.mx\"\n",
        "    # },\n",
        "    # {\n",
        "    #     \"name\": \"FEI\",\n",
        "    #     \"url\": \"https://www.uv.mx/fei/\"\n",
        "    # },\n",
        "    {\n",
        "        \"name\": \"Sistemas FEI\",\n",
        "        \"url\": \"https://sistemasfei.uv.mx/inicio/\"\n",
        "    }\n",
        "]"
      ]
    },
    {
      "cell_type": "markdown",
      "metadata": {
        "id": "nkokkcBzadcQ"
      },
      "source": [
        "## Setup cost's calculations\n",
        "\n",
        "The idea is to compare side-by-side.\n",
        "\n",
        "We can calculate how much it'll cost by using OpenAI's `tiktoken` library from: https://github.com/openai/tiktoken\n",
        "\n",
        "And costs from: https://openai.com/api/pricing/"
      ]
    },
    {
      "cell_type": "code",
      "execution_count": 77,
      "metadata": {
        "colab": {
          "base_uri": "https://localhost:8080/"
        },
        "id": "C0wHR_-JadcQ",
        "outputId": "33556027-fbe5-44dd-dc24-b8d86eb55366",
        "vscode": {
          "languageId": "shellscript"
        }
      },
      "outputs": [],
      "source": [
        "!pip install tiktoken --quiet"
      ]
    },
    {
      "cell_type": "code",
      "execution_count": 78,
      "metadata": {
        "colab": {
          "base_uri": "https://localhost:8080/"
        },
        "id": "zM68g89fadcQ",
        "outputId": "cc113c50-a2cd-486d-9e05-4a4f6fa73cf7"
      },
      "outputs": [],
      "source": [
        "import tiktoken\n",
        "\n",
        "def count_tokens(input_string: str) -> int:\n",
        "    encoder = tiktoken.encoding_for_model(\"gpt-4o\")\n",
        "    tokens = encoder.encode(input_string)\n",
        "    return len(tokens)\n",
        "\n",
        "def calculate_cost(input_string: str, cost_per_million_tokens: float = 2.5) -> tuple:\n",
        "    num_tokens = count_tokens(input_string)\n",
        "    total_cost = (num_tokens / 1_000_000) * cost_per_million_tokens\n",
        "    return total_cost, num_tokens\n",
        "\n",
        "def calculate_cost_tokens(num_tokens: int, cost_per_million_tokens: float = 2.5) -> float:\n",
        "    total_cost = (num_tokens / 1_000_000) * cost_per_million_tokens\n",
        "    return total_cost\n",
        "\n",
        "# Example usage:\n",
        "# input_string = \"Porque la gallina cruzó el camino? Pues porque quería llegar al otro lado.\"\n",
        "# cost = calculate_cost(input_string)\n",
        "# print(f\"The total cost for using gpt-4o is: $US {cost:.6f}\")"
      ]
    },
    {
      "cell_type": "markdown",
      "metadata": {
        "id": "JhoJFRuTadcQ"
      },
      "source": [
        "## Table para ver los resultados\n",
        "\n",
        "Ahora, para ver los resultados de la comparaciones, instalamos un paquete para ver tablas en línea de comandos: https://pypi.org/project/prettytable/\n",
        "\n",
        "Y también instalamos un paquete para ver una barra de progreso bonita en loops: https://pypi.org/project/tqdm/"
      ]
    },
    {
      "cell_type": "code",
      "execution_count": 79,
      "metadata": {
        "id": "1sxfK7Z1adcQ",
        "vscode": {
          "languageId": "shellscript"
        }
      },
      "outputs": [],
      "source": [
        "!pip install prettytable --quiet"
      ]
    },
    {
      "cell_type": "code",
      "execution_count": 80,
      "metadata": {
        "id": "8Q1iG482adcQ",
        "vscode": {
          "languageId": "shellscript"
        }
      },
      "outputs": [],
      "source": [
        "!pip install tqdm --quiet"
      ]
    },
    {
      "cell_type": "code",
      "execution_count": 81,
      "metadata": {
        "id": "MMLlOBowadcQ"
      },
      "outputs": [],
      "source": [
        "from typing import List, Callable, Dict\n",
        "from prettytable import PrettyTable\n",
        "from tqdm import tqdm\n",
        "\n",
        "def view_scraped_content(scrape_url_functions: List[Dict[str, Callable[[str], str]]], sites_list: List[Dict[str, str]], characters_to_display: int = 500, table_max_width: int = 50, to_markdown: bool=False) -> List[Dict[str, str]]:\n",
        "    content_table_headers = [\"Site Name\"] + [f\"{func['name']} content\" for func in scrape_url_functions]\n",
        "    cost_table_headers = [\"Site Name\"] + [f\"{func['name']} cost\" for func in scrape_url_functions]\n",
        "\n",
        "    content_table = PrettyTable()\n",
        "    content_table.field_names = content_table_headers\n",
        "\n",
        "    cost_table = PrettyTable()\n",
        "    cost_table.field_names = cost_table_headers\n",
        "\n",
        "    scraped_data = []\n",
        "\n",
        "    for site in sites_list:\n",
        "        content_row = [site['name']]\n",
        "        cost_row = [site['name']]\n",
        "        site_data = {\"provider\": site['name'], \"sites\": []}\n",
        "\n",
        "        for scrape_function in scrape_url_functions:\n",
        "            function_name = scrape_function['name']\n",
        "            for _ in tqdm([site], desc=f\"Processing site {site['name']} using {function_name}\"):\n",
        "                content = scrape_function['function'](site['url'], to_markdown)\n",
        "                content_snippet = content[:characters_to_display]\n",
        "                content_snippet = f\"{len(content):,} characters retrieved:\\n\\n\" + content_snippet\n",
        "                content_row.append(content_snippet)\n",
        "\n",
        "                cost, count_tokens = calculate_cost(content)\n",
        "                cost_row.append(f\"${cost:.6f} (tokens: {count_tokens:,})\")\n",
        "\n",
        "                site_data[\"sites\"].append({\"name\": function_name, \"content\": content})\n",
        "\n",
        "        content_table.add_row(content_row)\n",
        "        cost_table.add_row(cost_row)\n",
        "        scraped_data.append(site_data)\n",
        "\n",
        "    content_table.max_width = table_max_width\n",
        "    content_table.hrules = True\n",
        "\n",
        "    cost_table.max_width = table_max_width\n",
        "    cost_table.hrules = True\n",
        "\n",
        "    print(\"Content Table:\")\n",
        "    print(content_table)\n",
        "\n",
        "    print(\"\\nCost Table:\\nThis is how much it would cost to use gpt-4o to use this content as input.\")\n",
        "    print(cost_table)\n",
        "\n",
        "    return scraped_data"
      ]
    },
    {
      "cell_type": "markdown",
      "metadata": {
        "id": "CVbRcFl0adcR"
      },
      "source": [
        "## Setup all the scrapers\n",
        "\n",
        "Let's setup all of our scrapers."
      ]
    },
    {
      "cell_type": "markdown",
      "metadata": {
        "id": "nkwGupuBadcR"
      },
      "source": [
        "## Beautiful Soup\n",
        "\n",
        "Se instala este paquete desde: https://pypi.org/project/beautifulsoup4/\n",
        "\n",
        "Y también request para hacer peticiones desde: https://pypi.org/project/requests/"
      ]
    },
    {
      "cell_type": "code",
      "execution_count": 82,
      "metadata": {
        "id": "DoEo87IUadcR",
        "vscode": {
          "languageId": "shellscript"
        }
      },
      "outputs": [],
      "source": [
        "!pip install requests beautifulsoup4 --quiet"
      ]
    },
    {
      "cell_type": "code",
      "execution_count": 83,
      "metadata": {
        "vscode": {
          "languageId": "shellscript"
        }
      },
      "outputs": [],
      "source": [
        "!pip install markdownify --quiet"
      ]
    },
    {
      "cell_type": "code",
      "execution_count": 84,
      "metadata": {
        "id": "5mh7qfdladcR"
      },
      "outputs": [],
      "source": [
        "# Beautiful Soup utility functions\n",
        "\n",
        "import requests\n",
        "from bs4 import BeautifulSoup\n",
        "from markdownify import markdownify as md\n",
        "\n",
        "def beautiful_soup_scrape_url(url: str, to_markdown: bool = False) -> str:\n",
        "    response = requests.get(url)\n",
        "    soup = BeautifulSoup(response.content, 'html.parser')\n",
        "    if to_markdown:\n",
        "        return md(str(soup)) # Convert to markdown\n",
        "    return str(soup)"
      ]
    },
    {
      "cell_type": "markdown",
      "metadata": {
        "id": "J6UUmzTSadcR"
      },
      "source": [
        "## Playwright\n",
        "\n",
        "La manera clásica de hacer scraping. No es especial para LLMs desde: https://playwright.dev/"
      ]
    },
    {
      "cell_type": "code",
      "execution_count": 85,
      "metadata": {
        "colab": {
          "base_uri": "https://localhost:8080/"
        },
        "id": "iWtcOGvTadcR",
        "outputId": "a651572a-e03d-44a8-8d8b-64d729793d3b",
        "vscode": {
          "languageId": "shellscript"
        }
      },
      "outputs": [],
      "source": [
        "!pip install playwright --quiet"
      ]
    },
    {
      "cell_type": "code",
      "execution_count": 86,
      "metadata": {
        "colab": {
          "base_uri": "https://localhost:8080/"
        },
        "id": "xbL8G798adcR",
        "outputId": "c99e2110-2b90-4dc6-e892-d56a7c6b3c36",
        "vscode": {
          "languageId": "shellscript"
        }
      },
      "outputs": [],
      "source": [
        "!playwright install"
      ]
    },
    {
      "cell_type": "code",
      "execution_count": 87,
      "metadata": {
        "id": "YWC6t2UhadcR",
        "vscode": {
          "languageId": "shellscript"
        }
      },
      "outputs": [],
      "source": [
        "!pip install nest_asyncio --quiet"
      ]
    },
    {
      "cell_type": "code",
      "execution_count": 88,
      "metadata": {
        "vscode": {
          "languageId": "shellscript"
        }
      },
      "outputs": [],
      "source": [
        "!pip install markdownify --quiet"
      ]
    },
    {
      "cell_type": "code",
      "execution_count": 89,
      "metadata": {
        "id": "p-JCvLiFadcR"
      },
      "outputs": [],
      "source": [
        "import nest_asyncio\n",
        "nest_asyncio.apply()\n",
        "\n",
        "import asyncio\n",
        "from playwright.async_api import async_playwright\n",
        "\n",
        "async def scrape_playwright(url: str, to_markdown: bool = False) -> str:\n",
        "    async with async_playwright() as pw:\n",
        "        browser =  await pw.chromium.launch(headless=True)\n",
        "        page = await browser.new_page()\n",
        "        await page.goto(url)\n",
        "        # Espera para que cargue la pagina\n",
        "        await page.wait_for_load_state('domcontentloaded')\n",
        "        # Ejecuta un script para bajar hasta el final de la pagina\n",
        "        # await page.evaluate('window.scrollTo(0, document.body.scrollHeight)')\n",
        "        # Tambien se puede hacer con el teclado\n",
        "        await page.keyboard.press('End')\n",
        "        # Espera a que baje el scroll\n",
        "        await page.wait_for_timeout(2000)\n",
        "\n",
        "        html = await page.content()\n",
        "        if to_markdown:\n",
        "            html = md(html) # Convert to markdown\n",
        "        \n",
        "        await browser.close()\n",
        "        return html\n",
        "\n",
        "def scrape_playwright_sync(url: str, to_markdown: bool = False):\n",
        "    return asyncio.run(scrape_playwright(url, to_markdown))\n",
        "\n",
        "# print(scrape_playwright_sync(\"https://www.amazon.com\", to_markdown=True))"
      ]
    },
    {
      "cell_type": "markdown",
      "metadata": {
        "id": "TYsfgXbOadcR"
      },
      "source": [
        "## Reader API by Jina AI\n",
        "\n",
        "Este es especialmente para LLMs también. Setup Jina AI's scrape method from: https://jina.ai/reader/"
      ]
    },
    {
      "cell_type": "code",
      "execution_count": 90,
      "metadata": {
        "id": "OEHapbAOadcR"
      },
      "outputs": [],
      "source": [
        "import requests\n",
        "\n",
        "def scrape_jina_ai(url: str, to_markdown: bool = False) -> str:\n",
        "    headers = {\n",
        "        'X-Return-Format': 'markdown' if to_markdown else 'html',\n",
        "        'X-Engine': 'browser',\n",
        "        'X-Timeout': '30',\n",
        "        \"X-With-Images-Summary\": \"none\" if to_markdown else \"all\",\n",
        "    }\n",
        "    data = {\n",
        "        'url': url,\n",
        "        'injectPageScript': [\n",
        "            'document.addEventListener(\"mutationIdle\", window.simulateScroll);'\n",
        "        ]\n",
        "    }\n",
        "    response = requests.post('https://r.jina.ai/', headers=headers, json=data)\n",
        "    return response.text\n",
        "\n",
        "# print(scrape_jina_ai(\"https://www.uv.mx\", to_markdown = True))"
      ]
    },
    {
      "cell_type": "markdown",
      "metadata": {
        "id": "vMtJpLtPadcR"
      },
      "source": [
        "## Crawl4AI: Open-Source LLM-Friendly Web Crawler & Scraper\n",
        "\n",
        "Este es especialmente para obtener formato amigable para LLMs desde: https://docs.crawl4ai.com/\n",
        "\n",
        "Primero instalamos prerequisitos que requiere Google Colab."
      ]
    },
    {
      "cell_type": "code",
      "execution_count": 91,
      "metadata": {
        "id": "1MHc1ZotejiY",
        "vscode": {
          "languageId": "shellscript"
        }
      },
      "outputs": [],
      "source": [
        "!pip install h5py --quiet"
      ]
    },
    {
      "cell_type": "code",
      "execution_count": 92,
      "metadata": {
        "vscode": {
          "languageId": "shellscript"
        }
      },
      "outputs": [],
      "source": [
        "!pip install typing-extensions --quiet"
      ]
    },
    {
      "cell_type": "code",
      "execution_count": 93,
      "metadata": {
        "vscode": {
          "languageId": "shellscript"
        }
      },
      "outputs": [],
      "source": [
        "!pip install wheel --quiet"
      ]
    },
    {
      "cell_type": "markdown",
      "metadata": {
        "id": "3MtRxpOrfevX"
      },
      "source": [
        "Posteriormente, ya podemos realizar la instalación."
      ]
    },
    {
      "cell_type": "code",
      "execution_count": 94,
      "metadata": {
        "id": "Dc6Gou8-adcR",
        "vscode": {
          "languageId": "shellscript"
        }
      },
      "outputs": [],
      "source": [
        "!pip install crawl4ai --quiet"
      ]
    },
    {
      "cell_type": "code",
      "execution_count": 95,
      "metadata": {
        "colab": {
          "base_uri": "https://localhost:8080/"
        },
        "id": "h_l1aG_radcR",
        "outputId": "5023fad8-6775-44b3-f970-0956828e3ac1",
        "vscode": {
          "languageId": "shellscript"
        }
      },
      "outputs": [
        {
          "name": "stdout",
          "output_type": "stream",
          "text": [
            "[INIT].... → Running post-installation setup...\n",
            "[INIT].... → Installing Playwright browsers...\n",
            "[COMPLETE] ● Playwright installation completed successfully.\n",
            "[INIT].... → Starting database initialization...\n",
            "[COMPLETE] ● Database initialization completed successfully.\n",
            "[COMPLETE] ● Post-installation setup completed!\n"
          ]
        }
      ],
      "source": [
        "!crawl4ai-setup"
      ]
    },
    {
      "cell_type": "code",
      "execution_count": null,
      "metadata": {
        "id": "fPX1z3jqadcR",
        "vscode": {
          "languageId": "shellscript"
        }
      },
      "outputs": [],
      "source": [
        "!pip install nest_asyncio --quiet"
      ]
    },
    {
      "cell_type": "code",
      "execution_count": null,
      "metadata": {
        "id": "rNULITSAadcR"
      },
      "outputs": [],
      "source": [
        "import nest_asyncio\n",
        "nest_asyncio.apply()\n",
        "\n",
        "import asyncio\n",
        "from crawl4ai import AsyncWebCrawler\n",
        "from crawl4ai.async_configs import BrowserConfig, CrawlerRunConfig\n",
        "\n",
        "browser_conf = BrowserConfig(verbose=False,headless=True)\n",
        "\n",
        "run_cfg = CrawlerRunConfig(\n",
        "    wait_until=\"domcontentloaded\",\n",
        "    wait_for_images=True,\n",
        "    scan_full_page=True,\n",
        "    verbose=False,\n",
        ")\n",
        "\n",
        "async def async_scrape_crawl4ai(url: str, to_markdown: bool = False) -> str:\n",
        "    crawler = AsyncWebCrawler(config=browser_conf)\n",
        "    await crawler.start()\n",
        "    result = await crawler.arun(\n",
        "        url=url,\n",
        "        config=run_cfg,\n",
        "    )\n",
        "\n",
        "    if not to_markdown:\n",
        "        return result.html\n",
        "    \n",
        "    # Convert HTML to Markdown\n",
        "    # Get all the images\n",
        "    images = result.media.get(\"images\", [])\n",
        "    images_list = f\"\\n\\nImages found:{len(images)}\"\n",
        "    for i, img in enumerate(images):\n",
        "        images_list = images_list + f\"\\n - ![Image {i+1}: {img.get('alt','No description')}]({img.get('src','')})\"\n",
        "        # Example: - ![Image 1: Alt text](https://example.com/image1.jpg)\n",
        "    \n",
        "    return result.markdown + images_list\n",
        "\n",
        "# To run the async function in a synchronous context\n",
        "# (like this script), you can use asyncio.run() to execute it.\n",
        "# This is a workaround for running async functions in a sync context.\n",
        "def scrape_crawl4ai(url: str, to_markdown: bool = False):\n",
        "    return asyncio.run(async_scrape_crawl4ai(url, to_markdown))\n",
        "\n",
        "# print(scrape_crawl4ai(\"https://www.uv.mx\", to_markdown=True))"
      ]
    },
    {
      "cell_type": "markdown",
      "metadata": {},
      "source": [
        "## Firecrawl: Turn websites into LLM-ready data\n",
        "\n",
        "Esta es otra opción que no se usará porque tiene costo. También esta enfocado en AI. Desde: https://www.firecrawl.dev/"
      ]
    },
    {
      "cell_type": "markdown",
      "metadata": {
        "id": "Su7fsLEwadcR"
      },
      "source": [
        "## Main functions to run the comparasion with HTML\n",
        "\n",
        "Let's run all the scrapers and display them in our comparison table."
      ]
    },
    {
      "cell_type": "code",
      "execution_count": 98,
      "metadata": {
        "colab": {
          "base_uri": "https://localhost:8080/"
        },
        "id": "XzPk7M7oadcR",
        "outputId": "db1e6eb3-348c-4ae0-d9b8-e9ea4a287d5c"
      },
      "outputs": [
        {
          "name": "stderr",
          "output_type": "stream",
          "text": [
            "Processing site Sistemas FEI using Beautiful Soup: 100%|██████████| 1/1 [00:00<00:00,  4.47it/s]\n",
            "Processing site Sistemas FEI using Crawl4ai:   0%|          | 0/1 [00:00<?, ?it/s]\n"
          ]
        },
        {
          "ename": "Exception",
          "evalue": "BrowserType.launch: Connection closed while reading from the driver",
          "output_type": "error",
          "traceback": [
            "\u001b[31m---------------------------------------------------------------------------\u001b[39m",
            "\u001b[31mException\u001b[39m                                 Traceback (most recent call last)",
            "\u001b[36mCell\u001b[39m\u001b[36m \u001b[39m\u001b[32mIn[98]\u001b[39m\u001b[32m, line 8\u001b[39m\n\u001b[32m      1\u001b[39m list_of_scraper_functions = [\n\u001b[32m      2\u001b[39m       {\u001b[33m\"\u001b[39m\u001b[33mname\u001b[39m\u001b[33m\"\u001b[39m: \u001b[33m\"\u001b[39m\u001b[33mBeautiful Soup\u001b[39m\u001b[33m\"\u001b[39m, \u001b[33m\"\u001b[39m\u001b[33mfunction\u001b[39m\u001b[33m\"\u001b[39m: beautiful_soup_scrape_url},\n\u001b[32m      3\u001b[39m       \u001b[38;5;66;03m# {\"name\": \"Jina AI\", \"function\": scrape_jina_ai},\u001b[39;00m\n\u001b[32m      4\u001b[39m       \u001b[38;5;66;03m# {\"name\": \"Playwright\", \"function\": scrape_playwright_sync},\u001b[39;00m\n\u001b[32m      5\u001b[39m       {\u001b[33m\"\u001b[39m\u001b[33mname\u001b[39m\u001b[33m\"\u001b[39m: \u001b[33m\"\u001b[39m\u001b[33mCrawl4ai\u001b[39m\u001b[33m\"\u001b[39m, \u001b[33m\"\u001b[39m\u001b[33mfunction\u001b[39m\u001b[33m\"\u001b[39m: scrape_crawl4ai},\n\u001b[32m      6\u001b[39m       ]\n\u001b[32m----> \u001b[39m\u001b[32m8\u001b[39m all_content_html = \u001b[43mview_scraped_content\u001b[49m\u001b[43m(\u001b[49m\u001b[43mlist_of_scraper_functions\u001b[49m\u001b[43m,\u001b[49m\u001b[43m \u001b[49m\u001b[43mcompetitor_sites\u001b[49m\u001b[43m,\u001b[49m\u001b[43m \u001b[49m\u001b[32;43m800\u001b[39;49m\u001b[43m,\u001b[49m\u001b[43m \u001b[49m\u001b[32;43m35\u001b[39;49m\u001b[43m,\u001b[49m\u001b[43m \u001b[49m\u001b[43mto_markdown\u001b[49m\u001b[43m=\u001b[49m\u001b[38;5;28;43;01mFalse\u001b[39;49;00m\u001b[43m)\u001b[49m\n",
            "\u001b[36mCell\u001b[39m\u001b[36m \u001b[39m\u001b[32mIn[81]\u001b[39m\u001b[32m, line 25\u001b[39m, in \u001b[36mview_scraped_content\u001b[39m\u001b[34m(scrape_url_functions, sites_list, characters_to_display, table_max_width, to_markdown)\u001b[39m\n\u001b[32m     23\u001b[39m function_name = scrape_function[\u001b[33m'\u001b[39m\u001b[33mname\u001b[39m\u001b[33m'\u001b[39m]\n\u001b[32m     24\u001b[39m \u001b[38;5;28;01mfor\u001b[39;00m _ \u001b[38;5;129;01min\u001b[39;00m tqdm([site], desc=\u001b[33mf\u001b[39m\u001b[33m\"\u001b[39m\u001b[33mProcessing site \u001b[39m\u001b[38;5;132;01m{\u001b[39;00msite[\u001b[33m'\u001b[39m\u001b[33mname\u001b[39m\u001b[33m'\u001b[39m]\u001b[38;5;132;01m}\u001b[39;00m\u001b[33m using \u001b[39m\u001b[38;5;132;01m{\u001b[39;00mfunction_name\u001b[38;5;132;01m}\u001b[39;00m\u001b[33m\"\u001b[39m):\n\u001b[32m---> \u001b[39m\u001b[32m25\u001b[39m     content = \u001b[43mscrape_function\u001b[49m\u001b[43m[\u001b[49m\u001b[33;43m'\u001b[39;49m\u001b[33;43mfunction\u001b[39;49m\u001b[33;43m'\u001b[39;49m\u001b[43m]\u001b[49m\u001b[43m(\u001b[49m\u001b[43msite\u001b[49m\u001b[43m[\u001b[49m\u001b[33;43m'\u001b[39;49m\u001b[33;43murl\u001b[39;49m\u001b[33;43m'\u001b[39;49m\u001b[43m]\u001b[49m\u001b[43m,\u001b[49m\u001b[43m \u001b[49m\u001b[43mto_markdown\u001b[49m\u001b[43m)\u001b[49m\n\u001b[32m     26\u001b[39m     content_snippet = content[:characters_to_display]\n\u001b[32m     27\u001b[39m     content_snippet = \u001b[33mf\u001b[39m\u001b[33m\"\u001b[39m\u001b[38;5;132;01m{\u001b[39;00m\u001b[38;5;28mlen\u001b[39m(content)\u001b[38;5;132;01m:\u001b[39;00m\u001b[33m,\u001b[39m\u001b[38;5;132;01m}\u001b[39;00m\u001b[33m characters retrieved:\u001b[39m\u001b[38;5;130;01m\\n\u001b[39;00m\u001b[38;5;130;01m\\n\u001b[39;00m\u001b[33m\"\u001b[39m + content_snippet\n",
            "\u001b[36mCell\u001b[39m\u001b[36m \u001b[39m\u001b[32mIn[97]\u001b[39m\u001b[32m, line 42\u001b[39m, in \u001b[36mscrape_crawl4ai\u001b[39m\u001b[34m(url, to_markdown)\u001b[39m\n\u001b[32m     41\u001b[39m \u001b[38;5;28;01mdef\u001b[39;00m\u001b[38;5;250m \u001b[39m\u001b[34mscrape_crawl4ai\u001b[39m(url: \u001b[38;5;28mstr\u001b[39m, to_markdown: \u001b[38;5;28mbool\u001b[39m = \u001b[38;5;28;01mFalse\u001b[39;00m):\n\u001b[32m---> \u001b[39m\u001b[32m42\u001b[39m     \u001b[38;5;28;01mreturn\u001b[39;00m \u001b[43masyncio\u001b[49m\u001b[43m.\u001b[49m\u001b[43mrun\u001b[49m\u001b[43m(\u001b[49m\u001b[43masync_scrape_crawl4ai\u001b[49m\u001b[43m(\u001b[49m\u001b[43murl\u001b[49m\u001b[43m,\u001b[49m\u001b[43m \u001b[49m\u001b[43mto_markdown\u001b[49m\u001b[43m)\u001b[49m\u001b[43m)\u001b[49m\n",
            "\u001b[36mFile \u001b[39m\u001b[32m~/Library/CloudStorage/OneDrive-UniversidadVeracruzana/FEI/codigo/doctorado/scraping/.venv/lib/python3.13/site-packages/nest_asyncio.py:30\u001b[39m, in \u001b[36m_patch_asyncio.<locals>.run\u001b[39m\u001b[34m(main, debug)\u001b[39m\n\u001b[32m     28\u001b[39m task = asyncio.ensure_future(main)\n\u001b[32m     29\u001b[39m \u001b[38;5;28;01mtry\u001b[39;00m:\n\u001b[32m---> \u001b[39m\u001b[32m30\u001b[39m     \u001b[38;5;28;01mreturn\u001b[39;00m \u001b[43mloop\u001b[49m\u001b[43m.\u001b[49m\u001b[43mrun_until_complete\u001b[49m\u001b[43m(\u001b[49m\u001b[43mtask\u001b[49m\u001b[43m)\u001b[49m\n\u001b[32m     31\u001b[39m \u001b[38;5;28;01mfinally\u001b[39;00m:\n\u001b[32m     32\u001b[39m     \u001b[38;5;28;01mif\u001b[39;00m \u001b[38;5;129;01mnot\u001b[39;00m task.done():\n",
            "\u001b[36mFile \u001b[39m\u001b[32m~/Library/CloudStorage/OneDrive-UniversidadVeracruzana/FEI/codigo/doctorado/scraping/.venv/lib/python3.13/site-packages/nest_asyncio.py:98\u001b[39m, in \u001b[36m_patch_loop.<locals>.run_until_complete\u001b[39m\u001b[34m(self, future)\u001b[39m\n\u001b[32m     95\u001b[39m \u001b[38;5;28;01mif\u001b[39;00m \u001b[38;5;129;01mnot\u001b[39;00m f.done():\n\u001b[32m     96\u001b[39m     \u001b[38;5;28;01mraise\u001b[39;00m \u001b[38;5;167;01mRuntimeError\u001b[39;00m(\n\u001b[32m     97\u001b[39m         \u001b[33m'\u001b[39m\u001b[33mEvent loop stopped before Future completed.\u001b[39m\u001b[33m'\u001b[39m)\n\u001b[32m---> \u001b[39m\u001b[32m98\u001b[39m \u001b[38;5;28;01mreturn\u001b[39;00m \u001b[43mf\u001b[49m\u001b[43m.\u001b[49m\u001b[43mresult\u001b[49m\u001b[43m(\u001b[49m\u001b[43m)\u001b[49m\n",
            "\u001b[36mFile \u001b[39m\u001b[32m/Library/Frameworks/Python.framework/Versions/3.13/lib/python3.13/asyncio/futures.py:199\u001b[39m, in \u001b[36mFuture.result\u001b[39m\u001b[34m(self)\u001b[39m\n\u001b[32m    197\u001b[39m \u001b[38;5;28mself\u001b[39m.__log_traceback = \u001b[38;5;28;01mFalse\u001b[39;00m\n\u001b[32m    198\u001b[39m \u001b[38;5;28;01mif\u001b[39;00m \u001b[38;5;28mself\u001b[39m._exception \u001b[38;5;129;01mis\u001b[39;00m \u001b[38;5;129;01mnot\u001b[39;00m \u001b[38;5;28;01mNone\u001b[39;00m:\n\u001b[32m--> \u001b[39m\u001b[32m199\u001b[39m     \u001b[38;5;28;01mraise\u001b[39;00m \u001b[38;5;28mself\u001b[39m._exception.with_traceback(\u001b[38;5;28mself\u001b[39m._exception_tb)\n\u001b[32m    200\u001b[39m \u001b[38;5;28;01mreturn\u001b[39;00m \u001b[38;5;28mself\u001b[39m._result\n",
            "\u001b[36mFile \u001b[39m\u001b[32m/Library/Frameworks/Python.framework/Versions/3.13/lib/python3.13/asyncio/tasks.py:304\u001b[39m, in \u001b[36mTask.__step_run_and_handle_result\u001b[39m\u001b[34m(***failed resolving arguments***)\u001b[39m\n\u001b[32m    300\u001b[39m \u001b[38;5;28;01mtry\u001b[39;00m:\n\u001b[32m    301\u001b[39m     \u001b[38;5;28;01mif\u001b[39;00m exc \u001b[38;5;129;01mis\u001b[39;00m \u001b[38;5;28;01mNone\u001b[39;00m:\n\u001b[32m    302\u001b[39m         \u001b[38;5;66;03m# We use the `send` method directly, because coroutines\u001b[39;00m\n\u001b[32m    303\u001b[39m         \u001b[38;5;66;03m# don't have `__iter__` and `__next__` methods.\u001b[39;00m\n\u001b[32m--> \u001b[39m\u001b[32m304\u001b[39m         result = \u001b[43mcoro\u001b[49m\u001b[43m.\u001b[49m\u001b[43msend\u001b[49m\u001b[43m(\u001b[49m\u001b[38;5;28;43;01mNone\u001b[39;49;00m\u001b[43m)\u001b[49m\n\u001b[32m    305\u001b[39m     \u001b[38;5;28;01melse\u001b[39;00m:\n\u001b[32m    306\u001b[39m         result = coro.throw(exc)\n",
            "\u001b[36mCell\u001b[39m\u001b[36m \u001b[39m\u001b[32mIn[97]\u001b[39m\u001b[32m, line 19\u001b[39m, in \u001b[36masync_scrape_crawl4ai\u001b[39m\u001b[34m(url, to_markdown)\u001b[39m\n\u001b[32m     17\u001b[39m \u001b[38;5;28;01masync\u001b[39;00m \u001b[38;5;28;01mdef\u001b[39;00m\u001b[38;5;250m \u001b[39m\u001b[34masync_scrape_crawl4ai\u001b[39m(url: \u001b[38;5;28mstr\u001b[39m, to_markdown: \u001b[38;5;28mbool\u001b[39m = \u001b[38;5;28;01mFalse\u001b[39;00m) -> \u001b[38;5;28mstr\u001b[39m:\n\u001b[32m     18\u001b[39m     crawler = AsyncWebCrawler(config=browser_conf)\n\u001b[32m---> \u001b[39m\u001b[32m19\u001b[39m     \u001b[38;5;28;01mawait\u001b[39;00m crawler.start()\n\u001b[32m     20\u001b[39m     result = \u001b[38;5;28;01mawait\u001b[39;00m crawler.arun(\n\u001b[32m     21\u001b[39m         url=url,\n\u001b[32m     22\u001b[39m         config=run_cfg,\n\u001b[32m     23\u001b[39m     )\n\u001b[32m     25\u001b[39m     \u001b[38;5;28;01mif\u001b[39;00m \u001b[38;5;129;01mnot\u001b[39;00m to_markdown:\n",
            "\u001b[36mFile \u001b[39m\u001b[32m~/Library/CloudStorage/OneDrive-UniversidadVeracruzana/FEI/codigo/doctorado/scraping/.venv/lib/python3.13/site-packages/crawl4ai/async_webcrawler.py:233\u001b[39m, in \u001b[36mAsyncWebCrawler.start\u001b[39m\u001b[34m(self)\u001b[39m\n\u001b[32m    230\u001b[39m         \u001b[38;5;28mself\u001b[39m.browser_config.cdp_url = browser_info.get(\u001b[33m'\u001b[39m\u001b[33mcdp_url\u001b[39m\u001b[33m'\u001b[39m)\n\u001b[32m    231\u001b[39m         \u001b[38;5;28mself\u001b[39m.browser_config.use_managed_browser = \u001b[38;5;28;01mTrue\u001b[39;00m\n\u001b[32m--> \u001b[39m\u001b[32m233\u001b[39m \u001b[38;5;28;01mawait\u001b[39;00m \u001b[38;5;28mself\u001b[39m.crawler_strategy.\u001b[34m__aenter__\u001b[39m()\n\u001b[32m    234\u001b[39m \u001b[38;5;28;01mawait\u001b[39;00m \u001b[38;5;28mself\u001b[39m.awarmup()\n\u001b[32m    235\u001b[39m \u001b[38;5;28;01mreturn\u001b[39;00m \u001b[38;5;28mself\u001b[39m\n",
            "\u001b[36mFile \u001b[39m\u001b[32m~/Library/CloudStorage/OneDrive-UniversidadVeracruzana/FEI/codigo/doctorado/scraping/.venv/lib/python3.13/site-packages/crawl4ai/async_crawler_strategy.py:111\u001b[39m, in \u001b[36mAsyncPlaywrightCrawlerStrategy.__aenter__\u001b[39m\u001b[34m(self)\u001b[39m\n\u001b[32m    110\u001b[39m \u001b[38;5;28;01masync\u001b[39;00m \u001b[38;5;28;01mdef\u001b[39;00m\u001b[38;5;250m \u001b[39m\u001b[34m__aenter__\u001b[39m(\u001b[38;5;28mself\u001b[39m):\n\u001b[32m--> \u001b[39m\u001b[32m111\u001b[39m     \u001b[38;5;28;01mawait\u001b[39;00m \u001b[38;5;28mself\u001b[39m.start()\n\u001b[32m    112\u001b[39m     \u001b[38;5;28;01mreturn\u001b[39;00m \u001b[38;5;28mself\u001b[39m\n",
            "\u001b[36mFile \u001b[39m\u001b[32m~/Library/CloudStorage/OneDrive-UniversidadVeracruzana/FEI/codigo/doctorado/scraping/.venv/lib/python3.13/site-packages/crawl4ai/async_crawler_strategy.py:121\u001b[39m, in \u001b[36mAsyncPlaywrightCrawlerStrategy.start\u001b[39m\u001b[34m(self)\u001b[39m\n\u001b[32m    117\u001b[39m \u001b[38;5;28;01masync\u001b[39;00m \u001b[38;5;28;01mdef\u001b[39;00m\u001b[38;5;250m \u001b[39m\u001b[34mstart\u001b[39m(\u001b[38;5;28mself\u001b[39m):\n\u001b[32m    118\u001b[39m \u001b[38;5;250m    \u001b[39m\u001b[33;03m\"\"\"\u001b[39;00m\n\u001b[32m    119\u001b[39m \u001b[33;03m    Start the browser and initialize the browser manager.\u001b[39;00m\n\u001b[32m    120\u001b[39m \u001b[33;03m    \"\"\"\u001b[39;00m\n\u001b[32m--> \u001b[39m\u001b[32m121\u001b[39m     \u001b[38;5;28;01mawait\u001b[39;00m \u001b[38;5;28mself\u001b[39m.browser_manager.start()\n\u001b[32m    122\u001b[39m     \u001b[38;5;28;01mawait\u001b[39;00m \u001b[38;5;28mself\u001b[39m.execute_hook(\n\u001b[32m    123\u001b[39m         \u001b[33m\"\u001b[39m\u001b[33mon_browser_created\u001b[39m\u001b[33m\"\u001b[39m,\n\u001b[32m    124\u001b[39m         \u001b[38;5;28mself\u001b[39m.browser_manager.browser,\n\u001b[32m    125\u001b[39m         context=\u001b[38;5;28mself\u001b[39m.browser_manager.default_context,\n\u001b[32m    126\u001b[39m     )\n",
            "\u001b[36mFile \u001b[39m\u001b[32m~/Library/CloudStorage/OneDrive-UniversidadVeracruzana/FEI/codigo/doctorado/scraping/.venv/lib/python3.13/site-packages/crawl4ai/browser_manager.py:520\u001b[39m, in \u001b[36mBrowserManager.start\u001b[39m\u001b[34m(self)\u001b[39m\n\u001b[32m    518\u001b[39m     \u001b[38;5;28mself\u001b[39m.browser = \u001b[38;5;28;01mawait\u001b[39;00m \u001b[38;5;28mself\u001b[39m.playwright.webkit.launch(**browser_args)\n\u001b[32m    519\u001b[39m \u001b[38;5;28;01melse\u001b[39;00m:\n\u001b[32m--> \u001b[39m\u001b[32m520\u001b[39m     \u001b[38;5;28mself\u001b[39m.browser = \u001b[38;5;28;01mawait\u001b[39;00m \u001b[38;5;28mself\u001b[39m.playwright.chromium.launch(**browser_args)\n\u001b[32m    522\u001b[39m \u001b[38;5;28mself\u001b[39m.default_context = \u001b[38;5;28mself\u001b[39m.browser\n",
            "\u001b[36mFile \u001b[39m\u001b[32m~/Library/CloudStorage/OneDrive-UniversidadVeracruzana/FEI/codigo/doctorado/scraping/.venv/lib/python3.13/site-packages/playwright/async_api/_generated.py:14450\u001b[39m, in \u001b[36mBrowserType.launch\u001b[39m\u001b[34m(self, executable_path, channel, args, ignore_default_args, handle_sigint, handle_sigterm, handle_sighup, timeout, env, headless, devtools, proxy, downloads_path, slow_mo, traces_dir, chromium_sandbox, firefox_user_prefs)\u001b[39m\n\u001b[32m  14332\u001b[39m \u001b[38;5;28;01masync\u001b[39;00m \u001b[38;5;28;01mdef\u001b[39;00m\u001b[38;5;250m \u001b[39m\u001b[34mlaunch\u001b[39m(\n\u001b[32m  14333\u001b[39m     \u001b[38;5;28mself\u001b[39m,\n\u001b[32m  14334\u001b[39m     *,\n\u001b[32m   (...)\u001b[39m\u001b[32m  14355\u001b[39m     ] = \u001b[38;5;28;01mNone\u001b[39;00m,\n\u001b[32m  14356\u001b[39m ) -> \u001b[33m\"\u001b[39m\u001b[33mBrowser\u001b[39m\u001b[33m\"\u001b[39m:\n\u001b[32m  14357\u001b[39m \u001b[38;5;250m    \u001b[39m\u001b[33;03m\"\"\"BrowserType.launch\u001b[39;00m\n\u001b[32m  14358\u001b[39m \n\u001b[32m  14359\u001b[39m \u001b[33;03m    Returns the browser instance.\u001b[39;00m\n\u001b[32m   (...)\u001b[39m\u001b[32m  14446\u001b[39m \u001b[33;03m    Browser\u001b[39;00m\n\u001b[32m  14447\u001b[39m \u001b[33;03m    \"\"\"\u001b[39;00m\n\u001b[32m  14449\u001b[39m     \u001b[38;5;28;01mreturn\u001b[39;00m mapping.from_impl(\n\u001b[32m> \u001b[39m\u001b[32m14450\u001b[39m         \u001b[38;5;28;01mawait\u001b[39;00m \u001b[38;5;28mself\u001b[39m._impl_obj.launch(\n\u001b[32m  14451\u001b[39m             executablePath=executable_path,\n\u001b[32m  14452\u001b[39m             channel=channel,\n\u001b[32m  14453\u001b[39m             args=mapping.to_impl(args),\n\u001b[32m  14454\u001b[39m             ignoreDefaultArgs=mapping.to_impl(ignore_default_args),\n\u001b[32m  14455\u001b[39m             handleSIGINT=handle_sigint,\n\u001b[32m  14456\u001b[39m             handleSIGTERM=handle_sigterm,\n\u001b[32m  14457\u001b[39m             handleSIGHUP=handle_sighup,\n\u001b[32m  14458\u001b[39m             timeout=timeout,\n\u001b[32m  14459\u001b[39m             env=mapping.to_impl(env),\n\u001b[32m  14460\u001b[39m             headless=headless,\n\u001b[32m  14461\u001b[39m             devtools=devtools,\n\u001b[32m  14462\u001b[39m             proxy=proxy,\n\u001b[32m  14463\u001b[39m             downloadsPath=downloads_path,\n\u001b[32m  14464\u001b[39m             slowMo=slow_mo,\n\u001b[32m  14465\u001b[39m             tracesDir=traces_dir,\n\u001b[32m  14466\u001b[39m             chromiumSandbox=chromium_sandbox,\n\u001b[32m  14467\u001b[39m             firefoxUserPrefs=mapping.to_impl(firefox_user_prefs),\n\u001b[32m  14468\u001b[39m         )\n\u001b[32m  14469\u001b[39m     )\n",
            "\u001b[36mFile \u001b[39m\u001b[32m~/Library/CloudStorage/OneDrive-UniversidadVeracruzana/FEI/codigo/doctorado/scraping/.venv/lib/python3.13/site-packages/playwright/_impl/_browser_type.py:96\u001b[39m, in \u001b[36mBrowserType.launch\u001b[39m\u001b[34m(self, executablePath, channel, args, ignoreDefaultArgs, handleSIGINT, handleSIGTERM, handleSIGHUP, timeout, env, headless, devtools, proxy, downloadsPath, slowMo, tracesDir, chromiumSandbox, firefoxUserPrefs)\u001b[39m\n\u001b[32m     93\u001b[39m params = locals_to_params(\u001b[38;5;28mlocals\u001b[39m())\n\u001b[32m     94\u001b[39m normalize_launch_params(params)\n\u001b[32m     95\u001b[39m browser = cast(\n\u001b[32m---> \u001b[39m\u001b[32m96\u001b[39m     Browser, from_channel(\u001b[38;5;28;01mawait\u001b[39;00m \u001b[38;5;28mself\u001b[39m._channel.send(\u001b[33m\"\u001b[39m\u001b[33mlaunch\u001b[39m\u001b[33m\"\u001b[39m, params))\n\u001b[32m     97\u001b[39m )\n\u001b[32m     98\u001b[39m \u001b[38;5;28mself\u001b[39m._did_launch_browser(browser)\n\u001b[32m     99\u001b[39m \u001b[38;5;28;01mreturn\u001b[39;00m browser\n",
            "\u001b[36mFile \u001b[39m\u001b[32m~/Library/CloudStorage/OneDrive-UniversidadVeracruzana/FEI/codigo/doctorado/scraping/.venv/lib/python3.13/site-packages/playwright/_impl/_connection.py:61\u001b[39m, in \u001b[36mChannel.send\u001b[39m\u001b[34m(self, method, params)\u001b[39m\n\u001b[32m     60\u001b[39m \u001b[38;5;28;01masync\u001b[39;00m \u001b[38;5;28;01mdef\u001b[39;00m\u001b[38;5;250m \u001b[39m\u001b[34msend\u001b[39m(\u001b[38;5;28mself\u001b[39m, method: \u001b[38;5;28mstr\u001b[39m, params: Dict = \u001b[38;5;28;01mNone\u001b[39;00m) -> Any:\n\u001b[32m---> \u001b[39m\u001b[32m61\u001b[39m     \u001b[38;5;28;01mreturn\u001b[39;00m \u001b[38;5;28;01mawait\u001b[39;00m \u001b[38;5;28mself\u001b[39m._connection.wrap_api_call(\n\u001b[32m     62\u001b[39m         \u001b[38;5;28;01mlambda\u001b[39;00m: \u001b[38;5;28mself\u001b[39m._inner_send(method, params, \u001b[38;5;28;01mFalse\u001b[39;00m),\n\u001b[32m     63\u001b[39m         \u001b[38;5;28mself\u001b[39m._is_internal_type,\n\u001b[32m     64\u001b[39m     )\n",
            "\u001b[36mFile \u001b[39m\u001b[32m~/Library/CloudStorage/OneDrive-UniversidadVeracruzana/FEI/codigo/doctorado/scraping/.venv/lib/python3.13/site-packages/playwright/_impl/_connection.py:528\u001b[39m, in \u001b[36mConnection.wrap_api_call\u001b[39m\u001b[34m(self, cb, is_internal)\u001b[39m\n\u001b[32m    526\u001b[39m     \u001b[38;5;28;01mreturn\u001b[39;00m \u001b[38;5;28;01mawait\u001b[39;00m cb()\n\u001b[32m    527\u001b[39m \u001b[38;5;28;01mexcept\u001b[39;00m \u001b[38;5;167;01mException\u001b[39;00m \u001b[38;5;28;01mas\u001b[39;00m error:\n\u001b[32m--> \u001b[39m\u001b[32m528\u001b[39m     \u001b[38;5;28;01mraise\u001b[39;00m rewrite_error(error, \u001b[33mf\u001b[39m\u001b[33m\"\u001b[39m\u001b[38;5;132;01m{\u001b[39;00mparsed_st[\u001b[33m'\u001b[39m\u001b[33mapiName\u001b[39m\u001b[33m'\u001b[39m]\u001b[38;5;132;01m}\u001b[39;00m\u001b[33m: \u001b[39m\u001b[38;5;132;01m{\u001b[39;00merror\u001b[38;5;132;01m}\u001b[39;00m\u001b[33m\"\u001b[39m) \u001b[38;5;28;01mfrom\u001b[39;00m\u001b[38;5;250m \u001b[39m\u001b[38;5;28;01mNone\u001b[39;00m\n\u001b[32m    529\u001b[39m \u001b[38;5;28;01mfinally\u001b[39;00m:\n\u001b[32m    530\u001b[39m     \u001b[38;5;28mself\u001b[39m._api_zone.set(\u001b[38;5;28;01mNone\u001b[39;00m)\n",
            "\u001b[31mException\u001b[39m: BrowserType.launch: Connection closed while reading from the driver"
          ]
        }
      ],
      "source": [
        "list_of_scraper_functions = [\n",
        "      {\"name\": \"Beautiful Soup\", \"function\": beautiful_soup_scrape_url},\n",
        "      # {\"name\": \"Jina AI\", \"function\": scrape_jina_ai},\n",
        "      # {\"name\": \"Playwright\", \"function\": scrape_playwright_sync},\n",
        "      {\"name\": \"Crawl4ai\", \"function\": scrape_crawl4ai},\n",
        "      ]\n",
        "\n",
        "all_content_html = view_scraped_content(list_of_scraper_functions, competitor_sites, 800, 35, to_markdown=False)"
      ]
    },
    {
      "cell_type": "markdown",
      "metadata": {},
      "source": [
        "## Realizamos la comparación con markdown\n",
        "\n",
        "Vamos a ejecutar todos los scrapers pero ahora que devuelvan un formato más amigable para la IA."
      ]
    },
    {
      "cell_type": "code",
      "execution_count": null,
      "metadata": {},
      "outputs": [
        {
          "name": "stderr",
          "output_type": "stream",
          "text": [
            "Processing site Sistemas FEI using Beautiful Soup: 100%|██████████| 1/1 [00:00<00:00, 25.74it/s]\n",
            "Processing site Sistemas FEI using Crawl4ai: 100%|██████████| 1/1 [00:02<00:00,  2.05s/it]\n"
          ]
        },
        {
          "name": "stdout",
          "output_type": "stream",
          "text": [
            "Content Table:\n",
            "+--------------+-------------------------------------+-------------------------------------+\n",
            "|  Site Name   |        Beautiful Soup content       |           Crawl4ai content          |\n",
            "+--------------+-------------------------------------+-------------------------------------+\n",
            "| Sistemas FEI |     1,345 characters retrieved:     |     2,064 characters retrieved:     |\n",
            "|              |                                     |                                     |\n",
            "|              |             Sistemas FEI            | [ ![Logo FEI](https://sistemasfei.u |\n",
            "|              |                                     | v.mx/inicio/_astro/logoFEI.CKAzzJnF |\n",
            "|              |                                     |            _ZyfpCW.webp)            |\n",
            "|              |                                     |       ](http://www.uv.mx/fei)       |\n",
            "|              |                                     |       # Portal de sistemas FEI      |\n",
            "|              | [![Logo FEI](_astro/logoFEI.CKAzzJn | [ ![Logo Universidad Veracruzana](h |\n",
            "|              | F_ZyfpCW.webp)](http://www.uv.mx/fe | ttps://sistemasfei.uv.mx/inicio/_as |\n",
            "|              |                  i)                 |    tro/logoUV.gPBiyME4_N2yL.webp)   |\n",
            "|              |                                     |         ](http://www.uv.mx)         |\n",
            "|              |        Portal de sistemas FEI       | ![foto](https://sistemasfei.uv.mx/i |\n",
            "|              |        ======================       | nicio/_astro/aulaFEI.Bfi36lLc_Z2aGa |\n",
            "|              |                                     |               TO.webp)              |\n",
            "|              | [![Logo Universidad Veracruzana](_a |  ##### Sistema de Gestion de Claves |\n",
            "|              | stro/logoUV.gPBiyME4_N2yL.webp)](ht |               de Aulas              |\n",
            "|              |           tp://www.uv.mx)           | [ Entrar ](https://sistemasfei.uv.m |\n",
            "|              |                                     |            x/aulaclase/)            |\n",
            "|              | ![foto](_astro/aulaFEI.Bfi36lLc_Z2a | ![foto](https://sistemasfei.uv.mx/i |\n",
            "|              |              GaTO.webp)             | nicio/_astro/edificioFEI.C5q6RF30_Z |\n",
            "|              |                                     |             1jodpw.webp)            |\n",
            "|              |  ##### Sistema de Gestion de Claves |           ##### MOODLE FEI          |\n",
            "|              |               de Aulas              | [ Entrar ](https://sistemasfei.uv.m |\n",
            "|              |                                     |              x/moodle/)             |\n",
            "|              | [Entrar](https://sistemasfei.uv.mx/ | ![foto](https://sistemasfei.uv.mx/i |\n",
            "|              |             aulaclase/)             | nicio/_astro/PEDPA.CaZEdBX2_Zm1Ox5. |\n",
            "|              |                                     |                webp)                |\n",
            "|              | ![foto](_astro/edificioFEI.C5q6RF30 |    ##### Sistema de Estimulos al    |\n",
            "|              |            _Z1jodpw.webp)           |   Desempeño del Personal Academico  |\n",
            "|              |                                     |               [ Entrar              |\n",
            "|              |           ##### MOODLE FEI          | ](https://sistemasfei.uv.mx/pedpa/) |\n",
            "|              |                                     | ![foto](https://sistemasfei.uv.mx/i |\n",
            "|              | [Entrar](https://sistemasfei.uv.mx/ | nicio/_astro/sistemaAvisosFEI.webp) |\n",
            "|              |               moodle/)              |       ##### Sistema de Avisos       |\n",
            "|              |                                     | [ Entrar ](https://sistemasfei.uv.m |\n",
            "|              | ![foto](_astro/PEDPA.CaZEdBX2_Zm1Ox |            x/bannersfei/)           |\n",
            "|              |               5.webp)               | ![foto](https://sistemasfei.uv.mx/i |\n",
            "|              |                                     |  nicio/_astro/formularioForms.webp) |\n",
            "|              |    ##### Sistema de Estimulos al    |   ##### Formulario de Registro de   |\n",
            "|              |   Desempeño del Personal Academico  |               Eventos               |\n",
            "|              |                                     | [ Entrar ](https://forms.office.com |\n",
            "|              | [Entrar](https://sistemasfei.uv.mx/ | /pages/responsepage.aspx?id=UXaQPMb |\n",
            "|              |               pedpa/)               | YpkyopGokJDDmU-mq0IRCUa9Ei8mq08oDur |\n",
            "|              |                                     | xUMDJJQkQ2S1RTRU4zRTQ0SVpINENHQTNWR |\n",
            "|              | ![foto](_astro/sistemaAvisosFEI.web |         i4u&route=shorturl)         |\n",
            "|              |                  p)                 |    ![foto](https://sistemasfei.u    |\n",
            "|              |                                     |                                     |\n",
            "|              |       ##### Sistema de Avisos       |                                     |\n",
            "|              |                                     |                                     |\n",
            "|              | [Entrar](https://sistemasfei.uv.mx/ |                                     |\n",
            "|              |             bannersfei/)            |                                     |\n",
            "|              |                                     |                                     |\n",
            "|              | ![foto](_astro/formularioForms.webp |                                     |\n",
            "|              |                  )                  |                                     |\n",
            "|              |                                     |                                     |\n",
            "|              |   ##### Formulario de Registro de   |                                     |\n",
            "|              |               Eventos               |                                     |\n",
            "|              |                                     |                                     |\n",
            "|              | [Entrar](https://forms.office.com/p |                                     |\n",
            "|              | ages/responsepage.aspx?id=UXaQPMbYp |                                     |\n",
            "|              | kyopGokJDDmU-mq0IRCUa9Ei8mq08oDurxU |                                     |\n",
            "|              | MDJJQkQ2S1RTRU4zRTQ0SVpINENHQTNWRi4 |                                     |\n",
            "|              |          u&route=shorturl)          |                                     |\n",
            "|              |                                     |                                     |\n",
            "|              | ![foto](_astro/DashboardDesign.webp |                                     |\n",
            "|              |                  )                  |                                     |\n",
            "|              |                                     |                                     |\n",
            "|              |         ##### Dashboard PBR         |                                     |\n",
            "|              |                                     |                                     |\n",
            "|              | [Entrar](https://sistemasfei.uv.mx/ |                                     |\n",
            "|              |         dashboardfei/login)         |                                     |\n",
            "|              |                                     |                                     |\n",
            "|              | ![foto](_astro/registroHorario.webp |                                     |\n",
            "|              |                  )                  |                                     |\n",
            "|              |                                     |                                     |\n",
            "|              |    ##### Registro de Horarios de    |                                     |\n",
            "|              |               Tutoría               |                                     |\n",
            "|              |                                     |                                     |\n",
            "|              |      [Entrar](https://sistemasf     |                                     |\n",
            "+--------------+-------------------------------------+-------------------------------------+\n",
            "\n",
            "Cost Table:\n",
            "This is how much it would cost to use gpt-4o to use this content as input.\n",
            "+--------------+-------------------------+-------------------------+\n",
            "|  Site Name   |   Beautiful Soup cost   |      Crawl4ai cost      |\n",
            "+--------------+-------------------------+-------------------------+\n",
            "| Sistemas FEI | $0.001160 (tokens: 464) | $0.001840 (tokens: 736) |\n",
            "+--------------+-------------------------+-------------------------+\n"
          ]
        }
      ],
      "source": [
        "all_content_md = view_scraped_content(list_of_scraper_functions, competitor_sites, 1200, 35, to_markdown=True)"
      ]
    },
    {
      "cell_type": "markdown",
      "metadata": {},
      "source": [
        "## Conectar con OpenAI para enviar la información\n",
        "\n",
        "Vamos a enviar el contenido en HTML y en markdown y le vamos a pedir que nos devuelva una sección accesible WCAG 2.2."
      ]
    },
    {
      "cell_type": "code",
      "execution_count": null,
      "metadata": {
        "vscode": {
          "languageId": "shellscript"
        }
      },
      "outputs": [],
      "source": [
        "!pip install openai --quiet"
      ]
    },
    {
      "cell_type": "code",
      "execution_count": null,
      "metadata": {},
      "outputs": [],
      "source": [
        "import getpass\n",
        "from openai import OpenAI\n",
        "\n",
        "OPENAI_API_KEY = getpass.getpass('Enter your OpenAI API key: ')\n",
        "\n",
        "client = OpenAI(api_key=OPENAI_API_KEY)\n",
        "\n",
        "def extract(user_input: str, user_prompt: str, template: str = None) -> str:\n",
        "    entity_extraction_system_message = {\n",
        "        \"role\": \"system\", \n",
        "        \"content\": \"\"\"\"\n",
        "        1. You are a helpful assistant expert on web accessibility WCAG that evaluate and correct HTML code.\n",
        "        2. You will be given code and you will analize it.\n",
        "        3. Then, you will create a new webpage from that code but accessible according to WCAG https://www.w3.org/WAI/WCAG22/Understanding/\n",
        "        4. Check all rules including color contrast, alt text, and semantic HTML.\n",
        "        5. Use absolute URLs for the images that have a relative ones.\n",
        "        6. If you include an style.css file, you will add the rules inline in the head section.\n",
        "        7. Also, you will provide a list of the procedure you did respect to the original in markdown format.\n",
        "        8. Dont scape the HTML code, just return it as a string. For example don't add \"\\n\" or \\\" to the HTML code.\n",
        "        9. Return the result as a JSON with values: {Procedure: str, HTML: str}\n",
        "        \"\"\"\n",
        "    }\n",
        "    # Add the system message to the messages list\n",
        "    messages = [entity_extraction_system_message]\n",
        "    # Add the content to the messages list\n",
        "    messages.append({\"role\": \"user\", \"content\": user_prompt})\n",
        "    messages.append({\"role\": \"user\", \"content\": user_input})\n",
        "    if template:\n",
        "        messages.append({\"role\": \"user\", \"content\": \"The following is a template as a base for the HTML code you will generate with the content. Use bootstrap classes to make it responsive and accessible. \" + template})\n",
        "        messages.append({\"role\": \"user\", \"content\": template})\n",
        "    # Call the OpenAI API to get the response\n",
        "    response = client.chat.completions.create(\n",
        "        model=\"gpt-4o\",\n",
        "        stream=False,\n",
        "        messages=messages,\n",
        "        response_format={\"type\": \"json_object\"},\n",
        "    )\n",
        "    \n",
        "    # return response.choices[0].message.content\n",
        "    return response.choices[0].message.content, response.usage.completion_tokens, response.usage.prompt_tokens"
      ]
    },
    {
      "cell_type": "markdown",
      "metadata": {},
      "source": [
        "## Comparar los resultados\n",
        "\n",
        "Ahora se crearemos una función para crear una tabla con los resultados de comparar el resultado devuelto en HTML y en Markdown. "
      ]
    },
    {
      "cell_type": "code",
      "execution_count": null,
      "metadata": {},
      "outputs": [],
      "source": [
        "def display_extracted_content(results_html: List[Dict[str, any]], results_md: List[Dict[str, any]], function_name: str):\n",
        "    table = PrettyTable()\n",
        "    table.field_names = [\"Site\", \"From HTML\", \"From markdown\", \"From markdown with template\"]\n",
        "\n",
        "    with open('templates/tem001.html', 'r') as file:  # r to open file in READ mode\n",
        "        html_as_string = file.read()\n",
        "\n",
        "    # Iterate through each site and its content\n",
        "    for i,result in tqdm(enumerate(results_html), desc=\"Processing results\"):\n",
        "        sites_html = results_html[i][\"sites\"]\n",
        "        sites_md = results_md[i][\"sites\"]\n",
        "        provider = results_html[i][\"provider\"]\n",
        "\n",
        "        for i in range(len(sites_html)):\n",
        "            if sites_html[i][\"name\"] == function_name:\n",
        "                # Extract the content for HTML and Markdown\n",
        "                content_html = sites_html[i][\"content\"]\n",
        "                content_md = sites_md[i][\"content\"]\n",
        "\n",
        "                # Progress bar for each function\n",
        "                for _ in tqdm(range(1), desc=f\"Extracting content with {function_name} for HTML input\"):\n",
        "                    extracted_content_html, completion_tokens, prompt_tokens = extract(content_html, \"Use the following HTML code and create a new accessible web page version mantaining all the contents. The absolute URL is https://sistemasfei.uv.mx/inicio/\")\n",
        "                    cost = calculate_cost_tokens(completion_tokens + prompt_tokens)\n",
        "                    cost_label = f\"Completion tokens: {completion_tokens:,}\\nPrompt tokens: {prompt_tokens:,}\\nTotal cost:${cost:.6f}\" + \"\\n\\n\\n\"\n",
        "                    col_content_html = cost_label + extracted_content_html\n",
        "\n",
        "                # Progress bar for each function\n",
        "                for _ in tqdm(range(1), desc=f\"Extracting content with {function_name} for Markdown input\"):\n",
        "                    extracted_content_md, completion_tokens, prompt_tokens = extract(content_md, \"Use the following content to create a new accessible web page version. Use the code from https://webaim.org/ as a base to create a new accessible web page version. Observe the structure of the header, the images are in on row with the title; also the use of cols and rows to make it responsive and accessible.\", template=None)\n",
        "                    cost = calculate_cost_tokens(completion_tokens + prompt_tokens)\n",
        "                    cost_label = f\"Completion tokens: {completion_tokens:,}\\nPrompt tokens: {prompt_tokens:,}\\nTotal cost:${cost:.6f}\" + \"\\n\\n\\n\"\n",
        "                    col_content_md = cost_label + extracted_content_md\n",
        "\n",
        "                # Progress bar for each function\n",
        "                for _ in tqdm(range(1), desc=f\"Extracting content with {function_name} for Markdown input and template\"):\n",
        "                    extracted_content_md_template, completion_tokens, prompt_tokens = extract(content_md, \"Use the following content to create a new accessible web page version.\",html_as_string.replace(\"\\n\",\"\"))\n",
        "                    cost = calculate_cost_tokens(completion_tokens + prompt_tokens)\n",
        "                    cost_label = f\"Completion tokens: {completion_tokens:,}\\nPrompt tokens: {prompt_tokens:,}\\nTotal cost:${cost:.6f}\" + \"\\n\\n\\n\"\n",
        "                    col_content_md_template = cost_label + extracted_content_md_template\n",
        "\n",
        "                table.add_row([provider, col_content_html, col_content_md, col_content_md_template])\n",
        "\n",
        "    table.max_width = 50  # Set the maximum width for better display\n",
        "    table.hrules = True  # Add horizontal rules for better readability\n",
        "\n",
        "    print(\"Extracted Content Table:\")\n",
        "    print(table)\n",
        "\n",
        "    return extracted_content_html, extracted_content_md, extracted_content_md_template"
      ]
    },
    {
      "cell_type": "code",
      "execution_count": null,
      "metadata": {},
      "outputs": [
        {
          "name": "stderr",
          "output_type": "stream",
          "text": [
            "Processing results: 0it [00:00, ?it/s]\n",
            "Extracting content with Crawl4ai for HTML input:   0%|          | 0/1 [00:00<?, ?it/s]\n",
            "Extracting content with Crawl4ai for HTML input: 100%|██████████| 1/1 [00:21<00:00, 21.87s/it]\n",
            "\n",
            "Extracting content with Crawl4ai for Markdown input:   0%|          | 0/1 [00:00<?, ?it/s]\n",
            "Extracting content with Crawl4ai for Markdown input: 100%|██████████| 1/1 [00:15<00:00, 15.97s/it]\n",
            "\n",
            "Extracting content with Crawl4ai for Markdown input and template:   0%|          | 0/1 [00:00<?, ?it/s]\n",
            "Extracting content with Crawl4ai for Markdown input and template: 100%|██████████| 1/1 [00:20<00:00, 20.39s/it]\n",
            "Processing results: 1it [00:58, 58.24s/it]\n"
          ]
        },
        {
          "name": "stdout",
          "output_type": "stream",
          "text": [
            "Extracted Content Table:\n",
            "+--------------+----------------------------------------------------+----------------------------------------------------+----------------------------------------------------+\n",
            "|     Site     |                     From HTML                      |                   From markdown                    |            From markdown with template             |\n",
            "+--------------+----------------------------------------------------+----------------------------------------------------+----------------------------------------------------+\n",
            "| Sistemas FEI |              Completion tokens: 2,188              |              Completion tokens: 1,752              |              Completion tokens: 2,185              |\n",
            "|              |                Prompt tokens: 3,158                |                Prompt tokens: 1,028                |                Prompt tokens: 2,251                |\n",
            "|              |                Total cost:$0.013365                |                Total cost:$0.006950                |                Total cost:$0.011090                |\n",
            "|              |                                                    |                                                    |                                                    |\n",
            "|              |                                                    |                                                    |                                                    |\n",
            "|              |  {\"Procedure\":\"1. Added alt text descriptions for  |                         {                          |  {\"Procedure\":\"1. Consolidated navigation bar to   |\n",
            "|              | images that previously had \\\"alt=\\\\\\\"foto\\\\\\\"\\\" to |     \"Procedure\": \"- Added `alt` attributes to each |  display a single logo with text. \\n2. Converted   |\n",
            "|              |       provide clearer image descriptions for       |   image for improved accessibility.\\n- Utilized    |    all images to use absolute URLs and provided    |\n",
            "|              |    accessibility.\\\\n2. Ensured all images have     |  semantic HTML elements such as `header`, `main`,  |  descriptive alt text for each. \\n3. Reorganized   |\n",
            "|              |    absolute URLs instead of relative ones.\\\\n3.    |      and `section` to enhance the document's       |      content into Bootstrap cards for better       |\n",
            "|              |  Verified color contrast of text and backgrounds,  |   structure.\\n- Used CSS Flexbox for responsive    |  responsiveness. \\n4. Updated card structures to   |\n",
            "|              |  notably changing the card body background color   |    design.\\n- Ensured text contrast meets WCAG     | include relevant titles and descriptive text. \\n5. |\n",
            "|              | from #18529d to a darker shade #004080 for better  |                    standards.\",                    |     Corrected headings structure to logically      |\n",
            "|              |   contrast against white text.\\\\n4. Wrapped each   |            \"HTML\": \"<!DOCTYPE html>\\n<html         |  represent content hierarchy. \\n6. Added a footer  |\n",
            "|              | navigation link with semantic HTML tags for better |          lang=\\\"es\\\">\\n<head>\\n    <meta           |  with a sitemap linking to different sections for  |\n",
            "|              |      screen reader navigation.\\\\n5. Provided       |  charset=\\\"UTF-8\\\">\\n    <meta name=\\\"viewport\\\"   |   easier navigation. \\n7. Ensured all links have   |\n",
            "|              | appropriate skip navigation for users using screen |       content=\\\"width=device-width, initial-       | descriptive text. \\n8. Applied accessibility best  |\n",
            "|              | readers or keyboard navigation.\\\\n6. Updated HTML  |    scale=1.0\\\">\\n    <title>Portal de sistemas     |  practices from WCAG, including proper image alt   |\n",
            "|              | structure with semantic elements for header, main, |     FEI</title>\\n    <style>\\n        body {\\n     |           attributes and semantic HTML5            |\n",
            "|              |        and footer sections.\",\"HTML\":\"<html         |         font-family: Arial, sans-serif;\\n          |      elements.\",\"HTML\":\"<!DOCTYPE html><html       |\n",
            "|              | lang=\\\"en\\\"><head> <meta charset=\\\"UTF-8\\\"> <meta  |  margin: 0;\\n            padding: 0;\\n        }\\n  |   lang=\\\"es\\\"><head>    <meta charset=\\\"UTF-8\\\">   |\n",
            "|              |        name=\\\"description\\\" content=\\\"Astro        |      .header {\\n            display: flex;\\n       |  <meta name=\\\"viewport\\\" content=\\\"width=device-   |\n",
            "|              |       description\\\"> <meta name=\\\"viewport\\\"       | align-items: center;\\n            justify-content: |   width, initial-scale=1\\\">    <title>Portal de    |\n",
            "|              | content=\\\"width=device-width\\\"> <link rel=\\\"icon\\\" |    space-between;\\n            padding: 10px;\\n    | Sistemas FEI</title>    <link href=\\\"https://cdn.j |\n",
            "|              | type=\\\"image/x-icon\\\" href=\\\"https://sistemasfei.u |      background-color: #004080;\\n        }\\n       | sdelivr.net/npm/bootstrap@5.3.3/dist/css/bootstrap |\n",
            "|              |          v.mx/inicio/favicon.ico\\\"> <meta          |     .header img {\\n            height: 50px;\\n     |    .min.css\\\" rel=\\\"stylesheet\\\"></head><body>     |\n",
            "|              | name=\\\"generator\\\" content=\\\"Astro v4.4.1\\\"> <link |  }\\n        .main-content {\\n            display:  |  <!-- Navigation bar with main logo and title -->  |\n",
            "|              | href=\\\"https://cdn.jsdelivr.net/npm/bootstrap@5.3. |       flex;\\n            flex-wrap: wrap;\\n        |      <nav class=\\\"navbar bg-body-tertiary\\\">       |\n",
            "|              | 3/dist/css/bootstrap.min.css\\\" rel=\\\"stylesheet\\\"  |    padding: 10px;\\n        }\\n        .system-     |   <div class=\\\"container-fluid\\\">            <a    |\n",
            "|              |                integrity=\\\"sha384-                 | container {\\n            flex: 1 1 calc(33.333% -  |               class=\\\"navbar-brand\\\"               |\n",
            "|              | QWTKZyjpPEjISv5WaRU9OFeRpok6YctnYmDr5pNlyT2bRjXh0J |        20px);\\n            margin: 10px;\\n         | href=\\\"http://www.uv.mx/fei\\\">                <img |\n",
            "|              |    MhjY6hW+ALEwIH\\\" crossorigin=\\\"anonymous\\\">     |       box-shadow: 0 0 5px #ccc;\\n        }\\n       | src=\\\"https://sistemasfei.uv.mx/inicio/_astro/logo |\n",
            "|              |   <title>Sistemas FEI</title> <style> img { max-   |    .system-image {\\n            width: 100%;\\n     | FEI.CKAzzJnF_ZyfpCW.webp\\\" alt=\\\"Logotipo Facultad |\n",
            "|              | width:300px; max-height:100px; object-fit:cover; } |  height: 150px;\\n            object-fit: cover;\\n  |    de Estadística e Informática\\\" width=\\\"30\\\"     |\n",
            "|              |  .card { place-self:center; max-width:300px; box-  |         }\\n        .system-description {\\n         |  height=\\\"24\\\" class=\\\"d-inline-block align-text-  |\n",
            "|              |   shadow:0 10px 10px gray; border:none; border-    |  background-color: #f9f9f9;\\n            padding:  |    top\\\">                Portal de Sistemas FEI    |\n",
            "|              |      radius:10px; } .card-body { background-       |      15px;\\n            text-align: center;\\n      |       </a>        </div>    </nav>    <main        |\n",
            "|              |  color:#004080; border-radius:0 0 10px 10px; max-  |       }\\n        .system-description h5 {\\n        | class=\\\"container mt-4\\\">        <div class=\\\"row  |\n",
            "|              |      height:300px; color: #fff; } h5 { font-       |     margin: 0;\\n            padding: 5px 0;\\n      |  row-cols-1 row-cols-md-3 g-4\\\">            <div   |\n",
            "|              |      size:clamp(5px,4vw,15px); } .logo-fei {       |   }\\n        .cta-button {\\n            display:   |  class=\\\"col\\\">                <div class=\\\"card   |\n",
            "|              |        width:80px;height:80px; } .logo-uv {        |   inline-block;\\n            margin-top: 10px;\\n   | h-100\\\">                    <img src=\\\"https://sis |\n",
            "|              |       width:100px;height:80px; } nav { box-        | padding: 10px 20px;\\n            background-color: | temasfei.uv.mx/inicio/_astro/aulaFEI.Bfi36lLc_Z2aG |\n",
            "|              | shadow:#00000073 0 10px 20px -20px; } @media (max- |       #0066cc;\\n            color: white;\\n        | aTO.webp\\\" class=\\\"card-img-top\\\" alt=\\\"Imagen de  |\n",
            "|              | width:600px) { .logo-fei { width:50px;height:50px; | text-decoration: none;\\n            border-radius: |     aulas de la FEI\\\">                    <div     |\n",
            "|              |    } .logo-uv { display:none; } } .contenedor {    |   5px;\\n            transition: background-color   |  class=\\\"card-body\\\">                        <h5   |\n",
            "|              |     display:grid; margin:2rem; grid-template-      |  0.3s ease;\\n        }\\n        .cta-button:hover  | class=\\\"card-title\\\">Sistema de Gestion de Claves  |\n",
            "|              |     columns:1fr 1fr 1fr; grid-auto-flow:dense;     |    {\\n            background-color: #005bb5;\\n     |      de Aulas</h5>                        <a       |\n",
            "|              |      gap:2rem; } @media (max-width:1000px) {       |      }\\n        @media (max-width: 768px) {\\n      |   href=\\\"https://sistemasfei.uv.mx/aulaclase/\\\"    |\n",
            "|              |  .contenedor { grid-template-columns:repeat(auto-  |   .system-container {\\n                flex: 1 1   |   class=\\\"btn btn-primary\\\">Entrar al sistema de   |\n",
            "|              |   fill,minmax(min(100%,20rem),1fr)); } } body {    |   calc(50% - 20px);\\n            }\\n        }\\n    |       gestión</a>                    </div>        |\n",
            "|              |    background-color: #efecec; font-family:Gill     | @media (max-width: 480px) {\\n            .system-  |      </div>            </div>            <div      |\n",
            "|              | Sans,Gill Sans MT,Calibri,Trebuchet MS,sans-serif; |   container {\\n                flex: 1 1 100%;\\n   |  class=\\\"col\\\">                <div class=\\\"card   |\n",
            "|              |  } a.nav-skip { position:absolute; top:0; left:0;  |   }\\n        }\\n    </style>\\n</head>\\n<body>\\n    | h-100\\\">                    <img src=\\\"https://sis |\n",
            "|              |  background:white; color:blue; padding:8px; text-  |       <header class=\\\"header\\\">\\n        <a        | temasfei.uv.mx/inicio/_astro/edificioFEI.C5q6RF30_ |\n",
            "|              | decoration:none; z-index:100; } a.nav-skip:focus { | href=\\\"http://www.uv.mx/fei\\\"><img src=\\\"https://s | Z1jodpw.webp\\\" class=\\\"card-img-top\\\" alt=\\\"Imagen |\n",
            "|              | top:auto; left:auto; } </style> </head> <body> <a  | istemasfei.uv.mx/inicio/_astro/logoFEI.CKAzzJnF_Zy | del edificio de la FEI\\\">                    <div  |\n",
            "|              | href=\\\"#main-content\\\" class=\\\"nav-skip\\\">Skip to  |        fpCW.webp\\\" alt=\\\"Logo FEI\\\"></a>\\n         |  class=\\\"card-body\\\">                        <h5   |\n",
            "|              | main content</a> <header> <nav class=\\\"navbar bg-  |    <h1>Portal de sistemas FEI</h1>\\n        <a     |        class=\\\"card-title\\\">MOODLE FEI</h5>        |\n",
            "|              |   body-tertiary\\\"> <div class=\\\"container-fluid    | href=\\\"http://www.uv.mx\\\"><img src=\\\"https://siste |   <a href=\\\"https://sistemasfei.uv.mx/moodle/\\\"    |\n",
            "|              |        d-flex justify-content-around\\\"> <a         | masfei.uv.mx/inicio/_astro/logoUV.gPBiyME4_N2yL.we |   class=\\\"btn btn-primary\\\">Entrar a MOODLE</a>    |\n",
            "|              |  href=\\\"http://www.uv.mx/fei\\\" aria-label=\\\"Visit  |  bp\\\" alt=\\\"Logo Universidad Veracruzana\\\"></a>\\n  |   </div>                </div>            </div>   |\n",
            "|              | FEI website\\\"> <img src=\\\"https://sistemasfei.uv.m |   </header>\\n    <main class=\\\"main-content\\\">\\n   |      <div class=\\\"col\\\">                <div       |\n",
            "|              |   x/inicio/_astro/logoFEI.CKAzzJnF_ZyfpCW.webp\\\"   |       <section class=\\\"system-container\\\">\\n       | class=\\\"card h-100\\\">                    <img src= |\n",
            "|              |        class=\\\"logo-fei\\\" alt=\\\"Logo FEI\\\"         | <img class=\\\"system-image\\\" src=\\\"https://sistemas | \\\"https://sistemasfei.uv.mx/inicio/_astro/PEDPA.Ca |\n",
            "|              |   loading=\\\"eager\\\" width=\\\"567\\\" height=\\\"662\\\"   | fei.uv.mx/inicio/_astro/aulaFEI.Bfi36lLc_Z2aGaTO.w |    ZEdBX2_Zm1Ox5.webp\\\" class=\\\"card-img-top\\\"     |\n",
            "|              |  decoding=\\\"async\\\"> </a> <h1 id=\\\"main-content\\\"  | ebp\\\" alt=\\\"Imagen del sistema de gestión de aulas |     alt=\\\"Imagen relacionada con el Sistema de     |\n",
            "|              | class=\\\"text-success\\\">Portal de sistemas FEI</h1> |    del FEI\\\">\\n            <div class=\\\"system-    | Estímulos\\\">                    <div class=\\\"card- |\n",
            "|              |  <a href=\\\"http://www.uv.mx\\\" aria-label=\\\"Visit   |   description\\\">\\n                <h5>Sistema de   |  body\\\">                        <h5 class=\\\"card-  |\n",
            "|              | Universidad Veracruzana website\\\"> <img src=\\\"http |         Gestión de Claves de Aulas</h5>\\n          |   title\\\">Sistema de Estimulos al Desempeño del    |\n",
            "|              | s://sistemasfei.uv.mx/inicio/_astro/logoUV.gPBiyME | <a class=\\\"cta-button\\\" href=\\\"https://sistemasfei | Personal Academico</h5>                        <a  |\n",
            "|              |     4_N2yL.webp\\\" class=\\\"logo-uv\\\" alt=\\\"Logo     |          .uv.mx/aulaclase/\\\">Entrar</a>\\n          |     href=\\\"https://sistemasfei.uv.mx/pedpa/\\\"      |\n",
            "|              |    Universidad Veracruzana\\\" loading=\\\"eager\\\"     |    </div>\\n        </section>\\n        <section    |   class=\\\"btn btn-primary\\\">Entrar al sistema de   |\n",
            "|              | width=\\\"1363\\\" height=\\\"1182\\\" decoding=\\\"async\\\"> |   class=\\\"system-container\\\">\\n            <img    |      estímulos</a>                    </div>       |\n",
            "|              |         </a> </div> </nav> </header> <main         | class=\\\"system-image\\\" src=\\\"https://sistemasfei.u |      </div>            </div>            <div      |\n",
            "|              |  class=\\\"contenedor\\\"> <div class=\\\"card mx-2\\\">   | v.mx/inicio/_astro/edificioFEI.C5q6RF30_Z1jodpw.we |  class=\\\"col\\\">                <div class=\\\"card   |\n",
            "|              | <img src=\\\"https://sistemasfei.uv.mx/inicio/_astro |      bp\\\" alt=\\\"Imagen del edificio FEI\\\">\\n       | h-100\\\">                    <img src=\\\"https://sis |\n",
            "|              | /aulaFEI.Bfi36lLc_Z2aGaTO.webp\\\" class=\\\"card-img- |        <div class=\\\"system-description\\\">\\n        | temasfei.uv.mx/inicio/_astro/sistemaAvisosFEI.webp |\n",
            "|              | top\\\" loading=\\\"eager\\\" alt=\\\"Classroom management |      <h5>MOODLE FEI</h5>\\n                <a       | \\\" class=\\\"card-img-top\\\" alt=\\\"Imagen del sistema |\n",
            "|              | system interface\\\" width=\\\"4176\\\" height=\\\"2784\\\"  | class=\\\"cta-button\\\" href=\\\"https://sistemasfei.uv | de avisos\\\">                    <div class=\\\"card- |\n",
            "|              | decoding=\\\"async\\\"> <div class=\\\"card-body\\\"> <h5  |   .mx/moodle/\\\">Entrar</a>\\n            </div>\\n   |  body\\\">                        <h5 class=\\\"card-  |\n",
            "|              | class=\\\"card-title text-light\\\">Sistema de Gestion |    </section>\\n        <section class=\\\"system-    |           title\\\">Sistema de Avisos</h5>           |\n",
            "|              |  de Claves de Aulas</h5> <div class=\\\"text-end\\\">  |   container\\\">\\n            <img class=\\\"system-   | <a href=\\\"https://sistemasfei.uv.mx/bannersfei/\\\"  |\n",
            "|              |  <a href=\\\"https://sistemasfei.uv.mx/aulaclase/\\\"  | image\\\" src=\\\"https://sistemasfei.uv.mx/inicio/_as |   class=\\\"btn btn-primary\\\">Entrar al sistema de   |\n",
            "|              |      class=\\\"btn btn-success text-end\\\" aria-      | tro/PEDPA.CaZEdBX2_Zm1Ox5.webp\\\" alt=\\\"Imagen del  |        avisos</a>                    </div>        |\n",
            "|              | label=\\\"Enter Classroom Management System page\\\">  |   sistema de estímulos al desempeño del personal   |      </div>            </div>            <div      |\n",
            "|              | Entrar </a> </div> </div> </div> <div class=\\\"card |   académico\\\">\\n            <div class=\\\"system-   |  class=\\\"col\\\">                <div class=\\\"card   |\n",
            "|              | mx-2\\\"> <img src=\\\"https://sistemasfei.uv.mx/inici |   description\\\">\\n                <h5>Sistema de   | h-100\\\">                    <img src=\\\"https://sis |\n",
            "|              |    o/_astro/edificioFEI.C5q6RF30_Z1jodpw.webp\\\"    |        Estímulos al Desempeño del Personal         | temasfei.uv.mx/inicio/_astro/formularioForms.webp\\ |\n",
            "|              |      class=\\\"card-img-top\\\" loading=\\\"eager\\\"      |  Académico</h5>\\n                <a class=\\\"cta-   |     \" class=\\\"card-img-top\\\" alt=\\\"Imagen del      |\n",
            "|              |   alt=\\\"Moodle system interface\\\" width=\\\"1024\\\"   | button\\\" href=\\\"https://sistemasfei.uv.mx/pedpa/\\\" |        formulario de registro de eventos\\\">        |\n",
            "|              |      height=\\\"768\\\" decoding=\\\"async\\\"> <div       |         >Entrar</a>\\n            </div>\\n          |             <div class=\\\"card-body\\\">              |\n",
            "|              | class=\\\"card-body\\\"> <h5 class=\\\"card-title text-  |    </section>\\n        <section class=\\\"system-    | <h5 class=\\\"card-title\\\">Formulario de Registro de |\n",
            "|              |  light\\\">MOODLE FEI</h5> <div class=\\\"text-end\\\">  |   container\\\">\\n            <img class=\\\"system-   | Eventos</h5>                        <a href=\\\"http |\n",
            "|              |   <a href=\\\"https://sistemasfei.uv.mx/moodle/\\\"    | image\\\" src=\\\"https://sistemasfei.uv.mx/inicio/_as | s://forms.office.com/pages/responsepage.aspx?id=UX |\n",
            "|              |      class=\\\"btn btn-success text-end\\\" aria-      |    tro/sistemaAvisosFEI.webp\\\" alt=\\\"Imagen del    | aQPMbYpkyopGokJDDmU-mq0IRCUa9Ei8mq08oDurxUMDJJQkQ2 |\n",
            "|              |    label=\\\"Enter MOODLE FEI page\\\"> Entrar </a>    |   sistema de avisos del FEI\\\">\\n            <div   |   S1RTRU4zRTQ0SVpINENHQTNWRi4u&route=shorturl\\\"    |\n",
            "|              |   </div> </div> </div> <div class=\\\"card mx-2\\\">   |          class=\\\"system-description\\\">\\n           |        class=\\\"btn btn-primary\\\">Acceder al        |\n",
            "|              | <img src=\\\"https://sistemasfei.uv.mx/inicio/_astro |   <h5>Sistema de Avisos</h5>\\n                <a   |      formulario</a>                    </div>      |\n",
            "|              |  /PEDPA.CaZEdBX2_Zm1Ox5.webp\\\" class=\\\"card-img-   | class=\\\"cta-button\\\" href=\\\"https://sistemasfei.uv |      </div>            </div>            <div      |\n",
            "|              |     top\\\" loading=\\\"eager\\\" alt=\\\"PEDPA system     | .mx/bannersfei/\\\">Entrar</a>\\n            </div>\\n |  class=\\\"col\\\">                <div class=\\\"card   |\n",
            "|              |      interface\\\" width=\\\"474\\\" height=\\\"450\\\"      |    </section>\\n        <section class=\\\"system-    | h-100\\\">                    <img src=\\\"https://sis |\n",
            "|              | decoding=\\\"async\\\"> <div class=\\\"card-body\\\"> <h5  |   container\\\">\\n            <img class=\\\"system-   | temasfei.uv.mx/inicio/_astro/DashboardDesign.webp\\ |\n",
            "|              |     class=\\\"card-title text-light\\\">Sistema de     | image\\\" src=\\\"https://sistemasfei.uv.mx/inicio/_as |     \" class=\\\"card-img-top\\\" alt=\\\"Imagen del      |\n",
            "|              | Estimulos al Desempeño del Personal Academico</h5> |    tro/formularioForms.webp\\\" alt=\\\"Imagen del     |      Dashboard PBR\\\">                    <div      |\n",
            "|              |            <div class=\\\"text-end\\\"> <a             |       formulario de registro de eventos\\\">\\n       |  class=\\\"card-body\\\">                        <h5   |\n",
            "|              |     href=\\\"https://sistemasfei.uv.mx/pedpa/\\\"      |        <div class=\\\"system-description\\\">\\n        |      class=\\\"card-title\\\">Dashboard PBR</h5>       |\n",
            "|              |      class=\\\"btn btn-success text-end\\\" aria-      |    <h5>Formulario de Registro de Eventos</h5>\\n    | <a href=\\\"https://sistemasfei.uv.mx/dashboardfei/l |\n",
            "|              |   label=\\\"Enter PEDPA system page\\\"> Entrar </a>   | <a class=\\\"cta-button\\\" href=\\\"https://forms.offic |    ogin\\\" class=\\\"btn btn-primary\\\">Acceder al     |\n",
            "|              |   </div> </div> </div> <div class=\\\"card mx-2\\\">   | e.com/pages/responsepage.aspx?id=UXaQPMbYpkyopGokJ |      dashboard</a>                    </div>       |\n",
            "|              | <img src=\\\"https://sistemasfei.uv.mx/inicio/_astro | DDmU-mq0IRCUa9Ei8mq08oDurxUMDJJQkQ2S1RTRU4zRTQ0SVp |      </div>            </div>            <div      |\n",
            "|              |  /sistemaAvisosFEI.webp\\\" class=\\\"card-img-top\\\"   |    INENHQTNWRi4u&route=shorturl\\\">Entrar</a>\\n     |  class=\\\"col\\\">                <div class=\\\"card   |\n",
            "|              | loading=\\\"eager\\\" alt=\\\"Notice system interface\\\"  |    </div>\\n        </section>\\n        <section    | h-100\\\">                    <img src=\\\"https://sis |\n",
            "|              |  width=\\\"830\\\" height=\\\"400\\\" decoding=\\\"async\\\">  |   class=\\\"system-container\\\">\\n            <img    | temasfei.uv.mx/inicio/_astro/registroHorario.webp\\ |\n",
            "|              |  <div class=\\\"card-body\\\"> <h5 class=\\\"card-title  | class=\\\"system-image\\\" src=\\\"https://sistemasfei.u | \" class=\\\"card-img-top\\\" alt=\\\"Imagen de registros |\n",
            "|              |      text-light\\\">Sistema de Avisos</h5> <div      |     v.mx/inicio/_astro/DashboardDesign.webp\\\"      |       de horarios\\\">                    <div       |\n",
            "|              |               class=\\\"text-end\\\"> <a               |        alt=\\\"Imagen del dashboard PBR\\\">\\n         |  class=\\\"card-body\\\">                        <h5   |\n",
            "|              |   href=\\\"https://sistemasfei.uv.mx/bannersfei/\\\"   |        <div class=\\\"system-description\\\">\\n        |    class=\\\"card-title\\\">Registro de Horarios de    |\n",
            "|              |      class=\\\"btn btn-success text-end\\\" aria-      |     <h5>Dashboard PBR</h5>\\n                <a     |       Tutoría</h5>                        <a       |\n",
            "|              |  label=\\\"Enter Notice System page\\\"> Entrar </a>   | class=\\\"cta-button\\\" href=\\\"https://sistemasfei.uv | href=\\\"https://sistemasfei.uv.mx/agendatutorias/\\\" |\n",
            "|              |   </div> </div> </div> <div class=\\\"card mx-2\\\">   |       .mx/dashboardfei/login\\\">Entrar</a>\\n        |   class=\\\"btn btn-primary\\\">Registrar horario de   |\n",
            "|              | <img src=\\\"https://sistemasfei.uv.mx/inicio/_astro |    </div>\\n        </section>\\n        <section    |       tutoría</a>                    </div>        |\n",
            "|              |   /formularioForms.webp\\\" class=\\\"card-img-top\\\"   |   class=\\\"system-container\\\">\\n            <img    |      </div>            </div>            <div      |\n",
            "|              |  loading=\\\"eager\\\" alt=\\\"Event registration form   | class=\\\"system-image\\\" src=\\\"https://sistemasfei.u |  class=\\\"col\\\">                <div class=\\\"card   |\n",
            "|              |     interface\\\" width=\\\"1200\\\" height=\\\"800\\\"      |     v.mx/inicio/_astro/registroHorario.webp\\\"      | h-100\\\">                    <img src=\\\"https://sis |\n",
            "|              | decoding=\\\"async\\\"> <div class=\\\"card-body\\\"> <h5  |      alt=\\\"Imagen del registro de horarios de      |   temasfei.uv.mx/inicio/_astro/sistemampa.webp\\\"   |\n",
            "|              |   class=\\\"card-title text-light\\\">Formulario de    |    tutoría\\\">\\n            <div class=\\\"system-    | class=\\\"card-img-top\\\" alt=\\\"Imagen del módulo de  |\n",
            "|              | Registro de Eventos</h5> <div class=\\\"text-end\\\">  |  description\\\">\\n                <h5>Registro de   | programación académica\\\">                    <div  |\n",
            "|              | <a href=\\\"https://forms.office.com/pages/responsep |    Horarios de Tutoría</h5>\\n                <a    |  class=\\\"card-body\\\">                        <h5   |\n",
            "|              | age.aspx?id=UXaQPMbYpkyopGokJDDmU-mq0IRCUa9Ei8mq08 | class=\\\"cta-button\\\" href=\\\"https://sistemasfei.uv |    class=\\\"card-title\\\">Módulo de Programación     |\n",
            "|              | oDurxUMDJJQkQ2S1RTRU4zRTQ0SVpINENHQTNWRi4u&route=s |         .mx/agendatutorias/\\\">Entrar</a>\\n         |      Académica</h5>                        <a      |\n",
            "|              | horturl\\\" class=\\\"btn btn-success text-end\\\" aria- |    </div>\\n        </section>\\n        <section    |    href=\\\"https://sistemasfei.uv.mx/apoyompa/\\\"    |\n",
            "|              |   label=\\\"Enter Event Registration Form page\\\">    |   class=\\\"system-container\\\">\\n            <img    |   class=\\\"btn btn-primary\\\">Entrar al módulo de    |\n",
            "|              | Entrar </a> </div> </div> </div> <div class=\\\"card | class=\\\"system-image\\\" src=\\\"https://sistemasfei.u |     programación</a>                    </div>     |\n",
            "|              | mx-2\\\"> <img src=\\\"https://sistemasfei.uv.mx/inici | v.mx/inicio/_astro/sistemampa.webp\\\" alt=\\\"Imagen  | </div>            </div>        </div>    </main>  |\n",
            "|              | o/_astro/DashboardDesign.webp\\\" class=\\\"card-img-  |     del módulo de programación académica\\\">\\n      |     <!-- Footer with a sitemap -->    <footer      |\n",
            "|              |   top\\\" loading=\\\"eager\\\" alt=\\\"Dashboard design   |        <div class=\\\"system-description\\\">\\n        |    class=\\\"bd-footer py-4 py-md-5 mt-5 bg-body-    |\n",
            "|              |     interface\\\" width=\\\"1720\\\" height=\\\"900\\\"      |    <h5>Módulo de Programación Académica</h5>\\n     | tertiary\\\">        <div class=\\\"container px-4 px- |\n",
            "|              | decoding=\\\"async\\\"> <div class=\\\"card-body\\\"> <h5  | <a class=\\\"cta-button\\\" href=\\\"https://sistemasfei |    md-3 text-body-secondary\\\">            <div     |\n",
            "|              | class=\\\"card-title text-light\\\">Dashboard PBR</h5> |          .uv.mx/apoyompa/\\\">Entrar</a>\\n           |  class=\\\"row\\\">                <div class=\\\"col-   |\n",
            "|              | <div class=\\\"text-end\\\"> <a href=\\\"https://sistema |            </div>\\n        </section>\\n            |         lg-3 mb-3\\\">                    <a         |\n",
            "|              |  sfei.uv.mx/dashboardfei/login\\\" class=\\\"btn btn-  |             </main>\\n</body>\\n</html>\"             |   class=\\\"d-inline-flex align-items-center mb-2    |\n",
            "|              |  success text-end\\\" aria-label=\\\"Enter Dashboard   |                         }                          |     text-body-emphasis text-decoration-none\\\"      |\n",
            "|              | PBR page\\\"> Entrar </a> </div> </div> </div> <div  |                                                    |           href=\\\"http://www.uv.mx/fei\\\"            |\n",
            "|              | class=\\\"card mx-2\\\"> <img src=\\\"https://sistemasfe |                                                    |       aria-label=\\\"Portal de sistemas FEI\\\">       |\n",
            "|              |    i.uv.mx/inicio/_astro/registroHorario.webp\\\"    |                                                    | <img width=\\\"50\\\" src=\\\"https://sistemasfei.uv.mx/ |\n",
            "|              |      class=\\\"card-img-top\\\" loading=\\\"eager\\\"      |                                                    |    inicio/_astro/logoFEI.CKAzzJnF_ZyfpCW.webp\\\"    |\n",
            "|              |      alt=\\\"Schedule registration interface\\\"       |                                                    |      alt=\\\"Logotipo Facultad de Estadística e      |\n",
            "|              |  width=\\\"362\\\" height=\\\"362\\\" decoding=\\\"async\\\">  |                                                    |    Informática\\\">                        <span     |\n",
            "|              |  <div class=\\\"card-body\\\"> <h5 class=\\\"card-title  |                                                    |    class=\\\"fs-5\\\">Portal de Sistemas FEI</span>    |\n",
            "|              | text-light\\\">Registro de Horarios de Tutoría</h5>  |                                                    | </a>                    <ul class=\\\"list-unstyled  |\n",
            "|              |            <div class=\\\"text-end\\\"> <a             |                                                    |        small\\\">                        <li         |\n",
            "|              | href=\\\"https://sistemasfei.uv.mx/agendatutorias/\\\" |                                                    |      class=\\\"mb-2\\\">Facultad de Estadística e      |\n",
            "|              |      class=\\\"btn btn-success text-end\\\" aria-      |                                                    |  Informática de la Universidad Veracruzana.</li>   |\n",
            "|              | label=\\\"Enter Schedule Registration page\\\"> Entrar |                                                    |  </ul>                </div>                <div   |\n",
            "|              |    </a> </div> </div> </div> <div class=\\\"card     |                                                    |              class=\\\"col-lg-9 mb-3\\\">              |\n",
            "|              | mx-2\\\"> <img src=\\\"https://sistemasfei.uv.mx/inici |                                                    |      <h5>Site map</h5>                    <ul      |\n",
            "|              | o/_astro/sistemampa.webp\\\" class=\\\"card-img-top\\\"  |                                                    |              class=\\\"list-unstyled\\\">              |\n",
            "|              |    loading=\\\"eager\\\" alt=\\\"Academic programming    |                                                    |               <li class=\\\"mb-2\\\"><a                |\n",
            "|              | module interface\\\" width=\\\"1600\\\" height=\\\"1200\\\"  |                                                    |    href=\\\"http://www.uv.mx/fei\\\">Home</a></li>     |\n",
            "|              | decoding=\\\"async\\\"> <div class=\\\"card-body\\\"> <h5  |                                                    | <li class=\\\"mb-2\\\"><a href=\\\"https://sistemasfei.u |\n",
            "|              |     class=\\\"card-title text-light\\\">Módulo de      |                                                    | v.mx/aulaclase/\\\">Sistema de Gestion de Claves de  |\n",
            "|              |   Programación Académica</h5> <div class=\\\"text-   |                                                    |     Aulas</a></li>                        <li      |\n",
            "|              |                     end\\\"> <a                      |                                                    |                 class=\\\"mb-2\\\"><a                  |\n",
            "|              |    href=\\\"https://sistemasfei.uv.mx/apoyompa/\\\"    |                                                    | href=\\\"https://sistemasfei.uv.mx/moodle/\\\">MOODLE  |\n",
            "|              |      class=\\\"btn btn-success text-end\\\" aria-      |                                                    |      FEI</a></li>                        <li       |\n",
            "|              | label=\\\"Enter Academic Programming Module page\\\">  |                                                    |                 class=\\\"mb-2\\\"><a                  |\n",
            "|              |      Entrar </a> </div> </div> </div> </main>      |                                                    | href=\\\"https://sistemasfei.uv.mx/pedpa/\\\">Sistema  |\n",
            "|              |                  </body></html>\"}                  |                                                    |         de Estimulos al Desempeño</a></li>         |\n",
            "|              |                                                    |                                                    | <li class=\\\"mb-2\\\"><a href=\\\"https://sistemasfei.u |\n",
            "|              |                                                    |                                                    |   v.mx/bannersfei/\\\">Sistema de Avisos</a></li>    |\n",
            "|              |                                                    |                                                    | <li class=\\\"mb-2\\\"><a href=\\\"https://forms.office. |\n",
            "|              |                                                    |                                                    | com/pages/responsepage.aspx?id=UXaQPMbYpkyopGokJDD |\n",
            "|              |                                                    |                                                    | mU-mq0IRCUa9Ei8mq08oDurxUMDJJQkQ2S1RTRU4zRTQ0SVpIN |\n",
            "|              |                                                    |                                                    |     ENHQTNWRi4u&route=shorturl\\\">Formulario de     |\n",
            "|              |                                                    |                                                    |    Registro</a></li>                        <li    |\n",
            "|              |                                                    |                                                    | class=\\\"mb-2\\\"><a href=\\\"https://sistemasfei.uv.mx |\n",
            "|              |                                                    |                                                    |    /dashboardfei/login\\\">Dashboard PBR</a></li>    |\n",
            "|              |                                                    |                                                    | <li class=\\\"mb-2\\\"><a href=\\\"https://sistemasfei.u |\n",
            "|              |                                                    |                                                    |   v.mx/agendatutorias/\\\">Registro de Horarios de   |\n",
            "|              |                                                    |                                                    |    Tutoría</a></li>                        <li     |\n",
            "|              |                                                    |                                                    | class=\\\"mb-2\\\"><a href=\\\"https://sistemasfei.uv.mx |\n",
            "|              |                                                    |                                                    |        /apoyompa/\\\">Módulo de Programación         |\n",
            "|              |                                                    |                                                    |    Académica</a></li>                    </ul>     |\n",
            "|              |                                                    |                                                    |       </div>            </div>        </div>       |\n",
            "|              |                                                    |                                                    | </footer>    <script src=\\\"https://cdn.jsdelivr.ne |\n",
            "|              |                                                    |                                                    | t/npm/bootstrap@5.3.3/dist/js/bootstrap.bundle.min |\n",
            "|              |                                                    |                                                    |          .js\\\"></script></body></html>\"}           |\n",
            "+--------------+----------------------------------------------------+----------------------------------------------------+----------------------------------------------------+\n"
          ]
        }
      ],
      "source": [
        "extracted_json_html, extracted_json_md, extracted_json_md_template = display_extracted_content(all_content_html, all_content_md, \"Crawl4ai\")"
      ]
    },
    {
      "cell_type": "markdown",
      "metadata": {},
      "source": [
        "## Visualizar los resultados obtenidos\n",
        "\n",
        "Instalamos las dependencias necesarias para generar la interface web."
      ]
    },
    {
      "cell_type": "code",
      "execution_count": null,
      "metadata": {
        "vscode": {
          "languageId": "shellscript"
        }
      },
      "outputs": [],
      "source": [
        "!pip install aiofiles --quiet"
      ]
    },
    {
      "cell_type": "code",
      "execution_count": null,
      "metadata": {
        "vscode": {
          "languageId": "shellscript"
        }
      },
      "outputs": [
        {
          "name": "stdout",
          "output_type": "stream",
          "text": [
            "ERROR: pip's dependency resolver does not currently take into account all the packages that are installed. This behaviour is the source of the following dependency conflicts.\n",
            "crawl4ai 0.5.0.post8 requires aiofiles>=24.1.0, but you have aiofiles 23.2.1 which is incompatible.\n"
          ]
        }
      ],
      "source": [
        "!pip install gradio --quiet"
      ]
    },
    {
      "cell_type": "markdown",
      "metadata": {},
      "source": [
        "Obtenemos los resultados en un objeto JSON."
      ]
    },
    {
      "cell_type": "code",
      "execution_count": null,
      "metadata": {},
      "outputs": [],
      "source": [
        "import json\n",
        "json_data_html = json.loads(extracted_json_html)\n",
        "json_data_md = json.loads(extracted_json_md)\n",
        "json_data_md_template = json.loads(extracted_json_md_template)"
      ]
    },
    {
      "cell_type": "markdown",
      "metadata": {},
      "source": [
        "Creamos una función de apoyo para crear la interface web y poder ver los resultados visualmente."
      ]
    },
    {
      "cell_type": "code",
      "execution_count": null,
      "metadata": {},
      "outputs": [
        {
          "name": "stdout",
          "output_type": "stream",
          "text": [
            "Running on local URL:  http://127.0.0.1:7862\n",
            "\n",
            "To create a public link, set `share=True` in `launch()`.\n"
          ]
        },
        {
          "data": {
            "text/html": [
              "<div><iframe src=\"http://127.0.0.1:7862/\" width=\"100%\" height=\"500\" allow=\"autoplay; camera; microphone; clipboard-read; clipboard-write;\" frameborder=\"0\" allowfullscreen></iframe></div>"
            ],
            "text/plain": [
              "<IPython.core.display.HTML object>"
            ]
          },
          "metadata": {},
          "output_type": "display_data"
        },
        {
          "data": {
            "text/plain": []
          },
          "execution_count": 44,
          "metadata": {},
          "output_type": "execute_result"
        }
      ],
      "source": [
        "import gradio as gr\n",
        "\n",
        "with gr.Blocks(theme=gr.themes.Default()) as demo:\n",
        "    # From HTML\n",
        "    with gr.Tab(\"Proc HTML\"):\n",
        "        gr.Markdown(json_data_html[\"Procedure\"], label=\"Procedure\")\n",
        "    with gr.Tab(\"Code HTML\"):\n",
        "        gr.TextArea(json_data_html[\"HTML\"], label=\"HTML code\", show_copy_button=True, lines=20)\n",
        "    with gr.Tab(\"Res HTML\"):\n",
        "        gr.HTML(json_data_html[\"HTML\"])\n",
        "    # From Markdown\n",
        "    with gr.Tab(\"Proc MD\"):\n",
        "        gr.Markdown(json_data_md[\"Procedure\"], label=\"Procedure\")\n",
        "    with gr.Tab(\"Code MD\"):\n",
        "        gr.TextArea(json_data_md[\"HTML\"], label=\"HTML code\", show_copy_button=True, lines=20)\n",
        "    with gr.Tab(\"Res MD\"):\n",
        "        gr.HTML(json_data_md[\"HTML\"])\n",
        "    # From Markdown with template\n",
        "    with gr.Tab(\"Proc MD with template\"):\n",
        "        gr.Markdown(json_data_md_template[\"Procedure\"], label=\"Procedure\")\n",
        "    with gr.Tab(\"Code MD with template\"):\n",
        "        gr.TextArea(json_data_md_template[\"HTML\"], label=\"HTML code\", show_copy_button=True, lines=20)\n",
        "    with gr.Tab(\"Res MD with template\"):\n",
        "        gr.HTML(json_data_md_template[\"HTML\"])\n",
        "\n",
        "demo.launch()"
      ]
    },
    {
      "cell_type": "code",
      "execution_count": null,
      "metadata": {},
      "outputs": [],
      "source": [
        "# import os\n",
        "\n",
        "# if not os.path.exists(\"output\"):\n",
        "#     os.makedirs(\"output\")\n",
        "\n",
        "# with open(f'output/from_html.html', \"w+\", encoding=\"utf-8\") as f:\n",
        "#     f.write(json_data_html[\"HTML\"])\n",
        "\n",
        "# with open(f'output/from_markdown.html', \"w+\", encoding=\"utf-8\") as f:\n",
        "#     f.write(json_data_md[\"HTML\"])\n",
        "\n",
        "# with open(f'output/from_markdown_template.html', \"w+\", encoding=\"utf-8\") as f:\n",
        "#     f.write(json_data_md_template[\"HTML\"])"
      ]
    },
    {
      "cell_type": "code",
      "execution_count": null,
      "metadata": {
        "vscode": {
          "languageId": "shellscript"
        }
      },
      "outputs": [],
      "source": [
        "!pip install flask --quiet"
      ]
    },
    {
      "cell_type": "code",
      "execution_count": null,
      "metadata": {},
      "outputs": [
        {
          "name": "stdout",
          "output_type": "stream",
          "text": [
            " * Serving Flask app '__main__'\n",
            " * Debug mode: off\n"
          ]
        },
        {
          "name": "stderr",
          "output_type": "stream",
          "text": [
            "WARNING: This is a development server. Do not use it in a production deployment. Use a production WSGI server instead.\n",
            " * Running on http://127.0.0.1:5000\n",
            "Press CTRL+C to quit\n",
            "127.0.0.1 - - [01/Apr/2025 15:11:19] \"GET /html HTTP/1.1\" 200 -\n"
          ]
        }
      ],
      "source": [
        "from flask import Flask\n",
        "app = Flask(__name__)\n",
        "\n",
        "@app.route('/html')\n",
        "def index_html():\n",
        "    return json_data_html[\"HTML\"]\n",
        "\n",
        "@app.route('/md')\n",
        "def index_mc():\n",
        "    return json_data_md[\"HTML\"]\n",
        "\n",
        "@app.route('/template')\n",
        "def index_template():\n",
        "    return json_data_md_template[\"HTML\"]\n",
        "\n",
        "app.run(port=5000)"
      ]
    },
    {
      "cell_type": "markdown",
      "metadata": {
        "vscode": {
          "languageId": "html"
        }
      },
      "source": [
        "From HTML: http://127.0.0.1:5000/html\n",
        "\n",
        "From Markdown: http://127.0.0.1:5000/md\n",
        "\n",
        "From Template: http://127.0.0.1:5000/template"
      ]
    },
    {
      "cell_type": "markdown",
      "metadata": {},
      "source": [
        "\n",
        "### Retrieval-Augmented Generation (RAG)\n",
        "\n",
        "<center><img src=\"images/rag.gif\" style=\"margin:auto; width:50%\"/></center>"
      ]
    },
    {
      "cell_type": "markdown",
      "metadata": {},
      "source": [
        "### Agentic Retrieval-Augmented Generation (RAG)\n",
        "\n",
        "<center><img src=\"images/arag.gif\" style=\"margin:auto; width:50%\"/></center>"
      ]
    },
    {
      "cell_type": "markdown",
      "metadata": {},
      "source": [
        "### Chunking strategies\n",
        "\n",
        "<center><img src=\"images/chunks.gif\" style=\"margin:auto; width:50%\"/></center>"
      ]
    }
  ],
  "metadata": {
    "colab": {
      "include_colab_link": true,
      "provenance": []
    },
    "kernelspec": {
      "display_name": ".venv",
      "language": "python",
      "name": "python3"
    },
    "language_info": {
      "codemirror_mode": {
        "name": "ipython",
        "version": 3
      },
      "file_extension": ".py",
      "mimetype": "text/x-python",
      "name": "python",
      "nbconvert_exporter": "python",
      "pygments_lexer": "ipython3",
      "version": "3.13.2"
    }
  },
  "nbformat": 4,
  "nbformat_minor": 0
}
