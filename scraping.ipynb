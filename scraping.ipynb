{
  "cells": [
    {
      "cell_type": "markdown",
      "metadata": {
        "colab_type": "text",
        "id": "view-in-github"
      },
      "source": [
        "<a href=\"https://colab.research.google.com/github/gverafei/scraping/blob/main/scraping.ipynb\" target=\"_parent\"><img src=\"https://colab.research.google.com/assets/colab-badge.svg\" alt=\"Open In Colab\"/></a>"
      ]
    },
    {
      "cell_type": "markdown",
      "metadata": {
        "id": "3flX_YcJTu05"
      },
      "source": [
        "# **Investigating how to scrape the web**\n",
        "March 2025"
      ]
    },
    {
      "cell_type": "markdown",
      "metadata": {
        "id": "ctzFiDtTTu07"
      },
      "source": [
        "## Configure virtual environment\n",
        "\n",
        "Solo se ejecuta lo siguiente la primera vez. Pedirá seleccionar the kernel from the upper right corner. Choose this virtual environment we just created."
      ]
    },
    {
      "cell_type": "code",
      "execution_count": null,
      "metadata": {
        "id": "p1TQVRZzadcO",
        "vscode": {
          "languageId": "shellscript"
        }
      },
      "outputs": [],
      "source": [
        "# !python3 -m venv .venv\n",
        "# !source .venv/bin/activate # Linux/Mac\n",
        "# !.\\venv\\Scripts\\activate # Windows"
      ]
    },
    {
      "cell_type": "markdown",
      "metadata": {
        "id": "VyXLvtvmadcP"
      },
      "source": [
        "Inicializa el repositorio en GitHub. Todo esto se hace desde la terminal."
      ]
    },
    {
      "cell_type": "code",
      "execution_count": null,
      "metadata": {
        "id": "2ztygE_IadcP",
        "vscode": {
          "languageId": "shellscript"
        }
      },
      "outputs": [],
      "source": [
        "# !git init\n",
        "# !git remote add origin https://github.com/gverafei/scraping.git\n",
        "# !git pull origin main\n",
        "# git add .\n",
        "# git commit -m \"Initial commit\"\n",
        "# git push --set-upstream origin main"
      ]
    },
    {
      "cell_type": "code",
      "execution_count": null,
      "metadata": {
        "id": "p0PLl5W4adcP",
        "vscode": {
          "languageId": "shellscript"
        }
      },
      "outputs": [],
      "source": [
        "!pip install --upgrade pip --quiet"
      ]
    },
    {
      "cell_type": "markdown",
      "metadata": {
        "id": "EspH7Z_nadcP"
      },
      "source": [
        "## Create the initial data"
      ]
    },
    {
      "cell_type": "code",
      "execution_count": 1,
      "metadata": {
        "id": "Vo40HI4tnIBm"
      },
      "outputs": [],
      "source": [
        "competitor_sites = [\n",
        "    # {\n",
        "    #     \"name\": \"Amazon\",\n",
        "    #     \"url\": \"https://www.amazon.com\"\n",
        "    # },\n",
        "    # {\n",
        "    #     \"name\": \"UV\",\n",
        "    #     \"url\": \"https://www.uv.mx\"\n",
        "    # },\n",
        "    # {\n",
        "    #     \"name\": \"W3C ACT Rules\",\n",
        "    #     \"url\": \"https://www.w3.org/WAI/standards-guidelines/act/rules/\"\n",
        "    # },\n",
        "    # {\n",
        "    #     \"name\": \"Chedrahui\",\n",
        "    #     \"url\": \"https://www.chedraui.com.mx\"\n",
        "    # },\n",
        "    # {\n",
        "    #     \"name\": \"FEI\",\n",
        "    #     \"url\": \"https://www.uv.mx/fei/\"\n",
        "    # },\n",
        "    {\n",
        "        \"name\": \"Sistemas FEI\",\n",
        "        \"url\": \"https://sistemasfei.uv.mx/inicio/\"\n",
        "    }\n",
        "]"
      ]
    },
    {
      "cell_type": "markdown",
      "metadata": {
        "id": "nkokkcBzadcQ"
      },
      "source": [
        "## Setup cost's calculations\n",
        "\n",
        "The idea is to compare side-by-side.\n",
        "\n",
        "We can calculate how much it'll cost by using OpenAI's `tiktoken` library from: https://github.com/openai/tiktoken\n",
        "\n",
        "And costs from: https://openai.com/api/pricing/"
      ]
    },
    {
      "cell_type": "code",
      "execution_count": 2,
      "metadata": {
        "colab": {
          "base_uri": "https://localhost:8080/"
        },
        "id": "C0wHR_-JadcQ",
        "outputId": "33556027-fbe5-44dd-dc24-b8d86eb55366",
        "vscode": {
          "languageId": "shellscript"
        }
      },
      "outputs": [],
      "source": [
        "!pip install tiktoken --quiet"
      ]
    },
    {
      "cell_type": "code",
      "execution_count": 55,
      "metadata": {
        "colab": {
          "base_uri": "https://localhost:8080/"
        },
        "id": "zM68g89fadcQ",
        "outputId": "cc113c50-a2cd-486d-9e05-4a4f6fa73cf7"
      },
      "outputs": [],
      "source": [
        "import tiktoken\n",
        "\n",
        "def count_tokens(input_string: str) -> int:\n",
        "    encoder = tiktoken.encoding_for_model(\"gpt-4o\")\n",
        "    tokens = encoder.encode(input_string)\n",
        "    return len(tokens)\n",
        "\n",
        "def calculate_cost(input_string: str, cost_per_million_tokens: float = 2.5) -> float:\n",
        "    num_tokens = count_tokens(input_string)\n",
        "    total_cost = (num_tokens / 1_000_000) * cost_per_million_tokens\n",
        "    return total_cost\n",
        "\n",
        "def calculate_cost(num_tokens: int, cost_per_million_tokens: float = 2.5) -> float:\n",
        "    total_cost = (num_tokens / 1_000_000) * cost_per_million_tokens\n",
        "    return total_cost\n",
        "\n",
        "# Example usage:\n",
        "# input_string = \"Porque la gallina cruzó el camino? Pues porque quería llegar al otro lado.\"\n",
        "# cost = calculate_cost(input_string)\n",
        "# print(f\"The total cost for using gpt-4o is: $US {cost:.6f}\")"
      ]
    },
    {
      "cell_type": "markdown",
      "metadata": {
        "id": "JhoJFRuTadcQ"
      },
      "source": [
        "## Table para ver los resultados\n",
        "\n",
        "Ahora, para ver los resultados de la comparaciones, instalamos un paquete para ver tablas en línea de comandos: https://pypi.org/project/prettytable/\n",
        "\n",
        "Y también instalamos un paquete para ver una barra de progreso bonita en loops: https://pypi.org/project/tqdm/"
      ]
    },
    {
      "cell_type": "code",
      "execution_count": 4,
      "metadata": {
        "id": "1sxfK7Z1adcQ",
        "vscode": {
          "languageId": "shellscript"
        }
      },
      "outputs": [],
      "source": [
        "!pip install prettytable --quiet"
      ]
    },
    {
      "cell_type": "code",
      "execution_count": 5,
      "metadata": {
        "id": "8Q1iG482adcQ",
        "vscode": {
          "languageId": "shellscript"
        }
      },
      "outputs": [],
      "source": [
        "!pip install tqdm --quiet"
      ]
    },
    {
      "cell_type": "code",
      "execution_count": 59,
      "metadata": {
        "id": "MMLlOBowadcQ"
      },
      "outputs": [],
      "source": [
        "from typing import List, Callable, Dict\n",
        "from prettytable import PrettyTable\n",
        "from tqdm import tqdm\n",
        "\n",
        "def view_scraped_content(scrape_url_functions: List[Dict[str, Callable[[str], str]]], sites_list: List[Dict[str, str]], characters_to_display: int = 500, table_max_width: int = 50, to_markdown: bool=False) -> List[Dict[str, str]]:\n",
        "    content_table_headers = [\"Site Name\"] + [f\"{func['name']} content\" for func in scrape_url_functions]\n",
        "    cost_table_headers = [\"Site Name\"] + [f\"{func['name']} cost\" for func in scrape_url_functions]\n",
        "\n",
        "    content_table = PrettyTable()\n",
        "    content_table.field_names = content_table_headers\n",
        "\n",
        "    cost_table = PrettyTable()\n",
        "    cost_table.field_names = cost_table_headers\n",
        "\n",
        "    scraped_data = []\n",
        "\n",
        "    for site in sites_list:\n",
        "        content_row = [site['name']]\n",
        "        cost_row = [site['name']]\n",
        "        site_data = {\"provider\": site['name'], \"sites\": []}\n",
        "\n",
        "        for scrape_function in scrape_url_functions:\n",
        "            function_name = scrape_function['name']\n",
        "            for _ in tqdm([site], desc=f\"Processing site {site['name']} using {function_name}\"):\n",
        "                try:\n",
        "                    content = scrape_function['function'](site['url'], to_markdown)\n",
        "                    content_snippet = content[:characters_to_display]\n",
        "                    content_snippet = f\"{len(content):,} characters retrieved:\\n\\n\" + content_snippet\n",
        "                    content_row.append(content_snippet)\n",
        "\n",
        "                    cost = calculate_cost(content)\n",
        "                    cost_row.append(f\"${cost:.6f}\")\n",
        "\n",
        "                    site_data[\"sites\"].append({\"name\": function_name, \"content\": content})\n",
        "                except Exception as e:\n",
        "                    error_message = f\"Error: {str(e)}\"\n",
        "                    content_row.append(error_message)\n",
        "                    cost_row.append(\"Error\")\n",
        "\n",
        "                    site_data[\"sites\"].append({\"name\": function_name, \"content\": error_message})\n",
        "                    continue\n",
        "\n",
        "        content_table.add_row(content_row)\n",
        "        cost_table.add_row(cost_row)\n",
        "        scraped_data.append(site_data)\n",
        "\n",
        "    content_table.max_width = table_max_width\n",
        "    content_table.hrules = True\n",
        "\n",
        "    cost_table.max_width = table_max_width\n",
        "    cost_table.hrules = True\n",
        "\n",
        "    print(\"Content Table:\")\n",
        "    print(content_table)\n",
        "\n",
        "    print(\"\\nCost Table:\\nThis is how much it would cost to use gpt-4o to use this content as input.\")\n",
        "    print(cost_table)\n",
        "\n",
        "    return scraped_data"
      ]
    },
    {
      "cell_type": "markdown",
      "metadata": {
        "id": "CVbRcFl0adcR"
      },
      "source": [
        "## Setup all the scrapers\n",
        "\n",
        "Let's setup all of our scrapers."
      ]
    },
    {
      "cell_type": "markdown",
      "metadata": {
        "id": "nkwGupuBadcR"
      },
      "source": [
        "## Beautiful Soup\n",
        "\n",
        "Se instala este paquete desde: https://pypi.org/project/beautifulsoup4/\n",
        "\n",
        "Y también request para hacer peticiones desde: https://pypi.org/project/requests/"
      ]
    },
    {
      "cell_type": "code",
      "execution_count": 7,
      "metadata": {
        "id": "DoEo87IUadcR",
        "vscode": {
          "languageId": "shellscript"
        }
      },
      "outputs": [],
      "source": [
        "!pip install requests beautifulsoup4 --quiet"
      ]
    },
    {
      "cell_type": "code",
      "execution_count": 8,
      "metadata": {
        "vscode": {
          "languageId": "shellscript"
        }
      },
      "outputs": [],
      "source": [
        "!pip install markdownify --quiet"
      ]
    },
    {
      "cell_type": "code",
      "execution_count": 9,
      "metadata": {
        "id": "5mh7qfdladcR"
      },
      "outputs": [],
      "source": [
        "# Beautiful Soup utility functions\n",
        "\n",
        "import requests\n",
        "from bs4 import BeautifulSoup\n",
        "from markdownify import markdownify as md\n",
        "\n",
        "def beautiful_soup_scrape_url(url: str, to_markdown: bool = False) -> str:\n",
        "    response = requests.get(url)\n",
        "    soup = BeautifulSoup(response.content, 'html.parser')\n",
        "    if to_markdown:\n",
        "        return md(str(soup)) # Convert to markdown\n",
        "    return str(soup)"
      ]
    },
    {
      "cell_type": "markdown",
      "metadata": {
        "id": "J6UUmzTSadcR"
      },
      "source": [
        "## Playwright\n",
        "\n",
        "La manera clásica de hacer scraping. No es especial para LLMs desde: https://playwright.dev/"
      ]
    },
    {
      "cell_type": "code",
      "execution_count": 10,
      "metadata": {
        "colab": {
          "base_uri": "https://localhost:8080/"
        },
        "id": "iWtcOGvTadcR",
        "outputId": "a651572a-e03d-44a8-8d8b-64d729793d3b",
        "vscode": {
          "languageId": "shellscript"
        }
      },
      "outputs": [],
      "source": [
        "!pip install playwright --quiet"
      ]
    },
    {
      "cell_type": "code",
      "execution_count": 11,
      "metadata": {
        "colab": {
          "base_uri": "https://localhost:8080/"
        },
        "id": "xbL8G798adcR",
        "outputId": "c99e2110-2b90-4dc6-e892-d56a7c6b3c36",
        "vscode": {
          "languageId": "shellscript"
        }
      },
      "outputs": [],
      "source": [
        "!playwright install"
      ]
    },
    {
      "cell_type": "code",
      "execution_count": 12,
      "metadata": {
        "id": "YWC6t2UhadcR",
        "vscode": {
          "languageId": "shellscript"
        }
      },
      "outputs": [],
      "source": [
        "!pip install nest_asyncio --quiet"
      ]
    },
    {
      "cell_type": "code",
      "execution_count": 13,
      "metadata": {
        "vscode": {
          "languageId": "shellscript"
        }
      },
      "outputs": [],
      "source": [
        "!pip install markdownify --quiet"
      ]
    },
    {
      "cell_type": "code",
      "execution_count": 14,
      "metadata": {
        "id": "p-JCvLiFadcR"
      },
      "outputs": [],
      "source": [
        "import nest_asyncio\n",
        "nest_asyncio.apply()\n",
        "\n",
        "import asyncio\n",
        "from playwright.async_api import async_playwright\n",
        "\n",
        "async def scrape_playwright(url: str, to_markdown: bool = False) -> str:\n",
        "    async with async_playwright() as pw:\n",
        "        browser =  await pw.chromium.launch(headless=True)\n",
        "        page = await browser.new_page()\n",
        "        await page.goto(url)\n",
        "        # Espera para que cargue la pagina\n",
        "        await page.wait_for_load_state('domcontentloaded')\n",
        "        # Ejecuta un script para bajar hasta el final de la pagina\n",
        "        # await page.evaluate('window.scrollTo(0, document.body.scrollHeight)')\n",
        "        # Tambien se puede hacer con el teclado\n",
        "        await page.keyboard.press('End')\n",
        "        # Espera a que baje el scroll\n",
        "        await page.wait_for_timeout(2000)\n",
        "\n",
        "        html = await page.content()\n",
        "        if to_markdown:\n",
        "            html = md(html) # Convert to markdown\n",
        "        \n",
        "        await browser.close()\n",
        "        return html\n",
        "\n",
        "def scrape_playwright_sync(url: str, to_markdown: bool = False):\n",
        "    return asyncio.run(scrape_playwright(url, to_markdown))\n",
        "\n",
        "# print(scrape_playwright_sync(\"https://www.amazon.com\", to_markdown=True))"
      ]
    },
    {
      "cell_type": "markdown",
      "metadata": {
        "id": "TYsfgXbOadcR"
      },
      "source": [
        "## Reader API by Jina AI\n",
        "\n",
        "Este es especialmente para LLMs también. Setup Jina AI's scrape method from: https://jina.ai/reader/"
      ]
    },
    {
      "cell_type": "code",
      "execution_count": 15,
      "metadata": {
        "id": "OEHapbAOadcR"
      },
      "outputs": [],
      "source": [
        "import requests\n",
        "\n",
        "def scrape_jina_ai(url: str, to_markdown: bool = False) -> str:\n",
        "    headers = {\n",
        "        'X-Return-Format': 'markdown' if to_markdown else 'html',\n",
        "        'X-Engine': 'browser',\n",
        "        'X-Timeout': '30',\n",
        "        \"X-With-Images-Summary\": \"none\" if to_markdown else \"all\",\n",
        "    }\n",
        "    data = {\n",
        "        'url': url,\n",
        "        'injectPageScript': [\n",
        "            'document.addEventListener(\"mutationIdle\", window.simulateScroll);'\n",
        "        ]\n",
        "    }\n",
        "    response = requests.post('https://r.jina.ai/', headers=headers, json=data)\n",
        "    return response.text\n",
        "\n",
        "# print(scrape_jina_ai(\"https://www.uv.mx\", to_markdown = True))"
      ]
    },
    {
      "cell_type": "markdown",
      "metadata": {
        "id": "vMtJpLtPadcR"
      },
      "source": [
        "## Crawl4AI: Open-Source LLM-Friendly Web Crawler & Scraper\n",
        "\n",
        "Este es especialmente para obtener formato amigable para LLMs desde: https://docs.crawl4ai.com/\n",
        "\n",
        "Primero instalamos prerequisitos que requiere Google Colab."
      ]
    },
    {
      "cell_type": "code",
      "execution_count": 16,
      "metadata": {
        "id": "1MHc1ZotejiY",
        "vscode": {
          "languageId": "shellscript"
        }
      },
      "outputs": [],
      "source": [
        "!pip install h5py --quiet"
      ]
    },
    {
      "cell_type": "code",
      "execution_count": 17,
      "metadata": {
        "vscode": {
          "languageId": "shellscript"
        }
      },
      "outputs": [],
      "source": [
        "!pip install typing-extensions --quiet"
      ]
    },
    {
      "cell_type": "code",
      "execution_count": 18,
      "metadata": {
        "vscode": {
          "languageId": "shellscript"
        }
      },
      "outputs": [],
      "source": [
        "!pip install wheel --quiet"
      ]
    },
    {
      "cell_type": "markdown",
      "metadata": {
        "id": "3MtRxpOrfevX"
      },
      "source": [
        "Posteriormente, ya podemos realizar la instalación."
      ]
    },
    {
      "cell_type": "code",
      "execution_count": 19,
      "metadata": {
        "id": "Dc6Gou8-adcR",
        "vscode": {
          "languageId": "shellscript"
        }
      },
      "outputs": [],
      "source": [
        "!pip install crawl4ai --quiet"
      ]
    },
    {
      "cell_type": "code",
      "execution_count": 20,
      "metadata": {
        "colab": {
          "base_uri": "https://localhost:8080/"
        },
        "id": "h_l1aG_radcR",
        "outputId": "5023fad8-6775-44b3-f970-0956828e3ac1",
        "vscode": {
          "languageId": "shellscript"
        }
      },
      "outputs": [
        {
          "name": "stdout",
          "output_type": "stream",
          "text": [
            "\u001b[36m[INIT].... → Running post-installation setup...\u001b[0m\n",
            "\u001b[36m[INIT].... → Installing Playwright browsers...\u001b[0m\n",
            "\u001b[32m[COMPLETE] ● Playwright installation completed successfully.\u001b[0m\n",
            "\u001b[36m[INIT].... → Starting database initialization...\u001b[0m\n",
            "\u001b[32m[COMPLETE] ● Database initialization completed successfully.\u001b[0m\n",
            "\u001b[32m[COMPLETE] ● Post-installation setup completed!\u001b[0m\n",
            "\u001b[0m"
          ]
        }
      ],
      "source": [
        "!crawl4ai-setup"
      ]
    },
    {
      "cell_type": "code",
      "execution_count": 21,
      "metadata": {
        "id": "fPX1z3jqadcR",
        "vscode": {
          "languageId": "shellscript"
        }
      },
      "outputs": [],
      "source": [
        "!pip install nest_asyncio --quiet"
      ]
    },
    {
      "cell_type": "code",
      "execution_count": 22,
      "metadata": {
        "id": "rNULITSAadcR"
      },
      "outputs": [],
      "source": [
        "import nest_asyncio\n",
        "nest_asyncio.apply()\n",
        "\n",
        "import asyncio\n",
        "from crawl4ai import AsyncWebCrawler\n",
        "from crawl4ai.async_configs import BrowserConfig, CrawlerRunConfig\n",
        "\n",
        "browser_conf = BrowserConfig(verbose=False,headless=True)\n",
        "\n",
        "run_cfg = CrawlerRunConfig(\n",
        "    wait_until=\"domcontentloaded\",\n",
        "    wait_for_images=True,\n",
        "    scan_full_page=True,\n",
        "    verbose=False,\n",
        ")\n",
        "\n",
        "async def async_scrape_crawl4ai(url: str, to_markdown: bool = False) -> str:\n",
        "    crawler = AsyncWebCrawler(config=browser_conf)\n",
        "    await crawler.start()\n",
        "    result = await crawler.arun(\n",
        "        url=url,\n",
        "        config=run_cfg,\n",
        "    )\n",
        "\n",
        "    if not to_markdown:\n",
        "        return result.html\n",
        "    \n",
        "    # Convert HTML to Markdown\n",
        "    # Get all the images\n",
        "    images = result.media.get(\"images\", [])\n",
        "    images_list = f\"\\n\\nImages found:{len(images)}\"\n",
        "    for i, img in enumerate(images):\n",
        "        images_list = images_list + f\"\\n - ![Image {i+1}: {img.get('alt','No description')}]({img.get('src','')})\"\n",
        "        # Example: - ![Image 1: Alt text](https://example.com/image1.jpg)\n",
        "    \n",
        "    return result.markdown + images_list\n",
        "\n",
        "# To run the async function in a synchronous context\n",
        "# (like this script), you can use asyncio.run() to execute it.\n",
        "# This is a workaround for running async functions in a sync context.\n",
        "def scrape_crawl4ai(url: str, to_markdown: bool = False):\n",
        "    return asyncio.run(async_scrape_crawl4ai(url, to_markdown))\n",
        "\n",
        "# print(scrape_crawl4ai(\"https://www.uv.mx\", to_markdown=True))"
      ]
    },
    {
      "cell_type": "markdown",
      "metadata": {},
      "source": [
        "## Firecrawl: Turn websites into LLM-ready data\n",
        "\n",
        "Esta es otra opción que no se usará porque tiene costo. También esta enfocado en AI. Desde: https://www.firecrawl.dev/"
      ]
    },
    {
      "cell_type": "markdown",
      "metadata": {
        "id": "Su7fsLEwadcR"
      },
      "source": [
        "## Main functions to run the comparasion with HTML\n",
        "\n",
        "Let's run all the scrapers and display them in our comparison table."
      ]
    },
    {
      "cell_type": "code",
      "execution_count": 23,
      "metadata": {
        "colab": {
          "base_uri": "https://localhost:8080/"
        },
        "id": "XzPk7M7oadcR",
        "outputId": "db1e6eb3-348c-4ae0-d9b8-e9ea4a287d5c"
      },
      "outputs": [
        {
          "name": "stderr",
          "output_type": "stream",
          "text": [
            "Processing site Sistemas FEI using Crawl4ai: 100%|██████████| 1/1 [00:02<00:00,  2.25s/it]\n"
          ]
        },
        {
          "name": "stdout",
          "output_type": "stream",
          "text": [
            "Content Table:\n",
            "+--------------+-------------------------------------+\n",
            "|  Site Name   |           Crawl4ai content          |\n",
            "+--------------+-------------------------------------+\n",
            "| Sistemas FEI |     10,378 characters retrieved:    |\n",
            "|              |                                     |\n",
            "|              |    <html lang=\"en\" style=\"filter:   |\n",
            "|              |          invert(0);\"><head>         |\n",
            "|              |            <meta charset=\"UTF-8\">   |\n",
            "|              |           <meta name=\"description\"  |\n",
            "|              |     content=\"Astro description\">    |\n",
            "|              |            <meta name=\"viewport\"    |\n",
            "|              |    content=\"width=device-width\">    |\n",
            "|              |               <link rel=\"icon\"      |\n",
            "|              |         type=\"image/x-icon\"         |\n",
            "|              |         href=\"favicon.ico\">         |\n",
            "|              |            <meta name=\"generator\"   |\n",
            "|              | content=\"Astro v4.4.1\"><link href=\" |\n",
            "|              | https://cdn.jsdelivr.net/npm/bootst |\n",
            "|              | rap@5.3.3/dist/css/bootstrap.min.cs |\n",
            "|              | s\" rel=\"stylesheet\" integrity=\"sha3 |\n",
            "|              |                 84-                 |\n",
            "|              | QWTKZyjpPEjISv5WaRU9OFeRpok6YctnYmD |\n",
            "|              |    r5pNlyT2bRjXh0JMhjY6hW+ALEwIH\"   |\n",
            "|              |       crossorigin=\"anonymous\">      |\n",
            "|              |         <title>Sistemas FEI</title> |\n",
            "|              |                   <style>           |\n",
            "|              |               img[data-astro-cid-   |\n",
            "|              |              dohjnao5]              |\n",
            "|              |                        {            |\n",
            "|              |                   max-width:300px;  |\n",
            "|              |                  max-height:100px;  |\n",
            "|              |                   object-fit:cover  |\n",
            "|              |                        }            |\n",
            "|              |              .card[data-astro-cid-  |\n",
            "|              |              dohjnao5]              |\n",
            "|              |                                     |\n",
            "+--------------+-------------------------------------+\n",
            "\n",
            "Cost Table:\n",
            "This is how much it would cost to use gpt-4o to parse this content for extraction.\n",
            "+--------------+---------------+\n",
            "|  Site Name   | Crawl4ai cost |\n",
            "+--------------+---------------+\n",
            "| Sistemas FEI |   $0.007248   |\n",
            "+--------------+---------------+\n"
          ]
        }
      ],
      "source": [
        "list_of_scraper_functions = [\n",
        "      # {\"name\": \"Beautiful Soup\", \"function\": beautiful_soup_scrape_url},\n",
        "      # {\"name\": \"Jina AI\", \"function\": scrape_jina_ai},\n",
        "      # {\"name\": \"Playwright\", \"function\": scrape_playwright_sync},\n",
        "      {\"name\": \"Crawl4ai\", \"function\": scrape_crawl4ai},\n",
        "      ]\n",
        "\n",
        "all_content_html = view_scraped_content(list_of_scraper_functions, competitor_sites, 800, 35, to_markdown=False)"
      ]
    },
    {
      "cell_type": "markdown",
      "metadata": {},
      "source": [
        "## Realizamos la comparación con markdown\n",
        "\n",
        "Vamos a ejecutar todos los scrapers pero ahora que devuelvan un formato más amigable para la IA."
      ]
    },
    {
      "cell_type": "code",
      "execution_count": 24,
      "metadata": {},
      "outputs": [
        {
          "name": "stderr",
          "output_type": "stream",
          "text": [
            "Processing site Sistemas FEI using Crawl4ai: 100%|██████████| 1/1 [00:01<00:00,  1.86s/it]\n"
          ]
        },
        {
          "name": "stdout",
          "output_type": "stream",
          "text": [
            "Content Table:\n",
            "+--------------+-------------------------------------+\n",
            "|  Site Name   |           Crawl4ai content          |\n",
            "+--------------+-------------------------------------+\n",
            "| Sistemas FEI |     2,064 characters retrieved:     |\n",
            "|              |                                     |\n",
            "|              | [ ![Logo FEI](https://sistemasfei.u |\n",
            "|              | v.mx/inicio/_astro/logoFEI.CKAzzJnF |\n",
            "|              |            _ZyfpCW.webp)            |\n",
            "|              |       ](http://www.uv.mx/fei)       |\n",
            "|              |       # Portal de sistemas FEI      |\n",
            "|              | [ ![Logo Universidad Veracruzana](h |\n",
            "|              | ttps://sistemasfei.uv.mx/inicio/_as |\n",
            "|              |    tro/logoUV.gPBiyME4_N2yL.webp)   |\n",
            "|              |         ](http://www.uv.mx)         |\n",
            "|              | ![foto](https://sistemasfei.uv.mx/i |\n",
            "|              | nicio/_astro/aulaFEI.Bfi36lLc_Z2aGa |\n",
            "|              |               TO.webp)              |\n",
            "|              |  ##### Sistema de Gestion de Claves |\n",
            "|              |               de Aulas              |\n",
            "|              | [ Entrar ](https://sistemasfei.uv.m |\n",
            "|              |            x/aulaclase/)            |\n",
            "|              | ![foto](https://sistemasfei.uv.mx/i |\n",
            "|              | nicio/_astro/edificioFEI.C5q6RF30_Z |\n",
            "|              |             1jodpw.webp)            |\n",
            "|              |           ##### MOODLE FEI          |\n",
            "|              | [ Entrar ](https://sistemasfei.uv.m |\n",
            "|              |              x/moodle/)             |\n",
            "|              | ![foto](https://sistemasfei.uv.mx/i |\n",
            "|              | nicio/_astro/PEDPA.CaZEdBX2_Zm1Ox5. |\n",
            "|              |                webp)                |\n",
            "|              |    ##### Sistema de Estimulos al    |\n",
            "|              |   Desempeño del Personal Academico  |\n",
            "|              |               [ Entrar              |\n",
            "|              | ](https://sistemasfei.uv.mx/pedpa/) |\n",
            "|              | ![foto](https://sistemasfei.uv.mx/i |\n",
            "|              | nicio/_astro/sistemaAvisosFEI.webp) |\n",
            "|              |       ##### Sistema de Avisos       |\n",
            "|              | [ Entrar ](https://sistemasfei.uv.m |\n",
            "|              |            x/bannersfei/)           |\n",
            "|              | ![foto](https://sistemasfei.uv.mx/i |\n",
            "|              |  nicio/_astro/formularioForms.webp) |\n",
            "|              |   ##### Formulario de Registro de   |\n",
            "|              |               Eventos               |\n",
            "|              | [ Entrar ](https://forms.office.com |\n",
            "|              | /pages/responsepage.aspx?id=UXaQPMb |\n",
            "|              | YpkyopGokJDDmU-mq0IRCUa9Ei8mq08oDur |\n",
            "|              | xUMDJJQkQ2S1RTRU4zRTQ0SVpINENHQTNWR |\n",
            "|              |         i4u&route=shorturl)         |\n",
            "|              |    ![foto](https://sistemasfei.u    |\n",
            "+--------------+-------------------------------------+\n",
            "\n",
            "Cost Table:\n",
            "This is how much it would cost to use gpt-4o to parse this content for extraction.\n",
            "+--------------+---------------+\n",
            "|  Site Name   | Crawl4ai cost |\n",
            "+--------------+---------------+\n",
            "| Sistemas FEI |   $0.001840   |\n",
            "+--------------+---------------+\n"
          ]
        }
      ],
      "source": [
        "all_content_md = view_scraped_content(list_of_scraper_functions, competitor_sites, 1200, 35, to_markdown=True)"
      ]
    },
    {
      "cell_type": "markdown",
      "metadata": {},
      "source": [
        "## Conectar con OpenAI para enviar la información\n",
        "\n",
        "Vamos a enviar el contenido en HTML y en markdown y le vamos a pedir que nos devuelva una sección accesible WCAG 2.2."
      ]
    },
    {
      "cell_type": "code",
      "execution_count": 25,
      "metadata": {
        "vscode": {
          "languageId": "shellscript"
        }
      },
      "outputs": [],
      "source": [
        "!pip install openai --quiet"
      ]
    },
    {
      "cell_type": "code",
      "execution_count": 47,
      "metadata": {},
      "outputs": [],
      "source": [
        "import getpass\n",
        "from openai import OpenAI\n",
        "\n",
        "OPENAI_API_KEY = getpass.getpass('Enter your OpenAI API key: ')\n",
        "\n",
        "client = OpenAI(api_key=OPENAI_API_KEY)\n",
        "\n",
        "def extract(user_input: str, user_prompt: str) -> str:\n",
        "    entity_extraction_system_message = {\n",
        "        \"role\": \"system\", \n",
        "        \"content\": \"You are a helpful assistant expert on web accessibility WCAG 2.2 that evaluate and correct HTML code.\"\n",
        "        \"You will be given code and you will analize it.\"\n",
        "        \"Then, you will create a new webpage from that code but accessible according to WCAG 2.2.\"\n",
        "        \"If you include an style.css file, you will print it at the end.\"\n",
        "        \"Also, you will provide a list of the procedure you did respect to the original.\"\n",
        "        \"You will based the structure from the page: https://webaim.org/ wich is a good example of accessible web page.\"\n",
        "    }\n",
        "    # Add the system message to the messages list\n",
        "    messages = [entity_extraction_system_message]\n",
        "    # Add the content to the messages list\n",
        "    messages.append({\"role\": \"user\", \"content\": user_prompt})\n",
        "    messages.append({\"role\": \"user\", \"content\": user_input})\n",
        "    # Call the OpenAI API to get the response\n",
        "    response = client.chat.completions.create(\n",
        "        model=\"gpt-4o\",\n",
        "        stream=False,\n",
        "        messages=messages,\n",
        "    )\n",
        "    # Extract the output text from the response\n",
        "    # response.usage.completion_tokens\n",
        "    # response.usage.prompt_tokens\n",
        "\n",
        "    # return response.choices[0].message.content\n",
        "    return response.choices[0].message.content, response.usage.completion_tokens, response.usage.prompt_tokens"
      ]
    },
    {
      "cell_type": "markdown",
      "metadata": {},
      "source": [
        "Ahora se crearemos una función para crear una tabla con los resultados de comparar el resultado devuelto en HTML y en Markdown. "
      ]
    },
    {
      "cell_type": "code",
      "execution_count": 60,
      "metadata": {},
      "outputs": [],
      "source": [
        "def display_extracted_content(results_html: List[Dict[str, any]], results_md: List[Dict[str, any]], function_name: str):\n",
        "    table = PrettyTable()\n",
        "    table.field_names = [\"Site\", \"From HTML\", \"From markdown\"]\n",
        "\n",
        "    # Iterate through each site and its content\n",
        "    for i,result in tqdm(enumerate(results_html), desc=\"Processing results\"):\n",
        "        sites_html = results_html[i][\"sites\"]\n",
        "        sites_md = results_md[i][\"sites\"]\n",
        "        provider = results_html[i][\"provider\"]\n",
        "\n",
        "        for i in range(len(sites_html)):\n",
        "            if sites_html[i][\"name\"] == function_name:\n",
        "                # Extract the content for HTML and Markdown\n",
        "                content_html = sites_html[i][\"content\"]\n",
        "                content_md = sites_md[i][\"content\"]\n",
        "\n",
        "                # Progress bar for each function\n",
        "                for _ in tqdm(range(1), desc=f\"Extracting content with {function_name} for HTML input\"):\n",
        "                    extracted_content_html,completion_tokens, prompt_tokens = extract(content_html, \"Extract the section body of the following HTML code and create a new accessible web page version with header, content and footer.\")\n",
        "                    cost = calculate_cost(completion_tokens + prompt_tokens)\n",
        "                    extracted_content_html = f\"Completion tokens: {completion_tokens:,}\\nPrompt tokens: {prompt_tokens:,}\\nTotal cost:${cost:.6f}\" + \"\\n\\n\\n\" + extracted_content_html\n",
        "\n",
        "                # Progress bar for each function\n",
        "                for _ in tqdm(range(1), desc=f\"Extracting content with {function_name} for Markdown input\"):\n",
        "                    extracted_content_md, completion_tokens, prompt_tokens = extract(content_md,\"Use the following content to create a new accessible web page version with header, content and footer.\")\n",
        "                    cost = calculate_cost(completion_tokens + prompt_tokens)\n",
        "                    extracted_content_md =  f\"Completion tokens: {completion_tokens:,}\\nPrompt tokens: {prompt_tokens:,}\\nTotal cost:${cost:.6f}\" + \"\\n\\n\\n\" + extracted_content_md\n",
        "\n",
        "                table.add_row([provider, extracted_content_html, extracted_content_md])\n",
        "\n",
        "    table.max_width = 50  # Set the maximum width for better display\n",
        "    table.hrules = True  # Add horizontal rules for better readability\n",
        "\n",
        "    print(\"Extracted Content Table:\")\n",
        "    print(table)"
      ]
    },
    {
      "cell_type": "code",
      "execution_count": 57,
      "metadata": {},
      "outputs": [
        {
          "name": "stderr",
          "output_type": "stream",
          "text": [
            "Processing results: 0it [00:00, ?it/s]\n",
            "Extracting content with Crawl4ai for HTML input:   0%|          | 0/1 [00:00<?, ?it/s]\n",
            "Extracting content with Crawl4ai for HTML input: 100%|██████████| 1/1 [00:10<00:00, 10.30s/it]\n",
            "\n",
            "Extracting content with Crawl4ai for Markdown input:   0%|          | 0/1 [00:00<?, ?it/s]\n",
            "Extracting content with Crawl4ai for Markdown input: 100%|██████████| 1/1 [00:21<00:00, 21.62s/it]\n",
            "Processing results: 1it [00:31, 31.93s/it]\n"
          ]
        },
        {
          "name": "stdout",
          "output_type": "stream",
          "text": [
            "Extracted Content Table:\n",
            "+--------------+----------------------------------------------------+----------------------------------------------------+\n",
            "|     Site     |                     From HTML                      |                   From markdown                    |\n",
            "+--------------+----------------------------------------------------+----------------------------------------------------+\n",
            "| Sistemas FEI |              Completion tokens: 1183               |              Completion tokens: 1778               |\n",
            "|              |                Prompt tokens: 3049                 |                 Prompt tokens: 881                 |\n",
            "|              |                  $cost:$0.010580                   |                  $cost:$0.006647                   |\n",
            "|              |                                                    |                                                    |\n",
            "|              |                                                    |                                                    |\n",
            "|              |    Let's create a new accessible version of the    |   Below is an accessible version of the webpage    |\n",
            "|              |  webpage by implementing best practices following  |  code. I have added appropriate alternative text   |\n",
            "|              | WCAG 2.2 guidelines. The focus will be on ensuring |  for images, structured the content with semantic  |\n",
            "|              |    appropriate UI/UX elements are included for     |   HTML elements, and ensured the text is clearly   |\n",
            "|              |  accessibility improvements, such as adding ARIA   |     readable according to WCAG 2.2 guidelines.     |\n",
            "|              |   roles, using semantic HTML, and ensuring color   | Additionally, I included ARIA roles and landmarks  |\n",
            "|              |          contrast and responsive design.           |                  where necessary.                  |\n",
            "|              |                                                    |                                                    |\n",
            "|              |                      ```html                       |                      ```html                       |\n",
            "|              |                  <!DOCTYPE html>                   |                  <!DOCTYPE html>                   |\n",
            "|              |                  <html lang=\"en\">                  |                  <html lang=\"es\">                  |\n",
            "|              |                                                    |                       <head>                       |\n",
            "|              |                       <head>                       |                 <meta charset=\"UTF-8\">             |\n",
            "|              |                 <meta charset=\"UTF-8\">             |      <meta name=\"viewport\" content=\"width=device-  |\n",
            "|              |              <title>Sistemas FEI</title>           |             width, initial-scale=1.0\">             |\n",
            "|              |        <meta name=\"description\" content=\"Astro     |         <title>Portal de Sistemas FEI</title>      |\n",
            "|              |                   description\">                    |               <!-- External CSS link -->           |\n",
            "|              |      <meta name=\"viewport\" content=\"width=device-  |        <link rel=\"stylesheet\" href=\"style.css\">    |\n",
            "|              |             width, initial-scale=1.0\">             |     <meta name=\"description\" content=\"Acceso a los |\n",
            "|              |          <link rel=\"icon\" type=\"image/x-icon\"      | diferentes sistemas y servicios de la Facultad de  |\n",
            "|              |                href=\"favicon.ico\">                 |    Estadística e Informática de la Universidad     |\n",
            "|              |     <link rel=\"stylesheet\" href=\"https://cdn.jsdel |                   Veracruzana.\">                   |\n",
            "|              | ivr.net/npm/bootstrap@5.3.3/dist/css/bootstrap.min |                      </head>                       |\n",
            "|              |                       .css\"                        |                       <body>                       |\n",
            "|              |                     integrity=\"sha384-             |                 <header role=\"banner\">             |\n",
            "|              | QWTKZyjpPEjISv5WaRU9OFeRpok6YctnYmDr5pNlyT2bRjXh0J |             <nav aria-label=\"Main Navigation\">     |\n",
            "|              |      MhjY6hW+ALEwIH\" crossorigin=\"anonymous\">      |                  <div class=\"logo-container\">      |\n",
            "|              |        <link rel=\"stylesheet\" href=\"style.css\">    |                   <a href=\"http://www.uv.mx/fei\"   |\n",
            "|              |                      </head>                       |             aria-label=\"FEI Homepage\">             |\n",
            "|              |                                                    |                     <img src=\"https://sistemasfei. |\n",
            "|              |                       <body>                       | uv.mx/inicio/_astro/logoFEI.CKAzzJnF_ZyfpCW.webp\"  |\n",
            "|              |                        <header>                    |       alt=\"Logo of Facultad de Estadística e       |\n",
            "|              |          <nav role=\"navigation\" aria-label=\"Main   |                   Informática\">                    |\n",
            "|              | navigation\" class=\"navbar navbar-expand-lg navbar- |                                </a>                |\n",
            "|              |                  light bg-light\">                  |                  <a href=\"http://www.uv.mx\" aria-  |\n",
            "|              |                 <div class=\"container-fluid\">      |     label=\"Universidad Veracruzana Homepage\">      |\n",
            "|              |                  <a href=\"http://www.uv.mx/fei\">   |                     <img src=\"https://sistemasfei. |\n",
            "|              |                                  <img              |   uv.mx/inicio/_astro/logoUV.gPBiyME4_N2yL.webp\"   |\n",
            "|              |     src=\"_astro/logoFEI.CKAzzJnF_ZyfpCW.webp\"      |       alt=\"Logo of Universidad Veracruzana\">       |\n",
            "|              |     class=\"logo-fei\" alt=\"Logo FEI\" width=\"80\"     |                                </a>                |\n",
            "|              |                                height=\"80\">        |                             </div>                 |\n",
            "|              |                                </a>                |                           </nav>                   |\n",
            "|              |                 <h1 class=\"h3 text-success\">Portal |                       </header>                    |\n",
            "|              |                de sistemas FEI</h1>                |                                                    |\n",
            "|              |                    <a href=\"http://www.uv.mx\">     |                   <main role=\"main\">               |\n",
            "|              |                                  <img              |              <h1>Portal de Sistemas FEI</h1>       |\n",
            "|              |       src=\"_astro/logoUV.gPBiyME4_N2yL.webp\"       |                                                    |\n",
            "|              | class=\"logo-uv\" alt=\"Logo Universidad Veracruzana\" |          <section aria-labelledby=\"manage-keys\">   |\n",
            "|              |                          width=\"100\" height=\"80\">  |                <h2 id=\"manage-keys\">Sistema de     |\n",
            "|              |                                </a>                |          Gestión de Claves de Aulas</h2>           |\n",
            "|              |                             </div>                 |             <img src=\"https://sistemasfei.uv.mx/in |\n",
            "|              |                           </nav>                   |     icio/_astro/aulaFEI.Bfi36lLc_Z2aGaTO.webp\"     |\n",
            "|              |                       </header>                    |   alt=\"Image depicting classroom keys management   |\n",
            "|              |                                                    |                 system interface\">                 |\n",
            "|              |                         <main>                     |                             <p><a                  |\n",
            "|              |              <section class=\"container my-5\">      | href=\"https://sistemasfei.uv.mx/aulaclase/\" aria-  |\n",
            "|              |              <div class=\"row row-cols-1 row-cols-  |  label=\"Entrar al Sistema de Gestión de Claves de  |\n",
            "|              |                     md-3 g-4\">                     |               Aulas\">Entrar</a></p>                |\n",
            "|              |                       <!-- Card Template -->       |                         </section>                 |\n",
            "|              |                         <div class=\"col\">          |                                                    |\n",
            "|              |                        <div class=\"card h-100\">    |             <section aria-labelledby=\"moodle\">     |\n",
            "|              |                                    <img            |                <h2 id=\"moodle\">MOODLE FEI</h2>     |\n",
            "|              |     src=\"_astro/aulaFEI.Bfi36lLc_Z2aGaTO.webp\"     |             <img src=\"https://sistemasfei.uv.mx/in |\n",
            "|              |   class=\"card-img-top\" alt=\"Foto del sistema de    |   icio/_astro/edificioFEI.C5q6RF30_Z1jodpw.webp\"   |\n",
            "|              |      gestion de claves de aulas\" width=\"4176\"      |    alt=\"Image related to MOODLE FEI interface\">    |\n",
            "|              |                   height=\"2784\">                   |                             <p><a                  |\n",
            "|              |                         <div class=\"card-body bg-  |   href=\"https://sistemasfei.uv.mx/moodle/\" aria-   |\n",
            "|              |                primary text-light\">                |     label=\"Entrar a MOODLE FEI\">Entrar</a></p>     |\n",
            "|              |                                <h5 class=\"card-    |                         </section>                 |\n",
            "|              | title\">Sistema de Gestión de Claves de Aulas</h5>  |                                                    |\n",
            "|              |                                       <a           |            <section aria-labelledby=\"stimulus-     |\n",
            "|              |    href=\"https://sistemasfei.uv.mx/aulaclase/\"     |                      system\">                      |\n",
            "|              |   class=\"btn btn-success\" aria-label=\"Entrar al    |              <h2 id=\"stimulus-system\">Sistema de   |\n",
            "|              | Sistema de Gestión de Claves de Aulas\">Entrar</a>  | Estímulos al Desempeño del Personal Académico</h2> |\n",
            "|              |                                   </div>           |             <img src=\"https://sistemasfei.uv.mx/in |\n",
            "|              |                                 </div>             | icio/_astro/PEDPA.CaZEdBX2_Zm1Ox5.webp\" alt=\"Image |\n",
            "|              |                               </div>               |     representing stimulus system for academic      |\n",
            "|              |                  <!-- More cards would go here...  |              performance interface\">               |\n",
            "|              |        similar structure for each card -->         |                             <p><a                  |\n",
            "|              |                  <!-- Ensure that all images have  |   href=\"https://sistemasfei.uv.mx/pedpa/\" aria-    |\n",
            "|              |      clear and descriptive alt attributes -->      | label=\"Entrar al Sistema de Estímulos al Desempeño |\n",
            "|              |                            <!-- ... -->            |       del Personal Académico\">Entrar</a></p>       |\n",
            "|              |                             </div>                 |                         </section>                 |\n",
            "|              |                         </section>                 |                                                    |\n",
            "|              |                        </main>                     |          <section aria-labelledby=\"annt-system\">   |\n",
            "|              |                                                    |                <h2 id=\"annt-system\">Sistema de     |\n",
            "|              |       <footer class=\"bg-light py-4 text-center\">   |                    Avisos</h2>                     |\n",
            "|              |                  <div class=\"container\">           |             <img src=\"https://sistemasfei.uv.mx/in |\n",
            "|              |             <p>&copy; 2023 Sistemas FEI. Todos los |  icio/_astro/sistemaAvisosFEI.webp\" alt=\"Image of  |\n",
            "|              |              derechos reservados.</p>              |        the announcement system interface\">         |\n",
            "|              |                           </div>                   |                             <p><a                  |\n",
            "|              |                       </footer>                    | href=\"https://sistemasfei.uv.mx/bannersfei/\" aria- |\n",
            "|              |                      </body>                       | label=\"Entrar al Sistema de Avisos\">Entrar</a></p> |\n",
            "|              |                                                    |                         </section>                 |\n",
            "|              |                      </html>                       |                                                    |\n",
            "|              |                        ```                         |           <section aria-labelledby=\"event-form\">   |\n",
            "|              |                                                    |               <h2 id=\"event-form\">Formulario de    |\n",
            "|              |                   ### style.css                    |              Registro de Eventos</h2>              |\n",
            "|              |                                                    |             <img src=\"https://sistemasfei.uv.mx/in |\n",
            "|              |                       ```css                       |    icio/_astro/formularioForms.webp\" alt=\"Image    |\n",
            "|              |                       body {                       |  illustrating event registration form interface\">  |\n",
            "|              |               background-color: #ffffff;           |             <p><a href=\"https://forms.office.com/p |\n",
            "|              |           font-family: 'Arial', sans-serif;        | ages/responsepage.aspx?id=UXaQPMbYpkyopGokJDDmU-mq |\n",
            "|              |                    color: #212529;                 | 0IRCUa9Ei8mq08oDurxUMDJJQkQ2S1RTRU4zRTQ0SVpINENHQT |\n",
            "|              |                   line-height: 1.6;                |    NWRi4u&route=shorturl\" aria-label=\"Entrar al    |\n",
            "|              |                         }                          | Formulario de Registro de Eventos\">Entrar</a></p>  |\n",
            "|              |                                                    |                         </section>                 |\n",
            "|              |                        h1,                         |                                                    |\n",
            "|              |                        h5 {                        |           <section aria-labelledby=\"dashboard\">    |\n",
            "|              |                    color: #18529d;                 |             <h2 id=\"dashboard\">Dashboard PBR</h2>  |\n",
            "|              |                         }                          |             <img src=\"https://sistemasfei.uv.mx/in |\n",
            "|              |                                                    |    icio/_astro/DashboardDesign.webp\" alt=\"Image    |\n",
            "|              |                      .card {                       |         showing Dashboard PBR interface\">          |\n",
            "|              |      box-shadow: 0 5px 10px rgba(0, 0, 0, 0.15);   |             <p><a href=\"https://sistemasfei.uv.mx/ |\n",
            "|              |                  border-radius: 8px;               |     dashboardfei/login\" aria-label=\"Entrar al      |\n",
            "|              |              transition: transform 0.3s;           |           Dashboard PBR\">Entrar</a></p>            |\n",
            "|              |                         }                          |                         </section>                 |\n",
            "|              |                                                    |                                                    |\n",
            "|              |                   .card:hover {                    |          <section aria-labelledby=\"tutoring-reg\">  |\n",
            "|              |              transform: translateY(-5px);          |               <h2 id=\"tutoring-reg\">Registro de    |\n",
            "|              |                         }                          |              Horarios de Tutoría</h2>              |\n",
            "|              |                                                    |             <img src=\"https://sistemasfei.uv.mx/in |\n",
            "|              |                     .logo-fei,                     |    icio/_astro/registroHorario.webp\" alt=\"Image    |\n",
            "|              |                     .logo-uv {                     |      showing interface for tutoring schedule       |\n",
            "|              |                    max-width: 100%;                |                   registration\">                   |\n",
            "|              |                     height: auto;                  |                             <p><a                  |\n",
            "|              |                   transition: 0.3s;                |  href=\"https://sistemasfei.uv.mx/agendatutorias/\"  |\n",
            "|              |                         }                          |   aria-label=\"Entrar al Registro de Horarios de    |\n",
            "|              |                                                    |              Tutoría\">Entrar</a></p>               |\n",
            "|              |                     .navbar {                      |                         </section>                 |\n",
            "|              |       box-shadow: 0 2px 5px rgba(0, 0, 0, 0.1);    |                                                    |\n",
            "|              |                         }                          |         <section aria-labelledby=\"program-module\"> |\n",
            "|              |                                                    |               <h2 id=\"program-module\">Módulo de    |\n",
            "|              |                   .bg-primary {                    |            Programación Académica</h2>             |\n",
            "|              |         background-color: #18529d !important;      |             <img src=\"https://sistemasfei.uv.mx/in |\n",
            "|              |                         }                          | icio/_astro/sistemampa.webp\" alt=\"Image related to |\n",
            "|              |                                                    |      academic programming module interface\">       |\n",
            "|              |                   .btn-success {                   |                             <p><a                  |\n",
            "|              |               background-color: #28a745;           |  href=\"https://sistemasfei.uv.mx/apoyompa/\" aria-  |\n",
            "|              |                 border-color: #28a745;             |      label=\"Entrar al Módulo de Programación       |\n",
            "|              |                         }                          |             Académica\">Entrar</a></p>              |\n",
            "|              |                                                    |                         </section>                 |\n",
            "|              |                    .container {                    |                        </main>                     |\n",
            "|              |                   max-width: 1140px;               |                                                    |\n",
            "|              |                    margin: 0 auto;                 |              <footer role=\"contentinfo\">           |\n",
            "|              |                    padding: 0 15px;                |          <p>Universidad Veracruzana - Facultad de  |\n",
            "|              |                         }                          |           Estadística e Informática</p>            |\n",
            "|              |                                                    |                       </footer>                    |\n",
            "|              |                      footer {                      |                      </body>                       |\n",
            "|              |               background-color: #f8f9fa;           |                      </html>                       |\n",
            "|              |                    color: #6c757d;                 |                        ```                         |\n",
            "|              |                         }                          |                                                    |\n",
            "|              |                                                    |                   ### style.css                    |\n",
            "|              |                     footer p {                     |                       ```css                       |\n",
            "|              |                       margin: 0;                   |                       body {                       |\n",
            "|              |                         }                          |            font-family: Arial, sans-serif;         |\n",
            "|              |                        ```                         |                   line-height: 1.6;                |\n",
            "|              |                                                    |                      color: #333;                  |\n",
            "|              |             ### Key Improvements Made:             |               background-color: #f9f9f9;           |\n",
            "|              |   1. **Semantic HTML Structure**: Used semantic    |                       margin: 0;                   |\n",
            "|              |  elements like `<header>`, `<main>`, `<nav>`, and  |                      padding: 0;                   |\n",
            "|              |                    `<footer>`.                     |                         }                          |\n",
            "|              | 2. **ARIA Roles and Labels**: Added ARIA roles and |                                                    |\n",
            "|              |   labels to enhance navigation for screen reader   |                      header {                      |\n",
            "|              |                       users.                       |               background-color: #005bac;           |\n",
            "|              |  3. **Descriptive Alt Attributes**: Ensured `alt`  |                     color: white;                  |\n",
            "|              |  attributes on images are descriptive for better   |                    padding: 10px 0;                |\n",
            "|              |                   accessibility.                   |                         }                          |\n",
            "|              |    4. **Color and Contrast**: Updated text and     |                                                    |\n",
            "|              |      background colors for adequate contrast.      |                 .logo-container {                  |\n",
            "|              | 5. **Responsive Design**: Utilized Bootstrap grid  |                  text-align: center;               |\n",
            "|              |      for responsive layout and better mobile       |                         }                          |\n",
            "|              |                   compatibility.                   |                                                    |\n",
            "|              | 6. **Consistent and Accessible Font Usage**: Used  |               .logo-container img {                |\n",
            "|              |     `Arial` for cross-platform compatibility.      |                     height: 50px;                  |\n",
            "|              |   7. **Hover Effects for Accessibility**: Added    |                    margin: 0 10px;                 |\n",
            "|              | hover effects for interactive elements like cards. |                         }                          |\n",
            "|              |  8. **Accessibility-First Button Descriptions**:   |                                                    |\n",
            "|              |  Ensured links and buttons have `aria-label` for   |                       main {                       |\n",
            "|              |                  screen readers.                   |                     padding: 20px;                 |\n",
            "|              |                                                    |                   max-width: 1200px;               |\n",
            "|              |                                                    |                     margin: auto;                  |\n",
            "|              |                                                    |                         }                          |\n",
            "|              |                                                    |                                                    |\n",
            "|              |                                                    |                      h1, h2 {                      |\n",
            "|              |                                                    |                    color: #005bac;                 |\n",
            "|              |                                                    |                         }                          |\n",
            "|              |                                                    |                                                    |\n",
            "|              |                                                    |                     section {                      |\n",
            "|              |                                                    |                  margin-bottom: 30px;              |\n",
            "|              |                                                    |             border-bottom: 1px solid #ddd;         |\n",
            "|              |                                                    |                 padding-bottom: 20px;              |\n",
            "|              |                                                    |                         }                          |\n",
            "|              |                                                    |                                                    |\n",
            "|              |                                                    |                   section img {                    |\n",
            "|              |                                                    |                    max-width: 100%;                |\n",
            "|              |                                                    |                     height: auto;                  |\n",
            "|              |                                                    |                    display: block;                 |\n",
            "|              |                                                    |                     margin: auto;                  |\n",
            "|              |                                                    |                         }                          |\n",
            "|              |                                                    |                                                    |\n",
            "|              |                                                    |                      footer {                      |\n",
            "|              |                                                    |                background-color: #333;             |\n",
            "|              |                                                    |                     color: white;                  |\n",
            "|              |                                                    |                  text-align: center;               |\n",
            "|              |                                                    |                    padding: 20px 0;                |\n",
            "|              |                                                    |                         }                          |\n",
            "|              |                                                    |                        ```                         |\n",
            "|              |                                                    |                                                    |\n",
            "|              |                                                    |                   ### Procedure:                   |\n",
            "|              |                                                    |                                                    |\n",
            "|              |                                                    |              1. **Semantic Markup:**               |\n",
            "|              |                                                    |      - Used semantic HTML5 tags like `<header>`,   |\n",
            "|              |                                                    |       `<main>`, `<section>`, and `<footer>`.       |\n",
            "|              |                                                    |      - Used appropriate heading levels (`<h1>`,    |\n",
            "|              |                                                    |        `<h2>`) for page and section titles.        |\n",
            "|              |                                                    |                                                    |\n",
            "|              |                                                    |             2. **Accessible Images:**              |\n",
            "|              |                                                    |    - Provided descriptive `alt` text for images to |\n",
            "|              |                                                    | improve accessibility for users who rely on screen |\n",
            "|              |                                                    |                      readers.                      |\n",
            "|              |                                                    |                                                    |\n",
            "|              |                                                    |              3. **ARIA Attributes:**               |\n",
            "|              |                                                    |     - Used `role` and `aria-label` attributes to   |\n",
            "|              |                                                    |      provide additional context to assistive       |\n",
            "|              |                                                    |                   technologies.                    |\n",
            "|              |                                                    |                                                    |\n",
            "|              |                                                    |                 4. **Navigation:**                 |\n",
            "|              |                                                    |     - Arranged images and links in a structured,   |\n",
            "|              |                                                    | logical order to aid navigation and comprehension. |\n",
            "|              |                                                    |                                                    |\n",
            "|              |                                                    |           5. **Visibility & Contrast:**            |\n",
            "|              |                                                    |       - Used CSS to ensure text is legible and     |\n",
            "|              |                                                    |         background contrasts sufficiently.         |\n",
            "|              |                                                    |                                                    |\n",
            "|              |                                                    | By taking these steps, we ensure that the website  |\n",
            "|              |                                                    |     is accessible to users with disabilities,      |\n",
            "|              |                                                    | including those relying on assistive technologies. |\n",
            "+--------------+----------------------------------------------------+----------------------------------------------------+\n"
          ]
        }
      ],
      "source": [
        "display_extracted_content( all_content_html, all_content_md, \"Crawl4ai\")"
      ]
    }
  ],
  "metadata": {
    "colab": {
      "include_colab_link": true,
      "provenance": []
    },
    "kernelspec": {
      "display_name": ".venv",
      "language": "python",
      "name": "python3"
    },
    "language_info": {
      "codemirror_mode": {
        "name": "ipython",
        "version": 3
      },
      "file_extension": ".py",
      "mimetype": "text/x-python",
      "name": "python",
      "nbconvert_exporter": "python",
      "pygments_lexer": "ipython3",
      "version": "3.13.2"
    }
  },
  "nbformat": 4,
  "nbformat_minor": 0
}
