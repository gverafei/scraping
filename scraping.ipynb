{
  "cells": [
    {
      "cell_type": "markdown",
      "metadata": {
        "colab_type": "text",
        "id": "view-in-github"
      },
      "source": [
        "<a href=\"https://colab.research.google.com/github/gverafei/scraping/blob/main/scraping.ipynb\" target=\"_parent\"><img src=\"https://colab.research.google.com/assets/colab-badge.svg\" alt=\"Open In Colab\"/></a>"
      ]
    },
    {
      "cell_type": "markdown",
      "metadata": {
        "id": "3flX_YcJTu05"
      },
      "source": [
        "# **Investigating how to scrape the web**\n",
        "March 2025"
      ]
    },
    {
      "cell_type": "markdown",
      "metadata": {
        "id": "ctzFiDtTTu07"
      },
      "source": [
        "## Configure virtual environment\n",
        "\n",
        "Solo se ejecuta lo siguiente la primera vez. Pedirá seleccionar the kernel from the upper right corner. Choose this virtual environment we just created."
      ]
    },
    {
      "cell_type": "code",
      "execution_count": null,
      "metadata": {
        "vscode": {
          "languageId": "shellscript"
        }
      },
      "outputs": [],
      "source": [
        "!python3 -m venv .venv                                             \n",
        "!source .venv/bin/activate # Linux/Mac\n",
        "# !.\\venv\\Scripts\\activate # Windows"
      ]
    },
    {
      "cell_type": "markdown",
      "metadata": {},
      "source": [
        "Inicializa el repositorio en GitHub. Todo esto se hace desde la terminal."
      ]
    },
    {
      "cell_type": "code",
      "execution_count": null,
      "metadata": {
        "vscode": {
          "languageId": "shellscript"
        }
      },
      "outputs": [],
      "source": [
        "# !git init\n",
        "# !git remote add origin https://github.com/gverafei/scraping.git\n",
        "# !git pull origin main\n",
        "# git add .\n",
        "# git commit -m \"Initial commit\"\n",
        "# git push --set-upstream origin main"
      ]
    },
    {
      "cell_type": "code",
      "execution_count": null,
      "metadata": {
        "vscode": {
          "languageId": "shellscript"
        }
      },
      "outputs": [],
      "source": [
        "!pip install --upgrade pip --quiet"
      ]
    },
    {
      "cell_type": "markdown",
      "metadata": {},
      "source": [
        "Install required packages\n",
        "\n",
        "```bash\n",
        "pip install html2text\n",
        "pip install markdownify\n",
        "```"
      ]
    },
    {
      "cell_type": "markdown",
      "metadata": {},
      "source": [
        "## Create the initial data"
      ]
    },
    {
      "cell_type": "code",
      "execution_count": 111,
      "metadata": {
        "colab": {
          "base_uri": "https://localhost:8080/"
        },
        "id": "Vo40HI4tnIBm",
        "outputId": "8004fdff-cd55-4cc1-bef0-301a541988e4"
      },
      "outputs": [],
      "source": [
        "competitor_sites = [\n",
        "    {\n",
        "        \"name\": \"Amazon\",\n",
        "        \"url\": \"https://www.amazon.com\"\n",
        "    },\n",
        "    {\n",
        "        \"name\": \"UV\",\n",
        "        \"url\": \"https://www.uv.mx\"\n",
        "    },\n",
        "    {\n",
        "        \"name\": \"W3C ACT Rules\",\n",
        "        \"url\": \"https://www.w3.org/WAI/standards-guidelines/act/rules/\"\n",
        "    },\n",
        "]"
      ]
    },
    {
      "cell_type": "markdown",
      "metadata": {},
      "source": [
        "## Setup cost's calculations\n",
        "\n",
        "The idea is to compare side-by-side. \n",
        "\n",
        "We can calculate how much it'll cost by using OpenAI's `tiktoken` library from: https://github.com/openai/tiktoken\n",
        "\n",
        "And costs from: https://openai.com/api/pricing/"
      ]
    },
    {
      "cell_type": "code",
      "execution_count": null,
      "metadata": {
        "vscode": {
          "languageId": "shellscript"
        }
      },
      "outputs": [],
      "source": [
        "!pip install tiktoken --quiet"
      ]
    },
    {
      "cell_type": "code",
      "execution_count": null,
      "metadata": {},
      "outputs": [],
      "source": [
        "import tiktoken\n",
        "\n",
        "def count_tokens(input_string: str) -> int:\n",
        "    encoder = tiktoken.encoding_for_model(\"gpt-4o\")\n",
        "    tokens = encoder.encode(input_string)\n",
        "    return len(tokens)\n",
        "\n",
        "def calculate_cost(input_string: str, cost_per_million_tokens: float = 2.5) -> float:\n",
        "    num_tokens = count_tokens(input_string)\n",
        "    total_cost = (num_tokens / 1_000_000) * cost_per_million_tokens\n",
        "    return total_cost\n",
        "\n",
        "# Example usage:\n",
        "input_string = \"Porque la gallina cruzó el camino? Pues porque quería llegar al otro lado.\"\n",
        "cost = calculate_cost(input_string)\n",
        "print(f\"The total cost for using gpt-4o is: $US {cost:.6f}\")"
      ]
    },
    {
      "cell_type": "markdown",
      "metadata": {},
      "source": [
        "## Table para ver los resultados\n",
        "\n",
        "Ahora, para ver los resultados de la comparaciones, instalamos un paquete para ver tablas en línea de comandos: https://pypi.org/project/prettytable/\n",
        "\n",
        "Y también instalamos un paquete para ver una barra de progreso bonita en loops: https://pypi.org/project/tqdm/"
      ]
    },
    {
      "cell_type": "code",
      "execution_count": null,
      "metadata": {
        "vscode": {
          "languageId": "shellscript"
        }
      },
      "outputs": [],
      "source": [
        "!pip install prettytable --quiet"
      ]
    },
    {
      "cell_type": "code",
      "execution_count": null,
      "metadata": {
        "vscode": {
          "languageId": "shellscript"
        }
      },
      "outputs": [],
      "source": [
        "!pip install tqdm --quiet"
      ]
    },
    {
      "cell_type": "code",
      "execution_count": 103,
      "metadata": {},
      "outputs": [],
      "source": [
        "from typing import List, Callable, Dict\n",
        "from prettytable import PrettyTable\n",
        "from tqdm import tqdm\n",
        "\n",
        "def view_scraped_content(scrape_url_functions: List[Dict[str, Callable[[str], str]]], sites_list: List[Dict[str, str]], characters_to_display: int = 500, table_max_width: int = 50) -> List[Dict[str, str]]:\n",
        "    content_table_headers = [\"Site Name\"] + [f\"{func['name']} content\" for func in scrape_url_functions]\n",
        "    cost_table_headers = [\"Site Name\"] + [f\"{func['name']} cost\" for func in scrape_url_functions]\n",
        "\n",
        "    content_table = PrettyTable()\n",
        "    content_table.field_names = content_table_headers\n",
        "\n",
        "    cost_table = PrettyTable()\n",
        "    cost_table.field_names = cost_table_headers\n",
        "\n",
        "    scraped_data = []\n",
        "\n",
        "    for site in sites_list:\n",
        "        content_row = [site['name']]\n",
        "        cost_row = [site['name']]\n",
        "        site_data = {\"provider\": site['name'], \"sites\": []}\n",
        "\n",
        "        for scrape_function in scrape_url_functions:\n",
        "            function_name = scrape_function['name']\n",
        "            for _ in tqdm([site], desc=f\"Processing site {site['name']} using {function_name}\"):\n",
        "                try:    \n",
        "                    content = scrape_function['function'](site['url'])\n",
        "                    content_snippet = content[:characters_to_display]\n",
        "                    content_snippet = f\"{len(content):,} characters retrieved:\\n\\n\" + content_snippet\n",
        "                    content_row.append(content_snippet)\n",
        "\n",
        "                    cost = calculate_cost(content)\n",
        "                    cost_row.append(f\"${cost:.6f}\")\n",
        "\n",
        "                    site_data[\"sites\"].append({\"name\": function_name, \"content\": content})\n",
        "                except Exception as e:\n",
        "                    error_message = f\"Error: {str(e)}\"\n",
        "                    content_row.append(error_message)\n",
        "                    cost_row.append(\"Error\")\n",
        "\n",
        "                    site_data[\"sites\"].append({\"name\": function_name, \"content\": error_message})\n",
        "                    continue\n",
        "\n",
        "        content_table.add_row(content_row)\n",
        "        cost_table.add_row(cost_row)\n",
        "        scraped_data.append(site_data)\n",
        "\n",
        "    content_table.max_width = table_max_width\n",
        "    content_table.hrules = True\n",
        "\n",
        "    cost_table.max_width = table_max_width\n",
        "    cost_table.hrules = True\n",
        "\n",
        "    print(\"Content Table:\")\n",
        "    print(content_table)\n",
        "\n",
        "    print(\"\\nCost Table:\\nThis is how much it would cost to use gpt-4o to parse this content for extraction.\")\n",
        "    print(cost_table)\n",
        "\n",
        "    return scraped_data"
      ]
    },
    {
      "cell_type": "markdown",
      "metadata": {},
      "source": [
        "## Setup all the scrapers\n",
        "\n",
        "Let's setup all of our scrapers."
      ]
    },
    {
      "cell_type": "markdown",
      "metadata": {},
      "source": [
        "## Beautiful Soup\n",
        "\n",
        "Se instala este paquete desde: https://pypi.org/project/beautifulsoup4/\n",
        "\n",
        "Y también request para hacer peticiones desde: https://pypi.org/project/requests/"
      ]
    },
    {
      "cell_type": "code",
      "execution_count": null,
      "metadata": {
        "vscode": {
          "languageId": "shellscript"
        }
      },
      "outputs": [],
      "source": [
        "!pip install requests beautifulsoup4 --quiet"
      ]
    },
    {
      "cell_type": "code",
      "execution_count": null,
      "metadata": {},
      "outputs": [],
      "source": [
        "# Beautiful Soup utility functions\n",
        "\n",
        "import requests\n",
        "from bs4 import BeautifulSoup\n",
        "\n",
        "def beautiful_soup_scrape_url(url: str):\n",
        "    response = requests.get(url)\n",
        "    soup = BeautifulSoup(response.content, 'html.parser')\n",
        "    return str(soup)"
      ]
    },
    {
      "cell_type": "markdown",
      "metadata": {},
      "source": [
        "## Reader API by Jina AI\n",
        "\n",
        "Este es especialmente para LLMs también. Setup Jina AI's scrape method from: https://jina.ai/reader/"
      ]
    },
    {
      "cell_type": "code",
      "execution_count": null,
      "metadata": {},
      "outputs": [],
      "source": [
        "import requests\n",
        "\n",
        "def scrape_jina_ai(url: str) -> str:\n",
        "  headers = {\n",
        "        'X-Return-Format': 'html',\n",
        "        'X-Wait-For-Selector': '.slick-initialized',\n",
        "        'X-With-Images-Summary': 'all'\n",
        "  }\n",
        "  data = {\n",
        "      'url': url,\n",
        "      'injectPageScript': [\n",
        "          'window.scrollTo(0, document.body.scrollHeight)'\n",
        "      ]\n",
        "  }\n",
        "\n",
        "  response = requests.post('https://r.jina.ai/', headers=headers, json=data)\n",
        "  return response.text"
      ]
    },
    {
      "cell_type": "markdown",
      "metadata": {},
      "source": [
        "## Playwright\n",
        "\n",
        "La manera clásica de hacer scraping. No es especial para LLMs desde: https://playwright.dev/"
      ]
    },
    {
      "cell_type": "code",
      "execution_count": null,
      "metadata": {
        "vscode": {
          "languageId": "shellscript"
        }
      },
      "outputs": [],
      "source": [
        "!pip install playwright --quiet"
      ]
    },
    {
      "cell_type": "code",
      "execution_count": null,
      "metadata": {
        "vscode": {
          "languageId": "shellscript"
        }
      },
      "outputs": [],
      "source": [
        "!playwright install"
      ]
    },
    {
      "cell_type": "code",
      "execution_count": null,
      "metadata": {
        "vscode": {
          "languageId": "shellscript"
        }
      },
      "outputs": [],
      "source": [
        "!pip install nest_asyncio --quiet"
      ]
    },
    {
      "cell_type": "code",
      "execution_count": null,
      "metadata": {},
      "outputs": [],
      "source": [
        "import nest_asyncio\n",
        "nest_asyncio.apply()\n",
        "\n",
        "import asyncio\n",
        "from playwright.async_api import async_playwright\n",
        "\n",
        "async def scrape_playwright(url: str):\n",
        "    async with async_playwright() as pw:\n",
        "        browser =  await pw.chromium.launch(headless=True)\n",
        "        page = await browser.new_page()\n",
        "        await page.goto(url)\n",
        "        # Espera para que cargue la pagina\n",
        "        await page.wait_for_load_state('domcontentloaded')\n",
        "        # Ejecuta un script para bajar hasta el final de la pagina\n",
        "        # await page.evaluate('window.scrollTo(0, document.body.scrollHeight)')\n",
        "        # Tambien se puede hacer con el teclado\n",
        "        await page.keyboard.press('End')\n",
        "        # Espera a que baje el scroll\n",
        "        await page.wait_for_timeout(2000)\n",
        "\n",
        "        html = await page.content()\n",
        "        await browser.close()\n",
        "        \n",
        "        return html\n",
        "    \n",
        "def scrape_playwright_sync(url: str):\n",
        "    return asyncio.run(scrape_playwright(url))"
      ]
    },
    {
      "cell_type": "markdown",
      "metadata": {},
      "source": [
        "## Crawl4AI: Open-Source LLM-Friendly Web Crawler & Scraper\n",
        "\n",
        "Este es especialmente para LLMs desde: https://docs.crawl4ai.com/"
      ]
    },
    {
      "cell_type": "code",
      "execution_count": null,
      "metadata": {
        "vscode": {
          "languageId": "shellscript"
        }
      },
      "outputs": [],
      "source": [
        "!pip install crawl4ai --quiet\n",
        "# !pip install git+https://github.com/unclecode/crawl4ai.git@2025-MAR-ALPHA-1 --quiet"
      ]
    },
    {
      "cell_type": "code",
      "execution_count": null,
      "metadata": {
        "vscode": {
          "languageId": "shellscript"
        }
      },
      "outputs": [],
      "source": [
        "!crawl4ai-setup"
      ]
    },
    {
      "cell_type": "code",
      "execution_count": null,
      "metadata": {
        "vscode": {
          "languageId": "shellscript"
        }
      },
      "outputs": [],
      "source": [
        "!pip install nest_asyncio --quiet"
      ]
    },
    {
      "cell_type": "code",
      "execution_count": null,
      "metadata": {},
      "outputs": [],
      "source": [
        "import nest_asyncio\n",
        "nest_asyncio.apply()\n",
        "\n",
        "import asyncio\n",
        "from crawl4ai import AsyncWebCrawler\n",
        "from crawl4ai.async_configs import BrowserConfig, CrawlerRunConfig\n",
        "\n",
        "browser_conf = BrowserConfig(verbose=False,headless=True)\n",
        "\n",
        "run_cfg = CrawlerRunConfig(\n",
        "    wait_until=\"domcontentloaded\",\n",
        "    scan_full_page=True,\n",
        "    # wait_for_timeout=2000,\n",
        "    verbose=False\n",
        ")\n",
        "\n",
        "async def async_scrape_crawl4ai(url: str):\n",
        "    crawler = AsyncWebCrawler(config=browser_conf)\n",
        "    await crawler.start()\n",
        "    result = await crawler.arun(\n",
        "        url=url,\n",
        "        config=run_cfg,\n",
        "    )\n",
        "    return result.html\n",
        "\n",
        "# To run the async function in a synchronous context\n",
        "# (like this script), you can use asyncio.run() to execute it.\n",
        "# This is a workaround for running async functions in a sync context.\n",
        "def scrape_crawl4ai(url: str):\n",
        "    return asyncio.run(async_scrape_crawl4ai(url))\n",
        "\n",
        "# print(scrape_crawl4ai(\"https://www.uv.mx\"))"
      ]
    },
    {
      "cell_type": "markdown",
      "metadata": {},
      "source": [
        "## Main functions to run the comparasion\n",
        "\n",
        "Let's run all the scrapers and display them in our comparison table."
      ]
    },
    {
      "cell_type": "code",
      "execution_count": 112,
      "metadata": {},
      "outputs": [
        {
          "name": "stderr",
          "output_type": "stream",
          "text": [
            "Processing site Amazon using Beautiful Soup: 100%|██████████| 1/1 [00:00<00:00,  5.86it/s]\n",
            "Processing site Amazon using Playwright: 100%|██████████| 1/1 [00:04<00:00,  4.13s/it]\n",
            "Processing site Amazon using Crawl4ai: 100%|██████████| 1/1 [00:04<00:00,  4.05s/it]\n",
            "Processing site UV using Beautiful Soup: 100%|██████████| 1/1 [00:00<00:00,  4.13it/s]\n",
            "Processing site UV using Playwright: 100%|██████████| 1/1 [00:04<00:00,  4.07s/it]\n",
            "Processing site UV using Crawl4ai: 100%|██████████| 1/1 [00:02<00:00,  2.78s/it]\n",
            "Processing site W3C ACT Rules using Beautiful Soup: 100%|██████████| 1/1 [00:00<00:00,  9.29it/s]\n",
            "Processing site W3C ACT Rules using Playwright: 100%|██████████| 1/1 [00:02<00:00,  2.57s/it]\n",
            "Processing site W3C ACT Rules using Crawl4ai: 100%|██████████| 1/1 [00:02<00:00,  2.95s/it]\n"
          ]
        },
        {
          "name": "stdout",
          "output_type": "stream",
          "text": [
            "Content Table:\n",
            "+---------------+------------------------------------------+------------------------------------------+------------------------------------------+\n",
            "|   Site Name   |          Beautiful Soup content          |            Playwright content            |             Crawl4ai content             |\n",
            "+---------------+------------------------------------------+------------------------------------------+------------------------------------------+\n",
            "|     Amazon    |       2,559 characters retrieved:        |      802,001 characters retrieved:       |      823,768 characters retrieved:       |\n",
            "|               |                                          |                                          |                                          |\n",
            "|               |                   <!--                   |    <!DOCTYPE html><html lang=\"en-us\"     |    <!DOCTYPE html><html lang=\"en-us\"     |\n",
            "|               |          To discuss automated access to  |     class=\"a-ws a-js a-audio a-video     |  class=\" a-js a-audio a-video a-canvas   |\n",
            "|               | Amazon data please contact api-services- | a-canvas a-svg a-drag-drop a-geolocation |     a-svg a-drag-drop a-geolocation      |\n",
            "|               |           support@amazon.com.            |    a-history a-webworker a-autofocus     |    a-history a-webworker a-autofocus     |\n",
            "|               |         For information about migrating  |     a-input-placeholder a-textarea-      |     a-input-placeholder a-textarea-      |\n",
            "|               |   to our APIs refer to our Marketplace   | placeholder a-local-storage a-gradients  | placeholder a-local-storage a-gradients  |\n",
            "|               | APIs at https://developer.amazonservices | a-transform3d a-touch-scrolling a-text-  | a-transform3d a-touch-scrolling a-text-  |\n",
            "|               |     .com/ref=rm_5_sv, or our Product     |    shadow a-text-stroke a-box-shadow     |    shadow a-text-stroke a-box-shadow     |\n",
            "|               | Advertising API at https://affiliate-pro | a-border-radius a-border-image a-opacity | a-border-radius a-border-image a-opacity |\n",
            "|               | gram.amazon.com/gp/advertising/api/detai |      a-transform a-transition null\"      |      a-transform a-transition null\"      |\n",
            "|               | l/main.html/ref=rm_5_ac for advertising  |  data-19ax5a9jf=\"dingo\" data-aui-build-  |  data-19ax5a9jf=\"dingo\" data-aui-build-  |\n",
            "|               |                use cases.                |      date=\"3.25.1-2025-03-20\" data-      |      date=\"3.25.1-2025-03-20\" data-      |\n",
            "|               |                   -->                    | useragent=\"Mozilla/5.0 (Macintosh; Intel |    useragent=\"Mozilla/5.0 (X11; Linux    |\n",
            "|               |             <!DOCTYPE html>              |   Mac OS X 10_15_7) AppleWebKit/537.36   |        x86_64) AppleWebKit/537.36        |\n",
            "|               |                                          |           (KHTML, like Gecko)            |  Chrome/116.0.0.0 Safari/537.36\" data-   |\n",
            "|               |                  <html>                  |       HeadlessChrome/134.0.6998.35       |         platform=\"MacIntel\"><!--         |\n",
            "|               |                  <head>                  |           Safari/537.36\" data-           |  sp:feature:head-start --><head><script  |\n",
            "|               |         <meta charset=\"utf-8\"/>          |         platform=\"MacIntel\"><!--         |     async=\"\" src=\"https://c.amazon-      |\n",
            "|               |      <meta content=\"ie=edge\" http-       |  sp:feature:head-start --><head><script  |  adsystem.com/bao-csm/forensics/a9-tq-   |\n",
            "|               |        equiv=\"x-ua-compatible\"/>         |     async=\"\" src=\"https://c.amazon-      |      forensics-incremental.min.js\"       |\n",
            "|               |    <meta content=\"width=device-width,    |     adsystem.com/bao-csm/forensics/a     |            crossorigin=\"anon             |\n",
            "|               |    initial-scale=1, shrink-to-fit=no\"    |                                          |                                          |\n",
            "|               |            name=\"viewport\"/>             |                                          |                                          |\n",
            "|               |       <title>Sorry! Something went       |                                          |                                          |\n",
            "|               |              wrong!</title>              |                                          |                                          |\n",
            "|               |                 <style>                  |                                          |                                          |\n",
            "|               |                html, body {              |                                          |                                          |\n",
            "|               |                 padding: 0;              |                                          |                                          |\n",
            "|               |                  margin: 0               |                                          |                                          |\n",
            "|               |                     }                    |                                          |                                          |\n",
            "|               |                                          |                                          |                                          |\n",
            "|               |                   img {                  |                                          |                                          |\n",
            "|               |                                          |                                          |                                          |\n",
            "+---------------+------------------------------------------+------------------------------------------+------------------------------------------+\n",
            "|       UV      |       24,071 characters retrieved:       |      130,227 characters retrieved:       |      131,056 characters retrieved:       |\n",
            "|               |                                          |                                          |                                          |\n",
            "|               |             <!DOCTYPE html>              | <!DOCTYPE html><html dir=\"ltr\" lang=\"es- | <!DOCTYPE html><html dir=\"ltr\" lang=\"es- |\n",
            "|               |                                          |                MX\"><head>                |                MX\"><head>                |\n",
            "|               |      <html dir=\"ltr\" lang=\"es-MX\">       |              <title>Universidad          |              <title>Universidad          |\n",
            "|               |                  <head>                  |           Veracruzana</title>            |           Veracruzana</title>            |\n",
            "|               |  <title>Universidad Veracruzana</title>  |                                          |                                          |\n",
            "|               |              <!-- Meta -->               |                <!-- Meta -->             |                <!-- Meta -->             |\n",
            "|               |         <meta charset=\"utf-8\"/>          |            <meta charset=\"utf-8\">        |            <meta charset=\"utf-8\">        |\n",
            "|               |    <meta content=\"width=device-width,    |            <meta name=\"viewport\"         |            <meta name=\"viewport\"         |\n",
            "|               |    initial-scale=1, shrink-to-fit=no\"    |  content=\"width=device-width, initial-   |  content=\"width=device-width, initial-   |\n",
            "|               |            name=\"viewport\"/>             |       scale=1, shrink-to-fit=no\">        |       scale=1, shrink-to-fit=no\">        |\n",
            "|               | <meta content=\"universidad veracruzana,  |            <meta name=\"keywords\"         |            <meta name=\"keywords\"         |\n",
            "|               |    docencia, licenciatura, posgrado,     |    content=\"universidad veracruzana,     |    content=\"universidad veracruzana,     |\n",
            "|               | investigacion, estudiantes, academicos,  |    docencia, licenciatura, posgrado,     |    docencia, licenciatura, posgrado,     |\n",
            "|               | vinculacion, biblioteca, publicaciones,  | investigacion, estudiantes, academicos,  | investigacion, estudiantes, academicos,  |\n",
            "|               |     alumnos, humanidades, orquesta,      | vinculacion, biblioteca, publicaciones,  | vinculacion, biblioteca, publicaciones,  |\n",
            "|               |        deportes\" name=\"keywords\">        |     alumnos, humanidades, orquesta,      |     alumnos, humanidades, orquesta,      |\n",
            "|               | <meta content=\"Universidad Veracruzana,  |                deportes\">                |                deportes\">                |\n",
            "|               |    Institución de educación superior     |           <meta name=\"description\"       |           <meta name=\"description\"       |\n",
            "|               |  pública con distintas sedes a lo largo  |    content=\"Universidad Veracruzana,     |    content=\"Universidad Veracruzana,     |\n",
            "|               |         del estado de Veracruz\"          |    Institución de educación superior     |    Institución de educación superior     |\n",
            "|               |           name=\"description\">            |  pública con distintas sedes a lo largo  |  pública con distintas sedes a lo largo  |\n",
            "|               |      <meta content=\"buzonuv@uv.mx\"       |         del estado de Veracruz\">         |         del estado de Veracruz\">         |\n",
            "|               |             name=\"author\"/>              |             <meta name=\"author\"          |             <meta name=\"author\"          |\n",
            "|               |   <meta content=\"#17529E\" name=\"theme-   |         content=\"buzonuv@uv.mx\">         |         content=\"buzonuv@uv.mx\">         |\n",
            "|               |                 color\"/>                 |           <meta name=\"theme-color\"       |           <meta name=\"theme-color\"       |\n",
            "|               |             <!-- Idioma -->              |              content=\"#175               |              content=\"#175               |\n",
            "|               |                   <lin                   |                                          |                                          |\n",
            "+---------------+------------------------------------------+------------------------------------------+------------------------------------------+\n",
            "| W3C ACT Rules |       26,464 characters retrieved:       |       27,876 characters retrieved:       |       27,900 characters retrieved:       |\n",
            "|               |                                          |                                          |                                          |\n",
            "|               |             <!DOCTYPE html>              |   <!DOCTYPE html><html class=\"has-js\"    |   <!DOCTYPE html><html class=\"has-js\"    |\n",
            "|               |                                          |     lang=\"en\" dir=\"ltr\" prefix=\"og:      |     lang=\"en\" dir=\"ltr\" prefix=\"og:      |\n",
            "|               | <html class=\"no-js\" dir=\"ltr\" lang=\"en\"  |        http://ogp.me/ns#\"><head>         |        http://ogp.me/ns#\"><head>         |\n",
            "|               |     prefix=\"og: http://ogp.me/ns#\">      |           <meta charset=\"utf-8\">         |           <meta charset=\"utf-8\">         |\n",
            "|               |                  <head>                  |           <meta name=\"viewport\"          |           <meta name=\"viewport\"          |\n",
            "|               |         <meta charset=\"utf-8\"/>          |  content=\"width=device-width, initial-   |  content=\"width=device-width, initial-   |\n",
            "|               |    <meta content=\"width=device-width,    |      scale=1, viewport-fit=cover\">       |      scale=1, viewport-fit=cover\">       |\n",
            "|               |   initial-scale=1, viewport-fit=cover\"   |     <meta http-equiv=\"X-UA-Compatible\"   |     <meta http-equiv=\"X-UA-Compatible\"   |\n",
            "|               |            name=\"viewport\"/>             |            content=\"IE=edge\">            |            content=\"IE=edge\">            |\n",
            "|               |      <meta content=\"IE=edge\" http-       |                  <script>                |                  <script>                |\n",
            "|               |        equiv=\"X-UA-Compatible\"/>         |     document.documentElement.className = |     document.documentElement.className = |\n",
            "|               |                 <script>                 | document.documentElement.className.repla | document.documentElement.className.repla |\n",
            "|               |     document.documentElement.className = |          ce('no-js', 'has-js');          |          ce('no-js', 'has-js');          |\n",
            "|               | document.documentElement.className.repla |                                          |                                          |\n",
            "|               |          ce('no-js', 'has-js');          |       function downloadJSAtOnload() {    |       function downloadJSAtOnload() {    |\n",
            "|               |                                          |                 var element =            |                 var element =            |\n",
            "|               |       function downloadJSAtOnload() {    |    document.createElement(\"script\");     |    document.createElement(\"script\");     |\n",
            "|               |                 var element =            |       element.src = \"/WAI/assets/scripts |       element.src = \"/WAI/assets/scripts |\n",
            "|               |    document.createElement(\"script\");     |      /main.js?1743059356938473860\";      |      /main.js?1743059356938473860\";      |\n",
            "|               |       element.src = \"/WAI/assets/scripts |   document.body.appendChild(element);    |   document.body.appendChild(element);    |\n",
            "|               |      /main.js?1743059356938473860\";      |                      }                   |                      }                   |\n",
            "|               |   document.body.appendChild(element);    |                                          |                                          |\n",
            "|               |                      }                   |       window.addEventListener(\"load\",    |       window.addEventListener(\"load\",    |\n",
            "|               |                                          |       downloadJSAtOnload, false);        |       downloadJSAtOnload, false);        |\n",
            "|               |       window.addEventListener(\"load\",    |                 </script>                |                 </script>                |\n",
            "|               |       downloadJSAtOnload, false);        |       <link rel=\"stylesheet\" href=\"/     |       <link rel=\"stylesheet\" href=\"/     |\n",
            "|               |                 </script>                |                                          |                                          |\n",
            "|               |   <link href=\"/WAI/assets/css/style.c    |                                          |                                          |\n",
            "+---------------+------------------------------------------+------------------------------------------+------------------------------------------+\n",
            "\n",
            "Cost Table:\n",
            "This is how much it would cost to use gpt-4o to parse this content for extraction.\n",
            "+---------------+---------------------+-----------------+---------------+\n",
            "|   Site Name   | Beautiful Soup cost | Playwright cost | Crawl4ai cost |\n",
            "+---------------+---------------------+-----------------+---------------+\n",
            "|     Amazon    |      $0.002030      |    $0.698765    |   $0.716370   |\n",
            "+---------------+---------------------+-----------------+---------------+\n",
            "|       UV      |      $0.016960      |    $0.077552    |   $0.078122   |\n",
            "+---------------+---------------------+-----------------+---------------+\n",
            "| W3C ACT Rules |      $0.019152      |    $0.020160    |   $0.020180   |\n",
            "+---------------+---------------------+-----------------+---------------+\n"
          ]
        }
      ],
      "source": [
        "list_of_scraper_functions = [\n",
        "      {\"name\": \"Beautiful Soup\", \"function\": beautiful_soup_scrape_url},\n",
        "      # {\"name\": \"Jina AI\", \"function\": scrape_jina_ai},\n",
        "      {\"name\": \"Playwright\", \"function\": scrape_playwright_sync},\n",
        "      {\"name\": \"Crawl4ai\", \"function\": scrape_crawl4ai},\n",
        "      ]\n",
        "\n",
        "all_content = view_scraped_content(list_of_scraper_functions, competitor_sites, 700, 40)"
      ]
    }
  ],
  "metadata": {
    "colab": {
      "include_colab_link": true,
      "provenance": []
    },
    "kernelspec": {
      "display_name": ".venv",
      "language": "python",
      "name": "python3"
    },
    "language_info": {
      "codemirror_mode": {
        "name": "ipython",
        "version": 3
      },
      "file_extension": ".py",
      "mimetype": "text/x-python",
      "name": "python",
      "nbconvert_exporter": "python",
      "pygments_lexer": "ipython3",
      "version": "3.13.2"
    }
  },
  "nbformat": 4,
  "nbformat_minor": 0
}
