{
  "cells": [
    {
      "cell_type": "markdown",
      "metadata": {
        "id": "view-in-github",
        "colab_type": "text"
      },
      "source": [
        "<a href=\"https://colab.research.google.com/github/gverafei/scraping/blob/main/scraping.ipynb\" target=\"_parent\"><img src=\"https://colab.research.google.com/assets/colab-badge.svg\" alt=\"Open In Colab\"/></a>"
      ]
    },
    {
      "cell_type": "markdown",
      "metadata": {
        "id": "3flX_YcJTu05"
      },
      "source": [
        "# **Investigating how to scrape the web**\n",
        "March 2025"
      ]
    },
    {
      "cell_type": "markdown",
      "metadata": {
        "id": "ctzFiDtTTu07"
      },
      "source": [
        "## Configure virtual environment\n",
        "\n",
        "Solo se ejecuta lo siguiente la primera vez. Pedirá seleccionar the kernel from the upper right corner. Choose this virtual environment we just created."
      ]
    },
    {
      "cell_type": "code",
      "execution_count": null,
      "metadata": {
        "vscode": {
          "languageId": "shellscript"
        },
        "id": "p1TQVRZzadcO"
      },
      "outputs": [],
      "source": [
        "!python3 -m venv .venv\n",
        "!source .venv/bin/activate # Linux/Mac\n",
        "# !.\\venv\\Scripts\\activate # Windows"
      ]
    },
    {
      "cell_type": "markdown",
      "metadata": {
        "id": "VyXLvtvmadcP"
      },
      "source": [
        "Inicializa el repositorio en GitHub. Todo esto se hace desde la terminal."
      ]
    },
    {
      "cell_type": "code",
      "execution_count": null,
      "metadata": {
        "vscode": {
          "languageId": "shellscript"
        },
        "id": "2ztygE_IadcP"
      },
      "outputs": [],
      "source": [
        "# !git init\n",
        "# !git remote add origin https://github.com/gverafei/scraping.git\n",
        "# !git pull origin main\n",
        "# git add .\n",
        "# git commit -m \"Initial commit\"\n",
        "# git push --set-upstream origin main"
      ]
    },
    {
      "cell_type": "code",
      "execution_count": null,
      "metadata": {
        "vscode": {
          "languageId": "shellscript"
        },
        "id": "p0PLl5W4adcP"
      },
      "outputs": [],
      "source": [
        "!pip install --upgrade pip --quiet"
      ]
    },
    {
      "cell_type": "markdown",
      "metadata": {
        "id": "8Xnegje2adcP"
      },
      "source": [
        "Install required packages\n",
        "\n",
        "```bash\n",
        "pip install html2text\n",
        "pip install markdownify\n",
        "```"
      ]
    },
    {
      "cell_type": "markdown",
      "metadata": {
        "id": "EspH7Z_nadcP"
      },
      "source": [
        "## Create the initial data"
      ]
    },
    {
      "cell_type": "code",
      "execution_count": 1,
      "metadata": {
        "id": "Vo40HI4tnIBm"
      },
      "outputs": [],
      "source": [
        "competitor_sites = [\n",
        "    {\n",
        "        \"name\": \"Amazon\",\n",
        "        \"url\": \"https://www.amazon.com\"\n",
        "    },\n",
        "    {\n",
        "        \"name\": \"UV\",\n",
        "        \"url\": \"https://www.uv.mx\"\n",
        "    },\n",
        "    {\n",
        "        \"name\": \"W3C ACT Rules\",\n",
        "        \"url\": \"https://www.w3.org/WAI/standards-guidelines/act/rules/\"\n",
        "    },\n",
        "]"
      ]
    },
    {
      "cell_type": "markdown",
      "metadata": {
        "id": "nkokkcBzadcQ"
      },
      "source": [
        "## Setup cost's calculations\n",
        "\n",
        "The idea is to compare side-by-side.\n",
        "\n",
        "We can calculate how much it'll cost by using OpenAI's `tiktoken` library from: https://github.com/openai/tiktoken\n",
        "\n",
        "And costs from: https://openai.com/api/pricing/"
      ]
    },
    {
      "cell_type": "code",
      "execution_count": 2,
      "metadata": {
        "vscode": {
          "languageId": "shellscript"
        },
        "id": "C0wHR_-JadcQ",
        "outputId": "33556027-fbe5-44dd-dc24-b8d86eb55366",
        "colab": {
          "base_uri": "https://localhost:8080/"
        }
      },
      "outputs": [
        {
          "output_type": "stream",
          "name": "stdout",
          "text": [
            "\u001b[?25l   \u001b[90m━━━━━━━━━━━━━━━━━━━━━━━━━━━━━━━━━━━━━━━━\u001b[0m \u001b[32m0.0/1.2 MB\u001b[0m \u001b[31m?\u001b[0m eta \u001b[36m-:--:--\u001b[0m\r\u001b[2K   \u001b[91m━━━━\u001b[0m\u001b[90m╺\u001b[0m\u001b[90m━━━━━━━━━━━━━━━━━━━━━━━━━━━━━━━━━━━\u001b[0m \u001b[32m0.1/1.2 MB\u001b[0m \u001b[31m3.4 MB/s\u001b[0m eta \u001b[36m0:00:01\u001b[0m\r\u001b[2K   \u001b[91m━━━━━━━━━━━━━━━━━━━━━━━━━━━━━━━━━━━\u001b[0m\u001b[91m╸\u001b[0m\u001b[90m━━━━\u001b[0m \u001b[32m1.1/1.2 MB\u001b[0m \u001b[31m15.1 MB/s\u001b[0m eta \u001b[36m0:00:01\u001b[0m\r\u001b[2K   \u001b[90m━━━━━━━━━━━━━━━━━━━━━━━━━━━━━━━━━━━━━━━━\u001b[0m \u001b[32m1.2/1.2 MB\u001b[0m \u001b[31m11.7 MB/s\u001b[0m eta \u001b[36m0:00:00\u001b[0m\n",
            "\u001b[?25h"
          ]
        }
      ],
      "source": [
        "!pip install tiktoken --quiet"
      ]
    },
    {
      "cell_type": "code",
      "execution_count": 3,
      "metadata": {
        "id": "zM68g89fadcQ",
        "outputId": "cc113c50-a2cd-486d-9e05-4a4f6fa73cf7",
        "colab": {
          "base_uri": "https://localhost:8080/"
        }
      },
      "outputs": [
        {
          "output_type": "stream",
          "name": "stdout",
          "text": [
            "The total cost for using gpt-4o is: $US 0.000043\n"
          ]
        }
      ],
      "source": [
        "import tiktoken\n",
        "\n",
        "def count_tokens(input_string: str) -> int:\n",
        "    encoder = tiktoken.encoding_for_model(\"gpt-4o\")\n",
        "    tokens = encoder.encode(input_string)\n",
        "    return len(tokens)\n",
        "\n",
        "def calculate_cost(input_string: str, cost_per_million_tokens: float = 2.5) -> float:\n",
        "    num_tokens = count_tokens(input_string)\n",
        "    total_cost = (num_tokens / 1_000_000) * cost_per_million_tokens\n",
        "    return total_cost\n",
        "\n",
        "# Example usage:\n",
        "input_string = \"Porque la gallina cruzó el camino? Pues porque quería llegar al otro lado.\"\n",
        "cost = calculate_cost(input_string)\n",
        "print(f\"The total cost for using gpt-4o is: $US {cost:.6f}\")"
      ]
    },
    {
      "cell_type": "markdown",
      "metadata": {
        "id": "JhoJFRuTadcQ"
      },
      "source": [
        "## Table para ver los resultados\n",
        "\n",
        "Ahora, para ver los resultados de la comparaciones, instalamos un paquete para ver tablas en línea de comandos: https://pypi.org/project/prettytable/\n",
        "\n",
        "Y también instalamos un paquete para ver una barra de progreso bonita en loops: https://pypi.org/project/tqdm/"
      ]
    },
    {
      "cell_type": "code",
      "execution_count": 4,
      "metadata": {
        "vscode": {
          "languageId": "shellscript"
        },
        "id": "1sxfK7Z1adcQ"
      },
      "outputs": [],
      "source": [
        "!pip install prettytable --quiet"
      ]
    },
    {
      "cell_type": "code",
      "execution_count": null,
      "metadata": {
        "vscode": {
          "languageId": "shellscript"
        },
        "id": "8Q1iG482adcQ"
      },
      "outputs": [],
      "source": [
        "!pip install tqdm --quiet"
      ]
    },
    {
      "cell_type": "code",
      "execution_count": 5,
      "metadata": {
        "id": "MMLlOBowadcQ"
      },
      "outputs": [],
      "source": [
        "from typing import List, Callable, Dict\n",
        "from prettytable import PrettyTable\n",
        "from tqdm import tqdm\n",
        "\n",
        "def view_scraped_content(scrape_url_functions: List[Dict[str, Callable[[str], str]]], sites_list: List[Dict[str, str]], characters_to_display: int = 500, table_max_width: int = 50) -> List[Dict[str, str]]:\n",
        "    content_table_headers = [\"Site Name\"] + [f\"{func['name']} content\" for func in scrape_url_functions]\n",
        "    cost_table_headers = [\"Site Name\"] + [f\"{func['name']} cost\" for func in scrape_url_functions]\n",
        "\n",
        "    content_table = PrettyTable()\n",
        "    content_table.field_names = content_table_headers\n",
        "\n",
        "    cost_table = PrettyTable()\n",
        "    cost_table.field_names = cost_table_headers\n",
        "\n",
        "    scraped_data = []\n",
        "\n",
        "    for site in sites_list:\n",
        "        content_row = [site['name']]\n",
        "        cost_row = [site['name']]\n",
        "        site_data = {\"provider\": site['name'], \"sites\": []}\n",
        "\n",
        "        for scrape_function in scrape_url_functions:\n",
        "            function_name = scrape_function['name']\n",
        "            for _ in tqdm([site], desc=f\"Processing site {site['name']} using {function_name}\"):\n",
        "                try:\n",
        "                    content = scrape_function['function'](site['url'])\n",
        "                    content_snippet = content[:characters_to_display]\n",
        "                    content_snippet = f\"{len(content):,} characters retrieved:\\n\\n\" + content_snippet\n",
        "                    content_row.append(content_snippet)\n",
        "\n",
        "                    cost = calculate_cost(content)\n",
        "                    cost_row.append(f\"${cost:.6f}\")\n",
        "\n",
        "                    site_data[\"sites\"].append({\"name\": function_name, \"content\": content})\n",
        "                except Exception as e:\n",
        "                    error_message = f\"Error: {str(e)}\"\n",
        "                    content_row.append(error_message)\n",
        "                    cost_row.append(\"Error\")\n",
        "\n",
        "                    site_data[\"sites\"].append({\"name\": function_name, \"content\": error_message})\n",
        "                    continue\n",
        "\n",
        "        content_table.add_row(content_row)\n",
        "        cost_table.add_row(cost_row)\n",
        "        scraped_data.append(site_data)\n",
        "\n",
        "    content_table.max_width = table_max_width\n",
        "    content_table.hrules = True\n",
        "\n",
        "    cost_table.max_width = table_max_width\n",
        "    cost_table.hrules = True\n",
        "\n",
        "    print(\"Content Table:\")\n",
        "    print(content_table)\n",
        "\n",
        "    print(\"\\nCost Table:\\nThis is how much it would cost to use gpt-4o to parse this content for extraction.\")\n",
        "    print(cost_table)\n",
        "\n",
        "    return scraped_data"
      ]
    },
    {
      "cell_type": "markdown",
      "metadata": {
        "id": "CVbRcFl0adcR"
      },
      "source": [
        "## Setup all the scrapers\n",
        "\n",
        "Let's setup all of our scrapers."
      ]
    },
    {
      "cell_type": "markdown",
      "metadata": {
        "id": "nkwGupuBadcR"
      },
      "source": [
        "## Beautiful Soup\n",
        "\n",
        "Se instala este paquete desde: https://pypi.org/project/beautifulsoup4/\n",
        "\n",
        "Y también request para hacer peticiones desde: https://pypi.org/project/requests/"
      ]
    },
    {
      "cell_type": "code",
      "execution_count": 7,
      "metadata": {
        "vscode": {
          "languageId": "shellscript"
        },
        "id": "DoEo87IUadcR"
      },
      "outputs": [],
      "source": [
        "!pip install requests beautifulsoup4 --quiet"
      ]
    },
    {
      "cell_type": "code",
      "execution_count": 8,
      "metadata": {
        "id": "5mh7qfdladcR"
      },
      "outputs": [],
      "source": [
        "# Beautiful Soup utility functions\n",
        "\n",
        "import requests\n",
        "from bs4 import BeautifulSoup\n",
        "\n",
        "def beautiful_soup_scrape_url(url: str):\n",
        "    response = requests.get(url)\n",
        "    soup = BeautifulSoup(response.content, 'html.parser')\n",
        "    return str(soup)"
      ]
    },
    {
      "cell_type": "markdown",
      "metadata": {
        "id": "TYsfgXbOadcR"
      },
      "source": [
        "## Reader API by Jina AI\n",
        "\n",
        "Este es especialmente para LLMs también. Setup Jina AI's scrape method from: https://jina.ai/reader/"
      ]
    },
    {
      "cell_type": "code",
      "execution_count": 9,
      "metadata": {
        "id": "OEHapbAOadcR"
      },
      "outputs": [],
      "source": [
        "import requests\n",
        "\n",
        "def scrape_jina_ai(url: str) -> str:\n",
        "  headers = {\n",
        "        'X-Return-Format': 'html',\n",
        "        'X-Wait-For-Selector': '.slick-initialized',\n",
        "        'X-With-Images-Summary': 'all'\n",
        "  }\n",
        "  data = {\n",
        "      'url': url,\n",
        "      'injectPageScript': [\n",
        "          'window.scrollTo(0, document.body.scrollHeight)'\n",
        "      ]\n",
        "  }\n",
        "\n",
        "  response = requests.post('https://r.jina.ai/', headers=headers, json=data)\n",
        "  return response.text"
      ]
    },
    {
      "cell_type": "markdown",
      "metadata": {
        "id": "J6UUmzTSadcR"
      },
      "source": [
        "## Playwright\n",
        "\n",
        "La manera clásica de hacer scraping. No es especial para LLMs desde: https://playwright.dev/"
      ]
    },
    {
      "cell_type": "code",
      "execution_count": 10,
      "metadata": {
        "vscode": {
          "languageId": "shellscript"
        },
        "id": "iWtcOGvTadcR",
        "outputId": "a651572a-e03d-44a8-8d8b-64d729793d3b",
        "colab": {
          "base_uri": "https://localhost:8080/"
        }
      },
      "outputs": [
        {
          "output_type": "stream",
          "name": "stdout",
          "text": [
            "\u001b[2K   \u001b[90m━━━━━━━━━━━━━━━━━━━━━━━━━━━━━━━━━━━━━━━━\u001b[0m \u001b[32m45.2/45.2 MB\u001b[0m \u001b[31m18.4 MB/s\u001b[0m eta \u001b[36m0:00:00\u001b[0m\n",
            "\u001b[?25h"
          ]
        }
      ],
      "source": [
        "!pip install playwright --quiet"
      ]
    },
    {
      "cell_type": "code",
      "execution_count": 11,
      "metadata": {
        "vscode": {
          "languageId": "shellscript"
        },
        "id": "xbL8G798adcR",
        "outputId": "c99e2110-2b90-4dc6-e892-d56a7c6b3c36",
        "colab": {
          "base_uri": "https://localhost:8080/"
        }
      },
      "outputs": [
        {
          "output_type": "stream",
          "name": "stdout",
          "text": [
            "Downloading Chromium 134.0.6998.35 (playwright build v1161)\u001b[2m from https://cdn.playwright.dev/dbazure/download/playwright/builds/chromium/1161/chromium-linux.zip\u001b[22m\n",
            "\u001b[1G164.9 MiB [] 0% 0.0s\u001b[0K\u001b[1G164.9 MiB [] 0% 28.5s\u001b[0K\u001b[1G164.9 MiB [] 0% 28.3s\u001b[0K\u001b[1G164.9 MiB [] 0% 17.3s\u001b[0K\u001b[1G164.9 MiB [] 0% 11.3s\u001b[0K\u001b[1G164.9 MiB [] 0% 8.3s\u001b[0K\u001b[1G164.9 MiB [] 1% 7.2s\u001b[0K\u001b[1G164.9 MiB [] 1% 6.7s\u001b[0K\u001b[1G164.9 MiB [] 2% 6.3s\u001b[0K\u001b[1G164.9 MiB [] 2% 6.7s\u001b[0K\u001b[1G164.9 MiB [] 2% 6.6s\u001b[0K\u001b[1G164.9 MiB [] 3% 6.3s\u001b[0K\u001b[1G164.9 MiB [] 3% 6.4s\u001b[0K\u001b[1G164.9 MiB [] 3% 5.8s\u001b[0K\u001b[1G164.9 MiB [] 4% 5.3s\u001b[0K\u001b[1G164.9 MiB [] 4% 5.5s\u001b[0K\u001b[1G164.9 MiB [] 4% 5.3s\u001b[0K\u001b[1G164.9 MiB [] 5% 5.1s\u001b[0K\u001b[1G164.9 MiB [] 6% 4.8s\u001b[0K\u001b[1G164.9 MiB [] 6% 4.7s\u001b[0K\u001b[1G164.9 MiB [] 6% 5.0s\u001b[0K\u001b[1G164.9 MiB [] 6% 5.4s\u001b[0K\u001b[1G164.9 MiB [] 6% 5.6s\u001b[0K\u001b[1G164.9 MiB [] 7% 5.4s\u001b[0K\u001b[1G164.9 MiB [] 7% 5.2s\u001b[0K\u001b[1G164.9 MiB [] 8% 4.9s\u001b[0K\u001b[1G164.9 MiB [] 9% 4.8s\u001b[0K\u001b[1G164.9 MiB [] 10% 4.7s\u001b[0K\u001b[1G164.9 MiB [] 10% 4.6s\u001b[0K\u001b[1G164.9 MiB [] 11% 4.5s\u001b[0K\u001b[1G164.9 MiB [] 11% 4.4s\u001b[0K\u001b[1G164.9 MiB [] 12% 4.4s\u001b[0K\u001b[1G164.9 MiB [] 13% 4.3s\u001b[0K\u001b[1G164.9 MiB [] 13% 4.4s\u001b[0K\u001b[1G164.9 MiB [] 14% 4.3s\u001b[0K\u001b[1G164.9 MiB [] 14% 4.2s\u001b[0K\u001b[1G164.9 MiB [] 15% 4.1s\u001b[0K\u001b[1G164.9 MiB [] 16% 3.9s\u001b[0K\u001b[1G164.9 MiB [] 17% 3.8s\u001b[0K\u001b[1G164.9 MiB [] 17% 3.7s\u001b[0K\u001b[1G164.9 MiB [] 18% 3.7s\u001b[0K\u001b[1G164.9 MiB [] 18% 3.6s\u001b[0K\u001b[1G164.9 MiB [] 19% 3.5s\u001b[0K\u001b[1G164.9 MiB [] 20% 3.4s\u001b[0K\u001b[1G164.9 MiB [] 21% 3.3s\u001b[0K\u001b[1G164.9 MiB [] 22% 3.3s\u001b[0K\u001b[1G164.9 MiB [] 23% 3.2s\u001b[0K\u001b[1G164.9 MiB [] 23% 3.1s\u001b[0K\u001b[1G164.9 MiB [] 24% 3.1s\u001b[0K\u001b[1G164.9 MiB [] 25% 2.9s\u001b[0K\u001b[1G164.9 MiB [] 26% 2.9s\u001b[0K\u001b[1G164.9 MiB [] 27% 2.9s\u001b[0K\u001b[1G164.9 MiB [] 27% 3.0s\u001b[0K\u001b[1G164.9 MiB [] 28% 3.0s\u001b[0K\u001b[1G164.9 MiB [] 28% 2.9s\u001b[0K\u001b[1G164.9 MiB [] 29% 2.9s\u001b[0K\u001b[1G164.9 MiB [] 30% 2.8s\u001b[0K\u001b[1G164.9 MiB [] 31% 2.7s\u001b[0K\u001b[1G164.9 MiB [] 32% 2.6s\u001b[0K\u001b[1G164.9 MiB [] 33% 2.5s\u001b[0K\u001b[1G164.9 MiB [] 34% 2.5s\u001b[0K\u001b[1G164.9 MiB [] 35% 2.4s\u001b[0K\u001b[1G164.9 MiB [] 36% 2.4s\u001b[0K\u001b[1G164.9 MiB [] 37% 2.4s\u001b[0K\u001b[1G164.9 MiB [] 38% 2.4s\u001b[0K\u001b[1G164.9 MiB [] 39% 2.3s\u001b[0K\u001b[1G164.9 MiB [] 40% 2.3s\u001b[0K\u001b[1G164.9 MiB [] 41% 2.3s\u001b[0K\u001b[1G164.9 MiB [] 42% 2.2s\u001b[0K\u001b[1G164.9 MiB [] 43% 2.2s\u001b[0K\u001b[1G164.9 MiB [] 43% 2.1s\u001b[0K\u001b[1G164.9 MiB [] 44% 2.1s\u001b[0K\u001b[1G164.9 MiB [] 45% 2.1s\u001b[0K\u001b[1G164.9 MiB [] 46% 2.1s\u001b[0K\u001b[1G164.9 MiB [] 47% 2.0s\u001b[0K\u001b[1G164.9 MiB [] 48% 2.0s\u001b[0K\u001b[1G164.9 MiB [] 49% 2.0s\u001b[0K\u001b[1G164.9 MiB [] 50% 1.9s\u001b[0K\u001b[1G164.9 MiB [] 51% 1.9s\u001b[0K\u001b[1G164.9 MiB [] 52% 1.9s\u001b[0K\u001b[1G164.9 MiB [] 53% 1.8s\u001b[0K\u001b[1G164.9 MiB [] 54% 1.8s\u001b[0K\u001b[1G164.9 MiB [] 55% 1.7s\u001b[0K\u001b[1G164.9 MiB [] 56% 1.7s\u001b[0K\u001b[1G164.9 MiB [] 57% 1.6s\u001b[0K\u001b[1G164.9 MiB [] 58% 1.6s\u001b[0K\u001b[1G164.9 MiB [] 59% 1.5s\u001b[0K\u001b[1G164.9 MiB [] 60% 1.5s\u001b[0K\u001b[1G164.9 MiB [] 61% 1.5s\u001b[0K\u001b[1G164.9 MiB [] 62% 1.4s\u001b[0K\u001b[1G164.9 MiB [] 63% 1.4s\u001b[0K\u001b[1G164.9 MiB [] 64% 1.4s\u001b[0K\u001b[1G164.9 MiB [] 64% 1.3s\u001b[0K\u001b[1G164.9 MiB [] 65% 1.3s\u001b[0K\u001b[1G164.9 MiB [] 66% 1.3s\u001b[0K\u001b[1G164.9 MiB [] 67% 1.2s\u001b[0K\u001b[1G164.9 MiB [] 68% 1.2s\u001b[0K\u001b[1G164.9 MiB [] 69% 1.2s\u001b[0K\u001b[1G164.9 MiB [] 70% 1.2s\u001b[0K\u001b[1G164.9 MiB [] 71% 1.2s\u001b[0K\u001b[1G164.9 MiB [] 72% 1.1s\u001b[0K\u001b[1G164.9 MiB [] 73% 1.1s\u001b[0K\u001b[1G164.9 MiB [] 73% 1.0s\u001b[0K\u001b[1G164.9 MiB [] 74% 1.0s\u001b[0K\u001b[1G164.9 MiB [] 75% 1.0s\u001b[0K\u001b[1G164.9 MiB [] 76% 0.9s\u001b[0K\u001b[1G164.9 MiB [] 77% 0.9s\u001b[0K\u001b[1G164.9 MiB [] 78% 0.9s\u001b[0K\u001b[1G164.9 MiB [] 78% 0.8s\u001b[0K\u001b[1G164.9 MiB [] 79% 0.8s\u001b[0K\u001b[1G164.9 MiB [] 80% 0.8s\u001b[0K\u001b[1G164.9 MiB [] 80% 0.7s\u001b[0K\u001b[1G164.9 MiB [] 81% 0.7s\u001b[0K\u001b[1G164.9 MiB [] 82% 0.7s\u001b[0K\u001b[1G164.9 MiB [] 83% 0.6s\u001b[0K\u001b[1G164.9 MiB [] 84% 0.6s\u001b[0K\u001b[1G164.9 MiB [] 85% 0.6s\u001b[0K\u001b[1G164.9 MiB [] 86% 0.5s\u001b[0K\u001b[1G164.9 MiB [] 87% 0.5s\u001b[0K\u001b[1G164.9 MiB [] 88% 0.4s\u001b[0K\u001b[1G164.9 MiB [] 89% 0.4s\u001b[0K\u001b[1G164.9 MiB [] 90% 0.4s\u001b[0K\u001b[1G164.9 MiB [] 91% 0.3s\u001b[0K\u001b[1G164.9 MiB [] 92% 0.3s\u001b[0K\u001b[1G164.9 MiB [] 93% 0.3s\u001b[0K\u001b[1G164.9 MiB [] 94% 0.2s\u001b[0K\u001b[1G164.9 MiB [] 95% 0.2s\u001b[0K\u001b[1G164.9 MiB [] 95% 0.1s\u001b[0K\u001b[1G164.9 MiB [] 96% 0.1s\u001b[0K\u001b[1G164.9 MiB [] 97% 0.1s\u001b[0K\u001b[1G164.9 MiB [] 98% 0.0s\u001b[0K\u001b[1G164.9 MiB [] 99% 0.0s\u001b[0K\u001b[1G164.9 MiB [] 100% 0.0s\u001b[0K\n",
            "Chromium 134.0.6998.35 (playwright build v1161) downloaded to /root/.cache/ms-playwright/chromium-1161\n",
            "Downloading Chromium Headless Shell 134.0.6998.35 (playwright build v1161)\u001b[2m from https://cdn.playwright.dev/dbazure/download/playwright/builds/chromium/1161/chromium-headless-shell-linux.zip\u001b[22m\n",
            "\u001b[1G100.9 MiB [] 0% 0.0s\u001b[0K\u001b[1G100.9 MiB [] 0% 31.9s\u001b[0K\u001b[1G100.9 MiB [] 0% 15.6s\u001b[0K\u001b[1G100.9 MiB [] 0% 9.1s\u001b[0K\u001b[1G100.9 MiB [] 1% 4.6s\u001b[0K\u001b[1G100.9 MiB [] 2% 3.0s\u001b[0K\u001b[1G100.9 MiB [] 3% 2.5s\u001b[0K\u001b[1G100.9 MiB [] 5% 2.2s\u001b[0K\u001b[1G100.9 MiB [] 6% 2.0s\u001b[0K\u001b[1G100.9 MiB [] 7% 1.8s\u001b[0K\u001b[1G100.9 MiB [] 8% 1.7s\u001b[0K\u001b[1G100.9 MiB [] 10% 1.6s\u001b[0K\u001b[1G100.9 MiB [] 10% 1.7s\u001b[0K\u001b[1G100.9 MiB [] 11% 1.8s\u001b[0K\u001b[1G100.9 MiB [] 12% 1.7s\u001b[0K\u001b[1G100.9 MiB [] 14% 1.6s\u001b[0K\u001b[1G100.9 MiB [] 15% 1.5s\u001b[0K\u001b[1G100.9 MiB [] 16% 1.5s\u001b[0K\u001b[1G100.9 MiB [] 17% 1.4s\u001b[0K\u001b[1G100.9 MiB [] 19% 1.3s\u001b[0K\u001b[1G100.9 MiB [] 21% 1.3s\u001b[0K\u001b[1G100.9 MiB [] 22% 1.3s\u001b[0K\u001b[1G100.9 MiB [] 24% 1.2s\u001b[0K\u001b[1G100.9 MiB [] 26% 1.1s\u001b[0K\u001b[1G100.9 MiB [] 28% 1.0s\u001b[0K\u001b[1G100.9 MiB [] 30% 1.0s\u001b[0K\u001b[1G100.9 MiB [] 32% 0.9s\u001b[0K\u001b[1G100.9 MiB [] 34% 0.9s\u001b[0K\u001b[1G100.9 MiB [] 36% 0.8s\u001b[0K\u001b[1G100.9 MiB [] 38% 0.8s\u001b[0K\u001b[1G100.9 MiB [] 39% 0.8s\u001b[0K\u001b[1G100.9 MiB [] 42% 0.7s\u001b[0K\u001b[1G100.9 MiB [] 44% 0.7s\u001b[0K\u001b[1G100.9 MiB [] 45% 0.7s\u001b[0K\u001b[1G100.9 MiB [] 48% 0.6s\u001b[0K\u001b[1G100.9 MiB [] 50% 0.6s\u001b[0K\u001b[1G100.9 MiB [] 53% 0.5s\u001b[0K\u001b[1G100.9 MiB [] 55% 0.5s\u001b[0K\u001b[1G100.9 MiB [] 58% 0.5s\u001b[0K\u001b[1G100.9 MiB [] 59% 0.5s\u001b[0K\u001b[1G100.9 MiB [] 61% 0.4s\u001b[0K\u001b[1G100.9 MiB [] 62% 0.4s\u001b[0K\u001b[1G100.9 MiB [] 65% 0.4s\u001b[0K\u001b[1G100.9 MiB [] 67% 0.4s\u001b[0K\u001b[1G100.9 MiB [] 69% 0.3s\u001b[0K\u001b[1G100.9 MiB [] 72% 0.3s\u001b[0K\u001b[1G100.9 MiB [] 74% 0.3s\u001b[0K\u001b[1G100.9 MiB [] 76% 0.2s\u001b[0K\u001b[1G100.9 MiB [] 79% 0.2s\u001b[0K\u001b[1G100.9 MiB [] 81% 0.2s\u001b[0K\u001b[1G100.9 MiB [] 84% 0.2s\u001b[0K\u001b[1G100.9 MiB [] 86% 0.1s\u001b[0K\u001b[1G100.9 MiB [] 89% 0.1s\u001b[0K\u001b[1G100.9 MiB [] 92% 0.1s\u001b[0K\u001b[1G100.9 MiB [] 94% 0.1s\u001b[0K\u001b[1G100.9 MiB [] 96% 0.0s\u001b[0K\u001b[1G100.9 MiB [] 99% 0.0s\u001b[0K\u001b[1G100.9 MiB [] 100% 0.0s\u001b[0K\n",
            "Chromium Headless Shell 134.0.6998.35 (playwright build v1161) downloaded to /root/.cache/ms-playwright/chromium_headless_shell-1161\n",
            "Downloading Firefox 135.0 (playwright build v1475)\u001b[2m from https://cdn.playwright.dev/dbazure/download/playwright/builds/firefox/1475/firefox-ubuntu-22.04.zip\u001b[22m\n",
            "\u001b[1G90.6 MiB [] 0% 0.0s\u001b[0K\u001b[1G90.6 MiB [] 0% 26.1s\u001b[0K\u001b[1G90.6 MiB [] 0% 12.4s\u001b[0K\u001b[1G90.6 MiB [] 0% 8.7s\u001b[0K\u001b[1G90.6 MiB [] 1% 4.5s\u001b[0K\u001b[1G90.6 MiB [] 2% 3.5s\u001b[0K\u001b[1G90.6 MiB [] 3% 3.1s\u001b[0K\u001b[1G90.6 MiB [] 4% 2.7s\u001b[0K\u001b[1G90.6 MiB [] 5% 2.4s\u001b[0K\u001b[1G90.6 MiB [] 5% 2.3s\u001b[0K\u001b[1G90.6 MiB [] 6% 2.2s\u001b[0K\u001b[1G90.6 MiB [] 8% 2.0s\u001b[0K\u001b[1G90.6 MiB [] 9% 1.9s\u001b[0K\u001b[1G90.6 MiB [] 10% 1.8s\u001b[0K\u001b[1G90.6 MiB [] 11% 1.8s\u001b[0K\u001b[1G90.6 MiB [] 12% 2.0s\u001b[0K\u001b[1G90.6 MiB [] 13% 1.9s\u001b[0K\u001b[1G90.6 MiB [] 15% 1.8s\u001b[0K\u001b[1G90.6 MiB [] 16% 1.7s\u001b[0K\u001b[1G90.6 MiB [] 16% 1.8s\u001b[0K\u001b[1G90.6 MiB [] 18% 1.7s\u001b[0K\u001b[1G90.6 MiB [] 20% 1.6s\u001b[0K\u001b[1G90.6 MiB [] 21% 1.5s\u001b[0K\u001b[1G90.6 MiB [] 23% 1.5s\u001b[0K\u001b[1G90.6 MiB [] 24% 1.4s\u001b[0K\u001b[1G90.6 MiB [] 26% 1.4s\u001b[0K\u001b[1G90.6 MiB [] 27% 1.4s\u001b[0K\u001b[1G90.6 MiB [] 29% 1.3s\u001b[0K\u001b[1G90.6 MiB [] 30% 1.2s\u001b[0K\u001b[1G90.6 MiB [] 32% 1.2s\u001b[0K\u001b[1G90.6 MiB [] 33% 1.1s\u001b[0K\u001b[1G90.6 MiB [] 35% 1.1s\u001b[0K\u001b[1G90.6 MiB [] 36% 1.0s\u001b[0K\u001b[1G90.6 MiB [] 38% 1.0s\u001b[0K\u001b[1G90.6 MiB [] 39% 1.0s\u001b[0K\u001b[1G90.6 MiB [] 40% 1.0s\u001b[0K\u001b[1G90.6 MiB [] 42% 0.9s\u001b[0K\u001b[1G90.6 MiB [] 43% 0.9s\u001b[0K\u001b[1G90.6 MiB [] 44% 0.9s\u001b[0K\u001b[1G90.6 MiB [] 46% 0.8s\u001b[0K\u001b[1G90.6 MiB [] 48% 0.8s\u001b[0K\u001b[1G90.6 MiB [] 50% 0.8s\u001b[0K\u001b[1G90.6 MiB [] 51% 0.8s\u001b[0K\u001b[1G90.6 MiB [] 52% 0.7s\u001b[0K\u001b[1G90.6 MiB [] 54% 0.7s\u001b[0K\u001b[1G90.6 MiB [] 55% 0.7s\u001b[0K\u001b[1G90.6 MiB [] 57% 0.6s\u001b[0K\u001b[1G90.6 MiB [] 59% 0.6s\u001b[0K\u001b[1G90.6 MiB [] 61% 0.6s\u001b[0K\u001b[1G90.6 MiB [] 63% 0.5s\u001b[0K\u001b[1G90.6 MiB [] 64% 0.5s\u001b[0K\u001b[1G90.6 MiB [] 66% 0.5s\u001b[0K\u001b[1G90.6 MiB [] 67% 0.5s\u001b[0K\u001b[1G90.6 MiB [] 69% 0.4s\u001b[0K\u001b[1G90.6 MiB [] 71% 0.4s\u001b[0K\u001b[1G90.6 MiB [] 73% 0.4s\u001b[0K\u001b[1G90.6 MiB [] 75% 0.3s\u001b[0K\u001b[1G90.6 MiB [] 77% 0.3s\u001b[0K\u001b[1G90.6 MiB [] 78% 0.3s\u001b[0K\u001b[1G90.6 MiB [] 80% 0.3s\u001b[0K\u001b[1G90.6 MiB [] 81% 0.3s\u001b[0K\u001b[1G90.6 MiB [] 83% 0.2s\u001b[0K\u001b[1G90.6 MiB [] 85% 0.2s\u001b[0K\u001b[1G90.6 MiB [] 87% 0.2s\u001b[0K\u001b[1G90.6 MiB [] 88% 0.1s\u001b[0K\u001b[1G90.6 MiB [] 90% 0.1s\u001b[0K\u001b[1G90.6 MiB [] 92% 0.1s\u001b[0K\u001b[1G90.6 MiB [] 94% 0.1s\u001b[0K\u001b[1G90.6 MiB [] 96% 0.0s\u001b[0K\u001b[1G90.6 MiB [] 98% 0.0s\u001b[0K\u001b[1G90.6 MiB [] 100% 0.0s\u001b[0K\n",
            "Firefox 135.0 (playwright build v1475) downloaded to /root/.cache/ms-playwright/firefox-1475\n",
            "Downloading Webkit 18.4 (playwright build v2140)\u001b[2m from https://cdn.playwright.dev/dbazure/download/playwright/builds/webkit/2140/webkit-ubuntu-22.04.zip\u001b[22m\n",
            "\u001b[1G92.3 MiB [] 0% 0.0s\u001b[0K\u001b[1G92.3 MiB [] 0% 31.2s\u001b[0K\u001b[1G92.3 MiB [] 0% 13.4s\u001b[0K\u001b[1G92.3 MiB [] 0% 8.2s\u001b[0K\u001b[1G92.3 MiB [] 1% 4.3s\u001b[0K\u001b[1G92.3 MiB [] 2% 2.9s\u001b[0K\u001b[1G92.3 MiB [] 4% 2.2s\u001b[0K\u001b[1G92.3 MiB [] 5% 1.9s\u001b[0K\u001b[1G92.3 MiB [] 7% 1.7s\u001b[0K\u001b[1G92.3 MiB [] 8% 1.5s\u001b[0K\u001b[1G92.3 MiB [] 10% 1.4s\u001b[0K\u001b[1G92.3 MiB [] 11% 1.4s\u001b[0K\u001b[1G92.3 MiB [] 12% 1.4s\u001b[0K\u001b[1G92.3 MiB [] 14% 1.3s\u001b[0K\u001b[1G92.3 MiB [] 16% 1.2s\u001b[0K\u001b[1G92.3 MiB [] 18% 1.2s\u001b[0K\u001b[1G92.3 MiB [] 20% 1.1s\u001b[0K\u001b[1G92.3 MiB [] 22% 1.1s\u001b[0K\u001b[1G92.3 MiB [] 24% 1.0s\u001b[0K\u001b[1G92.3 MiB [] 26% 1.0s\u001b[0K\u001b[1G92.3 MiB [] 28% 0.9s\u001b[0K\u001b[1G92.3 MiB [] 29% 0.9s\u001b[0K\u001b[1G92.3 MiB [] 32% 0.8s\u001b[0K\u001b[1G92.3 MiB [] 35% 0.8s\u001b[0K\u001b[1G92.3 MiB [] 37% 0.7s\u001b[0K\u001b[1G92.3 MiB [] 39% 0.7s\u001b[0K\u001b[1G92.3 MiB [] 42% 0.6s\u001b[0K\u001b[1G92.3 MiB [] 44% 0.6s\u001b[0K\u001b[1G92.3 MiB [] 46% 0.6s\u001b[0K\u001b[1G92.3 MiB [] 49% 0.5s\u001b[0K\u001b[1G92.3 MiB [] 52% 0.5s\u001b[0K\u001b[1G92.3 MiB [] 55% 0.5s\u001b[0K\u001b[1G92.3 MiB [] 57% 0.4s\u001b[0K\u001b[1G92.3 MiB [] 60% 0.4s\u001b[0K\u001b[1G92.3 MiB [] 62% 0.4s\u001b[0K\u001b[1G92.3 MiB [] 65% 0.3s\u001b[0K\u001b[1G92.3 MiB [] 68% 0.3s\u001b[0K\u001b[1G92.3 MiB [] 70% 0.3s\u001b[0K\u001b[1G92.3 MiB [] 73% 0.2s\u001b[0K\u001b[1G92.3 MiB [] 76% 0.2s\u001b[0K\u001b[1G92.3 MiB [] 78% 0.2s\u001b[0K\u001b[1G92.3 MiB [] 81% 0.2s\u001b[0K\u001b[1G92.3 MiB [] 83% 0.1s\u001b[0K\u001b[1G92.3 MiB [] 86% 0.1s\u001b[0K\u001b[1G92.3 MiB [] 89% 0.1s\u001b[0K\u001b[1G92.3 MiB [] 91% 0.1s\u001b[0K\u001b[1G92.3 MiB [] 93% 0.1s\u001b[0K\u001b[1G92.3 MiB [] 96% 0.0s\u001b[0K\u001b[1G92.3 MiB [] 99% 0.0s\u001b[0K\u001b[1G92.3 MiB [] 100% 0.0s\u001b[0K\n",
            "Webkit 18.4 (playwright build v2140) downloaded to /root/.cache/ms-playwright/webkit-2140\n",
            "Downloading FFMPEG playwright build v1011\u001b[2m from https://cdn.playwright.dev/dbazure/download/playwright/builds/ffmpeg/1011/ffmpeg-linux.zip\u001b[22m\n",
            "\u001b[1G2.3 MiB [] 0% 0.0s\u001b[0K\u001b[1G2.3 MiB [] 3% 0.6s\u001b[0K\u001b[1G2.3 MiB [] 11% 0.3s\u001b[0K\u001b[1G2.3 MiB [] 26% 0.2s\u001b[0K\u001b[1G2.3 MiB [] 63% 0.0s\u001b[0K\u001b[1G2.3 MiB [] 100% 0.0s\u001b[0K\n",
            "FFMPEG playwright build v1011 downloaded to /root/.cache/ms-playwright/ffmpeg-1011\n",
            "Playwright Host validation warning: \n",
            "╔══════════════════════════════════════════════════════╗\n",
            "║ Host system is missing dependencies to run browsers. ║\n",
            "║ Missing libraries:                                   ║\n",
            "║     libwoff2dec.so.1.0.2                             ║\n",
            "║     libgstgl-1.0.so.0                                ║\n",
            "║     libgstcodecparsers-1.0.so.0                      ║\n",
            "║     libavif.so.13                                    ║\n",
            "║     libharfbuzz-icu.so.0                             ║\n",
            "║     libenchant-2.so.2                                ║\n",
            "║     libsecret-1.so.0                                 ║\n",
            "║     libhyphen.so.0                                   ║\n",
            "║     libmanette-0.2.so.0                              ║\n",
            "╚══════════════════════════════════════════════════════╝\n",
            "    at validateDependenciesLinux (/usr/local/lib/python3.11/dist-packages/playwright/driver/package/lib/server/registry/dependencies.js:216:9)\n",
            "\u001b[90m    at process.processTicksAndRejections (node:internal/process/task_queues:105:5)\u001b[39m\n",
            "    at async Registry._validateHostRequirements (/usr/local/lib/python3.11/dist-packages/playwright/driver/package/lib/server/registry/index.js:859:52)\n",
            "    at async Registry._validateHostRequirementsForExecutableIfNeeded (/usr/local/lib/python3.11/dist-packages/playwright/driver/package/lib/server/registry/index.js:957:7)\n",
            "    at async Registry.validateHostRequirementsForExecutablesIfNeeded (/usr/local/lib/python3.11/dist-packages/playwright/driver/package/lib/server/registry/index.js:946:43)\n",
            "    at async t.<anonymous> (/usr/local/lib/python3.11/dist-packages/playwright/driver/package/lib/cli/program.js:122:7)\n"
          ]
        }
      ],
      "source": [
        "!playwright install"
      ]
    },
    {
      "cell_type": "code",
      "execution_count": 12,
      "metadata": {
        "vscode": {
          "languageId": "shellscript"
        },
        "id": "YWC6t2UhadcR"
      },
      "outputs": [],
      "source": [
        "!pip install nest_asyncio --quiet"
      ]
    },
    {
      "cell_type": "code",
      "execution_count": 13,
      "metadata": {
        "id": "p-JCvLiFadcR"
      },
      "outputs": [],
      "source": [
        "import nest_asyncio\n",
        "nest_asyncio.apply()\n",
        "\n",
        "import asyncio\n",
        "from playwright.async_api import async_playwright\n",
        "\n",
        "async def scrape_playwright(url: str):\n",
        "    async with async_playwright() as pw:\n",
        "        browser =  await pw.chromium.launch(headless=True)\n",
        "        page = await browser.new_page()\n",
        "        await page.goto(url)\n",
        "        # Espera para que cargue la pagina\n",
        "        await page.wait_for_load_state('domcontentloaded')\n",
        "        # Ejecuta un script para bajar hasta el final de la pagina\n",
        "        # await page.evaluate('window.scrollTo(0, document.body.scrollHeight)')\n",
        "        # Tambien se puede hacer con el teclado\n",
        "        await page.keyboard.press('End')\n",
        "        # Espera a que baje el scroll\n",
        "        await page.wait_for_timeout(2000)\n",
        "\n",
        "        html = await page.content()\n",
        "        await browser.close()\n",
        "\n",
        "        return html\n",
        "\n",
        "def scrape_playwright_sync(url: str):\n",
        "    return asyncio.run(scrape_playwright(url))"
      ]
    },
    {
      "cell_type": "markdown",
      "metadata": {
        "id": "vMtJpLtPadcR"
      },
      "source": [
        "## Crawl4AI: Open-Source LLM-Friendly Web Crawler & Scraper\n",
        "\n",
        "Este es especialmente para obtener formato amigable para LLMs desde: https://docs.crawl4ai.com/\n",
        "\n",
        "Primero instalamos prerequisitos que requiere Google Colab."
      ]
    },
    {
      "cell_type": "code",
      "source": [
        "!pip install h5py --quiet\n",
        "!pip install typing-extensions --quiet\n",
        "!pip install wheel --quiet"
      ],
      "metadata": {
        "id": "1MHc1ZotejiY"
      },
      "execution_count": 22,
      "outputs": []
    },
    {
      "cell_type": "markdown",
      "source": [
        "Posteriormente, ya podemos realizar la instalación."
      ],
      "metadata": {
        "id": "3MtRxpOrfevX"
      }
    },
    {
      "cell_type": "code",
      "execution_count": 23,
      "metadata": {
        "vscode": {
          "languageId": "shellscript"
        },
        "id": "Dc6Gou8-adcR"
      },
      "outputs": [],
      "source": [
        "!pip install crawl4ai --quiet\n",
        "# !pip install git+https://github.com/unclecode/crawl4ai.git@2025-MAR-ALPHA-1 --quiet"
      ]
    },
    {
      "cell_type": "code",
      "execution_count": 15,
      "metadata": {
        "vscode": {
          "languageId": "shellscript"
        },
        "id": "h_l1aG_radcR",
        "outputId": "5023fad8-6775-44b3-f970-0956828e3ac1",
        "colab": {
          "base_uri": "https://localhost:8080/"
        }
      },
      "outputs": [
        {
          "output_type": "stream",
          "name": "stdout",
          "text": [
            "\u001b[36m[INIT].... → Running post-installation setup...\u001b[0m\n",
            "\u001b[36m[INIT].... → Installing Playwright browsers...\u001b[0m\n",
            "Installing dependencies...\n",
            "Hit:1 http://archive.ubuntu.com/ubuntu jammy InRelease\n",
            "Get:2 http://archive.ubuntu.com/ubuntu jammy-updates InRelease [128 kB]\n",
            "Get:3 http://security.ubuntu.com/ubuntu jammy-security InRelease [129 kB]\n",
            "Get:4 https://cloud.r-project.org/bin/linux/ubuntu jammy-cran40/ InRelease [3,632 B]\n",
            "Get:5 https://developer.download.nvidia.com/compute/cuda/repos/ubuntu2204/x86_64  InRelease [1,581 B]\n",
            "Get:6 https://r2u.stat.illinois.edu/ubuntu jammy InRelease [6,555 B]\n",
            "Get:7 http://archive.ubuntu.com/ubuntu jammy-backports InRelease [127 kB]\n",
            "Hit:8 https://ppa.launchpadcontent.net/deadsnakes/ppa/ubuntu jammy InRelease\n",
            "Hit:9 https://ppa.launchpadcontent.net/graphics-drivers/ppa/ubuntu jammy InRelease\n",
            "Hit:10 https://ppa.launchpadcontent.net/ubuntugis/ppa/ubuntu jammy InRelease\n",
            "Get:11 https://developer.download.nvidia.com/compute/cuda/repos/ubuntu2204/x86_64  Packages [1,381 kB]\n",
            "Get:12 https://r2u.stat.illinois.edu/ubuntu jammy/main all Packages [8,790 kB]\n",
            "Get:13 https://r2u.stat.illinois.edu/ubuntu jammy/main amd64 Packages [2,686 kB]\n",
            "Get:14 http://archive.ubuntu.com/ubuntu jammy-updates/universe amd64 Packages [1,538 kB]\n",
            "Get:15 http://archive.ubuntu.com/ubuntu jammy-updates/main amd64 Packages [3,045 kB]\n",
            "Get:16 http://archive.ubuntu.com/ubuntu jammy-updates/multiverse amd64 Packages [55.7 kB]\n",
            "Get:17 http://archive.ubuntu.com/ubuntu jammy-updates/restricted amd64 Packages [4,049 kB]\n",
            "Get:18 http://archive.ubuntu.com/ubuntu jammy-backports/universe amd64 Packages [35.2 kB]\n",
            "Get:19 http://security.ubuntu.com/ubuntu jammy-security/restricted amd64 Packages [3,892 kB]\n",
            "Get:20 http://security.ubuntu.com/ubuntu jammy-security/multiverse amd64 Packages [47.7 kB]\n",
            "Get:21 http://security.ubuntu.com/ubuntu jammy-security/universe amd64 Packages [1,239 kB]\n",
            "Get:22 http://security.ubuntu.com/ubuntu jammy-security/main amd64 Packages [2,737 kB]\n",
            "Fetched 29.9 MB in 6s (5,187 kB/s)\n",
            "Reading package lists... Done\n",
            "W: Skipping acquire of configured file 'main/source/Sources' as repository 'https://r2u.stat.illinois.edu/ubuntu jammy InRelease' does not seem to provide it (sources.list entry misspelt?)\n",
            "Reading package lists... Done\n",
            "Building dependency tree... Done\n",
            "Reading state information... Done\n",
            "fonts-liberation is already the newest version (1:1.07.4-11).\n",
            "libasound2 is already the newest version (1.2.6.1-1ubuntu1).\n",
            "libasound2 set to manually installed.\n",
            "libatk-bridge2.0-0 is already the newest version (2.38.0-3).\n",
            "libatk-bridge2.0-0 set to manually installed.\n",
            "libatk1.0-0 is already the newest version (2.36.0-3build1).\n",
            "libatk1.0-0 set to manually installed.\n",
            "libatspi2.0-0 is already the newest version (2.44.0-3).\n",
            "libatspi2.0-0 set to manually installed.\n",
            "libcairo2 is already the newest version (1.16.0-5ubuntu2).\n",
            "libcairo2 set to manually installed.\n",
            "libfontconfig1 is already the newest version (2.13.1-4.2ubuntu5).\n",
            "libfontconfig1 set to manually installed.\n",
            "libxcb1 is already the newest version (1.14-3ubuntu3).\n",
            "libxcb1 set to manually installed.\n",
            "libxcomposite1 is already the newest version (1:0.4.5-1build2).\n",
            "libxcomposite1 set to manually installed.\n",
            "libxdamage1 is already the newest version (1:1.1.5-2build2).\n",
            "libxdamage1 set to manually installed.\n",
            "libxext6 is already the newest version (2:1.3.4-1build1).\n",
            "libxfixes3 is already the newest version (1:6.0.0-1).\n",
            "libxfixes3 set to manually installed.\n",
            "libxkbcommon0 is already the newest version (1.4.0-1).\n",
            "libxkbcommon0 set to manually installed.\n",
            "libxrandr2 is already the newest version (2:1.5.2-1build1).\n",
            "libxrandr2 set to manually installed.\n",
            "libcups2 is already the newest version (2.4.1op1-1ubuntu4.11).\n",
            "libcups2 set to manually installed.\n",
            "libdbus-1-3 is already the newest version (1.12.20-2ubuntu4.1).\n",
            "libdbus-1-3 set to manually installed.\n",
            "libdrm2 is already the newest version (2.4.113-2~ubuntu0.22.04.1).\n",
            "libdrm2 set to manually installed.\n",
            "libfreetype6 is already the newest version (2.11.1+dfsg-1ubuntu0.3).\n",
            "libfreetype6 set to manually installed.\n",
            "libgbm1 is already the newest version (23.2.1-1ubuntu3.1~22.04.3).\n",
            "libgbm1 set to manually installed.\n",
            "libglib2.0-0 is already the newest version (2.72.4-0ubuntu2.4).\n",
            "libglib2.0-0 set to manually installed.\n",
            "libnspr4 is already the newest version (2:4.35-0ubuntu0.22.04.1).\n",
            "libnspr4 set to manually installed.\n",
            "libnss3 is already the newest version (2:3.98-0ubuntu0.22.04.2).\n",
            "libnss3 set to manually installed.\n",
            "libpango-1.0-0 is already the newest version (1.50.6+ds-2ubuntu1).\n",
            "libpango-1.0-0 set to manually installed.\n",
            "libwayland-client0 is already the newest version (1.20.0-1ubuntu0.1).\n",
            "libwayland-client0 set to manually installed.\n",
            "libx11-6 is already the newest version (2:1.7.5-1ubuntu0.3).\n",
            "libx11-6 set to manually installed.\n",
            "The following additional packages will be installed:\n",
            "  libfontenc1 libxfont2 libxkbfile1 x11-xkb-utils xfonts-encodings xfonts-utils xserver-common\n",
            "Recommended packages:\n",
            "  fonts-ipafont-mincho fonts-tlwg-loma xfonts-base\n",
            "The following NEW packages will be installed:\n",
            "  fonts-freefont-ttf fonts-ipafont-gothic fonts-noto-color-emoji fonts-tlwg-loma-otf fonts-unifont\n",
            "  fonts-wqy-zenhei libfontenc1 libxfont2 libxkbfile1 x11-xkb-utils xfonts-cyrillic xfonts-encodings\n",
            "  xfonts-scalable xfonts-utils xserver-common xvfb\n",
            "0 upgraded, 16 newly installed, 0 to remove and 41 not upgraded.\n",
            "Need to get 29.7 MB of archives.\n",
            "After this operation, 71.4 MB of additional disk space will be used.\n",
            "Get:1 http://archive.ubuntu.com/ubuntu jammy/universe amd64 fonts-ipafont-gothic all 00303-21ubuntu1 [3,513 kB]\n",
            "Get:2 http://archive.ubuntu.com/ubuntu jammy/main amd64 fonts-freefont-ttf all 20120503-10build1 [2,388 kB]\n",
            "Get:3 http://archive.ubuntu.com/ubuntu jammy-updates/main amd64 fonts-noto-color-emoji all 2.047-0ubuntu0.22.04.1 [10.0 MB]\n",
            "Get:4 http://archive.ubuntu.com/ubuntu jammy/universe amd64 fonts-tlwg-loma-otf all 1:0.7.3-1 [107 kB]\n",
            "Get:5 http://archive.ubuntu.com/ubuntu jammy/universe amd64 fonts-unifont all 1:14.0.01-1 [3,551 kB]\n",
            "Get:6 http://archive.ubuntu.com/ubuntu jammy/universe amd64 fonts-wqy-zenhei all 0.9.45-8 [7,472 kB]\n",
            "Get:7 http://archive.ubuntu.com/ubuntu jammy/main amd64 libfontenc1 amd64 1:1.1.4-1build3 [14.7 kB]\n",
            "Get:8 http://archive.ubuntu.com/ubuntu jammy/main amd64 libxfont2 amd64 1:2.0.5-1build1 [94.5 kB]\n",
            "Get:9 http://archive.ubuntu.com/ubuntu jammy/main amd64 libxkbfile1 amd64 1:1.1.0-1build3 [71.8 kB]\n",
            "Get:10 http://archive.ubuntu.com/ubuntu jammy/main amd64 x11-xkb-utils amd64 7.7+5build4 [172 kB]\n",
            "Get:11 http://archive.ubuntu.com/ubuntu jammy/main amd64 xfonts-encodings all 1:1.0.5-0ubuntu2 [578 kB]\n",
            "Get:12 http://archive.ubuntu.com/ubuntu jammy/main amd64 xfonts-utils amd64 1:7.7+6build2 [94.6 kB]\n",
            "Get:13 http://archive.ubuntu.com/ubuntu jammy/universe amd64 xfonts-cyrillic all 1:1.0.5 [386 kB]\n",
            "Get:14 http://archive.ubuntu.com/ubuntu jammy/main amd64 xfonts-scalable all 1:1.0.3-1.2ubuntu1 [306 kB]\n",
            "Get:15 http://archive.ubuntu.com/ubuntu jammy-updates/main amd64 xserver-common all 2:21.1.4-2ubuntu1.7~22.04.13 [29.1 kB]\n",
            "Get:16 http://archive.ubuntu.com/ubuntu jammy-updates/universe amd64 xvfb amd64 2:21.1.4-2ubuntu1.7~22.04.13 [863 kB]\n",
            "Fetched 29.7 MB in 1s (38.4 MB/s)\n",
            "Selecting previously unselected package fonts-ipafont-gothic.\n",
            "(Reading database ... 126209 files and directories currently installed.)\n",
            "Preparing to unpack .../00-fonts-ipafont-gothic_00303-21ubuntu1_all.deb ...\n",
            "Unpacking fonts-ipafont-gothic (00303-21ubuntu1) ...\n",
            "Selecting previously unselected package fonts-freefont-ttf.\n",
            "Preparing to unpack .../01-fonts-freefont-ttf_20120503-10build1_all.deb ...\n",
            "Unpacking fonts-freefont-ttf (20120503-10build1) ...\n",
            "Selecting previously unselected package fonts-noto-color-emoji.\n",
            "Preparing to unpack .../02-fonts-noto-color-emoji_2.047-0ubuntu0.22.04.1_all.deb ...\n",
            "Unpacking fonts-noto-color-emoji (2.047-0ubuntu0.22.04.1) ...\n",
            "Selecting previously unselected package fonts-tlwg-loma-otf.\n",
            "Preparing to unpack .../03-fonts-tlwg-loma-otf_1%3a0.7.3-1_all.deb ...\n",
            "Unpacking fonts-tlwg-loma-otf (1:0.7.3-1) ...\n",
            "Selecting previously unselected package fonts-unifont.\n",
            "Preparing to unpack .../04-fonts-unifont_1%3a14.0.01-1_all.deb ...\n",
            "Unpacking fonts-unifont (1:14.0.01-1) ...\n",
            "Selecting previously unselected package fonts-wqy-zenhei.\n",
            "Preparing to unpack .../05-fonts-wqy-zenhei_0.9.45-8_all.deb ...\n",
            "Unpacking fonts-wqy-zenhei (0.9.45-8) ...\n",
            "Selecting previously unselected package libfontenc1:amd64.\n",
            "Preparing to unpack .../06-libfontenc1_1%3a1.1.4-1build3_amd64.deb ...\n",
            "Unpacking libfontenc1:amd64 (1:1.1.4-1build3) ...\n",
            "Selecting previously unselected package libxfont2:amd64.\n",
            "Preparing to unpack .../07-libxfont2_1%3a2.0.5-1build1_amd64.deb ...\n",
            "Unpacking libxfont2:amd64 (1:2.0.5-1build1) ...\n",
            "Selecting previously unselected package libxkbfile1:amd64.\n",
            "Preparing to unpack .../08-libxkbfile1_1%3a1.1.0-1build3_amd64.deb ...\n",
            "Unpacking libxkbfile1:amd64 (1:1.1.0-1build3) ...\n",
            "Selecting previously unselected package x11-xkb-utils.\n",
            "Preparing to unpack .../09-x11-xkb-utils_7.7+5build4_amd64.deb ...\n",
            "Unpacking x11-xkb-utils (7.7+5build4) ...\n",
            "Selecting previously unselected package xfonts-encodings.\n",
            "Preparing to unpack .../10-xfonts-encodings_1%3a1.0.5-0ubuntu2_all.deb ...\n",
            "Unpacking xfonts-encodings (1:1.0.5-0ubuntu2) ...\n",
            "Selecting previously unselected package xfonts-utils.\n",
            "Preparing to unpack .../11-xfonts-utils_1%3a7.7+6build2_amd64.deb ...\n",
            "Unpacking xfonts-utils (1:7.7+6build2) ...\n",
            "Selecting previously unselected package xfonts-cyrillic.\n",
            "Preparing to unpack .../12-xfonts-cyrillic_1%3a1.0.5_all.deb ...\n",
            "Unpacking xfonts-cyrillic (1:1.0.5) ...\n",
            "Selecting previously unselected package xfonts-scalable.\n",
            "Preparing to unpack .../13-xfonts-scalable_1%3a1.0.3-1.2ubuntu1_all.deb ...\n",
            "Unpacking xfonts-scalable (1:1.0.3-1.2ubuntu1) ...\n",
            "Selecting previously unselected package xserver-common.\n",
            "Preparing to unpack .../14-xserver-common_2%3a21.1.4-2ubuntu1.7~22.04.13_all.deb ...\n",
            "Unpacking xserver-common (2:21.1.4-2ubuntu1.7~22.04.13) ...\n",
            "Selecting previously unselected package xvfb.\n",
            "Preparing to unpack .../15-xvfb_2%3a21.1.4-2ubuntu1.7~22.04.13_amd64.deb ...\n",
            "Unpacking xvfb (2:21.1.4-2ubuntu1.7~22.04.13) ...\n",
            "Setting up fonts-noto-color-emoji (2.047-0ubuntu0.22.04.1) ...\n",
            "Setting up fonts-wqy-zenhei (0.9.45-8) ...\n",
            "Setting up fonts-freefont-ttf (20120503-10build1) ...\n",
            "Setting up libfontenc1:amd64 (1:1.1.4-1build3) ...\n",
            "Setting up fonts-tlwg-loma-otf (1:0.7.3-1) ...\n",
            "Setting up xfonts-encodings (1:1.0.5-0ubuntu2) ...\n",
            "Setting up fonts-ipafont-gothic (00303-21ubuntu1) ...\n",
            "update-alternatives: using /usr/share/fonts/opentype/ipafont-gothic/ipag.ttf to provide /usr/share/fonts/truetype/fonts-japanese-gothic.ttf (fonts-japanese-gothic.ttf) in auto mode\n",
            "Setting up libxkbfile1:amd64 (1:1.1.0-1build3) ...\n",
            "Setting up libxfont2:amd64 (1:2.0.5-1build1) ...\n",
            "Setting up fonts-unifont (1:14.0.01-1) ...\n",
            "Setting up x11-xkb-utils (7.7+5build4) ...\n",
            "Setting up xfonts-utils (1:7.7+6build2) ...\n",
            "Setting up xfonts-cyrillic (1:1.0.5) ...\n",
            "Setting up xserver-common (2:21.1.4-2ubuntu1.7~22.04.13) ...\n",
            "Setting up xfonts-scalable (1:1.0.3-1.2ubuntu1) ...\n",
            "Setting up xvfb (2:21.1.4-2ubuntu1.7~22.04.13) ...\n",
            "Processing triggers for man-db (2.10.2-1) ...\n",
            "Processing triggers for fontconfig (2.13.1-4.2ubuntu5) ...\n",
            "Processing triggers for libc-bin (2.35-0ubuntu3.8) ...\n",
            "/sbin/ldconfig.real: /usr/local/lib/libhwloc.so.15 is not a symbolic link\n",
            "\n",
            "/sbin/ldconfig.real: /usr/local/lib/libtcm.so.1 is not a symbolic link\n",
            "\n",
            "/sbin/ldconfig.real: /usr/local/lib/libtbbmalloc_proxy.so.2 is not a symbolic link\n",
            "\n",
            "/sbin/ldconfig.real: /usr/local/lib/libtbbbind_2_0.so.3 is not a symbolic link\n",
            "\n",
            "/sbin/ldconfig.real: /usr/local/lib/libtbbmalloc.so.2 is not a symbolic link\n",
            "\n",
            "/sbin/ldconfig.real: /usr/local/lib/libtbb.so.12 is not a symbolic link\n",
            "\n",
            "/sbin/ldconfig.real: /usr/local/lib/libur_adapter_opencl.so.0 is not a symbolic link\n",
            "\n",
            "/sbin/ldconfig.real: /usr/local/lib/libtbbbind.so.3 is not a symbolic link\n",
            "\n",
            "/sbin/ldconfig.real: /usr/local/lib/libtcm_debug.so.1 is not a symbolic link\n",
            "\n",
            "/sbin/ldconfig.real: /usr/local/lib/libur_adapter_level_zero.so.0 is not a symbolic link\n",
            "\n",
            "/sbin/ldconfig.real: /usr/local/lib/libur_loader.so.0 is not a symbolic link\n",
            "\n",
            "/sbin/ldconfig.real: /usr/local/lib/libumf.so.0 is not a symbolic link\n",
            "\n",
            "/sbin/ldconfig.real: /usr/local/lib/libtbbbind_2_5.so.3 is not a symbolic link\n",
            "\n",
            "\u001b[32m[COMPLETE] ● Playwright installation completed successfully.\u001b[0m\n",
            "\u001b[36m[INIT].... → Starting database initialization...\u001b[0m\n",
            "\u001b[36m[COMPLETE] ● Database backup created at: /root/.crawl4ai/crawl4ai.db.backup_20250329_194132\u001b[0m\n",
            "\u001b[36m[INIT].... → Starting database migration...\u001b[0m\n",
            "\u001b[32m[COMPLETE] ● Migration completed. 0 records processed.\u001b[0m\n",
            "\u001b[32m[COMPLETE] ● Database initialization completed successfully.\u001b[0m\n",
            "\u001b[32m[COMPLETE] ● Post-installation setup completed!\u001b[0m\n",
            "\u001b[0m"
          ]
        }
      ],
      "source": [
        "!crawl4ai-setup"
      ]
    },
    {
      "cell_type": "code",
      "execution_count": 16,
      "metadata": {
        "vscode": {
          "languageId": "shellscript"
        },
        "id": "fPX1z3jqadcR"
      },
      "outputs": [],
      "source": [
        "!pip install nest_asyncio --quiet"
      ]
    },
    {
      "cell_type": "code",
      "execution_count": 17,
      "metadata": {
        "id": "rNULITSAadcR"
      },
      "outputs": [],
      "source": [
        "import nest_asyncio\n",
        "nest_asyncio.apply()\n",
        "\n",
        "import asyncio\n",
        "from crawl4ai import AsyncWebCrawler\n",
        "from crawl4ai.async_configs import BrowserConfig, CrawlerRunConfig\n",
        "\n",
        "browser_conf = BrowserConfig(verbose=False,headless=True)\n",
        "\n",
        "run_cfg = CrawlerRunConfig(\n",
        "    wait_until=\"domcontentloaded\",\n",
        "    scan_full_page=True,\n",
        "    # wait_for_timeout=2000,\n",
        "    verbose=False\n",
        ")\n",
        "\n",
        "async def async_scrape_crawl4ai(url: str):\n",
        "    crawler = AsyncWebCrawler(config=browser_conf)\n",
        "    await crawler.start()\n",
        "    result = await crawler.arun(\n",
        "        url=url,\n",
        "        config=run_cfg,\n",
        "    )\n",
        "    return result.html\n",
        "\n",
        "# To run the async function in a synchronous context\n",
        "# (like this script), you can use asyncio.run() to execute it.\n",
        "# This is a workaround for running async functions in a sync context.\n",
        "def scrape_crawl4ai(url: str):\n",
        "    return asyncio.run(async_scrape_crawl4ai(url))\n",
        "\n",
        "# print(scrape_crawl4ai(\"https://www.uv.mx\"))"
      ]
    },
    {
      "cell_type": "markdown",
      "metadata": {
        "id": "Su7fsLEwadcR"
      },
      "source": [
        "## Main functions to run the comparasion\n",
        "\n",
        "Let's run all the scrapers and display them in our comparison table."
      ]
    },
    {
      "cell_type": "code",
      "execution_count": 18,
      "metadata": {
        "id": "XzPk7M7oadcR",
        "outputId": "db1e6eb3-348c-4ae0-d9b8-e9ea4a287d5c",
        "colab": {
          "base_uri": "https://localhost:8080/"
        }
      },
      "outputs": [
        {
          "output_type": "stream",
          "name": "stderr",
          "text": [
            "Processing site Amazon using Beautiful Soup: 100%|██████████| 1/1 [00:00<00:00,  8.16it/s]\n",
            "Processing site Amazon using Playwright: 100%|██████████| 1/1 [00:04<00:00,  4.01s/it]\n",
            "Processing site Amazon using Crawl4ai: 100%|██████████| 1/1 [00:02<00:00,  2.66s/it]\n",
            "Processing site UV using Beautiful Soup: 100%|██████████| 1/1 [00:00<00:00,  4.75it/s]\n",
            "Processing site UV using Playwright: 100%|██████████| 1/1 [00:06<00:00,  6.65s/it]\n",
            "Processing site UV using Crawl4ai: 100%|██████████| 1/1 [00:08<00:00,  8.55s/it]\n",
            "Processing site W3C ACT Rules using Beautiful Soup: 100%|██████████| 1/1 [00:00<00:00,  6.23it/s]\n",
            "Processing site W3C ACT Rules using Playwright: 100%|██████████| 1/1 [00:04<00:00,  4.21s/it]\n",
            "Processing site W3C ACT Rules using Crawl4ai: 100%|██████████| 1/1 [00:05<00:00,  5.26s/it]\n"
          ]
        },
        {
          "output_type": "stream",
          "name": "stdout",
          "text": [
            "Content Table:\n",
            "+---------------+------------------------------------------+------------------------------------------+------------------------------------------+\n",
            "|   Site Name   |          Beautiful Soup content          |            Playwright content            |             Crawl4ai content             |\n",
            "+---------------+------------------------------------------+------------------------------------------+------------------------------------------+\n",
            "|     Amazon    |       5,022 characters retrieved:        |       7,040 characters retrieved:        |       7,064 characters retrieved:        |\n",
            "|               |                                          |                                          |                                          |\n",
            "|               |             <!DOCTYPE html>              |   <!DOCTYPE html><html class=\"a-no-js\"   |   <!DOCTYPE html><html class=\"a-no-js\"   |\n",
            "|               |                                          |   lang=\"en-us\"><!--<![endif]--><head>    |   lang=\"en-us\"><!--<![endif]--><head>    |\n",
            "|               |   <!--[if lt IE 7]> <html lang=\"en-us\"   |     <meta http-equiv=\"content-type\"      |     <meta http-equiv=\"content-type\"      |\n",
            "|               |  class=\"a-no-js a-lt-ie9 a-lt-ie8 a-lt-  |   content=\"text/html; charset=UTF-8\">    |   content=\"text/html; charset=UTF-8\">    |\n",
            "|               |            ie7\"> <![endif]-->            |          <meta charset=\"utf-8\">          |          <meta charset=\"utf-8\">          |\n",
            "|               |   <!--[if IE 7]>    <html lang=\"en-us\"   |    <meta http-equiv=\"X-UA-Compatible\"    |    <meta http-equiv=\"X-UA-Compatible\"    |\n",
            "|               |    class=\"a-no-js a-lt-ie9 a-lt-ie8\">    |       content=\"IE=edge,chrome=1\">        |       content=\"IE=edge,chrome=1\">        |\n",
            "|               |               <![endif]-->               |   <title dir=\"ltr\">Amazon.com</title>    |   <title dir=\"ltr\">Amazon.com</title>    |\n",
            "|               |   <!--[if IE 8]>    <html lang=\"en-us\"   |          <meta name=\"viewport\"           |          <meta name=\"viewport\"           |\n",
            "|               |  class=\"a-no-js a-lt-ie9\"> <![endif]-->  |      content=\"width=device-width\">       |      content=\"width=device-width\">       |\n",
            "|               |          <!--[if gt IE 8]><!-->          |          <link rel=\"stylesheet\"          |          <link rel=\"stylesheet\"          |\n",
            "|               |     <html class=\"a-no-js\" lang=\"en-      | href=\"https://images-na.ssl-images-amazo | href=\"https://images-na.ssl-images-amazo |\n",
            "|               |        us\"><!--<![endif]--><head>        |  n.com/images/G/01/AUIClients/AmazonUI-  |  n.com/images/G/01/AUIClients/AmazonUI-  |\n",
            "|               | <meta content=\"text/html; charset=utf-8\" | 3c913031596ca78a3768f4e934b1cc02ce238101 | 3c913031596ca78a3768f4e934b1cc02ce238101 |\n",
            "|               |       http-equiv=\"content-type\"/>        |          .secure.min._V1_.css\">          |          .secure.min._V1_.css\">          |\n",
            "|               |         <meta charset=\"utf-8\"/>          |                 <script>                 |                 <script>                 |\n",
            "|               |  <meta content=\"IE=edge,chrome=1\" http-  |                                          |                                          |\n",
            "|               |        equiv=\"X-UA-Compatible\"/>         |           if (true === true) {           |           if (true === true) {           |\n",
            "|               |   <title dir=\"ltr\">Amazon.com</title>    |         var ue_t0 = (+ new Date()),      |         var ue_t0 = (+ new Date()),      |\n",
            "|               |    <meta content=\"width=device-width\"    |                 ue_csm = window,         |                 ue_csm = window,         |\n",
            "|               |            name=\"viewport\"/>             |         ue = { t0: ue_t0, d: function()  |         ue = { t0: ue_t0, d: function()  |\n",
            "|               |    <link href=\"https://images-na.ssl-    |   { return (+new Date() - ue_t0); } },   |   { return (+new Date() - ue_t0); } },   |\n",
            "|               | images-amazon.com/images/G/01/AUIClients |          ue_furl = \"fls-na.amazon.com\",  |          ue_furl = \"fls-na.amazon.com\",  |\n",
            "|               |       /AmazonUI-3c913031596ca78a3        |                    ue_mid =              |                    ue_mid =              |\n",
            "+---------------+------------------------------------------+------------------------------------------+------------------------------------------+\n",
            "|       UV      |       24,071 characters retrieved:       |      130,185 characters retrieved:       |      131,077 characters retrieved:       |\n",
            "|               |                                          |                                          |                                          |\n",
            "|               |             <!DOCTYPE html>              | <!DOCTYPE html><html dir=\"ltr\" lang=\"es- | <!DOCTYPE html><html dir=\"ltr\" lang=\"es- |\n",
            "|               |                                          |                MX\"><head>                |                MX\"><head>                |\n",
            "|               |      <html dir=\"ltr\" lang=\"es-MX\">       |              <title>Universidad          |              <title>Universidad          |\n",
            "|               |                  <head>                  |           Veracruzana</title>            |           Veracruzana</title>            |\n",
            "|               |  <title>Universidad Veracruzana</title>  |                                          |                                          |\n",
            "|               |              <!-- Meta -->               |                <!-- Meta -->             |                <!-- Meta -->             |\n",
            "|               |         <meta charset=\"utf-8\"/>          |            <meta charset=\"utf-8\">        |            <meta charset=\"utf-8\">        |\n",
            "|               |    <meta content=\"width=device-width,    |            <meta name=\"viewport\"         |            <meta name=\"viewport\"         |\n",
            "|               |    initial-scale=1, shrink-to-fit=no\"    |  content=\"width=device-width, initial-   |  content=\"width=device-width, initial-   |\n",
            "|               |            name=\"viewport\"/>             |       scale=1, shrink-to-fit=no\">        |       scale=1, shrink-to-fit=no\">        |\n",
            "|               | <meta content=\"universidad veracruzana,  |            <meta name=\"keywords\"         |            <meta name=\"keywords\"         |\n",
            "|               |    docencia, licenciatura, posgrado,     |    content=\"universidad veracruzana,     |    content=\"universidad veracruzana,     |\n",
            "|               | investigacion, estudiantes, academicos,  |    docencia, licenciatura, posgrado,     |    docencia, licenciatura, posgrado,     |\n",
            "|               | vinculacion, biblioteca, publicaciones,  | investigacion, estudiantes, academicos,  | investigacion, estudiantes, academicos,  |\n",
            "|               |     alumnos, humanidades, orquesta,      | vinculacion, biblioteca, publicaciones,  | vinculacion, biblioteca, publicaciones,  |\n",
            "|               |        deportes\" name=\"keywords\">        |     alumnos, humanidades, orquesta,      |     alumnos, humanidades, orquesta,      |\n",
            "|               | <meta content=\"Universidad Veracruzana,  |                deportes\">                |                deportes\">                |\n",
            "|               |    Institución de educación superior     |           <meta name=\"description\"       |           <meta name=\"description\"       |\n",
            "|               |  pública con distintas sedes a lo largo  |    content=\"Universidad Veracruzana,     |    content=\"Universidad Veracruzana,     |\n",
            "|               |         del estado de Veracruz\"          |    Institución de educación superior     |    Institución de educación superior     |\n",
            "|               |           name=\"description\">            |  pública con distintas sedes a lo largo  |  pública con distintas sedes a lo largo  |\n",
            "|               |      <meta content=\"buzonuv@uv.mx\"       |         del estado de Veracruz\">         |         del estado de Veracruz\">         |\n",
            "|               |             name=\"author\"/>              |             <meta name=\"author\"          |             <meta name=\"author\"          |\n",
            "|               |   <meta content=\"#17529E\" name=\"theme-   |         content=\"buzonuv@uv.mx\">         |         content=\"buzonuv@uv.mx\">         |\n",
            "|               |                 color\"/>                 |           <meta name=\"theme-color\"       |           <meta name=\"theme-color\"       |\n",
            "|               |             <!-- Idioma -->              |              content=\"#175               |              content=\"#175               |\n",
            "|               |                   <lin                   |                                          |                                          |\n",
            "+---------------+------------------------------------------+------------------------------------------+------------------------------------------+\n",
            "| W3C ACT Rules |       26,464 characters retrieved:       |       27,876 characters retrieved:       |       27,900 characters retrieved:       |\n",
            "|               |                                          |                                          |                                          |\n",
            "|               |             <!DOCTYPE html>              |   <!DOCTYPE html><html class=\"has-js\"    |   <!DOCTYPE html><html class=\"has-js\"    |\n",
            "|               |                                          |     lang=\"en\" dir=\"ltr\" prefix=\"og:      |     lang=\"en\" dir=\"ltr\" prefix=\"og:      |\n",
            "|               | <html class=\"no-js\" dir=\"ltr\" lang=\"en\"  |        http://ogp.me/ns#\"><head>         |        http://ogp.me/ns#\"><head>         |\n",
            "|               |     prefix=\"og: http://ogp.me/ns#\">      |           <meta charset=\"utf-8\">         |           <meta charset=\"utf-8\">         |\n",
            "|               |                  <head>                  |           <meta name=\"viewport\"          |           <meta name=\"viewport\"          |\n",
            "|               |         <meta charset=\"utf-8\"/>          |  content=\"width=device-width, initial-   |  content=\"width=device-width, initial-   |\n",
            "|               |    <meta content=\"width=device-width,    |      scale=1, viewport-fit=cover\">       |      scale=1, viewport-fit=cover\">       |\n",
            "|               |   initial-scale=1, viewport-fit=cover\"   |     <meta http-equiv=\"X-UA-Compatible\"   |     <meta http-equiv=\"X-UA-Compatible\"   |\n",
            "|               |            name=\"viewport\"/>             |            content=\"IE=edge\">            |            content=\"IE=edge\">            |\n",
            "|               |      <meta content=\"IE=edge\" http-       |                  <script>                |                  <script>                |\n",
            "|               |        equiv=\"X-UA-Compatible\"/>         |     document.documentElement.className = |     document.documentElement.className = |\n",
            "|               |                 <script>                 | document.documentElement.className.repla | document.documentElement.className.repla |\n",
            "|               |     document.documentElement.className = |          ce('no-js', 'has-js');          |          ce('no-js', 'has-js');          |\n",
            "|               | document.documentElement.className.repla |                                          |                                          |\n",
            "|               |          ce('no-js', 'has-js');          |       function downloadJSAtOnload() {    |       function downloadJSAtOnload() {    |\n",
            "|               |                                          |                 var element =            |                 var element =            |\n",
            "|               |       function downloadJSAtOnload() {    |    document.createElement(\"script\");     |    document.createElement(\"script\");     |\n",
            "|               |                 var element =            |       element.src = \"/WAI/assets/scripts |       element.src = \"/WAI/assets/scripts |\n",
            "|               |    document.createElement(\"script\");     |      /main.js?1743059356938473860\";      |      /main.js?1743059356938473860\";      |\n",
            "|               |       element.src = \"/WAI/assets/scripts |   document.body.appendChild(element);    |   document.body.appendChild(element);    |\n",
            "|               |      /main.js?1743059356938473860\";      |                      }                   |                      }                   |\n",
            "|               |   document.body.appendChild(element);    |                                          |                                          |\n",
            "|               |                      }                   |       window.addEventListener(\"load\",    |       window.addEventListener(\"load\",    |\n",
            "|               |                                          |       downloadJSAtOnload, false);        |       downloadJSAtOnload, false);        |\n",
            "|               |       window.addEventListener(\"load\",    |                 </script>                |                 </script>                |\n",
            "|               |       downloadJSAtOnload, false);        |       <link rel=\"stylesheet\" href=\"/     |       <link rel=\"stylesheet\" href=\"/     |\n",
            "|               |                 </script>                |                                          |                                          |\n",
            "|               |   <link href=\"/WAI/assets/css/style.c    |                                          |                                          |\n",
            "+---------------+------------------------------------------+------------------------------------------+------------------------------------------+\n",
            "\n",
            "Cost Table:\n",
            "This is how much it would cost to use gpt-4o to parse this content for extraction.\n",
            "+---------------+---------------------+-----------------+---------------+\n",
            "|   Site Name   | Beautiful Soup cost | Playwright cost | Crawl4ai cost |\n",
            "+---------------+---------------------+-----------------+---------------+\n",
            "|     Amazon    |      $0.003595      |    $0.004235    |   $0.004213   |\n",
            "+---------------+---------------------+-----------------+---------------+\n",
            "|       UV      |      $0.016960      |    $0.077478    |   $0.078133   |\n",
            "+---------------+---------------------+-----------------+---------------+\n",
            "| W3C ACT Rules |      $0.019152      |    $0.020160    |   $0.020180   |\n",
            "+---------------+---------------------+-----------------+---------------+\n"
          ]
        }
      ],
      "source": [
        "list_of_scraper_functions = [\n",
        "      {\"name\": \"Beautiful Soup\", \"function\": beautiful_soup_scrape_url},\n",
        "      # {\"name\": \"Jina AI\", \"function\": scrape_jina_ai},\n",
        "      {\"name\": \"Playwright\", \"function\": scrape_playwright_sync},\n",
        "      {\"name\": \"Crawl4ai\", \"function\": scrape_crawl4ai},\n",
        "      ]\n",
        "\n",
        "all_content = view_scraped_content(list_of_scraper_functions, competitor_sites, 700, 40)"
      ]
    }
  ],
  "metadata": {
    "colab": {
      "provenance": [],
      "include_colab_link": true
    },
    "kernelspec": {
      "display_name": ".venv",
      "language": "python",
      "name": "python3"
    },
    "language_info": {
      "codemirror_mode": {
        "name": "ipython",
        "version": 3
      },
      "file_extension": ".py",
      "mimetype": "text/x-python",
      "name": "python",
      "nbconvert_exporter": "python",
      "pygments_lexer": "ipython3",
      "version": "3.13.2"
    }
  },
  "nbformat": 4,
  "nbformat_minor": 0
}