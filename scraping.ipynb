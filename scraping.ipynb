{
  "cells": [
    {
      "cell_type": "markdown",
      "metadata": {
        "colab_type": "text",
        "id": "view-in-github"
      },
      "source": [
        "<a href=\"https://colab.research.google.com/github/gverafei/scraping/blob/main/scraping.ipynb\" target=\"_parent\"><img src=\"https://colab.research.google.com/assets/colab-badge.svg\" alt=\"Open In Colab\"/></a>"
      ]
    },
    {
      "cell_type": "markdown",
      "metadata": {
        "id": "3flX_YcJTu05"
      },
      "source": [
        "# **Investigating how to scrape the web**\n",
        "April 2025\n",
        "\n"
      ]
    },
    {
      "cell_type": "markdown",
      "metadata": {},
      "source": [
        "### Initial method\n",
        "\n",
        "<center><img src=\"images/metodo.jpg\" style=\"margin:auto; width:80%\"/></center>\n",
        "\n",
        "----"
      ]
    },
    {
      "cell_type": "markdown",
      "metadata": {},
      "source": [
        "### Método propuesto sin RAG\n",
        "\n",
        "<center><img src=\"images/metodo-slim1.jpg\" style=\"margin:a6to; width:60%\"/></center>\n",
        "\n",
        "----"
      ]
    },
    {
      "cell_type": "markdown",
      "metadata": {},
      "source": [
        "### Método propuesto con RAG\n",
        "\n",
        "<center><img src=\"images/metodo-slim2.jpg\" style=\"margin:auto; width:80%\"/></center>"
      ]
    },
    {
      "cell_type": "markdown",
      "metadata": {},
      "source": [
        "\n",
        "### Crawling WCAG para el método con RAG\n",
        "\n",
        "Necesitamos guardar de alguna manera todo este conocimiento: https://www.w3.org/WAI/WCAG22/Understanding/\n",
        "\n",
        "O este conocimiento: https://www.w3.org/WAI/standards-guidelines/act/rules/\n",
        "\n",
        "<center><img src=\"images/metodo-craw.jpg\" style=\"margin:auto; width:50%\"/></center>"
      ]
    },
    {
      "cell_type": "markdown",
      "metadata": {},
      "source": [
        "\n",
        "### Retrieval-Augmented Generation (RAG)\n",
        "\n",
        "<center><img src=\"images/rag.gif\" style=\"margin:auto; width:50%\"/></center>"
      ]
    },
    {
      "cell_type": "markdown",
      "metadata": {},
      "source": [
        "### Agentic Retrieval-Augmented Generation (RAG)\n",
        "\n",
        "<center><img src=\"images/arag.gif\" style=\"margin:auto; width:50%\"/></center>"
      ]
    },
    {
      "cell_type": "markdown",
      "metadata": {},
      "source": [
        "### Chunking strategies\n",
        "\n",
        "<center><img src=\"images/chunks.gif\" style=\"margin:auto; width:50%\"/></center>"
      ]
    },
    {
      "cell_type": "markdown",
      "metadata": {
        "id": "ctzFiDtTTu07"
      },
      "source": [
        "## Configure virtual environment\n",
        "\n",
        "Solo se ejecuta lo siguiente la primera vez. Pedirá seleccionar the kernel from the upper right corner. Choose this virtual environment we just created."
      ]
    },
    {
      "cell_type": "code",
      "execution_count": 1,
      "metadata": {
        "id": "p1TQVRZzadcO",
        "vscode": {
          "languageId": "shellscript"
        }
      },
      "outputs": [],
      "source": [
        "# !python3 -m venv .venv\n",
        "# !source .venv/bin/activate # Linux/Mac\n",
        "# !.\\venv\\Scripts\\activate # Windows"
      ]
    },
    {
      "cell_type": "markdown",
      "metadata": {
        "id": "VyXLvtvmadcP"
      },
      "source": [
        "Inicializa el repositorio en GitHub. Todo esto se hace desde la terminal."
      ]
    },
    {
      "cell_type": "code",
      "execution_count": 2,
      "metadata": {
        "id": "2ztygE_IadcP",
        "vscode": {
          "languageId": "shellscript"
        }
      },
      "outputs": [],
      "source": [
        "# !git init\n",
        "# !git remote add origin https://github.com/gverafei/scraping.git\n",
        "# !git pull origin main\n",
        "# git add .\n",
        "# git commit -m \"Initial commit\"\n",
        "# git push --set-upstream origin main"
      ]
    },
    {
      "cell_type": "code",
      "execution_count": 3,
      "metadata": {
        "id": "p0PLl5W4adcP",
        "vscode": {
          "languageId": "shellscript"
        }
      },
      "outputs": [],
      "source": [
        "!pip install --upgrade pip --quiet"
      ]
    },
    {
      "cell_type": "markdown",
      "metadata": {
        "id": "EspH7Z_nadcP"
      },
      "source": [
        "## Create the initial data"
      ]
    },
    {
      "cell_type": "code",
      "execution_count": 4,
      "metadata": {
        "id": "Vo40HI4tnIBm"
      },
      "outputs": [],
      "source": [
        "test_sites = [\n",
        "    # {\n",
        "    #     \"name\": \"Amazon\",\n",
        "    #     \"url\": \"https://www.amazon.com\"\n",
        "    # },\n",
        "    # {\n",
        "    #     \"name\": \"UV\",\n",
        "    #     \"url\": \"https://www.uv.mx\"\n",
        "    # },\n",
        "    # {\n",
        "    #     \"name\": \"W3C ACT Rules\",\n",
        "    #     \"url\": \"https://www.w3.org/WAI/standards-guidelines/act/rules/\"\n",
        "    # },\n",
        "    # {\n",
        "    #     \"name\": \"W3C WCAG 2.2\",\n",
        "    #     \"url\": \"https://www.w3.org/WAI/WCAG22/Understanding/\"\n",
        "    # },\n",
        "    # {\n",
        "    #     \"name\": \"Chedrahui\",\n",
        "    #     \"url\": \"https://www.chedraui.com.mx\"\n",
        "    # },\n",
        "    {\n",
        "        \"name\": \"Form\",\n",
        "        \"url\": \"https://sistemasfei.uv.mx/aulaclase/\"\n",
        "    },\n",
        "    {\n",
        "        \"name\": \"Blocks\",\n",
        "        \"url\": \"https://sistemasfei.uv.mx/inicio/\"\n",
        "    }\n",
        "]"
      ]
    },
    {
      "cell_type": "markdown",
      "metadata": {
        "id": "nkokkcBzadcQ"
      },
      "source": [
        "## Setup cost's calculations\n",
        "\n",
        "The idea is to compare side-by-side.\n",
        "\n",
        "We can calculate how much it'll cost by using OpenAI's `tiktoken` library from: https://github.com/openai/tiktoken\n",
        "\n",
        "And costs from: https://openai.com/api/pricing/"
      ]
    },
    {
      "cell_type": "code",
      "execution_count": 5,
      "metadata": {
        "colab": {
          "base_uri": "https://localhost:8080/"
        },
        "id": "C0wHR_-JadcQ",
        "outputId": "33556027-fbe5-44dd-dc24-b8d86eb55366",
        "vscode": {
          "languageId": "shellscript"
        }
      },
      "outputs": [],
      "source": [
        "!pip install tiktoken --quiet"
      ]
    },
    {
      "cell_type": "code",
      "execution_count": 6,
      "metadata": {
        "colab": {
          "base_uri": "https://localhost:8080/"
        },
        "id": "zM68g89fadcQ",
        "outputId": "cc113c50-a2cd-486d-9e05-4a4f6fa73cf7"
      },
      "outputs": [],
      "source": [
        "import tiktoken\n",
        "\n",
        "def count_tokens(input_string: str) -> int:\n",
        "    encoder = tiktoken.encoding_for_model(\"gpt-4o\")\n",
        "    tokens = encoder.encode(input_string)\n",
        "    return len(tokens)\n",
        "\n",
        "def calculate_cost(input_string: str, cost_per_million_tokens: float = 2.5) -> tuple:\n",
        "    num_tokens = count_tokens(input_string)\n",
        "    total_cost = (num_tokens / 1_000_000) * cost_per_million_tokens\n",
        "    return total_cost, num_tokens\n",
        "\n",
        "def calculate_cost_tokens(num_tokens: int, cost_per_million_tokens: float = 2.5) -> float:\n",
        "    total_cost = (num_tokens / 1_000_000) * cost_per_million_tokens\n",
        "    return total_cost\n",
        "\n",
        "# Example usage:\n",
        "# input_string = \"Porque la gallina cruzó el camino? Pues porque quería llegar al otro lado.\"\n",
        "# cost = calculate_cost(input_string)\n",
        "# print(f\"The total cost for using gpt-4o is: $US {cost:.6f}\")"
      ]
    },
    {
      "cell_type": "markdown",
      "metadata": {
        "id": "JhoJFRuTadcQ"
      },
      "source": [
        "## Table para ver los resultados\n",
        "\n",
        "Ahora, para ver los resultados de la comparaciones, instalamos un paquete para ver tablas en línea de comandos: https://pypi.org/project/prettytable/\n",
        "\n",
        "Y también instalamos un paquete para ver una barra de progreso bonita en loops: https://pypi.org/project/tqdm/"
      ]
    },
    {
      "cell_type": "code",
      "execution_count": 7,
      "metadata": {
        "id": "1sxfK7Z1adcQ",
        "vscode": {
          "languageId": "shellscript"
        }
      },
      "outputs": [],
      "source": [
        "!pip install prettytable --quiet"
      ]
    },
    {
      "cell_type": "code",
      "execution_count": 8,
      "metadata": {
        "id": "8Q1iG482adcQ",
        "vscode": {
          "languageId": "shellscript"
        }
      },
      "outputs": [],
      "source": [
        "!pip install tqdm --quiet"
      ]
    },
    {
      "cell_type": "code",
      "execution_count": 9,
      "metadata": {
        "id": "MMLlOBowadcQ"
      },
      "outputs": [],
      "source": [
        "from typing import List, Callable, Dict\n",
        "from prettytable import PrettyTable\n",
        "from tqdm.auto import tqdm\n",
        "\n",
        "def view_scraped_content(scrape_url_functions: List[Dict[str, Callable[[str], str]]], sites_list: List[Dict[str, str]], characters_to_display: int = 500, table_max_width: int = 50, to_markdown: bool=False) -> List[Dict[str, str]]:\n",
        "    content_table_headers = [\"Site Name\"] + [f\"{func['name']} content\" for func in scrape_url_functions]\n",
        "    cost_table_headers = [\"Site Name\"] + [f\"{func['name']} cost\" for func in scrape_url_functions]\n",
        "\n",
        "    content_table = PrettyTable()\n",
        "    content_table.field_names = content_table_headers\n",
        "\n",
        "    cost_table = PrettyTable()\n",
        "    cost_table.field_names = cost_table_headers\n",
        "\n",
        "    scraped_data = []\n",
        "\n",
        "    for site in sites_list:\n",
        "        content_row = [site['name']]\n",
        "        cost_row = [site['name']]\n",
        "        site_data = {\"provider\": site['name'], \"sites\": []}\n",
        "\n",
        "        for scrape_function in scrape_url_functions:\n",
        "            function_name = scrape_function['name']\n",
        "            for _ in tqdm([site], desc=f\"Processing site {site['name']} using {function_name}\"):\n",
        "                content = scrape_function['function'](site['url'], to_markdown)\n",
        "                content_snippet = content[:characters_to_display]\n",
        "                content_snippet = f\"{len(content):,} characters retrieved:\\n\\n\" + content_snippet\n",
        "                content_row.append(content_snippet)\n",
        "\n",
        "                cost, count_tokens = calculate_cost(content)\n",
        "                cost_row.append(f\"${cost:.6f} (tokens: {count_tokens:,})\")\n",
        "\n",
        "                site_data[\"sites\"].append({\"name\": function_name, \"content\": content, \"url\": site['url']})\n",
        "\n",
        "        content_table.add_row(content_row)\n",
        "        cost_table.add_row(cost_row)\n",
        "        scraped_data.append(site_data)\n",
        "\n",
        "    content_table.max_width = table_max_width\n",
        "    content_table.hrules = True\n",
        "\n",
        "    cost_table.max_width = table_max_width\n",
        "    cost_table.hrules = True\n",
        "\n",
        "    print(\"Content Table:\")\n",
        "    print(content_table)\n",
        "\n",
        "    print(\"\\nCost Table:\\nThis is how much it would cost to use gpt-4o to use this content as input (estimated, not real).\")\n",
        "    print(cost_table)\n",
        "\n",
        "    return scraped_data"
      ]
    },
    {
      "cell_type": "markdown",
      "metadata": {
        "id": "CVbRcFl0adcR"
      },
      "source": [
        "## Setup all the scrapers\n",
        "\n",
        "Let's setup all of our scrapers."
      ]
    },
    {
      "cell_type": "markdown",
      "metadata": {
        "id": "nkwGupuBadcR"
      },
      "source": [
        "## Beautiful Soup\n",
        "\n",
        "Se instala este paquete desde: https://pypi.org/project/beautifulsoup4/\n",
        "\n",
        "Y también request para hacer peticiones desde: https://pypi.org/project/requests/"
      ]
    },
    {
      "cell_type": "code",
      "execution_count": 10,
      "metadata": {
        "id": "DoEo87IUadcR",
        "vscode": {
          "languageId": "shellscript"
        }
      },
      "outputs": [],
      "source": [
        "!pip install requests beautifulsoup4 --quiet"
      ]
    },
    {
      "cell_type": "code",
      "execution_count": 11,
      "metadata": {
        "vscode": {
          "languageId": "shellscript"
        }
      },
      "outputs": [],
      "source": [
        "!pip install markdownify --quiet"
      ]
    },
    {
      "cell_type": "code",
      "execution_count": 12,
      "metadata": {
        "id": "5mh7qfdladcR"
      },
      "outputs": [],
      "source": [
        "# Beautiful Soup utility functions\n",
        "\n",
        "import requests\n",
        "from bs4 import BeautifulSoup\n",
        "from markdownify import markdownify as md\n",
        "\n",
        "def beautiful_soup_scrape_url(url: str, to_markdown: bool = False) -> str:\n",
        "    response = requests.get(url)\n",
        "    soup = BeautifulSoup(response.content, 'html.parser')\n",
        "    if to_markdown:\n",
        "        return md(str(soup)) # Convert to markdown\n",
        "    return str(soup)"
      ]
    },
    {
      "cell_type": "markdown",
      "metadata": {
        "id": "J6UUmzTSadcR"
      },
      "source": [
        "## Playwright\n",
        "\n",
        "La manera clásica de hacer scraping. No es especial para LLMs desde: https://playwright.dev/"
      ]
    },
    {
      "cell_type": "code",
      "execution_count": 13,
      "metadata": {
        "colab": {
          "base_uri": "https://localhost:8080/"
        },
        "id": "iWtcOGvTadcR",
        "outputId": "a651572a-e03d-44a8-8d8b-64d729793d3b",
        "vscode": {
          "languageId": "shellscript"
        }
      },
      "outputs": [],
      "source": [
        "!pip install playwright --quiet"
      ]
    },
    {
      "cell_type": "code",
      "execution_count": 14,
      "metadata": {
        "colab": {
          "base_uri": "https://localhost:8080/"
        },
        "id": "xbL8G798adcR",
        "outputId": "c99e2110-2b90-4dc6-e892-d56a7c6b3c36",
        "vscode": {
          "languageId": "shellscript"
        }
      },
      "outputs": [],
      "source": [
        "!playwright install"
      ]
    },
    {
      "cell_type": "code",
      "execution_count": 15,
      "metadata": {
        "id": "YWC6t2UhadcR",
        "vscode": {
          "languageId": "shellscript"
        }
      },
      "outputs": [],
      "source": [
        "!pip install nest_asyncio --quiet"
      ]
    },
    {
      "cell_type": "code",
      "execution_count": 16,
      "metadata": {
        "vscode": {
          "languageId": "shellscript"
        }
      },
      "outputs": [],
      "source": [
        "!pip install markdownify --quiet"
      ]
    },
    {
      "cell_type": "code",
      "execution_count": 17,
      "metadata": {
        "id": "p-JCvLiFadcR"
      },
      "outputs": [],
      "source": [
        "import nest_asyncio\n",
        "nest_asyncio.apply()\n",
        "\n",
        "import asyncio\n",
        "from playwright.async_api import async_playwright\n",
        "\n",
        "async def scrape_playwright(url: str, to_markdown: bool = False) -> str:\n",
        "    async with async_playwright() as pw:\n",
        "        browser =  await pw.chromium.launch(headless=True)\n",
        "        page = await browser.new_page()\n",
        "        await page.goto(url)\n",
        "        # Espera para que cargue la pagina\n",
        "        await page.wait_for_load_state('domcontentloaded')\n",
        "        # Ejecuta un script para bajar hasta el final de la pagina\n",
        "        # await page.evaluate('window.scrollTo(0, document.body.scrollHeight)')\n",
        "        # Tambien se puede hacer con el teclado\n",
        "        await page.keyboard.press('End')\n",
        "        # Espera a que baje el scroll\n",
        "        await page.wait_for_timeout(2000)\n",
        "\n",
        "        html = await page.content()\n",
        "        if to_markdown:\n",
        "            html = md(html) # Convert to markdown\n",
        "        \n",
        "        await browser.close()\n",
        "        return html\n",
        "\n",
        "def scrape_playwright_sync(url: str, to_markdown: bool = False):\n",
        "    return asyncio.run(scrape_playwright(url, to_markdown))\n",
        "\n",
        "# print(scrape_playwright_sync(\"https://www.amazon.com\", to_markdown=True))"
      ]
    },
    {
      "cell_type": "markdown",
      "metadata": {
        "id": "TYsfgXbOadcR"
      },
      "source": [
        "## Reader API by Jina AI\n",
        "\n",
        "Este es especialmente para LLMs también. Setup Jina AI's scrape method from: https://jina.ai/reader/"
      ]
    },
    {
      "cell_type": "code",
      "execution_count": 18,
      "metadata": {
        "id": "OEHapbAOadcR"
      },
      "outputs": [],
      "source": [
        "import requests\n",
        "\n",
        "def scrape_jina_ai(url: str, to_markdown: bool = False) -> str:\n",
        "    headers = {\n",
        "        'Authorization': 'jina_db75e513620a46edaaf6023f105928ffn4azQ0XslqlqPmx6xgkxXuk1GCet',\n",
        "        'X-Return-Format': 'markdown' if to_markdown else 'html',\n",
        "        'X-Engine': 'browser',\n",
        "        'X-Timeout': '30',\n",
        "        \"X-With-Images-Summary\": \"none\" if to_markdown else \"all\",\n",
        "    }\n",
        "    data = {\n",
        "        'url': url,\n",
        "        'injectPageScript': [\n",
        "            'document.addEventListener(\"mutationIdle\", window.simulateScroll);'\n",
        "        ]\n",
        "    }\n",
        "    response = requests.post('https://r.jina.ai/', headers=headers, json=data)\n",
        "    return response.text\n",
        "\n",
        "# print(scrape_jina_ai(\"https://www.uv.mx\", to_markdown = True))"
      ]
    },
    {
      "cell_type": "markdown",
      "metadata": {
        "id": "vMtJpLtPadcR"
      },
      "source": [
        "## Crawl4AI: Open-Source LLM-Friendly Web Crawler & Scraper\n",
        "\n",
        "Este es especialmente para obtener formato amigable para LLMs desde: https://docs.crawl4ai.com/\n",
        "\n",
        "Primero instalamos prerequisitos que requiere Google Colab."
      ]
    },
    {
      "cell_type": "code",
      "execution_count": 19,
      "metadata": {
        "id": "1MHc1ZotejiY",
        "vscode": {
          "languageId": "shellscript"
        }
      },
      "outputs": [],
      "source": [
        "!pip install h5py --quiet"
      ]
    },
    {
      "cell_type": "code",
      "execution_count": 20,
      "metadata": {
        "vscode": {
          "languageId": "shellscript"
        }
      },
      "outputs": [],
      "source": [
        "!pip install typing-extensions --quiet"
      ]
    },
    {
      "cell_type": "code",
      "execution_count": 21,
      "metadata": {
        "vscode": {
          "languageId": "shellscript"
        }
      },
      "outputs": [],
      "source": [
        "!pip install wheel --quiet"
      ]
    },
    {
      "cell_type": "markdown",
      "metadata": {
        "id": "3MtRxpOrfevX"
      },
      "source": [
        "Posteriormente, ya podemos realizar la instalación."
      ]
    },
    {
      "cell_type": "code",
      "execution_count": 22,
      "metadata": {
        "id": "Dc6Gou8-adcR",
        "vscode": {
          "languageId": "shellscript"
        }
      },
      "outputs": [],
      "source": [
        "!pip install crawl4ai --quiet"
      ]
    },
    {
      "cell_type": "code",
      "execution_count": 23,
      "metadata": {
        "colab": {
          "base_uri": "https://localhost:8080/"
        },
        "id": "h_l1aG_radcR",
        "outputId": "5023fad8-6775-44b3-f970-0956828e3ac1",
        "vscode": {
          "languageId": "shellscript"
        }
      },
      "outputs": [
        {
          "name": "stdout",
          "output_type": "stream",
          "text": [
            "\u001b[36m[INIT].... → Running post-installation setup...\u001b[0m\n",
            "\u001b[36m[INIT].... → Installing Playwright browsers...\u001b[0m\n",
            "\u001b[32m[COMPLETE] ● Playwright installation completed successfully.\u001b[0m\n",
            "\u001b[36m[INIT].... → Starting database initialization...\u001b[0m\n",
            "\u001b[32m[COMPLETE] ● Database initialization completed successfully.\u001b[0m\n",
            "\u001b[32m[COMPLETE] ● Post-installation setup completed!\u001b[0m\n",
            "\u001b[0m"
          ]
        }
      ],
      "source": [
        "!crawl4ai-setup"
      ]
    },
    {
      "cell_type": "code",
      "execution_count": 24,
      "metadata": {
        "id": "fPX1z3jqadcR",
        "vscode": {
          "languageId": "shellscript"
        }
      },
      "outputs": [],
      "source": [
        "!pip install nest_asyncio --quiet"
      ]
    },
    {
      "cell_type": "code",
      "execution_count": 25,
      "metadata": {
        "id": "rNULITSAadcR"
      },
      "outputs": [],
      "source": [
        "import nest_asyncio\n",
        "nest_asyncio.apply()\n",
        "\n",
        "import asyncio\n",
        "from crawl4ai import AsyncWebCrawler\n",
        "from crawl4ai.async_configs import BrowserConfig, CrawlerRunConfig\n",
        "\n",
        "browser_conf = BrowserConfig(verbose=False,headless=True)\n",
        "\n",
        "run_cfg = CrawlerRunConfig(\n",
        "    wait_until=\"domcontentloaded\",\n",
        "    wait_for_images=True,\n",
        "    scan_full_page=True,\n",
        "    verbose=False,\n",
        ")\n",
        "\n",
        "async def async_scrape_crawl4ai(url: str, to_markdown: bool = False) -> str:\n",
        "    crawler = AsyncWebCrawler(config=browser_conf)\n",
        "    await crawler.start()\n",
        "    result = await crawler.arun(\n",
        "        url=url,\n",
        "        config=run_cfg,\n",
        "    )\n",
        "\n",
        "    if not to_markdown:\n",
        "        return result.html\n",
        "    \n",
        "    # Convert HTML to Markdown\n",
        "    # Get all the images\n",
        "    images = result.media.get(\"images\", [])\n",
        "    images_list = f\"\\n\\nImages found:{len(images)}\"\n",
        "    for i, img in enumerate(images):\n",
        "        images_list = images_list + f\"\\n - ![Image {i+1}: {img.get('alt','No description')}]({img.get('src','')})\"\n",
        "        # Example: - ![Image 1: Alt text](https://example.com/image1.jpg)\n",
        "    \n",
        "    return result.markdown + images_list\n",
        "\n",
        "# To run the async function in a synchronous context\n",
        "# (like this script), you can use asyncio.run() to execute it.\n",
        "# This is a workaround for running async functions in a sync context.\n",
        "def scrape_crawl4ai(url: str, to_markdown: bool = False):\n",
        "    return asyncio.run(async_scrape_crawl4ai(url, to_markdown))\n",
        "\n",
        "# print(scrape_crawl4ai(\"https://www.uv.mx\", to_markdown=True))"
      ]
    },
    {
      "cell_type": "markdown",
      "metadata": {},
      "source": [
        "## Firecrawl: Turn websites into LLM-ready data\n",
        "\n",
        "Esta es otra opción que no se usará porque tiene costo. También esta enfocado en AI. Desde: https://www.firecrawl.dev/"
      ]
    },
    {
      "cell_type": "code",
      "execution_count": 26,
      "metadata": {},
      "outputs": [],
      "source": [
        "import getpass\n",
        "import requests\n",
        "import json\n",
        "\n",
        "FIRECRAWL_API_KEY = getpass.getpass('Enter your FireCrawl API key: ')\n",
        "\n",
        "def scrape_firecrawl(url: str, to_markdown: bool = False) -> str:    \n",
        "    payload = {\n",
        "        'url': url,\n",
        "        'formats': ['html' if not to_markdown else 'markdown'],\n",
        "        'waitFor': 2000,\n",
        "        'actions': [\n",
        "            {\n",
        "                \"type\": \"executeJavascript\", \"script\": \"window.scrollTo(0, document.body.scrollHeight)\",\n",
        "                \"type\": \"wait\", \"milliseconds\": 2000,\n",
        "            }\n",
        "        ]\n",
        "    }\n",
        "    headers = {\n",
        "        \"Authorization\": \"Bearer \" + FIRECRAWL_API_KEY,\n",
        "        \"Content-Type\": \"application/json\"\n",
        "    }\n",
        "\n",
        "    response = requests.request(\"POST\", \"https://api.firecrawl.dev/v1/scrape\", json=payload, headers=headers)\n",
        "    scrape_result = json.loads(response.text)\n",
        "\n",
        "    # Get the content\n",
        "    if not to_markdown:\n",
        "        return scrape_result['data']['html']\n",
        "    else:\n",
        "        return scrape_result['data']['markdown']\n",
        "    \n",
        "# res = scrape_firecrawl(\"https://www.uv.mx\", to_markdown=False)\n",
        "# print(res)"
      ]
    },
    {
      "cell_type": "markdown",
      "metadata": {
        "id": "Su7fsLEwadcR"
      },
      "source": [
        "## Main functions to run the comparasion with HTML\n",
        "\n",
        "Let's run all the scrapers and display them in our comparison table."
      ]
    },
    {
      "cell_type": "code",
      "execution_count": 27,
      "metadata": {
        "colab": {
          "base_uri": "https://localhost:8080/"
        },
        "id": "XzPk7M7oadcR",
        "outputId": "db1e6eb3-348c-4ae0-d9b8-e9ea4a287d5c"
      },
      "outputs": [
        {
          "data": {
            "application/vnd.jupyter.widget-view+json": {
              "model_id": "1ffda75e7dfe45928b049a40c9609be8",
              "version_major": 2,
              "version_minor": 0
            },
            "text/plain": [
              "Processing site Form using Beautiful Soup:   0%|          | 0/1 [00:00<?, ?it/s]"
            ]
          },
          "metadata": {},
          "output_type": "display_data"
        },
        {
          "data": {
            "application/vnd.jupyter.widget-view+json": {
              "model_id": "17b2d549e9c841bba1e390ed668824da",
              "version_major": 2,
              "version_minor": 0
            },
            "text/plain": [
              "Processing site Form using Playwright:   0%|          | 0/1 [00:00<?, ?it/s]"
            ]
          },
          "metadata": {},
          "output_type": "display_data"
        },
        {
          "data": {
            "application/vnd.jupyter.widget-view+json": {
              "model_id": "994bb2892810463c9ad234bb6b3f9154",
              "version_major": 2,
              "version_minor": 0
            },
            "text/plain": [
              "Processing site Form using Crawl4ai:   0%|          | 0/1 [00:00<?, ?it/s]"
            ]
          },
          "metadata": {},
          "output_type": "display_data"
        },
        {
          "data": {
            "application/vnd.jupyter.widget-view+json": {
              "model_id": "e015c1b0fd9f492489cf8009bdc7df70",
              "version_major": 2,
              "version_minor": 0
            },
            "text/plain": [
              "Processing site Blocks using Beautiful Soup:   0%|          | 0/1 [00:00<?, ?it/s]"
            ]
          },
          "metadata": {},
          "output_type": "display_data"
        },
        {
          "data": {
            "application/vnd.jupyter.widget-view+json": {
              "model_id": "d3945744b28e4ac2a6dc34615b5c5503",
              "version_major": 2,
              "version_minor": 0
            },
            "text/plain": [
              "Processing site Blocks using Playwright:   0%|          | 0/1 [00:00<?, ?it/s]"
            ]
          },
          "metadata": {},
          "output_type": "display_data"
        },
        {
          "data": {
            "application/vnd.jupyter.widget-view+json": {
              "model_id": "3e0ac6a1e18545b795d8c407bec74eb9",
              "version_major": 2,
              "version_minor": 0
            },
            "text/plain": [
              "Processing site Blocks using Crawl4ai:   0%|          | 0/1 [00:00<?, ?it/s]"
            ]
          },
          "metadata": {},
          "output_type": "display_data"
        },
        {
          "name": "stdout",
          "output_type": "stream",
          "text": [
            "Content Table:\n",
            "+-----------+-------------------------------------+-------------------------------------+-------------------------------------+\n",
            "| Site Name |        Beautiful Soup content       |          Playwright content         |           Crawl4ai content          |\n",
            "+-----------+-------------------------------------+-------------------------------------+-------------------------------------+\n",
            "|    Form   |     6,328 characters retrieved:     |     33,820 characters retrieved:    |     33,820 characters retrieved:    |\n",
            "|           |                                     |                                     |                                     |\n",
            "|           |           <!DOCTYPE html>           |         <!DOCTYPE html><html        |         <!DOCTYPE html><html        |\n",
            "|           |                                     |           lang=\"en\"><head>          |           lang=\"en\"><head>          |\n",
            "|           |           <html lang=\"en\">          |            <meta charset=\"UTF-8\">   |            <meta charset=\"UTF-8\">   |\n",
            "|           |                <head>               |           <meta http-equiv=\"X-UA-   |           <meta http-equiv=\"X-UA-   |\n",
            "|           |       <meta charset=\"utf-8\"/>       |    Compatible\" content=\"IE=edge\">   |    Compatible\" content=\"IE=edge\">   |\n",
            "|           |    <meta content=\"IE=edge\" http-    |            <meta name=\"viewport\"    |            <meta name=\"viewport\"    |\n",
            "|           |      equiv=\"X-UA-Compatible\"/>      |     content=\"width=device-width,    |     content=\"width=device-width,    |\n",
            "|           |  <meta content=\"width=device-width, |         initial-scale=1.0\">         |         initial-scale=1.0\">         |\n",
            "|           |          initial-scale=1.0\"         |            <link rel=\"stylesheet\"   |            <link rel=\"stylesheet\"   |\n",
            "|           |          name=\"viewport\"/>          |   href=\"./css/bootstrap.min.css\">   |   href=\"./css/bootstrap.min.css\">   |\n",
            "|           |                <link                |               <title>Inicio de      |               <title>Inicio de      |\n",
            "|           |    href=\"./css/bootstrap.min.css\"   |            sesión</title>           |            sesión</title>           |\n",
            "|           |          rel=\"stylesheet\"/>         |                 <style>             |                 <style>             |\n",
            "|           |   <title>Inicio de sesión</title>   |                 @font-face {        |                 @font-face {        |\n",
            "|           |               </head>               |                   font-family:      |                   font-family:      |\n",
            "                   |            GillSansBold;            |            GillSansBold;            |\n",
            "                   |             src: url(GillSans/Gill\\ |             src: url(GillSans/Gill\\ |\n",
            "                   |           Sans\\ Bold.otf);          |           Sans\\ Bold.otf);          |\n",
            "                   |                      }              |                      }              |\n",
            "                   |                                     |                                     |\n",
            "                   |                 @font-face {        |                 @font-face {        |\n",
            "                   |                   font-family:      |                   font-family:      |\n",
            "                   |           GillSansRegular;          |           GillSansRegular;          |\n",
            "                   |             src: url(GillSans/Gill\\ |             src: url(GillSans/Gill\\ |\n",
            "                   |              Sans.otf);             |              Sans.otf);             |\n",
            "                   |                      }              |                      }              |\n",
            "                   |                                     |                                     |\n",
            "                   |                    h2, h4           |                    h2, h4           |\n",
            "                   |                      {              |                      {              |\n",
            "                   |                   font-family:      |                   font-family:      |\n",
            "                   |            GillSansBold;            |            GillSansBold;            |\n",
            "                   |                      }              |                      }              |\n",
            "                   |                                     |                                     |\n",
            "                   |                      p{             |                      p{             |\n",
            "                   |                   font-family:      |                   font-family:      |\n",
            "                   |           GillSansRegular;          |           GillSansRegular;          |\n",
            "                   |                      }              |                      }              |\n",
            "                   |                                     |                                     |\n",
            "|           |                                     |            @media only screen and   |            @media only screen and   |\n",
            "|           |                                     |         (max-width: 576px) {        |         (max-width: 576px) {        |\n",
            "|           |                                     |                      .form          |                      .form          |\n",
            "|           |                                     |                        {            |                        {            |\n",
            "|           |                                     |                                     |                                     |\n",
            "+-----------+-------------------------------------+-------------------------------------+-------------------------------------+\n",
            "|   Blocks  |     8,887 characters retrieved:     |     10,374 characters retrieved:    |     10,378 characters retrieved:    |\n",
            "|           |                                     |                                     |                                     |\n",
            "|           |    <html lang=\"en\" style=\"filter:   |    <html lang=\"en\" style=\"filter:   |    <html lang=\"en\" style=\"filter:   |\n",
            "|           |             invert(0);\">            |          invert(0);\"><head>         |          invert(0);\"><head>         |\n",
            "|           |                <head>               |            <meta charset=\"UTF-8\">   |            <meta charset=\"UTF-8\">   |\n",
            "|           |       <meta charset=\"utf-8\"/>       |           <meta name=\"description\"  |           <meta name=\"description\"  |\n",
            "|           |  <meta content=\"Astro description\"  |     content=\"Astro description\">    |     content=\"Astro description\">    |\n",
            "|           |         name=\"description\"/>        |            <meta name=\"viewport\"    |            <meta name=\"viewport\"    |\n",
            "|           |  <meta content=\"width=device-width\" |    content=\"width=device-width\">    |    content=\"width=device-width\">    |\n",
            "|           |          name=\"viewport\"/>          |               <link rel=\"icon\"      |               <link rel=\"icon\"      |\n",
            "|           | <link href=\"favicon.ico\" rel=\"icon\" |         type=\"image/x-icon\"         |         type=\"image/x-icon\"         |\n",
            "|           |        type=\"image/x-icon\"/>        |         href=\"favicon.ico\">         |         href=\"favicon.ico\">         |\n",
            "|           |     <meta content=\"Astro v4.4.1\"    |            <meta name=\"generator\"   |            <meta name=\"generator\"   |\n",
            "|           |       name=\"generator\"/><link       | content=\"Astro v4.4.1\"><link href=\" | content=\"Astro v4.4.1\"><link href=\" |\n",
            "|           | crossorigin=\"anonymous\" href=\"https | https://cdn.jsdelivr.net/npm/bootst | https://cdn.jsdelivr.net/npm/bootst |\n",
            "|           | ://cdn.jsdelivr.net/npm/bootstrap@5 | rap@5.3.3/dist/css/bootstrap.min.cs | rap@5.3.3/dist/css/bootstrap.min.cs |\n",
            "|           | .3.3/dist/css/bootstrap.min.css\" in | s\" rel=\"stylesheet\" integrity=\"sha3 | s\" rel=\"stylesheet\" integrity=\"sha3 |\n",
            "|           |           tegrity=\"sha384-          |                 84-                 |                 84-                 |\n",
            "|           | QWTKZyjpPEjISv5WaRU9OFeRpok6YctnYmD | QWTKZyjpPEjISv5WaRU9OFeRpok6YctnYmD | QWTKZyjpPEjISv5WaRU9OFeRpok6YctnYmD |\n",
            "|           |    r5pNlyT2bRjXh0JMhjY6hW+ALEwIH\"   |    r5pNlyT2bRjXh0JMhjY6hW+ALEwIH\"   |    r5pNlyT2bRjXh0JMhjY6hW+ALEwIH\"   |\n",
            "|           |          rel=\"stylesheet\"/>         |       crossorigin=\"anonymous\">      |       crossorigin=\"anonymous\">      |\n",
            "|           |     <title>Sistemas FEI</title>     |         <title>Sistemas FEI</title> |         <title>Sistemas FEI</title> |\n",
            "                   |                   <style>           |                   <style>           |\n",
            "                   |               img[data-astro-cid-   |               img[data-astro-cid-   |\n",
            "                   |              dohjnao5]              |              dohjnao5]              |\n",
            "                   |                        {            |                        {            |\n",
            "                   |                   max-width:300px;  |                   max-width:300px;  |\n",
            "                   |                  max-height:100px;  |                  max-height:100px;  |\n",
            "                   |                   object-fit:cover  |                   object-fit:cover  |\n",
            "                   |                        }            |                        }            |\n",
            "                   |              .card[data-astro-cid-  |              .card[data-astro-cid-  |\n",
            "|           |                    place-self:ce    |              dohjnao5]              |              dohjnao5]              |\n",
            "|           |                                     |                                     |                                     |\n",
            "+-----------+-------------------------------------+-------------------------------------+-------------------------------------+\n",
            "\n",
            "Cost Table:\n",
            "This is how much it would cost to use gpt-4o to use this content as input (estimated, not real).\n",
            "+-----------+---------------------------+----------------------------+----------------------------+\n",
            "| Site Name |    Beautiful Soup cost    |      Playwright cost       |       Crawl4ai cost        |\n",
            "+-----------+---------------------------+----------------------------+----------------------------+\n",
            "|    Form   | $0.003778 (tokens: 1,511) | $0.026605 (tokens: 10,642) | $0.026605 (tokens: 10,642) |\n",
            "+-----------+---------------------------+----------------------------+----------------------------+\n",
            "|   Blocks  | $0.006637 (tokens: 2,655) | $0.007238 (tokens: 2,895)  | $0.007248 (tokens: 2,899)  |\n",
            "+-----------+---------------------------+----------------------------+----------------------------+\n"
          ]
        }
      ],
      "source": [
        "list_of_scraper_functions = [\n",
        "      {\"name\": \"Beautiful Soup\", \"function\": beautiful_soup_scrape_url},\n",
        "      # {\"name\": \"Jina AI\", \"function\": scrape_jina_ai},\n",
        "      {\"name\": \"Playwright\", \"function\": scrape_playwright_sync},\n",
        "      # {\"name\": \"Firecrawl\", \"function\": scrape_firecrawl},\n",
        "      {\"name\": \"Crawl4ai\", \"function\": scrape_crawl4ai},\n",
        "]\n",
        "\n",
        "all_content_html = view_scraped_content(list_of_scraper_functions, test_sites, 800, 35, to_markdown=False)"
      ]
    },
    {
      "cell_type": "markdown",
      "metadata": {},
      "source": [
        "Se guarda el resultado de `Crawl4ai` en HTML para su futura comparación"
      ]
    },
    {
      "cell_type": "code",
      "execution_count": 28,
      "metadata": {},
      "outputs": [],
      "source": [
        "import os\n",
        "\n",
        "def generate_output_scrape_file(prefix: str, content: str):\n",
        "    # Create the output directory if it doesn't exist\n",
        "    if not os.path.exists(\"output/original\"):\n",
        "        os.makedirs(\"output/original\")\n",
        "\n",
        "    # Write the HTML content to files\n",
        "    with open(f'output/original/{prefix}-original.html', 'w', encoding='utf-8') as f:\n",
        "        f.write(content)\n",
        "\n",
        "# Save the scraped content to files\n",
        "for items in all_content_html:\n",
        "    if(items[\"provider\"] == \"Blocks\" or items[\"provider\"] == \"Form\"):\n",
        "        for site in items[\"sites\"]:\n",
        "            if site[\"name\"] == \"Crawl4ai\":\n",
        "                if(items[\"provider\"] == \"Blocks\"):\n",
        "                    generate_output_scrape_file(\"blocks\", site[\"content\"])\n",
        "                elif(items[\"provider\"] == \"Form\"):\n",
        "                    generate_output_scrape_file(\"form\", site[\"content\"])"
      ]
    },
    {
      "cell_type": "markdown",
      "metadata": {},
      "source": [
        "## Realizamos la comparación con markdown\n",
        "\n",
        "Vamos a ejecutar todos los scrapers pero ahora que devuelvan un formato más amigable para la IA."
      ]
    },
    {
      "cell_type": "code",
      "execution_count": 29,
      "metadata": {},
      "outputs": [
        {
          "data": {
            "application/vnd.jupyter.widget-view+json": {
              "model_id": "1809c2a3c3054879a5323cd06ab1c6d4",
              "version_major": 2,
              "version_minor": 0
            },
            "text/plain": [
              "Processing site Form using Beautiful Soup:   0%|          | 0/1 [00:00<?, ?it/s]"
            ]
          },
          "metadata": {},
          "output_type": "display_data"
        },
        {
          "data": {
            "application/vnd.jupyter.widget-view+json": {
              "model_id": "31d1df3d66914543a538451dfa5332eb",
              "version_major": 2,
              "version_minor": 0
            },
            "text/plain": [
              "Processing site Form using Playwright:   0%|          | 0/1 [00:00<?, ?it/s]"
            ]
          },
          "metadata": {},
          "output_type": "display_data"
        },
        {
          "data": {
            "application/vnd.jupyter.widget-view+json": {
              "model_id": "11504617714a4c258cdc64cdd82b800b",
              "version_major": 2,
              "version_minor": 0
            },
            "text/plain": [
              "Processing site Form using Crawl4ai:   0%|          | 0/1 [00:00<?, ?it/s]"
            ]
          },
          "metadata": {},
          "output_type": "display_data"
        },
        {
          "data": {
            "application/vnd.jupyter.widget-view+json": {
              "model_id": "3fbb3ec0c1744b7bb93c872eaa37a636",
              "version_major": 2,
              "version_minor": 0
            },
            "text/plain": [
              "Processing site Blocks using Beautiful Soup:   0%|          | 0/1 [00:00<?, ?it/s]"
            ]
          },
          "metadata": {},
          "output_type": "display_data"
        },
        {
          "data": {
            "application/vnd.jupyter.widget-view+json": {
              "model_id": "8bc10d47961f4bdf80b3579448d2d1a2",
              "version_major": 2,
              "version_minor": 0
            },
            "text/plain": [
              "Processing site Blocks using Playwright:   0%|          | 0/1 [00:00<?, ?it/s]"
            ]
          },
          "metadata": {},
          "output_type": "display_data"
        },
        {
          "data": {
            "application/vnd.jupyter.widget-view+json": {
              "model_id": "2b40fc20789b4cdeb63cb74b12152e89",
              "version_major": 2,
              "version_minor": 0
            },
            "text/plain": [
              "Processing site Blocks using Crawl4ai:   0%|          | 0/1 [00:00<?, ?it/s]"
            ]
          },
          "metadata": {},
          "output_type": "display_data"
        },
        {
          "name": "stdout",
          "output_type": "stream",
          "text": [
            "Content Table:\n",
            "+-----------+-------------------------------------+-------------------------------------+-------------------------------------+\n",
            "| Site Name |        Beautiful Soup content       |          Playwright content         |           Crawl4ai content          |\n",
            "+-----------+-------------------------------------+-------------------------------------+-------------------------------------+\n",
            "|    Form   |      355 characters retrieved:      |      354 characters retrieved:      |      311 characters retrieved:      |\n",
            "|           |                                     |                                     |                                     |\n",
            "|           |           Inicio de sesión          |           Inicio de sesión          | ![](https://sistemasfei.uv.mx/aulac |\n",
            "|           |                                     |                                     |        lase/image_login.jpg)        |\n",
            "|           |                                     |                                     |             [Universidad            |\n",
            "|           |                                     |         ![](image_login.jpg)        |   Veracruzana](https://www.uv.mx)   |\n",
            "|           |         ![](image_login.jpg)        |                                     |  ## Sistema de Gestión de Claves y  |\n",
            "|           |                                     |             [Universidad            |      Préstamo de Equipo (SGCPE)     |\n",
            "|           |             [Universidad            |   Veracruzana](https://www.uv.mx)   |    #### Facultad de Estadística e   |\n",
            "|           |   Veracruzana](https://www.uv.mx)   |                                     |             Informática             |\n",
            "|           |                                     |    Sistema de Gestión de Claves y   |         ## Inicio de sesión         |\n",
            "|           |    Sistema de Gestión de Claves y   |      Préstamo de Equipo (SGCPE)     |        Correo institucional:        |\n",
            "|           |      Préstamo de Equipo (SGCPE)     | ----------------------------------- |         Ejem: jhondoe@uv.mx         |\n",
            "|           | ----------------------------------- |        ----------------------       |             Contraseña:             |\n",
            "|           |        ----------------------       |                                     |            Iniciar sesión           |\n",
            "|           |                                     |    #### Facultad de Estadística e   |                                     |\n",
            "|           |    #### Facultad de Estadística e   |             Informática             |                                     |\n",
            "|           |             Informática             |                                     |            Images found:0           |\n",
            "|           |                                     |           Inicio de sesión          |                                     |\n",
            "|           |           Inicio de sesión          |           ----------------          |                                     |\n",
            "|           |           ----------------          |                                     |                                     |\n",
            "|           |                                     |        Correo institucional:        |                                     |\n",
            "|           |        Correo institucional:        |                                     |                                     |\n",
            "|           |                                     |         Ejem: jhondoe@uv.mx         |                                     |\n",
            "|           |         Ejem: jhondoe@uv.mx         |                                     |                                     |\n",
            "|           |                                     |             Contraseña:             |                                     |\n",
            "|           |             Contraseña:             |                                     |                                     |\n",
            "|           |                                     |            Iniciar sesión           |                                     |\n",
            "|           |            Iniciar sesión           |                                     |                                     |\n",
            "+-----------+-------------------------------------+-------------------------------------+-------------------------------------+\n",
            "|   Blocks  |     1,345 characters retrieved:     |     1,345 characters retrieved:     |     2,064 characters retrieved:     |\n",
            "|           |                                     |                                     |                                     |\n",
            "|           |             Sistemas FEI            |             Sistemas FEI            | [ ![Logo FEI](https://sistemasfei.u |\n",
            "|           |                                     |                                     | v.mx/inicio/_astro/logoFEI.CKAzzJnF |\n",
            "|           |                                     |                                     |            _ZyfpCW.webp)            |\n",
            "|           |                                     |                                     |       ](http://www.uv.mx/fei)       |\n",
            "|           |                                     |                                     |       # Portal de sistemas FEI      |\n",
            "|           | [![Logo FEI](_astro/logoFEI.CKAzzJn | [![Logo FEI](_astro/logoFEI.CKAzzJn | [ ![Logo Universidad Veracruzana](h |\n",
            "|           | F_ZyfpCW.webp)](http://www.uv.mx/fe | F_ZyfpCW.webp)](http://www.uv.mx/fe | ttps://sistemasfei.uv.mx/inicio/_as |\n",
            "|           |                  i)                 |                  i)                 |    tro/logoUV.gPBiyME4_N2yL.webp)   |\n",
            "|           |                                     |                                     |         ](http://www.uv.mx)         |\n",
            "|           |        Portal de sistemas FEI       |        Portal de sistemas FEI       | ![foto](https://sistemasfei.uv.mx/i |\n",
            "|           |        ======================       |        ======================       | nicio/_astro/aulaFEI.Bfi36lLc_Z2aGa |\n",
            "|           |                                     |                                     |               TO.webp)              |\n",
            "|           | [![Logo Universidad Veracruzana](_a | [![Logo Universidad Veracruzana](_a |  ##### Sistema de Gestion de Claves |\n",
            "|           | stro/logoUV.gPBiyME4_N2yL.webp)](ht | stro/logoUV.gPBiyME4_N2yL.webp)](ht |               de Aulas              |\n",
            "|           |           tp://www.uv.mx)           |           tp://www.uv.mx)           | [ Entrar ](https://sistemasfei.uv.m |\n",
            "|           |                                     |                                     |            x/aulaclase/)            |\n",
            "|           | ![foto](_astro/aulaFEI.Bfi36lLc_Z2a | ![foto](_astro/aulaFEI.Bfi36lLc_Z2a | ![foto](https://sistemasfei.uv.mx/i |\n",
            "|           |              GaTO.webp)             |              GaTO.webp)             | nicio/_astro/edificioFEI.C5q6RF30_Z |\n",
            "|           |                                     |                                     |             1jodpw.webp)            |\n",
            "|           |  ##### Sistema de Gestion de Claves |  ##### Sistema de Gestion de Claves |           ##### MOODLE FEI          |\n",
            "|           |               de Aulas              |               de Aulas              | [ Entrar ](https://sistemasfei.uv.m |\n",
            "|           |                                     |                                     |              x/moodle/)             |\n",
            "|           | [Entrar](https://sistemasfei.uv.mx/ | [Entrar](https://sistemasfei.uv.mx/ | ![foto](https://sistemasfei.uv.mx/i |\n",
            "|           |             aulaclase/)             |             aulaclase/)             | nicio/_astro/PEDPA.CaZEdBX2_Zm1Ox5. |\n",
            "|           |                                     |                                     |                webp)                |\n",
            "|           | ![foto](_astro/edificioFEI.C5q6RF30 | ![foto](_astro/edificioFEI.C5q6RF30 |    ##### Sistema de Estimulos al    |\n",
            "|           |            _Z1jodpw.webp)           |            _Z1jodpw.webp)           |   Desempeño del Personal Academico  |\n",
            "|           |                                     |                                     |               [ Entrar              |\n",
            "|           |           ##### MOODLE FEI          |           ##### MOODLE FEI          | ](https://sistemasfei.uv.mx/pedpa/) |\n",
            "|           |                                     |                                     | ![foto](https://sistemasfei.uv.mx/i |\n",
            "|           | [Entrar](https://sistemasfei.uv.mx/ | [Entrar](https://sistemasfei.uv.mx/ | nicio/_astro/sistemaAvisosFEI.webp) |\n",
            "|           |               moodle/)              |               moodle/)              |       ##### Sistema de Avisos       |\n",
            "|           |                                     |                                     | [ Entrar ](https://sistemasfei.uv.m |\n",
            "|           | ![foto](_astro/PEDPA.CaZEdBX2_Zm1Ox | ![foto](_astro/PEDPA.CaZEdBX2_Zm1Ox |            x/bannersfei/)           |\n",
            "|           |               5.webp)               |               5.webp)               | ![foto](https://sistemasfei.uv.mx/i |\n",
            "|           |                                     |                                     |  nicio/_astro/formularioForms.webp) |\n",
            "|           |    ##### Sistema de Estimulos al    |    ##### Sistema de Estimulos al    |   ##### Formulario de Registro de   |\n",
            "|           |   Desempeño del Personal Academico  |   Desempeño del Personal Academico  |               Eventos               |\n",
            "|           |                                     |                                     | [ Entrar ](https://forms.office.com |\n",
            "|           | [Entrar](https://sistemasfei.uv.mx/ | [Entrar](https://sistemasfei.uv.mx/ | /pages/responsepage.aspx?id=UXaQPMb |\n",
            "|           |               pedpa/)               |               pedpa/)               | YpkyopGokJDDmU-mq0IRCUa9Ei8mq08oDur |\n",
            "|           |                                     |                                     | xUMDJJQkQ2S1RTRU4zRTQ0SVpINENHQTNWR |\n",
            "|           | ![foto](_astro/sistemaAvisosFEI.web | ![foto](_astro/sistemaAvisosFEI.web |         i4u&route=shorturl)         |\n",
            "|           |                  p)                 |                  p)                 |    ![foto](https://sistemasfei.u    |\n",
            "|           |                                     |                                     |                                     |\n",
            "|           |       ##### Sistema de Avisos       |       ##### Sistema de Avisos       |                                     |\n",
            "|           |                                     |                                     |                                     |\n",
            "|           | [Entrar](https://sistemasfei.uv.mx/ | [Entrar](https://sistemasfei.uv.mx/ |                                     |\n",
            "|           |             bannersfei/)            |             bannersfei/)            |                                     |\n",
            "|           |                                     |                                     |                                     |\n",
            "|           | ![foto](_astro/formularioForms.webp | ![foto](_astro/formularioForms.webp |                                     |\n",
            "|           |                  )                  |                  )                  |                                     |\n",
            "|           |                                     |                                     |                                     |\n",
            "|           |   ##### Formulario de Registro de   |   ##### Formulario de Registro de   |                                     |\n",
            "|           |               Eventos               |               Eventos               |                                     |\n",
            "|           |                                     |                                     |                                     |\n",
            "|           | [Entrar](https://forms.office.com/p | [Entrar](https://forms.office.com/p |                                     |\n",
            "|           | ages/responsepage.aspx?id=UXaQPMbYp | ages/responsepage.aspx?id=UXaQPMbYp |                                     |\n",
            "|           | kyopGokJDDmU-mq0IRCUa9Ei8mq08oDurxU | kyopGokJDDmU-mq0IRCUa9Ei8mq08oDurxU |                                     |\n",
            "|           | MDJJQkQ2S1RTRU4zRTQ0SVpINENHQTNWRi4 | MDJJQkQ2S1RTRU4zRTQ0SVpINENHQTNWRi4 |                                     |\n",
            "|           |          u&route=shorturl)          |          u&route=shorturl)          |                                     |\n",
            "|           |                                     |                                     |                                     |\n",
            "|           | ![foto](_astro/DashboardDesign.webp | ![foto](_astro/DashboardDesign.webp |                                     |\n",
            "|           |                  )                  |                  )                  |                                     |\n",
            "|           |                                     |                                     |                                     |\n",
            "|           |         ##### Dashboard PBR         |         ##### Dashboard PBR         |                                     |\n",
            "|           |                                     |                                     |                                     |\n",
            "|           | [Entrar](https://sistemasfei.uv.mx/ | [Entrar](https://sistemasfei.uv.mx/ |                                     |\n",
            "|           |         dashboardfei/login)         |         dashboardfei/login)         |                                     |\n",
            "|           |                                     |                                     |                                     |\n",
            "|           | ![foto](_astro/registroHorario.webp | ![foto](_astro/registroHorario.webp |                                     |\n",
            "|           |                  )                  |                  )                  |                                     |\n",
            "|           |                                     |                                     |                                     |\n",
            "|           |    ##### Registro de Horarios de    |    ##### Registro de Horarios de    |                                     |\n",
            "|           |               Tutoría               |               Tutoría               |                                     |\n",
            "|           |                                     |                                     |                                     |\n",
            "|           |      [Entrar](https://sistemasf     |      [Entrar](https://sistemasf     |                                     |\n",
            "+-----------+-------------------------------------+-------------------------------------+-------------------------------------+\n",
            "\n",
            "Cost Table:\n",
            "This is how much it would cost to use gpt-4o to use this content as input (estimated, not real).\n",
            "+-----------+-------------------------+-------------------------+-------------------------+\n",
            "| Site Name |   Beautiful Soup cost   |     Playwright cost     |      Crawl4ai cost      |\n",
            "+-----------+-------------------------+-------------------------+-------------------------+\n",
            "|    Form   |  $0.000193 (tokens: 77) |  $0.000193 (tokens: 77) |  $0.000220 (tokens: 88) |\n",
            "+-----------+-------------------------+-------------------------+-------------------------+\n",
            "|   Blocks  | $0.001160 (tokens: 464) | $0.001160 (tokens: 464) | $0.001840 (tokens: 736) |\n",
            "+-----------+-------------------------+-------------------------+-------------------------+\n"
          ]
        }
      ],
      "source": [
        "all_content_md = view_scraped_content(list_of_scraper_functions, test_sites, 1200, 35, to_markdown=True)"
      ]
    },
    {
      "cell_type": "markdown",
      "metadata": {},
      "source": [
        "## Conectar con los LLMs para evaluar si puede crear una página web accesible\n",
        "\n",
        "Vamos a enviar el contenido en HTML y en markdown y le vamos a pedir que nos devuelva una sección accesible WCAG 2.2."
      ]
    },
    {
      "cell_type": "code",
      "execution_count": 30,
      "metadata": {
        "vscode": {
          "languageId": "shellscript"
        }
      },
      "outputs": [],
      "source": [
        "!pip install openai --quiet"
      ]
    },
    {
      "cell_type": "code",
      "execution_count": 57,
      "metadata": {},
      "outputs": [],
      "source": [
        "import getpass\n",
        "from openai import OpenAI\n",
        "\n",
        "OPENAI_API_KEY = getpass.getpass('Enter your OpenAI API key for gpt-4o: ')\n",
        "GOOGLE_API_KEY = getpass.getpass('Enter your Google API key for gemini-2.0-flash: ')\n",
        "\n",
        "def extract(model: str, user_input: str, user_prompt: str, template: str = None) -> str:\n",
        "    if model == \"gpt-4o\":\n",
        "        client = OpenAI(api_key=OPENAI_API_KEY)\n",
        "    elif model == \"gemini-2.0-flash\":\n",
        "        client = OpenAI(api_key=GOOGLE_API_KEY, base_url=\"https://generativelanguage.googleapis.com/v1beta/openai/\")\n",
        "\n",
        "    entity_extraction_system_message = {\n",
        "        \"role\": \"system\", \n",
        "        \"content\": \"\"\"\"\n",
        "        1. You are a helpful assistant expert on web accessibility WCAG that evaluate and correct HTML code.\n",
        "        2. You will be given code and you will analize it.\n",
        "        3. Then, you will create a new webpage from that code but accessible according to WCAG https://www.w3.org/WAI/WCAG22/Understanding/\n",
        "        4. Revise all WCAG 2.2. rules including color contrast, alt text, aria labels, provide correct heading levels starting from h1, use semantic HTML elements. Dont broke aria references. Correct as necessary the HTML code to make it accessible.\n",
        "        5. If the images, scripts, css and font files have a relative urls, convert them to absoulute urls respeting the relative path. If the images, scripts, css and font files have absolute urls, you will keep them as they are.\n",
        "        6. If you include an style.css file, you will add the rules inline in the head section. If you include an sr-only rule, add it to the style section to hide the elements.\n",
        "        7. Detect the language of the HTML code and add the lang attribute to the html tag.\n",
        "        8. Before returning the HTML code, you will analyze it and check if it accessible according to WCAG 2.2. If it is not accessible, you will correct it and return the corrected code.\n",
        "        9. You will double check every step you do. Also, you will provide a numbered list of the procedure fixes and improvements you did. The procedure list will be in plain text format. A summary, not longer than 20 items.\n",
        "        10. Return the result as a JSON with values: {Procedure: str, HTML: str}. The HTML code must be a complete HTML code, not a fragment. The answer must be within the context window of the model.\n",
        "        \"\"\"\n",
        "    }\n",
        "    # Add the system message to the messages list\n",
        "    messages = [entity_extraction_system_message]\n",
        "    # Add the content to the messages list\n",
        "    messages.append({\"role\": \"user\", \"content\": user_prompt})\n",
        "    messages.append({\"role\": \"user\", \"content\": user_input})\n",
        "    if template:\n",
        "        messages.append({\"role\": \"user\", \"content\": \"The following is a template as a base for the HTML code you will generate with the content. Use bootstrap classes to make it responsive and accessible. \" + template})\n",
        "        messages.append({\"role\": \"user\", \"content\": template})\n",
        "    # Call the OpenAI API to get the response\n",
        "    response = client.chat.completions.create(\n",
        "        model=model,\n",
        "        temperature=0.1,\n",
        "        stream=False,\n",
        "        messages=messages,\n",
        "        response_format={\"type\": \"json_object\"},\n",
        "    )\n",
        "    \n",
        "    # return response.choices[0].message.content\n",
        "    return response.choices[0].message.content, response.usage.completion_tokens, response.usage.prompt_tokens"
      ]
    },
    {
      "cell_type": "markdown",
      "metadata": {},
      "source": [
        "## Función que permite comparar los resultados\n",
        "\n",
        "Ahora se crearemos una función para crear una tabla con los resultados de comparar el resultado devuelto en HTML y en Markdown. "
      ]
    },
    {
      "cell_type": "code",
      "execution_count": 53,
      "metadata": {},
      "outputs": [],
      "source": [
        "import json\n",
        "\n",
        "def display_extracted_content(model: str, results_html: List[Dict[str, any]], results_md: List[Dict[str, any]], function_name: str, site_name: str, template: str):\n",
        "    table = PrettyTable()\n",
        "    table.field_names = [\"Site\", \"From HTML\", \"From HTML with template\",\"From markdown\", \"From markdown with template\"]\n",
        "\n",
        "    with open(f'templates/{template}.html', 'r') as file:  # r to open file in READ mode\n",
        "        html_as_string = file.read()\n",
        "\n",
        "    # Iterate through each site and its content\n",
        "    for item in tqdm(results_html, desc=\"Processing results\"):\n",
        "        sites_html = item[\"sites\"]\n",
        "        sites_md = item[\"sites\"]\n",
        "        provider = item[\"provider\"]\n",
        "\n",
        "        # Check if the provider matches the site name\n",
        "        if provider == site_name:\n",
        "            for i in range(len(sites_html)):\n",
        "                # Check if the function name matches\n",
        "                if sites_html[i][\"name\"] == function_name:\n",
        "                    # Extract the content for HTML and Markdown\n",
        "                    content_html = sites_html[i][\"content\"]\n",
        "                    content_url = sites_html[i][\"url\"]\n",
        "                    content_md = sites_md[i][\"content\"]\n",
        "\n",
        "                    # Progress bar for each function\n",
        "                    for _ in tqdm(range(1), desc=f\"Extracting content with {function_name} for HTML input\", position=0, leave=True):\n",
        "                        extracted_content_html, completion_tokens, prompt_tokens = extract(model, content_html, f\"Use the following HTML code and create a new accessible web page version mantaining all the contents. The root URL is '{content_url}'.\", template=None)\n",
        "                        cost = calculate_cost_tokens(completion_tokens + prompt_tokens)\n",
        "                        cost_label = f\"Completion tokens: {completion_tokens:,}\\nPrompt tokens: {prompt_tokens:,}\\nTotal cost: ${cost:.6f}\" + \"\\n\\n\\n\"\n",
        "                        col_content_html = cost_label + extracted_content_html\n",
        "                    \n",
        "                    # Progress bar for each function\n",
        "                    for _ in tqdm(range(1), desc=f\"Extracting content with {function_name} for HTML input and template\"):\n",
        "                        extracted_content_html_template, completion_tokens, prompt_tokens = extract(model, content_html, f\"Use the following content to create a new accessible web page version mantaining all the contents. The root URL is '{content_url}'.\",html_as_string.replace(\"\\n\",\"\"))\n",
        "                        cost = calculate_cost_tokens(completion_tokens + prompt_tokens)\n",
        "                        cost_label = f\"Completion tokens: {completion_tokens:,}\\nPrompt tokens: {prompt_tokens:,}\\nTotal cost: ${cost:.6f}\" + \"\\n\\n\\n\"\n",
        "                        col_content_html_template = cost_label + extracted_content_html_template\n",
        "\n",
        "                    # Progress bar for each function\n",
        "                    for _ in tqdm(range(1), desc=f\"Extracting content with {function_name} for Markdown input\"):\n",
        "                        extracted_content_md, completion_tokens, prompt_tokens = extract(model, content_md, f\"Use the following content to create a new accessible web page version. The root URL is '{content_url}'. Use the HTML code source of the page https://webaim.org/ as a base to create a new accessible web page version. Observe the structure of the header, the images are in on row with the title; also the use of cols and rows to make it responsive and accessible.\", template=None)\n",
        "                        cost = calculate_cost_tokens(completion_tokens + prompt_tokens)\n",
        "                        cost_label = f\"Completion tokens: {completion_tokens:,}\\nPrompt tokens: {prompt_tokens:,}\\nTotal cost: ${cost:.6f}\" + \"\\n\\n\\n\"\n",
        "                        col_content_md = cost_label + extracted_content_md\n",
        "\n",
        "                    # Progress bar for each function\n",
        "                    for _ in tqdm(range(1), desc=f\"Extracting content with {function_name} for Markdown input and template\"):\n",
        "                        extracted_content_md_template, completion_tokens, prompt_tokens = extract(model, content_md, f\"Use the following content to create a new accessible web page version. The root URL is '{content_url}'.\",html_as_string.replace(\"\\n\",\"\"))\n",
        "                        cost = calculate_cost_tokens(completion_tokens + prompt_tokens)\n",
        "                        cost_label = f\"Completion tokens: {completion_tokens:,}\\nPrompt tokens: {prompt_tokens:,}\\nTotal cost: ${cost:.6f}\" + \"\\n\\n\\n\"\n",
        "                        col_content_md_template = cost_label + extracted_content_md_template\n",
        "\n",
        "                    table.add_row([provider, col_content_html, col_content_html_template, col_content_md, col_content_md_template])\n",
        "\n",
        "    table.max_width = 50  # Set the maximum width for better display\n",
        "    table.hrules = True  # Add horizontal rules for better readability\n",
        "\n",
        "    print(\"Extracted Content Table:\")\n",
        "    print(table)\n",
        "\n",
        "    return json.loads(extracted_content_html), json.loads(extracted_content_html_template), json.loads(extracted_content_md), json.loads(extracted_content_md_template)"
      ]
    },
    {
      "cell_type": "markdown",
      "metadata": {},
      "source": [
        "### Rutinas para visualizar los resultados obtenidos\n",
        "\n",
        "Instalamos las dependencias necesarias para generar la interface web."
      ]
    },
    {
      "cell_type": "code",
      "execution_count": 33,
      "metadata": {
        "vscode": {
          "languageId": "shellscript"
        }
      },
      "outputs": [
        {
          "name": "stdout",
          "output_type": "stream",
          "text": [
            "Note: you may need to restart the kernel to use updated packages.\n"
          ]
        }
      ],
      "source": [
        "pip install ipywidgets --quiet"
      ]
    },
    {
      "cell_type": "code",
      "execution_count": 34,
      "metadata": {
        "vscode": {
          "languageId": "shellscript"
        }
      },
      "outputs": [],
      "source": [
        "!pip install aiofiles --quiet"
      ]
    },
    {
      "cell_type": "code",
      "execution_count": 35,
      "metadata": {
        "vscode": {
          "languageId": "shellscript"
        }
      },
      "outputs": [
        {
          "name": "stdout",
          "output_type": "stream",
          "text": [
            "ERROR: pip's dependency resolver does not currently take into account all the packages that are installed. This behaviour is the source of the following dependency conflicts.\n",
            "crawl4ai 0.5.0.post8 requires aiofiles>=24.1.0, but you have aiofiles 23.2.1 which is incompatible.\n"
          ]
        }
      ],
      "source": [
        "!pip install gradio --quiet"
      ]
    },
    {
      "cell_type": "markdown",
      "metadata": {},
      "source": [
        "Creamos una función de apoyo para crear la interface web y poder ver los resultados visualmente."
      ]
    },
    {
      "cell_type": "code",
      "execution_count": 36,
      "metadata": {},
      "outputs": [],
      "source": [
        "import gradio as gr\n",
        "\n",
        "def create_interface(extracted_json_html, extracted_json_html_template, extracted_json_md, extracted_json_md_template):\n",
        "\n",
        "    with gr.Blocks(theme=gr.themes.Default()) as demo:\n",
        "        # From HTML\n",
        "        with gr.Tab(\"Proc HTML\"):\n",
        "            gr.TextArea(extracted_json_html[\"Procedure\"], label=\"Procedure\")\n",
        "        with gr.Tab(\"Code HTML\"):\n",
        "            gr.TextArea(extracted_json_html[\"HTML\"], label=\"HTML code\", show_copy_button=True, lines=20)\n",
        "        with gr.Tab(\"Proc HTML with template\"):\n",
        "            gr.TextArea(extracted_json_html_template[\"Procedure\"], label=\"Procedure\")\n",
        "        with gr.Tab(\"Code MD with template\"):\n",
        "            gr.TextArea(extracted_json_html_template[\"HTML\"], label=\"HTML code\", show_copy_button=True, lines=20)\n",
        "        with gr.Tab(\"Proc MD\"):\n",
        "            gr.TextArea(extracted_json_md[\"Procedure\"], label=\"Procedure\")\n",
        "        with gr.Tab(\"Code MD\"):\n",
        "            gr.TextArea(extracted_json_md[\"HTML\"], label=\"HTML code\", show_copy_button=True, lines=20)\n",
        "        with gr.Tab(\"Proc MD with template\"):\n",
        "            gr.TextArea(extracted_json_md_template[\"Procedure\"], label=\"Procedure\")\n",
        "        with gr.Tab(\"Code MD with template\"):\n",
        "            gr.TextArea(extracted_json_md_template[\"HTML\"], label=\"HTML code\", show_copy_button=True, lines=20)\n",
        "\n",
        "    demo.launch()"
      ]
    },
    {
      "cell_type": "code",
      "execution_count": 37,
      "metadata": {},
      "outputs": [],
      "source": [
        "import os\n",
        "\n",
        "def generate_output_files(prefix: str, extracted_json_html: dict, extracted_json_html_template: dict, extracted_json_md: dict, extracted_json_md_template: dict):\n",
        "    # Create the output directory if it doesn't exist\n",
        "    if not os.path.exists(f\"output/{prefix}\"):\n",
        "        os.makedirs(f\"output/{prefix}\")\n",
        "\n",
        "    # Write the HTML content to files\n",
        "    with open(f'output/{prefix}/{prefix}-from_html.html', 'w', encoding='utf-8') as f:\n",
        "        f.write(extracted_json_html[\"HTML\"])\n",
        "\n",
        "    with open(f'output/{prefix}/{prefix}-from_html_template.html', 'w', encoding='utf-8') as f:\n",
        "        f.write(extracted_json_html_template[\"HTML\"])\n",
        "\n",
        "    with open(f'output/{prefix}/{prefix}-from_md.html', 'w', encoding='utf-8') as f:\n",
        "        f.write(extracted_json_md[\"HTML\"])\n",
        "\n",
        "    with open(f'output/{prefix}/{prefix}-from_md_template.html', 'w', encoding='utf-8') as f:\n",
        "        f.write(extracted_json_md_template[\"HTML\"])"
      ]
    },
    {
      "cell_type": "markdown",
      "metadata": {},
      "source": [
        "## OpenAI: Example blocks\n",
        "\n",
        "Revisemos el resultado que produce este modelo."
      ]
    },
    {
      "cell_type": "code",
      "execution_count": 41,
      "metadata": {},
      "outputs": [
        {
          "data": {
            "application/vnd.jupyter.widget-view+json": {
              "model_id": "714ca934c74d46c58180f4d962c5688e",
              "version_major": 2,
              "version_minor": 0
            },
            "text/plain": [
              "Processing results:   0%|          | 0/2 [00:00<?, ?it/s]"
            ]
          },
          "metadata": {},
          "output_type": "display_data"
        },
        {
          "data": {
            "application/vnd.jupyter.widget-view+json": {
              "model_id": "5b557485da71469cb1f5d4b6eef9b9c0",
              "version_major": 2,
              "version_minor": 0
            },
            "text/plain": [
              "Extracting content with Crawl4ai for HTML input:   0%|          | 0/1 [00:00<?, ?it/s]"
            ]
          },
          "metadata": {},
          "output_type": "display_data"
        },
        {
          "data": {
            "application/vnd.jupyter.widget-view+json": {
              "model_id": "e9d75ccb0e4d454ea71a1aee17675ffe",
              "version_major": 2,
              "version_minor": 0
            },
            "text/plain": [
              "Extracting content with Crawl4ai for HTML input and template:   0%|          | 0/1 [00:00<?, ?it/s]"
            ]
          },
          "metadata": {},
          "output_type": "display_data"
        },
        {
          "data": {
            "application/vnd.jupyter.widget-view+json": {
              "model_id": "f8f0d80fda1f4f898a3c8caed2ee4d66",
              "version_major": 2,
              "version_minor": 0
            },
            "text/plain": [
              "Extracting content with Crawl4ai for Markdown input:   0%|          | 0/1 [00:00<?, ?it/s]"
            ]
          },
          "metadata": {},
          "output_type": "display_data"
        },
        {
          "data": {
            "application/vnd.jupyter.widget-view+json": {
              "model_id": "771dbd342e75436185ba4028a7a5e07b",
              "version_major": 2,
              "version_minor": 0
            },
            "text/plain": [
              "Extracting content with Crawl4ai for Markdown input and template:   0%|          | 0/1 [00:00<?, ?it/s]"
            ]
          },
          "metadata": {},
          "output_type": "display_data"
        },
        {
          "name": "stdout",
          "output_type": "stream",
          "text": [
            "Extracted Content Table:\n",
            "+--------+----------------------------------------------------+----------------------------------------------------+----------------------------------------------------+----------------------------------------------------+\n",
            "|  Site  |                     From HTML                      |              From HTML with template               |                   From markdown                    |            From markdown with template             |\n",
            "+--------+----------------------------------------------------+----------------------------------------------------+----------------------------------------------------+----------------------------------------------------+\n",
            "| Blocks |              Completion tokens: 3,699              |              Completion tokens: 2,449              |              Completion tokens: 2,529              |              Completion tokens: 2,892              |\n",
            "|        |                Prompt tokens: 3,325                |                Prompt tokens: 4,675                |                Prompt tokens: 3,377                |                Prompt tokens: 4,670                |\n",
            "|        |               Total cost: $0.017560                |               Total cost: $0.017810                |               Total cost: $0.014765                |               Total cost: $0.018905                |\n",
            "|        |                                                    |                                                    |                                                    |                                                    |\n",
            "|        |                                                    |                                                    |                                                    |                                                    |\n",
            "|        |                         {                          | {\"Procedure\":\"1. Changed the language attribute to | {\"Procedure\": \"1. Added lang attribute to the html |    { \"Procedure\": \"1. Ensured the HTML document    |\n",
            "|        |     \"Procedure\": \"1. Added alt text to images that | 'es' for Spanish language support.\\n2. Ensured the |   tag for language specification. 2. Ensured all   |    starts with a proper DOCTYPE declaration and    |\n",
            "|        |    were missing descriptive alt attributes. 2.     |    viewport meta tag is present for responsive     |     images have descriptive alt attributes. 3.     |   language attribute set to 'es' for Spanish. 2.   |\n",
            "|        |  Ensured all images have meaningful alt text. 3.   |  design.\\n3. Used a single logo in the navbar for  | Converted relative image URLs to absolute URLs. 4. |  Added a viewport meta tag for responsive design.  |\n",
            "|        | Converted relative image URLs to absolute URLs. 4. |  simplicity and accessibility.\\n4. Added alt text  |  Ensured correct heading structure starting with   | 3. Used Bootstrap for styling and responsiveness.  |\n",
            "|        |   Ensured color contrast meets WCAG standards by   |  to all images for better accessibility.\\n5. Used  |      h1. 5. Used semantic HTML elements where      |     4. Ensured all images have descriptive alt     |\n",
            "|        |    checking text and background colors. 5. Used    |       semantic HTML elements like <main> and       |  applicable. 6. Ensured color contrast meets WCAG  |   attributes for accessibility. 5. Used semantic   |\n",
            "|        |  semantic HTML elements such as <header>, <main>,  |    <footer>.\\n6. Ensured correct heading levels    |  standards. 7. Added aria-labels where necessary   | HTML elements like <main> and <footer> for better  |\n",
            "|        | and <footer> where appropriate. 6. Ensured heading | starting from <h1>.\\n7. Converted relative URLs to | for better accessibility. 8. Ensured viewport meta | structure. 6. Ensured color contrast is sufficient |\n",
            "|        | levels are used correctly, starting with <h1>. 7.  |  absolute URLs for images.\\n8. Added aria-labels   |   tag is correctly set for responsive design. 9.   | for readability. 7. Provided meaningful link text  |\n",
            "|        |    Added aria-labels to links for better screen    |      where necessary for better screen reader      |   Included inline styles in the head section for   |     for accessibility. 8. Used heading levels      |\n",
            "|        |  reader support. 8. Ensured the viewport meta tag  | support.\\n9. Ensured color contrast is sufficient  |  better accessibility. 10. Ensured all links have  | correctly, starting with <h1> for the main title.  |\n",
            "|        |  is correctly set for responsive design. 9. Added  | for text readability.\\n10. Used Bootstrap classes  |         descriptive text.\", \"HTML\": \"<html         | 9. Converted relative URLs to absolute URLs based  |\n",
            "|        |  inline styles for sr-only class to hide elements  |             for responsive design and              |          lang=\\\"en\\\">\\n<head>\\n    <meta           |  on the provided root URL. 10. Added a sitemap in  |\n",
            "|        |    visually but keep them accessible to screen     |   accessibility.\",\"HTML\":\"<!DOCTYPE html>\\n<html   | charset=\\\"UTF-8\\\">\\n    <meta name=\\\"description\\\" |    the footer for better navigation.\", \"HTML\":     |\n",
            "|        |                     readers.\",                     |         lang=\\\"es\\\">\\n\\n<head>\\n    <meta          |     content=\\\"Astro description\\\">\\n    <meta      |  \"<!DOCTYPE html>\\n<html lang=\\\"es\\\">\\n\\n<head>\\n  |\n",
            "|        |       \"HTML\": \"<html lang=\\\"en\\\" style=\\\"filter:   |  charset=\\\"UTF-8\\\">\\n    <meta name=\\\"viewport\\\"   |  name=\\\"viewport\\\" content=\\\"width=device-width,   |        <meta charset=\\\"UTF-8\\\">\\n    <meta         |\n",
            "|        |         invert(0);\\\"><head>\\n        <meta         | content=\\\"width=device-width, initial-scale=1\\\">\\n |    initial-scale=1.0\\\">\\n    <link rel=\\\"icon\\\"    |  name=\\\"viewport\\\" content=\\\"width=device-width,   |\n",
            "|        |         charset=\\\"UTF-8\\\">\\n        <meta          | <title>Sistemas FEI</title>\\n    <link href=\\\"http | type=\\\"image/x-icon\\\" href=\\\"https://sistemasfei.u |      initial-scale=1\\\">\\n    <title>Sistemas       |\n",
            "|        |        name=\\\"description\\\" content=\\\"Astro        | s://cdn.jsdelivr.net/npm/bootstrap@5.3.3/dist/css/ | v.mx/inicio/favicon.ico\\\">\\n    <link href=\\\"https | FEI</title>\\n    <link href=\\\"https://cdn.jsdelivr |\n",
            "|        |  description\\\">\\n        <meta name=\\\"viewport\\\"   |     bootstrap.min.css\\\" rel=\\\"stylesheet\\\">\\n      | ://cdn.jsdelivr.net/npm/bootstrap@5.3.3/dist/css/b | .net/npm/bootstrap@5.3.3/dist/css/bootstrap.min.cs |\n",
            "|        |       content=\\\"width=device-width, initial-       | <style>\\n        .sr-only {\\n            position: | ootstrap.min.css\\\" rel=\\\"stylesheet\\\" integrity=\\\" | s\\\" rel=\\\"stylesheet\\\">\\n    <style>\\n        .sr- |\n",
            "|        |      scale=1.0\\\">\\n        <link rel=\\\"icon\\\"      |        absolute;\\n            width: 1px;\\n        |                      sha384-                       |     only {\\n            position: absolute;\\n      |\n",
            "|        | type=\\\"image/x-icon\\\" href=\\\"https://sistemasfei.u |      height: 1px;\\n            padding: 0;\\n       | QWTKZyjpPEjISv5WaRU9OFeRpok6YctnYmDr5pNlyT2bRjXh0J |      width: 1px;\\n            height: 1px;\\n       |\n",
            "|        |     v.mx/inicio/favicon.ico\\\">\\n        <meta      |   margin: -1px;\\n            overflow: hidden;\\n   |   MhjY6hW+ALEwIH\\\" crossorigin=\\\"anonymous\\\">\\n    |      padding: 0;\\n            margin: -1px;\\n      |\n",
            "|        | name=\\\"generator\\\" content=\\\"Astro v4.4.1\\\"><link  | clip: rect(0, 0, 0, 0);\\n            border: 0;\\n  |     <title>Sistemas FEI</title>\\n    <style>\\n     | overflow: hidden;\\n            clip: rect(0, 0, 0, |\n",
            "|        | href=\\\"https://cdn.jsdelivr.net/npm/bootstrap@5.3. |    }\\n    </style>\\n</head>\\n\\n<body>\\n    <nav    |       img {\\n            max-width: 300px;\\n       |      0);\\n            border: 0;\\n        }\\n      |\n",
            "|        | 3/dist/css/bootstrap.min.css\\\" rel=\\\"stylesheet\\\"  |  class=\\\"navbar bg-body-tertiary\\\">\\n        <div  |    max-height: 100px;\\n            object-fit:     |       </style>\\n</head>\\n\\n<body>\\n    <nav        |\n",
            "|        |                integrity=\\\"sha384-                 |     class=\\\"container-fluid\\\">\\n            <a     |        cover;\\n        }\\n        .card {\\n        |  class=\\\"navbar bg-body-tertiary\\\">\\n        <div  |\n",
            "|        | QWTKZyjpPEjISv5WaRU9OFeRpok6YctnYmDr5pNlyT2bRjXh0J |               class=\\\"navbar-brand\\\"               |    place-self: center;\\n            max-width:     |     class=\\\"container-fluid\\\">\\n            <a     |\n",
            "|        |   MhjY6hW+ALEwIH\\\" crossorigin=\\\"anonymous\\\">\\n    |          href=\\\"http://www.uv.mx/fei\\\">\\n          |    300px;\\n            box-shadow: 0 10px 10px     |               class=\\\"navbar-brand\\\"               |\n",
            "|        |   <title>Sistemas FEI</title>\\n        <style>\\n   | <img src=\\\"https://sistemasfei.uv.mx/inicio/_astro |         gray;\\n            border: none;\\n         |          href=\\\"http://www.uv.mx/fei\\\">\\n          |\n",
            "|        |   img[data-astro-cid-dohjnao5]\\n            {\\n    |  /logoFEI.CKAzzJnF_ZyfpCW.webp\\\" alt=\\\"Logo FEI\\\"  |  border-radius: 10px;\\n        }\\n        .card-   | <img src=\\\"https://sistemasfei.uv.mx/inicio/_astro |\n",
            "|        |       max-width:300px;\\n                max-       | width=\\\"30\\\" height=\\\"24\\\" class=\\\"d-inline-block  |  body {\\n            background-color: #18529d;\\n  |  /logoFEI.CKAzzJnF_ZyfpCW.webp\\\" alt=\\\"Logo FEI\\\"  |\n",
            "|        | height:100px;\\n                object-fit:cover\\n  | align-text-top\\\">\\n                Sistemas FEI\\n  |  border-radius: 0 0 10px 10px;\\n            max-   | width=\\\"30\\\" height=\\\"24\\\" class=\\\"d-inline-block  |\n",
            "|        |  }\\n            .card[data-astro-cid-dohjnao5]\\n   |   </a>\\n        </div>\\n    </nav>\\n    <main>\\n   |     height: 300px;\\n        }\\n        h5 {\\n      | align-text-top\\\">\\n                Sistemas FEI\\n  |\n",
            "|        |      {\\n                place-self:center;\\n       |   <h1>Portal de sistemas FEI</h1>\\n        <div    |   font-size: clamp(5px, 4vw, 15px);\\n        }\\n   |   </a>\\n        </div>\\n    </nav>\\n    <main>\\n   |\n",
            "|        |   max-width:300px;\\n                box-shadow:0   |  class=\\\"content\\\">\\n            <div class=\\\"row  |      .logo-fei {\\n            width: 80px;\\n       |   <h1>Portal de sistemas FEI</h1>\\n        <div    |\n",
            "|        |  10px 10px gray;\\n                border:none;\\n   |         row-cols-1 row-cols-md-3 g-4\\\">\\n          |   height: 80px;\\n        }\\n        .logo-uv {\\n   |  class=\\\"content\\\">\\n            <div class=\\\"row  |\n",
            "|        |        border-radius:10px\\n            }\\n         |   <div class=\\\"col\\\">\\n                    <div    |     width: 100px;\\n            height: 80px;\\n     |         row-cols-1 row-cols-md-3 g-4\\\">\\n          |\n",
            "|        |       .card-body[data-astro-cid-dohjnao5]\\n        |              class=\\\"card h-100\\\">\\n               |     }\\n        nav {\\n            box-shadow:      |   <div class=\\\"col\\\">\\n                    <div    |\n",
            "|        |   {\\n                background-color:#18529d;\\n   | <img src=\\\"https://sistemasfei.uv.mx/inicio/_astro |     #00000073 0 10px 20px -20px;\\n        }\\n      |              class=\\\"card h-100\\\">\\n               |\n",
            "|        | border-radius:0 0 10px 10px;\\n                max- | /aulaFEI.Bfi36lLc_Z2aGaTO.webp\\\" class=\\\"card-img- | @media (max-width: 600px) {\\n            .logo-fei | <img src=\\\"https://sistemasfei.uv.mx/inicio/_astro |\n",
            "|        | height:300px\\n            }\\n            h5[data-  |    top\\\" alt=\\\"Sistema de Gestion de Claves de     |         {\\n                width: 50px;\\n          | /aulaFEI.Bfi36lLc_Z2aGaTO.webp\\\" class=\\\"card-img- |\n",
            "|        |        astro-cid-dohjnao5]\\n            {\\n        |       Aulas\\\">\\n                        <div       | height: 50px;\\n            }\\n            .logo-uv |    top\\\" alt=\\\"Sistema de Gestion de Claves de     |\n",
            "|        |   font-size:clamp(5px,4vw,15px)\\n            }\\n   |               class=\\\"card-body\\\">\\n               | {\\n                display: none;\\n            }\\n |       Aulas\\\">\\n                        <div       |\n",
            "|        |        .logo-fei[data-astro-cid-ymhdp2rl]\\n        |   <h2 class=\\\"card-title\\\">Sistema de Gestion de   |   }\\n        .contenedor {\\n            display:   |               class=\\\"card-body\\\">\\n               |\n",
            "|        |    {\\n                width:80px;height:80px\\n     |               Claves de Aulas</h2>\\n               |         grid;\\n            margin: 2rem;\\n         |   <h2 class=\\\"card-title\\\">Sistema de Gestion de   |\n",
            "|        | }\\n            .logo-uv[data-astro-cid-ymhdp2rl]\\n |  <a href=\\\"https://sistemasfei.uv.mx/aulaclase/\\\"  |       grid-template-columns: 1fr 1fr 1fr;\\n        |               Claves de Aulas</h2>\\n               |\n",
            "|        |    {\\n                width:100px;height:80px\\n    |       class=\\\"btn btn-primary\\\">Entrar</a>\\n       |  grid-auto-flow: dense;\\n            gap: 2rem;\\n  | <p class=\\\"card-text\\\">Gestiona las claves de las  |\n",
            "|        |   }\\n            nav[data-astro-cid-ymhdp2rl]\\n    |        </div>\\n                    </div>\\n        |     }\\n        @media (max-width: 1000px) {\\n      |          aulas de manera eficiente.</p>\\n          |\n",
            "|        |   {\\n                box-shadow:#00000073 0 10px   |   </div>\\n                <div class=\\\"col\\\">\\n    |   .contenedor {\\n                grid-template-    |  <a href=\\\"https://sistemasfei.uv.mx/aulaclase/\\\"  |\n",
            "|        |   20px -20px\\n            }\\n            @media    |            <div class=\\\"card h-100\\\">\\n            |    columns: repeat(auto-fill, minmax(min(100%,     |       class=\\\"btn btn-primary\\\">Entrar</a>\\n       |\n",
            "|        |         (max-width:600px)\\n            {\\n         | <img src=\\\"https://sistemasfei.uv.mx/inicio/_astro |     20rem), 1fr));\\n            }\\n        }\\n     | </div>\\n                        <div class=\\\"card- |\n",
            "|        |        .logo-fei[data-astro-cid-ymhdp2rl]\\n        | /edificioFEI.C5q6RF30_Z1jodpw.webp\\\" class=\\\"card- |  body {\\n            background-color: #efecec;\\n  |   footer\\\">\\n                            <small    |\n",
            "|        |  {\\n                    width:50px;height:50px\\n   |          img-top\\\" alt=\\\"MOODLE FEI\\\">\\n           |   font-family: Gill Sans, Gill Sans MT, Calibri,   |  class=\\\"text-body-secondary\\\">Sistema de Gestion  |\n",
            "|        |    }\\n                .logo-uv[data-astro-cid-     |            <div class=\\\"card-body\\\">\\n             |       Trebuchet MS, sans-serif;\\n        }\\n       |            de Claves de Aulas</small>\\n            |\n",
            "|        |           ymhdp2rl]\\n                {\\n           |     <h2 class=\\\"card-title\\\">MOODLE FEI</h2>\\n     | </style>\\n</head>\\n<body>\\n    <nav class=\\\"navbar |        </div>\\n                    </div>\\n        |\n",
            "|        |  display:none\\n                }\\n            }\\n  |   <a href=\\\"https://sistemasfei.uv.mx/moodle/\\\"    |         bg-body-tertiary\\\">\\n        <div          |   </div>\\n                <div class=\\\"col\\\">\\n    |\n",
            "|        |       .contenedor[data-astro-cid-bji27afj]\\n       |       class=\\\"btn btn-primary\\\">Entrar</a>\\n       |  class=\\\"container-fluid d-flex justify-content-   |            <div class=\\\"card h-100\\\">\\n            |\n",
            "|        |         {\\n                display:grid;\\n         |        </div>\\n                    </div>\\n        |             around\\\">\\n            <a              | <img src=\\\"https://sistemasfei.uv.mx/inicio/_astro |\n",
            "|        |    margin:2rem;\\n                grid-template-    |   </div>\\n                <div class=\\\"col\\\">\\n    |          href=\\\"http://www.uv.mx/fei\\\">\\n          | /edificioFEI.C5q6RF30_Z1jodpw.webp\\\" class=\\\"card- |\n",
            "|        |  columns:1fr 1fr 1fr;\\n                grid-auto-  |            <div class=\\\"card h-100\\\">\\n            | <img src=\\\"https://sistemasfei.uv.mx/inicio/_astro |          img-top\\\" alt=\\\"MOODLE FEI\\\">\\n           |\n",
            "|        |      flow:dense;\\n                gap:2rem\\n       | <img src=\\\"https://sistemasfei.uv.mx/inicio/_astro | /logoFEI.CKAzzJnF_ZyfpCW.webp\\\" class=\\\"logo-fei\\\" |            <div class=\\\"card-body\\\">\\n             |\n",
            "|        |     }\\n            @media (max-width:1000px)\\n     |  /PEDPA.CaZEdBX2_Zm1Ox5.webp\\\" class=\\\"card-img-   |      alt=\\\"Logo of Facultad de Estadística e       |     <h2 class=\\\"card-title\\\">MOODLE FEI</h2>\\n     |\n",
            "|        |   {\\n                .contenedor[data-astro-cid-   | top\\\" alt=\\\"Sistema de Estimulos al Desempeño del  |   Informática\\\" loading=\\\"eager\\\" width=\\\"567\\\"    |   <p class=\\\"card-text\\\">Accede a la plataforma    |\n",
            "|        |           bji27afj]\\n                {\\n           |              Personal Academico\\\">\\n               |        height=\\\"662\\\" decoding=\\\"async\\\">\\n        |              educativa MOODLE.</p>\\n               |\n",
            "|        |         grid-template-columns:repeat(auto-         |            <div class=\\\"card-body\\\">\\n             |        </a>\\n            <h1 class=\\\"text-         |   <a href=\\\"https://sistemasfei.uv.mx/moodle/\\\"    |\n",
            "|        |        fill,minmax(min(100%,20rem),1fr))\\n         |  <h2 class=\\\"card-title\\\">Sistema de Estimulos al  |      success\\\">Portal de sistemas FEI</h1>\\n       |       class=\\\"btn btn-primary\\\">Entrar</a>\\n       |\n",
            "|        |        }\\n            }\\n            body\\n        |      Desempeño del Personal Academico</h2>\\n       |          <a href=\\\"http://www.uv.mx\\\">\\n           | </div>\\n                        <div class=\\\"card- |\n",
            "|        |  {\\n                background-color: #efecec;\\n   |    <a href=\\\"https://sistemasfei.uv.mx/pedpa/\\\"    | <img src=\\\"https://sistemasfei.uv.mx/inicio/_astro |   footer\\\">\\n                            <small    |\n",
            "|        |          font-family:Gill Sans,Gill Sans           |       class=\\\"btn btn-primary\\\">Entrar</a>\\n       |   /logoUV.gPBiyME4_N2yL.webp\\\" class=\\\"logo-uv\\\"   | class=\\\"text-body-secondary\\\">MOODLE FEI</small>\\n |\n",
            "|        |        MT,Calibri,Trebuchet MS,sans-serif\\n        |        </div>\\n                    </div>\\n        |      alt=\\\"Logo of Universidad Veracruzana\\\"       |        </div>\\n                    </div>\\n        |\n",
            "|        |            }\\n            .sr-only {\\n             |   </div>\\n                <div class=\\\"col\\\">\\n    |  loading=\\\"eager\\\" width=\\\"1363\\\" height=\\\"1182\\\"  |   </div>\\n                <div class=\\\"col\\\">\\n    |\n",
            "|        | position: absolute;\\n                width: 1px;\\n |            <div class=\\\"card h-100\\\">\\n            |      decoding=\\\"async\\\">\\n            </a>\\n       |            <div class=\\\"card h-100\\\">\\n            |\n",
            "|        |    height: 1px;\\n                padding: 0;\\n     | <img src=\\\"https://sistemasfei.uv.mx/inicio/_astro |           </div>\\n    </nav>\\n    <main            | <img src=\\\"https://sistemasfei.uv.mx/inicio/_astro |\n",
            "|        | margin: -1px;\\n                overflow: hidden;\\n |  /sistemaAvisosFEI.webp\\\" class=\\\"card-img-top\\\"   |      class=\\\"contenedor\\\">\\n        <article       |  /PEDPA.CaZEdBX2_Zm1Ox5.webp\\\" class=\\\"card-img-   |\n",
            "|        |  clip: rect(0, 0, 0, 0);\\n                border:  |            alt=\\\"Sistema de Avisos\\\">\\n            |   class=\\\"card mx-2\\\" style=\\\"width: 18rem;\\\">\\n   | top\\\" alt=\\\"Sistema de Estimulos al Desempeño del  |\n",
            "|        |  0;\\n            }\\n        </style>\\n    </head>  |            <div class=\\\"card-body\\\">\\n             | <img src=\\\"https://sistemasfei.uv.mx/inicio/_astro |              Personal Academico\\\">\\n               |\n",
            "|        | \\n    <body>  \\n        <header>\\n            <nav | <h2 class=\\\"card-title\\\">Sistema de Avisos</h2>\\n  | /aulaFEI.Bfi36lLc_Z2aGaTO.webp\\\" class=\\\"card-img- |            <div class=\\\"card-body\\\">\\n             |\n",
            "|        | class=\\\"navbar bg-body-tertiary \\\" data-astro-cid- | <a href=\\\"https://sistemasfei.uv.mx/bannersfei/\\\"  | top\\\" loading=\\\"eager\\\" alt=\\\"Image of Aula FEI\\\"  |  <h2 class=\\\"card-title\\\">Sistema de Estimulos al  |\n",
            "|        |       ymhdp2rl=\\\"\\\"> \\n                <div        |       class=\\\"btn btn-primary\\\">Entrar</a>\\n       |           width=\\\"4176\\\" height=\\\"2784\\\"           |      Desempeño del Personal Academico</h2>\\n       |\n",
            "|        |  class=\\\"container-fluid d-flex justify-content-   |        </div>\\n                    </div>\\n        |       decoding=\\\"async\\\">\\n            <div        |   <p class=\\\"card-text\\\">Evalúa el desempeño del   |\n",
            "|        |     around\\\" data-astro-cid-ymhdp2rl=\\\"\\\"> \\n      |   </div>\\n                <div class=\\\"col\\\">\\n    |     class=\\\"card-body\\\">\\n                <h5      |             personal académico.</p>\\n              |\n",
            "|        |  <a href=\\\"http://www.uv.mx/fei\\\" data-astro-cid-  |            <div class=\\\"card h-100\\\">\\n            | class=\\\"card-title text-light\\\">Sistema de Gestion |    <a href=\\\"https://sistemasfei.uv.mx/pedpa/\\\"    |\n",
            "|        | ymhdp2rl=\\\"\\\">\\n                        <img src=\\ | <img src=\\\"https://sistemasfei.uv.mx/inicio/_astro |   de Claves de Aulas</h5>\\n                <div    |       class=\\\"btn btn-primary\\\">Entrar</a>\\n       |\n",
            "|        | \"https://sistemasfei.uv.mx/inicio/_astro/logoFEI.C |   /formularioForms.webp\\\" class=\\\"card-img-top\\\"   |    class=\\\"text-end\\\">\\n                    <a     | </div>\\n                        <div class=\\\"card- |\n",
            "|        |      KAzzJnF_ZyfpCW.webp\\\" class=\\\"logo-fei\\\"      |    alt=\\\"Formulario de Registro de Eventos\\\">\\n    |   href=\\\"https://sistemasfei.uv.mx/aulaclase/\\\"    |   footer\\\">\\n                            <small    |\n",
            "|        | alt=\\\"Logo FEI\\\" loading=\\\"eager\\\" data-astro-cid- |            <div class=\\\"card-body\\\">\\n             |      class=\\\"btn btn-success text-end\\\" aria-      | class=\\\"text-body-secondary\\\">Sistema de Estimulos |\n",
            "|        |     ymhdp2rl=\\\"\\\" width=\\\"567\\\" height=\\\"662\\\"     | <h2 class=\\\"card-title\\\">Formulario de Registro de |   label=\\\"Enter Sistema de Gestion de Claves de    |   al Desempeño del Personal Academico</small>\\n    |\n",
            "|        | decoding=\\\"async\\\" style=\\\"filter: invert(0);\\\">\\n | Eventos</h2>\\n                            <a href= |    Aulas\\\">Entrar</a>\\n                </div>\\n    |        </div>\\n                    </div>\\n        |\n",
            "|        |    </a> \\n                    <h1 class=\\\"text-    | \\\"https://forms.office.com/pages/responsepage.aspx |    </div>\\n        </article>\\n        <article    |   </div>\\n                <div class=\\\"col\\\">\\n    |\n",
            "|        |  success\\\" data-astro-cid-ymhdp2rl=\\\"\\\">Portal de  | ?id=UXaQPMbYpkyopGokJDDmU-mq0IRCUa9Ei8mq08oDurxUMD |   class=\\\"card mx-2\\\" style=\\\"width: 18rem;\\\">\\n   |            <div class=\\\"card h-100\\\">\\n            |\n",
            "|        |     sistemas FEI</h1>\\n                    <a      | JJQkQ2S1RTRU4zRTQ0SVpINENHQTNWRi4u&amp;route=short | <img src=\\\"https://sistemasfei.uv.mx/inicio/_astro | <img src=\\\"https://sistemasfei.uv.mx/inicio/_astro |\n",
            "|        |     href=\\\"http://www.uv.mx\\\" data-astro-cid-      |    url\\\" class=\\\"btn btn-primary\\\">Entrar</a>\\n    | /edificioFEI.C5q6RF30_Z1jodpw.webp\\\" class=\\\"card- |  /sistemaAvisosFEI.webp\\\" class=\\\"card-img-top\\\"   |\n",
            "|        | ymhdp2rl=\\\"\\\">\\n                        <img src=\\ |        </div>\\n                    </div>\\n        |     img-top\\\" loading=\\\"eager\\\" alt=\\\"Image of     |            alt=\\\"Sistema de Avisos\\\">\\n            |\n",
            "|        | \"https://sistemasfei.uv.mx/inicio/_astro/logoUV.gP |   </div>\\n                <div class=\\\"col\\\">\\n    |    Edificio FEI\\\" width=\\\"1024\\\" height=\\\"768\\\"    |            <div class=\\\"card-body\\\">\\n             |\n",
            "|        |  BiyME4_N2yL.webp\\\" class=\\\"logo-uv\\\" alt=\\\"Logo   |            <div class=\\\"card h-100\\\">\\n            |       decoding=\\\"async\\\">\\n            <div        | <h2 class=\\\"card-title\\\">Sistema de Avisos</h2>\\n  |\n",
            "|        | Universidad Veracruzana\\\" loading=\\\"eager\\\" data-  | <img src=\\\"https://sistemasfei.uv.mx/inicio/_astro |     class=\\\"card-body\\\">\\n                <h5      |  <p class=\\\"card-text\\\">Publica y gestiona avisos  |\n",
            "|        |       astro-cid-ymhdp2rl=\\\"\\\" width=\\\"1363\\\"       |   /DashboardDesign.webp\\\" class=\\\"card-img-top\\\"   | class=\\\"card-title text-light\\\">MOODLE FEI</h5>\\n  |  importantes.</p>\\n                            <a  |\n",
            "|        | height=\\\"1182\\\" decoding=\\\"async\\\" style=\\\"filter: |              alt=\\\"Dashboard PBR\\\">\\n              |  <div class=\\\"text-end\\\">\\n                    <a  |   href=\\\"https://sistemasfei.uv.mx/bannersfei/\\\"   |\n",
            "|        |     invert(0);\\\">\\n                    </a> \\n     |            <div class=\\\"card-body\\\">\\n             |     href=\\\"https://sistemasfei.uv.mx/moodle/\\\"     |       class=\\\"btn btn-primary\\\">Entrar</a>\\n       |\n",
            "|        | </div> \\n            </nav>  \\n        </header>\\n |   <h2 class=\\\"card-title\\\">Dashboard PBR</h2>\\n    |      class=\\\"btn btn-success text-end\\\" aria-      | </div>\\n                        <div class=\\\"card- |\n",
            "|        |   <main>\\n            <div class=\\\"contenedor \\\"   | <a href=\\\"https://sistemasfei.uv.mx/dashboardfei/l |      label=\\\"Enter MOODLE FEI\\\">Entrar</a>\\n       |   footer\\\">\\n                            <small    |\n",
            "|        |          data-astro-cid-bji27afj=\\\"\\\">\\n           |   ogin\\\" class=\\\"btn btn-primary\\\">Entrar</a>\\n    |  </div>\\n            </div>\\n        </article>\\n  |      class=\\\"text-body-secondary\\\">Sistema de      |\n",
            "|        |  <div class=\\\"card mx-2\\\" style=\\\"width: 18rem;\\\"  |        </div>\\n                    </div>\\n        |    <article class=\\\"card mx-2\\\" style=\\\"width:     |  Avisos</small>\\n                        </div>\\n  |\n",
            "|        |          data-astro-cid-dohjnao5=\\\"\\\"> \\n          |   </div>\\n                <div class=\\\"col\\\">\\n    | 18rem;\\\">\\n            <img src=\\\"https://sistemas |          </div>\\n                </div>\\n          |\n",
            "|        | <img src=\\\"https://sistemasfei.uv.mx/inicio/_astro |            <div class=\\\"card h-100\\\">\\n            | fei.uv.mx/inicio/_astro/PEDPA.CaZEdBX2_Zm1Ox5.webp |   <div class=\\\"col\\\">\\n                    <div    |\n",
            "|        | /aulaFEI.Bfi36lLc_Z2aGaTO.webp\\\" class=\\\"card-img- | <img src=\\\"https://sistemasfei.uv.mx/inicio/_astro |    \\\" class=\\\"card-img-top\\\" loading=\\\"eager\\\"     |              class=\\\"card h-100\\\">\\n               |\n",
            "|        |  top\\\" loading=\\\"eager\\\" alt=\\\"Imagen del Sistema  |   /registroHorario.webp\\\" class=\\\"card-img-top\\\"   |        alt=\\\"Image of PEDPA\\\" width=\\\"474\\\"        | <img src=\\\"https://sistemasfei.uv.mx/inicio/_astro |\n",
            "|        |  de Gestion de Claves de Aulas\\\" data-astro-cid-   |     alt=\\\"Registro de Horarios de Tutoría\\\">\\n     |        height=\\\"450\\\" decoding=\\\"async\\\">\\n        |   /formularioForms.webp\\\" class=\\\"card-img-top\\\"   |\n",
            "|        |    dohjnao5=\\\"\\\" width=\\\"4176\\\" height=\\\"2784\\\"    |            <div class=\\\"card-body\\\">\\n             |   <div class=\\\"card-body\\\">\\n                <h5   |    alt=\\\"Formulario de Registro de Eventos\\\">\\n    |\n",
            "|        |  decoding=\\\"async\\\" style=\\\"filter: invert(0);\\\">  |  <h2 class=\\\"card-title\\\">Registro de Horarios de  |     class=\\\"card-title text-light\\\">Sistema de     |            <div class=\\\"card-body\\\">\\n             |\n",
            "|        |   \\n                    <div class=\\\"card-body\\\"   |    Tutoría</h2>\\n                            <a    |        Estimulos al Desempeño del Personal         | <h2 class=\\\"card-title\\\">Formulario de Registro de |\n",
            "|        |          data-astro-cid-dohjnao5=\\\"\\\"> \\n          | href=\\\"https://sistemasfei.uv.mx/agendatutorias/\\\" | Academico</h5>\\n                <div class=\\\"text- |    Eventos</h2>\\n                            <p    |\n",
            "|        |  <h5 class=\\\"card-title text-light\\\" data-astro-   |       class=\\\"btn btn-primary\\\">Entrar</a>\\n       |           end\\\">\\n                    <a           |   class=\\\"card-text\\\">Registra eventos de manera   |\n",
            "|        | cid-dohjnao5=\\\"\\\">Sistema de Gestion de Claves de  |        </div>\\n                    </div>\\n        |     href=\\\"https://sistemasfei.uv.mx/pedpa/\\\"      | sencilla.</p>\\n                            <a href |\n",
            "|        |     Aulas</h5> \\n                        <div      |   </div>\\n                <div class=\\\"col\\\">\\n    |      class=\\\"btn btn-success text-end\\\" aria-      | =\\\"https://forms.office.com/pages/responsepage.asp |\n",
            "|        |  class=\\\"text-end\\\" data-astro-cid-dohjnao5=\\\"\\\">  |            <div class=\\\"card h-100\\\">\\n            |  label=\\\"Enter Sistema de Estimulos al Desempeño   | x?id=UXaQPMbYpkyopGokJDDmU-mq0IRCUa9Ei8mq08oDurxUM |\n",
            "|        |          \\n                            <a          | <img src=\\\"https://sistemasfei.uv.mx/inicio/_astro |       del Personal Academico\\\">Entrar</a>\\n        | DJJQkQ2S1RTRU4zRTQ0SVpINENHQTNWRi4u&amp;route=shor |\n",
            "|        |   href=\\\"https://sistemasfei.uv.mx/aulaclase/\\\"    |     /sistemampa.webp\\\" class=\\\"card-img-top\\\"      |  </div>\\n            </div>\\n        </article>\\n  |   turl\\\" class=\\\"btn btn-primary\\\">Entrar</a>\\n    |\n",
            "|        | class=\\\"btn btn-success text-end\\\" data-astro-cid- |    alt=\\\"Módulo de Programación Académica\\\">\\n     |    <article class=\\\"card mx-2\\\" style=\\\"width:     | </div>\\n                        <div class=\\\"card- |\n",
            "|        |  dohjnao5=\\\"\\\" aria-label=\\\"Entrar al Sistema de   |            <div class=\\\"card-body\\\">\\n             | 18rem;\\\">\\n            <img src=\\\"https://sistemas |   footer\\\">\\n                            <small    |\n",
            "|        |          Gestion de Claves de Aulas\\\">\\n           |  <h2 class=\\\"card-title\\\">Módulo de Programación   |  fei.uv.mx/inicio/_astro/sistemaAvisosFEI.webp\\\"   |    class=\\\"text-body-secondary\\\">Formulario de     |\n",
            "|        |     Entrar\\n                            </a>\\n     |   Académica</h2>\\n                            <a   |      class=\\\"card-img-top\\\" loading=\\\"eager\\\"      |           Registro de Eventos</small>\\n            |\n",
            "|        |       </div> \\n                    </div> \\n       |    href=\\\"https://sistemasfei.uv.mx/apoyompa/\\\"    |  alt=\\\"Image of Sistema de Avisos\\\" width=\\\"830\\\"  |        </div>\\n                    </div>\\n        |\n",
            "|        | </div>  \\n                <div class=\\\"card mx-2\\\" |       class=\\\"btn btn-primary\\\">Entrar</a>\\n       |        height=\\\"400\\\" decoding=\\\"async\\\">\\n        |   </div>\\n                <div class=\\\"col\\\">\\n    |\n",
            "|        |      style=\\\"width: 18rem;\\\" data-astro-cid-       |        </div>\\n                    </div>\\n        |   <div class=\\\"card-body\\\">\\n                <h5   |            <div class=\\\"card h-100\\\">\\n            |\n",
            "|        | dohjnao5=\\\"\\\"> \\n                    <img src=\\\"ht |    </div>\\n            </div>\\n        </div>\\n    |     class=\\\"card-title text-light\\\">Sistema de     | <img src=\\\"https://sistemasfei.uv.mx/inicio/_astro |\n",
            "|        | tps://sistemasfei.uv.mx/inicio/_astro/edificioFEI. |  </main>\\n    <footer class=\\\"bd-footer py-4 py-   |  Avisos</h5>\\n                <div class=\\\"text-   |   /DashboardDesign.webp\\\" class=\\\"card-img-top\\\"   |\n",
            "|        |   C5q6RF30_Z1jodpw.webp\\\" class=\\\"card-img-top\\\"   |    md-5 mt-5 bg-body-tertiary\\\">\\n        <div     |           end\\\">\\n                    <a           |              alt=\\\"Dashboard PBR\\\">\\n              |\n",
            "|        |   loading=\\\"eager\\\" alt=\\\"Imagen de MOODLE FEI\\\"   |        class=\\\"container px-4 px-md-3\\\">\\n         |   href=\\\"https://sistemasfei.uv.mx/bannersfei/\\\"   |            <div class=\\\"card-body\\\">\\n             |\n",
            "|        |    data-astro-cid-dohjnao5=\\\"\\\" width=\\\"1024\\\"     |     <div class=\\\"row\\\">\\n                <div      |      class=\\\"btn btn-success text-end\\\" aria-      |   <h2 class=\\\"card-title\\\">Dashboard PBR</h2>\\n    |\n",
            "|        | height=\\\"768\\\" decoding=\\\"async\\\" style=\\\"filter:  |  class=\\\"col-lg-3 mb-3\\\">\\n                    <a  |   label=\\\"Enter Sistema de Avisos\\\">Entrar</a>\\n   | <p class=\\\"card-text\\\">Visualiza datos importantes |\n",
            "|        |      invert(0);\\\"> \\n                    <div      |   class=\\\"d-inline-flex align-items-center mb-2    |  </div>\\n            </div>\\n        </article>\\n  |               en el dashboard.</p>\\n               |\n",
            "|        | class=\\\"card-body\\\" data-astro-cid-dohjnao5=\\\"\\\">  |     text-body-emphasis text-decoration-none\\\"      |    <article class=\\\"card mx-2\\\" style=\\\"width:     | <a href=\\\"https://sistemasfei.uv.mx/dashboardfei/l |\n",
            "|        |  \\n                        <h5 class=\\\"card-title  |          href=\\\"http://www.uv.mx/fei\\\"\\n           | 18rem;\\\">\\n            <img src=\\\"https://sistemas |   ogin\\\" class=\\\"btn btn-primary\\\">Entrar</a>\\n    |\n",
            "|        |  text-light\\\" data-astro-cid-dohjnao5=\\\"\\\">MOODLE  |             aria-label=\\\"Logo FEI\\\">\\n             |   fei.uv.mx/inicio/_astro/formularioForms.webp\\\"   | </div>\\n                        <div class=\\\"card- |\n",
            "|        |      FEI</h5> \\n                        <div       | <img width=\\\"50\\\" src=\\\"https://sistemasfei.uv.mx/ |      class=\\\"card-img-top\\\" loading=\\\"eager\\\"      |   footer\\\">\\n                            <small    |\n",
            "|        |  class=\\\"text-end\\\" data-astro-cid-dohjnao5=\\\"\\\">  |    inicio/_astro/logoFEI.CKAzzJnF_ZyfpCW.webp\\\"    | alt=\\\"Image of Formulario de Registro de Eventos\\\" |      class=\\\"text-body-secondary\\\">Dashboard       |\n",
            "|        |          \\n                            <a          |  alt=\\\"Logo FEI\\\">\\n                        <span  |           width=\\\"1200\\\" height=\\\"800\\\"            |   PBR</small>\\n                        </div>\\n    |\n",
            "|        |     href=\\\"https://sistemasfei.uv.mx/moodle/\\\"     |       class=\\\"fs-5\\\">Sistemas FEI</span> \\n        |       decoding=\\\"async\\\">\\n            <div        |          </div>\\n                </div>\\n          |\n",
            "|        | class=\\\"btn btn-success text-end\\\" data-astro-cid- |    </a>\\n                    <ul class=\\\"list-     |     class=\\\"card-body\\\">\\n                <h5      |   <div class=\\\"col\\\">\\n                    <div    |\n",
            "|        |     dohjnao5=\\\"\\\" aria-label=\\\"Entrar a MOODLE     |   unstyled small\\\">\\n                        <li   |   class=\\\"card-title text-light\\\">Formulario de    |              class=\\\"card h-100\\\">\\n               |\n",
            "|        |  FEI\\\">\\n                                Entrar\\n  |  class=\\\"mb-2\\\">Portal de sistemas de la Facultad  |   Registro de Eventos</h5>\\n                <div   | <img src=\\\"https://sistemasfei.uv.mx/inicio/_astro |\n",
            "|        |      </a> \\n                        </div> \\n      |        de Estadística e Informática.</li>\\n        | class=\\\"text-end\\\">\\n                    <a href=\\ |   /registroHorario.webp\\\" class=\\\"card-img-top\\\"   |\n",
            "|        |        </div> \\n                </div>  \\n         |          </ul>\\n                </div>\\n           | \"https://forms.office.com/pages/responsepage.aspx? |     alt=\\\"Registro de Horarios de Tutoría\\\">\\n     |\n",
            "|        |  <div class=\\\"card mx-2\\\" style=\\\"width: 18rem;\\\"  |          <div class=\\\"col-lg-9 mb-3\\\">\\n           | id=UXaQPMbYpkyopGokJDDmU-mq0IRCUa9Ei8mq08oDurxUMDJ |            <div class=\\\"card-body\\\">\\n             |\n",
            "|        |          data-astro-cid-dohjnao5=\\\"\\\"> \\n          |       <h2 class=\\\"h5\\\">Mapa de sitio</h2>\\n        | JQkQ2S1RTRU4zRTQ0SVpINENHQTNWRi4u&amp;route=shortu |  <h2 class=\\\"card-title\\\">Registro de Horarios de  |\n",
            "|        | <img src=\\\"https://sistemasfei.uv.mx/inicio/_astro |           <ul class=\\\"list-unstyled\\\">\\n           |   rl\\\" class=\\\"btn btn-success text-end\\\" aria-    |    Tutoría</h2>\\n                            <p    |\n",
            "|        |  /PEDPA.CaZEdBX2_Zm1Ox5.webp\\\" class=\\\"card-img-   | <li class=\\\"mb-2\\\"><a class=\\\"link-body-emphasis\\\" |      label=\\\"Enter Formulario de Registro de       |  class=\\\"card-text\\\">Registra y gestiona horarios  |\n",
            "|        |  top\\\" loading=\\\"eager\\\" alt=\\\"Imagen del Sistema  | href=\\\"https://sistemasfei.uv.mx/inicio/\\\">Home</a |   Eventos\\\">Entrar</a>\\n                </div>\\n   |  de tutoría.</p>\\n                            <a   |\n",
            "|        | de Estimulos al Desempeño del Personal Academico\\\" |        ></li>\\n                        <li         |    </div>\\n        </article>\\n        <article    | href=\\\"https://sistemasfei.uv.mx/agendatutorias/\\\" |\n",
            "|        |     data-astro-cid-dohjnao5=\\\"\\\" width=\\\"474\\\"     | class=\\\"mb-2\\\"><a class=\\\"link-body-emphasis\\\" hre |   class=\\\"card mx-2\\\" style=\\\"width: 18rem;\\\">\\n   |       class=\\\"btn btn-primary\\\">Entrar</a>\\n       |\n",
            "|        | height=\\\"450\\\" decoding=\\\"async\\\" style=\\\"filter:  | f=\\\"https://sistemasfei.uv.mx/aulaclase/\\\">Sistema | <img src=\\\"https://sistemasfei.uv.mx/inicio/_astro | </div>\\n                        <div class=\\\"card- |\n",
            "|        |      invert(0);\\\"> \\n                    <div      |      de Gestion de Claves de Aulas</a></li>\\n      |   /DashboardDesign.webp\\\" class=\\\"card-img-top\\\"   |   footer\\\">\\n                            <small    |\n",
            "|        | class=\\\"card-body\\\" data-astro-cid-dohjnao5=\\\"\\\">  | <li class=\\\"mb-2\\\"><a class=\\\"link-body-emphasis\\\" |  loading=\\\"eager\\\" alt=\\\"Image of Dashboard PBR\\\"  | class=\\\"text-body-secondary\\\">Registro de Horarios |\n",
            "|        |  \\n                        <h5 class=\\\"card-title  | href=\\\"https://sistemasfei.uv.mx/moodle/\\\">MOODLE  |           width=\\\"1720\\\" height=\\\"900\\\"            |                de Tutoría</small>\\n                |\n",
            "|        | text-light\\\" data-astro-cid-dohjnao5=\\\"\\\">Sistema  |     FEI</a></li>\\n                        <li      |       decoding=\\\"async\\\">\\n            <div        |        </div>\\n                    </div>\\n        |\n",
            "|        |       de Estimulos al Desempeño del Personal       |   class=\\\"mb-2\\\"><a class=\\\"link-body-emphasis\\\"   |     class=\\\"card-body\\\">\\n                <h5      |   </div>\\n                <div class=\\\"col\\\">\\n    |\n",
            "|        |   Academico</h5> \\n                        <div    | href=\\\"https://sistemasfei.uv.mx/pedpa/\\\">Sistema  |     class=\\\"card-title text-light\\\">Dashboard      |            <div class=\\\"card h-100\\\">\\n            |\n",
            "|        |  class=\\\"text-end\\\" data-astro-cid-dohjnao5=\\\"\\\">  |       de Estimulos al Desempeño del Personal       |    PBR</h5>\\n                <div class=\\\"text-    | <img src=\\\"https://sistemasfei.uv.mx/inicio/_astro |\n",
            "|        |          \\n                            <a          |  Academico</a></li>\\n                        <li   | end\\\">\\n                    <a href=\\\"https://sist |     /sistemampa.webp\\\" class=\\\"card-img-top\\\"      |\n",
            "|        |     href=\\\"https://sistemasfei.uv.mx/pedpa/\\\"      | class=\\\"mb-2\\\"><a class=\\\"link-body-emphasis\\\" hre |   emasfei.uv.mx/dashboardfei/login\\\" class=\\\"btn   |    alt=\\\"Módulo de Programación Académica\\\">\\n     |\n",
            "|        | class=\\\"btn btn-success text-end\\\" data-astro-cid- | f=\\\"https://sistemasfei.uv.mx/bannersfei/\\\">Sistem |     btn-success text-end\\\" aria-label=\\\"Enter      |            <div class=\\\"card-body\\\">\\n             |\n",
            "|        |  dohjnao5=\\\"\\\" aria-label=\\\"Entrar al Sistema de   | a de Avisos</a></li>\\n                        <li  |            Dashboard PBR\\\">Entrar</a>\\n            |  <h2 class=\\\"card-title\\\">Módulo de Programación   |\n",
            "|        | Estimulos al Desempeño del Personal Academico\\\">\\n | class=\\\"mb-2\\\"><a class=\\\"link-body-emphasis\\\" hre |  </div>\\n            </div>\\n        </article>\\n  |   Académica</h2>\\n                            <p   |\n",
            "|        |    Entrar\\n                            </a> \\n     | f=\\\"https://forms.office.com/pages/responsepage.as |    <article class=\\\"card mx-2\\\" style=\\\"width:     |    class=\\\"card-text\\\">Gestiona la programación    |\n",
            "|        |       </div> \\n                    </div> \\n       | px?id=UXaQPMbYpkyopGokJDDmU-mq0IRCUa9Ei8mq08oDurxU | 18rem;\\\">\\n            <img src=\\\"https://sistemas |   académica.</p>\\n                            <a   |\n",
            "|        | </div> \\n                <div class=\\\"card mx-2\\\"  | MDJJQkQ2S1RTRU4zRTQ0SVpINENHQTNWRi4u&amp;route=sho |   fei.uv.mx/inicio/_astro/registroHorario.webp\\\"   |    href=\\\"https://sistemasfei.uv.mx/apoyompa/\\\"    |\n",
            "|        |      style=\\\"width: 18rem;\\\" data-astro-cid-       |         rturl\\\">Formulario de Registro de          |      class=\\\"card-img-top\\\" loading=\\\"eager\\\"      |       class=\\\"btn btn-primary\\\">Entrar</a>\\n       |\n",
            "|        | dohjnao5=\\\"\\\"> \\n                    <img src=\\\"ht |   Eventos</a></li>\\n                        <li    |  alt=\\\"Image of Registro de Horarios de Tutoría\\\"  | </div>\\n                        <div class=\\\"card- |\n",
            "|        | tps://sistemasfei.uv.mx/inicio/_astro/sistemaAviso | class=\\\"mb-2\\\"><a class=\\\"link-body-emphasis\\\" hre | width=\\\"362\\\" height=\\\"362\\\" decoding=\\\"async\\\">\\n |   footer\\\">\\n                            <small    |\n",
            "|        |         sFEI.webp\\\" class=\\\"card-img-top\\\"         | f=\\\"https://sistemasfei.uv.mx/dashboardfei/login\\\" |   <div class=\\\"card-body\\\">\\n                <h5   |      class=\\\"text-body-secondary\\\">Módulo de       |\n",
            "|        |   loading=\\\"eager\\\" alt=\\\"Imagen del Sistema de    |             >Dashboard PBR</a></li>\\n              |    class=\\\"card-title text-light\\\">Registro de     |          Programación Académica</small>\\n          |\n",
            "|        |       Avisos\\\" data-astro-cid-dohjnao5=\\\"\\\"        | <li class=\\\"mb-2\\\"><a class=\\\"link-body-emphasis\\\" |   Horarios de Tutoría</h5>\\n                <div   |        </div>\\n                    </div>\\n        |\n",
            "|        |  width=\\\"830\\\" height=\\\"400\\\" decoding=\\\"async\\\"   | href=\\\"https://sistemasfei.uv.mx/agendatutorias/\\\" |    class=\\\"text-end\\\">\\n                    <a     |    </div>\\n            </div>\\n        </div>\\n    |\n",
            "|        |          style=\\\"filter: invert(0);\\\"> \\n          |    >Registro de Horarios de Tutoría</a></li>\\n     | href=\\\"https://sistemasfei.uv.mx/agendatutorias/\\\" |  </main>\\n    <footer class=\\\"bd-footer py-4 py-   |\n",
            "|        |      <div class=\\\"card-body\\\" data-astro-cid-      | <li class=\\\"mb-2\\\"><a class=\\\"link-body-emphasis\\\" |      class=\\\"btn btn-success text-end\\\" aria-      |    md-5 mt-5 bg-body-tertiary\\\">\\n        <div     |\n",
            "|        |    dohjnao5=\\\"\\\"> \\n                        <h5    | href=\\\"https://sistemasfei.uv.mx/apoyompa/\\\">Módul |       label=\\\"Enter Registro de Horarios de        |        class=\\\"container px-4 px-md-3\\\">\\n         |\n",
            "|        |  class=\\\"card-title text-light\\\" data-astro-cid-   |       o de Programación Académica</a></li>\\n       |   Tutoría\\\">Entrar</a>\\n                </div>\\n   |     <div class=\\\"row\\\">\\n                <div      |\n",
            "|        |      dohjnao5=\\\"\\\">Sistema de Avisos</h5> \\n       |          </ul>\\n                </div>\\n           |    </div>\\n        </article>\\n        <article    |  class=\\\"col-lg-3 mb-3\\\">\\n                    <a  |\n",
            "|        |      <div class=\\\"text-end\\\" data-astro-cid-       | </div>\\n        </div>\\n    </footer>\\n    <script |   class=\\\"card mx-2\\\" style=\\\"width: 18rem;\\\">\\n   |   class=\\\"d-inline-flex align-items-center mb-2    |\n",
            "|        |  dohjnao5=\\\"\\\"> \\n                            <a   | src=\\\"https://cdn.jsdelivr.net/npm/bootstrap@5.3.3 | <img src=\\\"https://sistemasfei.uv.mx/inicio/_astro |     text-body-emphasis text-decoration-none\\\"      |\n",
            "|        |   href=\\\"https://sistemasfei.uv.mx/bannersfei/\\\"   | /dist/js/bootstrap.bundle.min.js\\\"></script>\\n</bo |     /sistemampa.webp\\\" class=\\\"card-img-top\\\"      |          href=\\\"http://www.uv.mx/fei\\\"\\n           |\n",
            "|        | class=\\\"btn btn-success text-end\\\" data-astro-cid- |                  dy>\\n\\n</html>\"}                  |     loading=\\\"eager\\\" alt=\\\"Image of Módulo de     |             aria-label=\\\"Logo FEI\\\">\\n             |\n",
            "|        |  dohjnao5=\\\"\\\" aria-label=\\\"Entrar al Sistema de   |                                                    |      Programación Académica\\\" width=\\\"1600\\\"       | <img width=\\\"50\\\" src=\\\"https://sistemasfei.uv.mx/ |\n",
            "|        |                    Avisos\\\">\\n                     |                                                    |       height=\\\"1200\\\" decoding=\\\"async\\\">\\n        |    inicio/_astro/logoFEI.CKAzzJnF_ZyfpCW.webp\\\"    |\n",
            "|        |    Entrar\\n                            </a> \\n     |                                                    |   <div class=\\\"card-body\\\">\\n                <h5   |  alt=\\\"Logo FEI\\\">\\n                        <span  |\n",
            "|        |       </div> \\n                    </div> \\n       |                                                    |     class=\\\"card-title text-light\\\">Módulo de      |       class=\\\"fs-5\\\">Sistemas FEI</span> \\n        |\n",
            "|        |  </div>\\n                <div class=\\\"card mx-2\\\"  |                                                    | Programación Académica</h5>\\n                <div  |    </a>\\n                    <ul class=\\\"list-     |\n",
            "|        |      style=\\\"width: 18rem;\\\" data-astro-cid-       |                                                    |    class=\\\"text-end\\\">\\n                    <a     |   unstyled small\\\">\\n                        <li   |\n",
            "|        | dohjnao5=\\\"\\\"> \\n                    <img src=\\\"ht |                                                    |    href=\\\"https://sistemasfei.uv.mx/apoyompa/\\\"    |  class=\\\"mb-2\\\">Portal de sistemas de la Facultad  |\n",
            "|        | tps://sistemasfei.uv.mx/inicio/_astro/formularioFo |                                                    |      class=\\\"btn btn-success text-end\\\" aria-      |        de Estadística e Informática.</li>\\n        |\n",
            "|        |         rms.webp\\\" class=\\\"card-img-top\\\"          |                                                    |        label=\\\"Enter Módulo de Programación        |          </ul>\\n                </div>\\n           |\n",
            "|        |  loading=\\\"eager\\\" alt=\\\"Imagen del Formulario de  |                                                    |  Académica\\\">Entrar</a>\\n                </div>\\n  |          <div class=\\\"col-lg-9 mb-3\\\">\\n           |\n",
            "|        | Registro de Eventos\\\" data-astro-cid-dohjnao5=\\\"\\\" |                                                    |            </div>\\n        </article>\\n            |       <h2 class=\\\"h5\\\">Mapa de sitio</h2>\\n        |\n",
            "|        |  width=\\\"1200\\\" height=\\\"800\\\" decoding=\\\"async\\\"  |                                                    |            </main>\\n</body>\\n</html>\"}             |           <ul class=\\\"list-unstyled\\\">\\n           |\n",
            "|        |          style=\\\"filter: invert(0);\\\"> \\n          |                                                    |                                                    | <li class=\\\"mb-2\\\"><a class=\\\"link-body-emphasis\\\" |\n",
            "|        |      <div class=\\\"card-body\\\" data-astro-cid-      |                                                    |                                                    | href=\\\"https://sistemasfei.uv.mx/inicio/\\\">Inicio< |\n",
            "|        |    dohjnao5=\\\"\\\"> \\n                        <h5    |                                                    |                                                    |       /a></li>\\n                        <li        |\n",
            "|        |  class=\\\"card-title text-light\\\" data-astro-cid-   |                                                    |                                                    | class=\\\"mb-2\\\"><a class=\\\"link-body-emphasis\\\" hre |\n",
            "|        |      dohjnao5=\\\"\\\">Formulario de Registro de       |                                                    |                                                    | f=\\\"https://sistemasfei.uv.mx/aulaclase/\\\">Sistema |\n",
            "|        |    Eventos</h5> \\n                        <div     |                                                    |                                                    |      de Gestion de Claves de Aulas</a></li>\\n      |\n",
            "|        |  class=\\\"text-end\\\" data-astro-cid-dohjnao5=\\\"\\\">  |                                                    |                                                    | <li class=\\\"mb-2\\\"><a class=\\\"link-body-emphasis\\\" |\n",
            "|        | \\n                            <a href=\\\"https://fo |                                                    |                                                    | href=\\\"https://sistemasfei.uv.mx/moodle/\\\">MOODLE  |\n",
            "|        | rms.office.com/pages/responsepage.aspx?id=UXaQPMbY |                                                    |                                                    |     FEI</a></li>\\n                        <li      |\n",
            "|        | pkyopGokJDDmU-mq0IRCUa9Ei8mq08oDurxUMDJJQkQ2S1RTRU |                                                    |                                                    |   class=\\\"mb-2\\\"><a class=\\\"link-body-emphasis\\\"   |\n",
            "|        |    4zRTQ0SVpINENHQTNWRi4u&amp;route=shorturl\\\"     |                                                    |                                                    | href=\\\"https://sistemasfei.uv.mx/pedpa/\\\">Sistema  |\n",
            "|        | class=\\\"btn btn-success text-end\\\" data-astro-cid- |                                                    |                                                    |       de Estimulos al Desempeño del Personal       |\n",
            "|        | dohjnao5=\\\"\\\" aria-label=\\\"Entrar al Formulario de |                                                    |                                                    |  Academico</a></li>\\n                        <li   |\n",
            "|        |              Registro de Eventos\\\">\\n              |                                                    |                                                    | class=\\\"mb-2\\\"><a class=\\\"link-body-emphasis\\\" hre |\n",
            "|        |    Entrar\\n                            </a> \\n     |                                                    |                                                    | f=\\\"https://sistemasfei.uv.mx/bannersfei/\\\">Sistem |\n",
            "|        |       </div> \\n                    </div> \\n       |                                                    |                                                    | a de Avisos</a></li>\\n                        <li  |\n",
            "|        |    </div>   \\n                <div class=\\\"card    |                                                    |                                                    | class=\\\"mb-2\\\"><a class=\\\"link-body-emphasis\\\" hre |\n",
            "|        |   mx-2\\\" style=\\\"width: 18rem;\\\" data-astro-cid-   |                                                    |                                                    | f=\\\"https://forms.office.com/pages/responsepage.as |\n",
            "|        | dohjnao5=\\\"\\\"> \\n                    <img src=\\\"ht |                                                    |                                                    | px?id=UXaQPMbYpkyopGokJDDmU-mq0IRCUa9Ei8mq08oDurxU |\n",
            "|        | tps://sistemasfei.uv.mx/inicio/_astro/DashboardDes |                                                    |                                                    | MDJJQkQ2S1RTRU4zRTQ0SVpINENHQTNWRi4u&amp;route=sho |\n",
            "|        |         ign.webp\\\" class=\\\"card-img-top\\\"          |                                                    |                                                    |         rturl\\\">Formulario de Registro de          |\n",
            "|        | loading=\\\"eager\\\" alt=\\\"Imagen del Dashboard PBR\\\" |                                                    |                                                    |   Eventos</a></li>\\n                        <li    |\n",
            "|        |    data-astro-cid-dohjnao5=\\\"\\\" width=\\\"1720\\\"     |                                                    |                                                    | class=\\\"mb-2\\\"><a class=\\\"link-body-emphasis\\\" hre |\n",
            "|        | height=\\\"900\\\" decoding=\\\"async\\\" style=\\\"filter:  |                                                    |                                                    | f=\\\"https://sistemasfei.uv.mx/dashboardfei/login\\\" |\n",
            "|        |      invert(0);\\\"> \\n                    <div      |                                                    |                                                    |             >Dashboard PBR</a></li>\\n              |\n",
            "|        | class=\\\"card-body\\\" data-astro-cid-dohjnao5=\\\"\\\">  |                                                    |                                                    | <li class=\\\"mb-2\\\"><a class=\\\"link-body-emphasis\\\" |\n",
            "|        |  \\n                        <h5 class=\\\"card-title  |                                                    |                                                    | href=\\\"https://sistemasfei.uv.mx/agendatutorias/\\\" |\n",
            "|        |            text-light\\\" data-astro-cid-            |                                                    |                                                    |    >Registro de Horarios de Tutoría</a></li>\\n     |\n",
            "|        |        dohjnao5=\\\"\\\">Dashboard PBR</h5> \\n         |                                                    |                                                    | <li class=\\\"mb-2\\\"><a class=\\\"link-body-emphasis\\\" |\n",
            "|        |      <div class=\\\"text-end\\\" data-astro-cid-       |                                                    |                                                    | href=\\\"https://sistemasfei.uv.mx/apoyompa/\\\">Módul |\n",
            "|        | dohjnao5=\\\"\\\"> \\n                            <a hr |                                                    |                                                    |       o de Programación Académica</a></li>\\n       |\n",
            "|        | ef=\\\"https://sistemasfei.uv.mx/dashboardfei/login\\ |                                                    |                                                    |          </ul>\\n                </div>\\n           |\n",
            "|        |  \" class=\\\"btn btn-success text-end\\\" data-astro-  |                                                    |                                                    | </div>\\n        </div>\\n    </footer>\\n    <script |\n",
            "|        | cid-dohjnao5=\\\"\\\" aria-label=\\\"Entrar al Dashboard |                                                    |                                                    | src=\\\"https://cdn.jsdelivr.net/npm/bootstrap@5.3.3 |\n",
            "|        |  PBR\\\">\\n                                Entrar\\n  |                                                    |                                                    | /dist/js/bootstrap.bundle.min.js\\\"></script>\\n</bo |\n",
            "|        |      </a> \\n                        </div> \\n      |                                                    |                                                    |                 dy>\\n\\n</html>\" }                  |\n",
            "|        |        </div> \\n                </div>   \\n        |                                                    |                                                    |                                                    |\n",
            "|        |  <div class=\\\"card mx-2\\\" style=\\\"width: 18rem;\\\"  |                                                    |                                                    |                                                    |\n",
            "|        |          data-astro-cid-dohjnao5=\\\"\\\"> \\n          |                                                    |                                                    |                                                    |\n",
            "|        | <img src=\\\"https://sistemasfei.uv.mx/inicio/_astro |                                                    |                                                    |                                                    |\n",
            "|        |   /registroHorario.webp\\\" class=\\\"card-img-top\\\"   |                                                    |                                                    |                                                    |\n",
            "|        |   loading=\\\"eager\\\" alt=\\\"Imagen del Registro de   |                                                    |                                                    |                                                    |\n",
            "|        | Horarios de Tutoría\\\" data-astro-cid-dohjnao5=\\\"\\\" |                                                    |                                                    |                                                    |\n",
            "|        |  width=\\\"362\\\" height=\\\"362\\\" decoding=\\\"async\\\"   |                                                    |                                                    |                                                    |\n",
            "|        |          style=\\\"filter: invert(0);\\\"> \\n          |                                                    |                                                    |                                                    |\n",
            "|        |      <div class=\\\"card-body\\\" data-astro-cid-      |                                                    |                                                    |                                                    |\n",
            "|        |    dohjnao5=\\\"\\\"> \\n                        <h5    |                                                    |                                                    |                                                    |\n",
            "|        |  class=\\\"card-title text-light\\\" data-astro-cid-   |                                                    |                                                    |                                                    |\n",
            "|        | dohjnao5=\\\"\\\">Registro de Horarios de Tutoría</h5> |                                                    |                                                    |                                                    |\n",
            "|        | \\n                        <div class=\\\"text-end\\\"  |                                                    |                                                    |                                                    |\n",
            "|        |          data-astro-cid-dohjnao5=\\\"\\\"> \\n          |                                                    |                                                    |                                                    |\n",
            "|        |                         <a                         |                                                    |                                                    |                                                    |\n",
            "|        | href=\\\"https://sistemasfei.uv.mx/agendatutorias/\\\" |                                                    |                                                    |                                                    |\n",
            "|        | class=\\\"btn btn-success text-end\\\" data-astro-cid- |                                                    |                                                    |                                                    |\n",
            "|        |  dohjnao5=\\\"\\\" aria-label=\\\"Entrar al Registro de  |                                                    |                                                    |                                                    |\n",
            "|        |              Horarios de Tutoría\\\">\\n              |                                                    |                                                    |                                                    |\n",
            "|        |    Entrar\\n                            </a> \\n     |                                                    |                                                    |                                                    |\n",
            "|        |       </div> \\n                    </div> \\n       |                                                    |                                                    |                                                    |\n",
            "|        | </div> \\n                <div class=\\\"card mx-2\\\"  |                                                    |                                                    |                                                    |\n",
            "|        |      style=\\\"width: 18rem;\\\" data-astro-cid-       |                                                    |                                                    |                                                    |\n",
            "|        | dohjnao5=\\\"\\\"> \\n                    <img src=\\\"ht |                                                    |                                                    |                                                    |\n",
            "|        | tps://sistemasfei.uv.mx/inicio/_astro/sistemampa.w |                                                    |                                                    |                                                    |\n",
            "|        |   ebp\\\" class=\\\"card-img-top\\\" loading=\\\"eager\\\"   |                                                    |                                                    |                                                    |\n",
            "|        |      alt=\\\"Imagen del Módulo de Programación       |                                                    |                                                    |                                                    |\n",
            "|        |      Académica\\\" data-astro-cid-dohjnao5=\\\"\\\"      |                                                    |                                                    |                                                    |\n",
            "|        | width=\\\"1600\\\" height=\\\"1200\\\" decoding=\\\"async\\\"  |                                                    |                                                    |                                                    |\n",
            "|        |          style=\\\"filter: invert(0);\\\"> \\n          |                                                    |                                                    |                                                    |\n",
            "|        |      <div class=\\\"card-body\\\" data-astro-cid-      |                                                    |                                                    |                                                    |\n",
            "|        |    dohjnao5=\\\"\\\"> \\n                        <h5    |                                                    |                                                    |                                                    |\n",
            "|        |  class=\\\"card-title text-light\\\" data-astro-cid-   |                                                    |                                                    |                                                    |\n",
            "|        |        dohjnao5=\\\"\\\">Módulo de Programación        |                                                    |                                                    |                                                    |\n",
            "|        |   Académica</h5> \\n                        <div    |                                                    |                                                    |                                                    |\n",
            "|        |  class=\\\"text-end\\\" data-astro-cid-dohjnao5=\\\"\\\">  |                                                    |                                                    |                                                    |\n",
            "|        |          \\n                            <a          |                                                    |                                                    |                                                    |\n",
            "|        |    href=\\\"https://sistemasfei.uv.mx/apoyompa/\\\"    |                                                    |                                                    |                                                    |\n",
            "|        | class=\\\"btn btn-success text-end\\\" data-astro-cid- |                                                    |                                                    |                                                    |\n",
            "|        |   dohjnao5=\\\"\\\" aria-label=\\\"Entrar al Módulo de   |                                                    |                                                    |                                                    |\n",
            "|        |            Programación Académica\\\">\\n             |                                                    |                                                    |                                                    |\n",
            "|        |    Entrar\\n                            </a> \\n     |                                                    |                                                    |                                                    |\n",
            "|        |       </div> \\n                    </div> \\n       |                                                    |                                                    |                                                    |\n",
            "|        |       </div>     \\n            </div>    \\n        |                                                    |                                                    |                                                    |\n",
            "|        |            </main>\\n    </body></html>\"            |                                                    |                                                    |                                                    |\n",
            "|        |                         }                          |                                                    |                                                    |                                                    |\n",
            "+--------+----------------------------------------------------+----------------------------------------------------+----------------------------------------------------+----------------------------------------------------+\n"
          ]
        }
      ],
      "source": [
        "extracted_json_html, extracted_json_html_template, extracted_json_md, extracted_json_md_template = display_extracted_content(\"gpt-4o\", all_content_html, all_content_md, \"Crawl4ai\", \"Blocks\", \"blocks\")"
      ]
    },
    {
      "cell_type": "code",
      "execution_count": null,
      "metadata": {},
      "outputs": [],
      "source": [
        "create_interface(extracted_json_html, extracted_json_html_template, extracted_json_md, extracted_json_md_template)"
      ]
    },
    {
      "cell_type": "code",
      "execution_count": 42,
      "metadata": {},
      "outputs": [],
      "source": [
        "generate_output_files(\"gpt-blocks\", extracted_json_html, extracted_json_html_template, extracted_json_md, extracted_json_md_template)"
      ]
    },
    {
      "cell_type": "markdown",
      "metadata": {},
      "source": [
        "## Google Gemini: Example blocks\n",
        "\n",
        "Revisemos el resultado que produce este modelo."
      ]
    },
    {
      "cell_type": "code",
      "execution_count": 47,
      "metadata": {},
      "outputs": [
        {
          "data": {
            "application/vnd.jupyter.widget-view+json": {
              "model_id": "360a2f073ace46529e1cf2672d97eac6",
              "version_major": 2,
              "version_minor": 0
            },
            "text/plain": [
              "Processing results:   0%|          | 0/2 [00:00<?, ?it/s]"
            ]
          },
          "metadata": {},
          "output_type": "display_data"
        },
        {
          "data": {
            "application/vnd.jupyter.widget-view+json": {
              "model_id": "96da611930334904af379c1cd242af25",
              "version_major": 2,
              "version_minor": 0
            },
            "text/plain": [
              "Extracting content with Crawl4ai for HTML input:   0%|          | 0/1 [00:00<?, ?it/s]"
            ]
          },
          "metadata": {},
          "output_type": "display_data"
        },
        {
          "data": {
            "application/vnd.jupyter.widget-view+json": {
              "model_id": "ac973f9711cd4c0faa67f89009359326",
              "version_major": 2,
              "version_minor": 0
            },
            "text/plain": [
              "Extracting content with Crawl4ai for HTML input and template:   0%|          | 0/1 [00:00<?, ?it/s]"
            ]
          },
          "metadata": {},
          "output_type": "display_data"
        },
        {
          "data": {
            "application/vnd.jupyter.widget-view+json": {
              "model_id": "c929c0a3930f4e00950b97794206facb",
              "version_major": 2,
              "version_minor": 0
            },
            "text/plain": [
              "Extracting content with Crawl4ai for Markdown input:   0%|          | 0/1 [00:00<?, ?it/s]"
            ]
          },
          "metadata": {},
          "output_type": "display_data"
        },
        {
          "data": {
            "application/vnd.jupyter.widget-view+json": {
              "model_id": "64d32fc4756644c48f88924fad49ece8",
              "version_major": 2,
              "version_minor": 0
            },
            "text/plain": [
              "Extracting content with Crawl4ai for Markdown input and template:   0%|          | 0/1 [00:00<?, ?it/s]"
            ]
          },
          "metadata": {},
          "output_type": "display_data"
        },
        {
          "name": "stdout",
          "output_type": "stream",
          "text": [
            "Extracted Content Table:\n",
            "+--------+----------------------------------------------------+----------------------------------------------------+----------------------------------------------------+----------------------------------------------------+\n",
            "|  Site  |                     From HTML                      |              From HTML with template               |                   From markdown                    |            From markdown with template             |\n",
            "+--------+----------------------------------------------------+----------------------------------------------------+----------------------------------------------------+----------------------------------------------------+\n",
            "| Blocks |              Completion tokens: 4,201              |              Completion tokens: 4,592              |              Completion tokens: 4,186              |              Completion tokens: 4,017              |\n",
            "|        |                Prompt tokens: 3,703                |                Prompt tokens: 5,292                |                Prompt tokens: 3,756                |                Prompt tokens: 5,287                |\n",
            "|        |               Total cost: $0.019760                |               Total cost: $0.024710                |               Total cost: $0.019855                |               Total cost: $0.023260                |\n",
            "|        |                                                    |                                                    |                                                    |                                                    |\n",
            "|        |                                                    |                                                    |                                                    |                                                    |\n",
            "|        |                         {                          |                         {                          |                         {                          |                         {                          |\n",
            "|        |    \"Procedure\": \"1. Added a skip-to-content link   |   \"Procedure\": \"1.  Changed the document language  |    \"Procedure\": \"1.  Added a skip navigation link  |   \"Procedure\": \"1.  Changed the document language  |\n",
            "|        | for keyboard users.\\n2. Set the document language  |  to 'es' (Spanish) for better accessibility.\\n2.   |    for keyboard users.\\n2.  Used semantic HTML5    |  to 'es' (Spanish) for better accessibility.\\n2.   |\n",
            "|        | to English (en).\\n3. Added a descriptive title to  | Added a descriptive meta description for improved  |    elements: header, main, article, aside, nav,    |     Added a descriptive title to the page.\\n3.     |\n",
            "|        | the page.\\n4. Ensured all images have descriptive  |  SEO and accessibility.\\n3.  Ensured the viewport  |   footer.\\n3.  Ensured proper heading hierarchy,   |  Included the Bootstrap CSS for responsive design  |\n",
            "|        |   alt text.\\n5. Used semantic HTML5 elements for   |      meta tag is correctly set for responsive      |  starting with h1 and nesting appropriately.\\n4.   | and styling.\\n4.  Created a navigation bar with UV |\n",
            "|        | better structure.\\n6. Added aria-label attributes  |  design.\\n4.  Added a title to the document.\\n5.   |   Added alt attributes to all images, providing    |     and FEI logos, linking to their respective     |\n",
            "|        | to improve navigation landmark identification.\\n7. |  Included Bootstrap CSS from CDN for styling and   | descriptive text.\\n5.  Improved color contrast for | websites.\\n5.  Ensured the logos have appropriate  |\n",
            "|        |     Added a main landmark to enclose the main      |   responsive layout.\\n6.  Added inline styles to   |      better readability.\\n6.  Used aria-label      |  alt text for screen readers.\\n6.  Used a heading  |\n",
            "|        | content.\\n8. Added labels to the links to improve  |  replicate the original design, including styles   |   attributes for better screen reader support on   |  tag (h1) for the main title to improve semantic   |\n",
            "|        | accessibility.\\n9. Added a role=\\\"navigation\\\" to  |     for images, cards, and the container.\\n7.      | links and navigation.\\n7.  Ensured all interactive |  structure.\\n7.  Implemented a grid layout using   |\n",
            "|        |   the nav element.\\n10. Ensured sufficient color   | Modified the navigation bar to include accessible  |   elements are keyboard accessible.\\n8.  Added a   | Bootstrap's row and column classes for the system  |\n",
            "|        |  contrast for text and interactive elements.\\n11.  |  links with appropriate ARIA labels.\\n8.  Ensured  | main landmark to enclose the primary content.\\n9.  |   links.\\n8.  Each system link is presented as a   |\n",
            "|        | Replaced the h1 with a visually hidden alternative |     that the logo images have descriptive alt      |   Added labels to the links.\\n10. Added a title    |    card with an image, title, and a link to the    |\n",
            "|        |  to maintain the heading structure.\\n12. Added a   |   text.\\n9.  Used a level 1 heading (h1) for the   |        attribute to the links.\\n11. Added a        |  system.\\n9.  Added alt text to each system image  |\n",
            "|        |   tabindex=\\\"0\\\" to the main element to make it    |      main title to establish a proper heading      | role=\\\"navigation\\\" to the nav element.\\n12. Added | to describe the system.\\n10. Used h2 for the card  |\n",
            "|        |  focusable.\\n13. Added a focus style to the links  |   hierarchy.\\n10. Replaced the generic divs with   |     a role=\\\"img\\\" to the images.\\n13. Added a     |        titles to maintain a logical heading        |\n",
            "|        |  to improve keyboard navigation.\\n14. Added a sr-  |      semantic HTML5 elements like <main> and       |  role=\\\"heading\\\" to the h1 element.\\n14. Added a  |    structure.\\n11. Ensured that the links have     |\n",
            "|        | only class to hide elements visually but keep them |  <footer>.\\n11. Added a grid layout for the cards  | role=\\\"article\\\" to the card elements.\\n15. Added  | descriptive text for better context.\\n12. Added a  |\n",
            "|        |     accessible to screen readers.\\n15. Added a     |  using Bootstrap classes for responsiveness.\\n12.  | a role=\\\"contentinfo\\\" to the footer element.\\n16. | footer with links to UV and FEI websites for site  |\n",
            "|        |       role=\\\"img\\\" to the images to improve        | Ensured each card contains an image with alt text, |       Added a role=\\\"banner\\\" to the header        |  navigation.\\n13. Included a brief description of  |\n",
            "|        |  accessibility.\\n16. Added a aria-hidden=\\\"true\\\"  |   a title (h2), and a link.\\n13. Improved color    |  element.\\n17. Added a role=\\\"main\\\" to the main   |    the site in the footer.\\n14. Added a sitemap    |\n",
            "|        | to the decorative images.\\n17. Added a aria-label  |     contrast for the card titles to meet WCAG      |  element.\\n18. Added a role=\\\"region\\\" to the div  |  section in the footer for easy navigation.\\n15.   |\n",
            "|        | to the links to improve accessibility.\\n18. Added  | standards.\\n14. Added ARIA labels to the links for |  element with class=\\\"contenedor\\\".\\n19. Added a   |        Ensured all links in the footer are         |\n",
            "|        |  a aria-roledescription=\\\"card\\\" to the cards to   | better accessibility.\\n15. Created a simple footer | role=\\\"complementary\\\" to the aside element.\\n20.  |   descriptive.\\n16. Added Bootstrap's JavaScript   |\n",
            "|        |     improve accessibility.\\n19. Added a aria-      | with a sitemap and descriptive text.\\n16. Included |   Added a role=\\\"search\\\" to the form element.\",   |   bundle for interactive components.\\n17. Added    |\n",
            "|        |     level=\\\"3\\\" to the h5 elements to improve      |   Bootstrap JavaScript from CDN for interactive    |    \"HTML\": \"<html lang=\\\"en\\\">\\n<head>\\n    <meta  |  inline styles to replicate the original design,   |\n",
            "|        |    accessibility.\\n20. Added a style section to    | components.\\n17. Ensured all links are functional  | charset=\\\"UTF-8\\\">\\n    <meta name=\\\"description\\\" |         ensuring they do not conflict with         |\n",
            "|        |  include the sr-only class and the focus style.\",  |  and point to the correct URLs.\\n18. Added a 'sr-  |        content=\\\"Sistemas FEI - Universidad        |    accessibility.\\n18. Ensured sufficient color    |\n",
            "|        |    \"HTML\": \"<html lang=\\\"en\\\">\\n<head>\\n    <meta  |   only' class to hide elements visually but keep   |    Veracruzana\\\">\\n    <meta name=\\\"viewport\\\"     |      contrast between text and background for      |\n",
            "|        | charset=\\\"UTF-8\\\">\\n    <meta name=\\\"description\\\" |  them accessible to screen readers.\\n19. Added a   |       content=\\\"width=device-width, initial-       |    readability.\\n19. Checked and corrected the     |\n",
            "|        |     content=\\\"Astro description\\\">\\n    <meta      |   CSS rule to the style section to hide elements   |        scale=1.0\\\">\\n    <link rel=\\\"icon\\\"        | contrast of the buttons to be WCAG compliant.\\n20. |\n",
            "|        |  name=\\\"viewport\\\" content=\\\"width=device-width,   | with the 'sr-only' class.\\n20. Double-checked all  | type=\\\"image/x-icon\\\" href=\\\"https://sistemasfei.u |   Added aria-label attributes to the navigation    |\n",
            "|        |    initial-scale=1.0\\\">\\n    <link rel=\\\"icon\\\"    |   alt texts, ARIA labels, and color contrasts to   |  v.mx/inicio/favicon.ico\\\">\\n    <title>Sistemas   |     links for better screen reader support.\",      |\n",
            "|        | type=\\\"image/x-icon\\\" href=\\\"https://sistemasfei.u |           ensure WCAG 2.2 compliance.\",            | FEI - Universidad Veracruzana</title>\\n    <link h |           \"HTML\": \"<!DOCTYPE html>\\n<html          |\n",
            "|        | v.mx/inicio/favicon.ico\\\">\\n    <link href=\\\"https |           \"HTML\": \"<!DOCTYPE html>\\n<html          | ref=\\\"https://cdn.jsdelivr.net/npm/bootstrap@5.3.3 |         lang=\\\"es\\\">\\n\\n<head>\\n    <meta          |\n",
            "|        | ://cdn.jsdelivr.net/npm/bootstrap@5.3.3/dist/css/b |         lang=\\\"es\\\">\\n\\n<head>\\n    <meta          | /dist/css/bootstrap.min.css\\\" rel=\\\"stylesheet\\\" i |  charset=\\\"UTF-8\\\">\\n    <meta name=\\\"viewport\\\"   |\n",
            "|        | ootstrap.min.css\\\" rel=\\\"stylesheet\\\" integrity=\\\" | charset=\\\"UTF-8\\\">\\n    <meta name=\\\"description\\\" |                 ntegrity=\\\"sha384-                 | content=\\\"width=device-width, initial-scale=1\\\">\\n |\n",
            "|        |                      sha384-                       |   content=\\\"Portal de Sistemas FEI - Universidad   | QWTKZyjpPEjISv5WaRU9OFeRpok6YctnYmDr5pNlyT2bRjXh0J | <title>Sistemas FEI - UV</title>\\n    <link href=\\ |\n",
            "|        | QWTKZyjpPEjISv5WaRU9OFeRpok6YctnYmDr5pNlyT2bRjXh0J |    Veracruzana\\\">\\n    <meta name=\\\"viewport\\\"     |   MhjY6hW+ALEwIH\\\" crossorigin=\\\"anonymous\\\">\\n    | \"https://cdn.jsdelivr.net/npm/bootstrap@5.3.3/dist |\n",
            "|        |   MhjY6hW+ALEwIH\\\" crossorigin=\\\"anonymous\\\">\\n    | content=\\\"width=device-width, initial-scale=1\\\">\\n |  <style>\\n        body {\\n            background-  |   /css/bootstrap.min.css\\\" rel=\\\"stylesheet\\\">\\n   |\n",
            "|        |     <title>Sistemas FEI</title>\\n    <style>\\n     | <title>Sistemas FEI</title>\\n    <link href=\\\"http |   color: #efecec;\\n            font-family: Gill   |      <style>\\n            img[data-astro-cid-      |\n",
            "|        |  img[data-astro-cid-dohjnao5] {\\n            max-  | s://cdn.jsdelivr.net/npm/bootstrap@5.3.3/dist/css/ |  Sans, Gill Sans MT, Calibri, Trebuchet MS, sans-  |   dohjnao5]\\n            {\\n                max-   |\n",
            "|        |  width: 300px;\\n            max-height: 100px;\\n   |     bootstrap.min.css\\\" rel=\\\"stylesheet\\\">\\n      |   serif;\\n            margin: 0;\\n        }\\n\\n    | width:300px;\\n                max-height:100px;\\n  |\n",
            "|        |         object-fit: cover;\\n        }\\n\\n          | <style>\\n        img[data-astro-cid-dohjnao5] {\\n  |  .skip-link {\\n            position: absolute;\\n   |         object-fit:cover\\n            }\\n          |\n",
            "|        |         .card[data-astro-cid-dohjnao5] {\\n         |     max-width: 300px;\\n            max-height:     |        top: -40px;\\n            left: 0;\\n         |  .card[data-astro-cid-dohjnao5]\\n            {\\n   |\n",
            "|        |    place-self: center;\\n            max-width:     |      100px;\\n            object-fit: cover\\n       |   background-color: #bf1722;\\n            color:   |      place-self:center;\\n                max-      |\n",
            "|        |    300px;\\n            box-shadow: 0 10px 10px     |  }\\n\\n        .card[data-astro-cid-dohjnao5] {\\n   |        white;\\n            padding: 8px;\\n         |  width:300px;\\n                box-shadow:0 10px   |\n",
            "|        |         gray;\\n            border: none;\\n         |    place-self: center;\\n            max-width:     |     z-index: 100;\\n        }\\n\\n        .skip-     |     10px gray;\\n                border:none;\\n     |\n",
            "|        | border-radius: 10px;\\n        }\\n\\n        .card-  |    300px;\\n            box-shadow: 0 10px 10px     |  link:focus {\\n            top: 0;\\n        }\\n\\n  |        border-radius:10px\\n            }\\n         |\n",
            "|        |         body[data-astro-cid-dohjnao5] {\\n          |         gray;\\n            border: none;\\n         | header {\\n            background-color: #f8f9fa;\\n |       .card-body[data-astro-cid-dohjnao5]\\n        |\n",
            "|        |  background-color: #18529d;\\n            border-   |  border-radius: 10px\\n        }\\n\\n        .card-  |    padding: 1rem 0;\\n            box-shadow: 0     |   {\\n                background-color:#18529d;\\n   |\n",
            "|        |  radius: 0 0 10px 10px;\\n            max-height:   |         body[data-astro-cid-dohjnao5] {\\n          |      0.125rem 0.25rem rgba(0, 0, 0, 0.075);\\n      | border-radius:0 0 10px 10px;\\n                max- |\n",
            "|        |   300px\\n        }\\n\\n        h5[data-astro-cid-   |  background-color: #18529d;\\n            border-   |         }\\n\\n        .header-container {\\n         | height:300px\\n            }\\n            h5[data-  |\n",
            "|        |   dohjnao5] {\\n            font-size: clamp(5px,   |  radius: 0 0 10px 10px;\\n            max-height:   |    display: flex;\\n            justify-content:    |        astro-cid-dohjnao5]\\n            {\\n        |\n",
            "|        |  4vw, 15px)\\n        }\\n\\n        .logo-fei[data-  |   300px\\n        }\\n\\n        h5[data-astro-cid-   | space-around;\\n            align-items: center;\\n  |   font-size:clamp(5px,4vw,15px)\\n            }\\n   |\n",
            "|        | astro-cid-ymhdp2rl] {\\n            width: 80px;\\n  |   dohjnao5] {\\n            font-size: clamp(5px,   |  padding: 0 1rem;\\n        }\\n\\n        .logo-fei  |        .logo-fei[data-astro-cid-ymhdp2rl]\\n        |\n",
            "|        | height: 80px\\n        }\\n\\n        .logo-uv[data-  |  4vw, 15px)\\n        }\\n\\n        .logo-fei[data-  |  {\\n            width: 80px;\\n            height:  |    {\\n                width:80px;height:80px\\n     |\n",
            "|        | astro-cid-ymhdp2rl] {\\n            width: 100px;\\n | astro-cid-ymhdp2rl] {\\n            width: 80px;\\n  |      80px;\\n        }\\n\\n        .logo-uv {\\n      | }\\n            .logo-uv[data-astro-cid-ymhdp2rl]\\n |\n",
            "|        | height: 80px\\n        }\\n\\n        nav[data-astro- | height: 80px\\n        }\\n\\n        .logo-uv[data-  |     width: 100px;\\n            height: 80px;\\n     |    {\\n                width:100px;height:80px\\n    |\n",
            "|        | cid-ymhdp2rl] {\\n            box-shadow: #00000073 | astro-cid-ymhdp2rl] {\\n            width: 100px;\\n |    }\\n\\n        nav {\\n            box-shadow:     |   }\\n            nav[data-astro-cid-ymhdp2rl]\\n    |\n",
            "|        |   0 10px 20px -20px\\n        }\\n\\n        @media   | height: 80px\\n        }\\n\\n        nav[data-astro- |    #00000073 0 10px 20px -20px;\\n        }\\n\\n     |   {\\n                box-shadow:#00000073 0 10px   |\n",
            "|        | (max-width: 600px) {\\n            .logo-fei[data-  | cid-ymhdp2rl] {\\n            box-shadow: #00000073 |    .contenedor {\\n            display: grid;\\n     |   20px -20px\\n            }\\n            @media    |\n",
            "|        |   astro-cid-ymhdp2rl] {\\n                width:    |   0 10px 20px -20px\\n        }\\n\\n        @media   | margin: 2rem;\\n            grid-template-columns:  |         (max-width:600px)\\n            {\\n         |\n",
            "|        |       50px;\\n                height: 50px\\n        |  (max-width:600px) {\\n            .logo-fei[data-  | 1fr 1fr 1fr;\\n            grid-auto-flow: dense;\\n |        .logo-fei[data-astro-cid-ymhdp2rl]\\n        |\n",
            "|        | }\\n\\n            .logo-uv[data-astro-cid-ymhdp2rl] |   astro-cid-ymhdp2rl] {\\n                width:    |   gap: 2rem;\\n        }\\n\\n        @media (max-    |  {\\n                    width:50px;height:50px\\n   |\n",
            "|        | {\\n                display: none\\n            }\\n  |       50px;\\n                height: 50px\\n        |   width: 1000px) {\\n            .contenedor {\\n    |    }\\n                .logo-uv[data-astro-cid-     |\n",
            "|        | }\\n\\n        .contenedor[data-astro-cid-bji27afj]  | }\\n\\n            .logo-uv[data-astro-cid-ymhdp2rl] |      grid-template-columns: repeat(auto-fill,      |           ymhdp2rl]\\n                {\\n           |\n",
            "|        | {\\n            display: grid;\\n            margin: | {\\n                display: none\\n            }\\n  |  minmax(min(100%, 20rem), 1fr));\\n            }\\n  |  display:none\\n                }\\n            }\\n  |\n",
            "|        | 2rem;\\n            grid-template-columns: 1fr 1fr  | }\\n\\n        .contenedor[data-astro-cid-bji27afj]  |   }\\n\\n        .card {\\n            place-self:    |       .contenedor[data-astro-cid-bji27afj]\\n       |\n",
            "|        |     1fr;\\n            grid-auto-flow: dense;\\n     | {\\n            display: grid;\\n            margin: |      center;\\n            max-width: 300px;\\n      |         {\\n                display:grid;\\n         |\n",
            "|        | gap: 2rem\\n        }\\n\\n        @media (max-width: | 2rem;\\n            grid-template-columns: 1fr 1fr  | box-shadow: 0 10px 10px gray;\\n            border: |    margin:2rem;\\n                grid-template-    |\n",
            "|        | 1000px) {\\n            .contenedor[data-astro-cid- |     1fr;\\n            grid-auto-flow: dense;\\n     |     none;\\n            border-radius: 10px;\\n      |  columns:1fr 1fr 1fr;\\n                grid-auto-  |\n",
            "|        |    bji27afj] {\\n                grid-template-     |    gap: 2rem\\n        }\\n\\n        @media (max-    |   }\\n\\n        .card-img-top {\\n            max-   |      flow:dense;\\n                gap:2rem\\n       |\n",
            "|        |    columns: repeat(auto-fill, minmax(min(100%,     |   width:1000px) {\\n            .contenedor[data-   |     width: 100%;\\n            height: auto;\\n      |     }\\n            @media (max-width:1000px)\\n     |\n",
            "|        |    20rem), 1fr))\\n            }\\n        }\\n\\n     |    astro-cid-bji27afj] {\\n                grid-    | }\\n\\n        .card-body {\\n            background- |   {\\n                .contenedor[data-astro-cid-   |\n",
            "|        |  body {\\n            background-color: #efecec;\\n  |        template-columns: repeat(auto-fill,         |  color: #18529d;\\n            border-radius: 0 0   |           bji27afj]\\n                {\\n           |\n",
            "|        |   font-family: Gill Sans, Gill Sans MT, Calibri,   |  minmax(min(100%, 20rem), 1fr))\\n            }\\n   |    10px 10px;\\n            max-height: 300px;\\n    |         grid-template-columns:repeat(auto-         |\n",
            "|        |      Trebuchet MS, sans-serif\\n        }\\n\\n       | }\\n\\n        body {\\n            background-color: | }\\n\\n        .card-title {\\n            font-size: |        fill,minmax(min(100%,20rem),1fr))\\n         |\n",
            "|        |   .sr-only {\\n            position: absolute;\\n    | #efecec;\\n            font-family: Gill Sans, Gill |     clamp(5px, 4vw, 15px);\\n            color:     |        }\\n            }\\n            body\\n        |\n",
            "|        |      width: 1px;\\n            height: 1px;\\n       |    Sans MT, Calibri, Trebuchet MS, sans-serif\\n    |  white;\\n        }\\n\\n        @media (max-width:   |  {\\n                background-color: #efecec;\\n   |\n",
            "|        |      padding: 0;\\n            margin: -1px;\\n      |   }\\n\\n        .sr-only {\\n            position:   |        600px) {\\n            .logo-fei {\\n         |          font-family:Gill Sans,Gill Sans           |\n",
            "|        | overflow: hidden;\\n            clip: rect(0, 0, 0, |        absolute;\\n            width: 1px;\\n        |   width: 50px;\\n                height: 50px;\\n    |        MT,Calibri,Trebuchet MS,sans-serif\\n        |\n",
            "|        |      0);\\n            white-space: nowrap;\\n       |      height: 1px;\\n            padding: 0;\\n       |           }\\n\\n            .logo-uv {\\n            |    }\\n    </style>\\n</head>\\n\\n<body>\\n    <nav    |\n",
            "|        |    border: 0;\\n        }\\n\\n        a:focus {\\n    |   margin: -1px;\\n            overflow: hidden;\\n   |     display: none;\\n            }\\n        }\\n     | class=\\\"navbar bg-body-tertiary\\\" data-astro-cid-  |\n",
            "|        | outline: 2px solid #007bff;\\n            outline-  | clip: rect(0, 0, 0, 0);\\n            white-space:  |  </style>\\n</head>\\n<body>\\n    <a class=\\\"skip-   |  ymhdp2rl>\\n        <div class=\\\"container-fluid   |\n",
            "|        |             offset: 2px;\\n        }\\n              |    nowrap;\\n            border: 0;\\n        }\\n    |     link\\\" href=\\\"#main-content\\\">Skip to main     |  d-flex justify-content-around\\\" data-astro-cid-   |\n",
            "|        |  </style>\\n</head>\\n<body>\\n    <a href=\\\"#main\\\"  |       </style>\\n</head>\\n\\n<body>\\n    <nav        |    content</a>\\n    <header role=\\\"banner\\\">\\n     |             ymhdp2rl>\\n            <a              |\n",
            "|        |    class=\\\"sr-only\\\">Skip to main content</a>\\n    | class=\\\"navbar bg-body-tertiary\\\" data-astro-cid-  | <nav class=\\\"navbar bg-body-tertiary\\\" data-astro- |   href=\\\"http://www.uv.mx/fei\\\" data-astro-cid-    |\n",
            "|        | <nav class=\\\"navbar bg-body-tertiary\\\" data-astro- |  ymhdp2rl=\\\"\\\">\\n        <div class=\\\"container-   |    cid-ymhdp2rl=\\\"\\\" role=\\\"navigation\\\" aria-     |  ymhdp2rl aria-label=\\\"Facultad de Estadistica e   |\n",
            "|        |    cid-ymhdp2rl=\\\"\\\" role=\\\"navigation\\\" aria-     | fluid d-flex justify-content-around\\\" data-astro-  |    label=\\\"Main navigation\\\">\\n            <div    | Informatica\\\">\\n                <img src=\\\"https:/ |\n",
            "|        |  label=\\\"Main\\\">\\n        <div class=\\\"container-  |         cid-ymhdp2rl=\\\"\\\">\\n            <a         |  class=\\\"container-fluid d-flex justify-content-   | /sistemasfei.uv.mx/inicio/_astro/logoFEI.CKAzzJnF_ |\n",
            "|        | fluid d-flex justify-content-around\\\" data-astro-  |   href=\\\"http://www.uv.mx/fei\\\" data-astro-cid-    |      around\\\" data-astro-cid-ymhdp2rl=\\\"\\\">\\n      | ZyfpCW.webp\\\" class=\\\"logo-fei\\\" alt=\\\"Logo de la  |\n",
            "|        |         cid-ymhdp2rl=\\\"\\\">\\n            <a         | ymhdp2rl=\\\"\\\" aria-label=\\\"Facultad de Estadistica |  <a href=\\\"http://www.uv.mx/fei\\\" data-astro-cid-  |      Facultad de Estadistica e Informatica\\\"       |\n",
            "|        |   href=\\\"http://www.uv.mx/fei\\\" data-astro-cid-    | e Informatica\\\">\\n                <img src=\\\"https | ymhdp2rl=\\\"\\\" aria-label=\\\"Facultad de Estadistica |     loading=\\\"eager\\\" data-astro-cid-ymhdp2rl      |\n",
            "|        | ymhdp2rl=\\\"\\\" aria-label=\\\"Facultad de Estadistica | ://sistemasfei.uv.mx/inicio/_astro/logoFEI.CKAzzJn | e Informatica\\\" title=\\\"Facultad de Estadistica e  | width=\\\"567\\\" height=\\\"662\\\" decoding=\\\"async\\\">\\n |\n",
            "|        | e Informatica\\\">\\n                <img src=\\\"https |   F_ZyfpCW.webp\\\" class=\\\"logo-fei\\\" alt=\\\"Logo    | Informatica\\\">\\n                    <img src=\\\"htt | </a>\\n            <h1 class=\\\"text-success\\\" data- |\n",
            "|        | ://sistemasfei.uv.mx/inicio/_astro/logoFEI.CKAzzJn | FEI\\\"\\n                    loading=\\\"eager\\\" data- | ps://sistemasfei.uv.mx/inicio/_astro/logoFEI.CKAzz |  astro-cid-ymhdp2rl>Portal de sistemas FEI</h1>\\n  |\n",
            "|        |   F_ZyfpCW.webp\\\" class=\\\"logo-fei\\\" alt=\\\"Logo    |       astro-cid-ymhdp2rl=\\\"\\\" width=\\\"567\\\"        |  JnF_ZyfpCW.webp\\\" class=\\\"logo-fei\\\" alt=\\\"Logo   |    <a href=\\\"http://www.uv.mx\\\" data-astro-cid-    |\n",
            "|        |      FEI\\\" loading=\\\"eager\\\" data-astro-cid-       |        height=\\\"662\\\" decoding=\\\"async\\\"\\n         |      FEI\\\" loading=\\\"eager\\\" data-astro-cid-       | ymhdp2rl aria-label=\\\"Universidad Veracruzana\\\">\\n |\n",
            "|        |     ymhdp2rl=\\\"\\\" width=\\\"567\\\" height=\\\"662\\\"     |          style=\\\"filter: invert(0);\\\">\\n           |     ymhdp2rl=\\\"\\\" width=\\\"567\\\" height=\\\"662\\\"     | <img src=\\\"https://sistemasfei.uv.mx/inicio/_astro |\n",
            "|        | decoding=\\\"async\\\" style=\\\"filter: invert(0);\\\">\\n | <span class=\\\"sr-only\\\">Facultad de Estadistica e  |    decoding=\\\"async\\\">\\n                </a>\\n     |   /logoUV.gPBiyME4_N2yL.webp\\\" class=\\\"logo-uv\\\"   |\n",
            "|        | </a>\\n            <h1 class=\\\"sr-only\\\">Portal de  |       Informatica</span>\\n            </a>\\n       |     <h1 class=\\\"text-success\\\" data-astro-cid-     |     alt=\\\"Logo de la Universidad Veracruzana\\\"     |\n",
            "|        |         sistemas FEI</h1>\\n            <a          |     <h1 class=\\\"text-success\\\" data-astro-cid-     |        ymhdp2rl=\\\"\\\" role=\\\"heading\\\" aria-        |     loading=\\\"eager\\\" data-astro-cid-ymhdp2rl      |\n",
            "|        |     href=\\\"http://www.uv.mx\\\" data-astro-cid-      |    ymhdp2rl=\\\"\\\">Portal de sistemas FEI</h1>\\n     |     level=\\\"1\\\">Portal de sistemas FEI</h1>\\n      |           width=\\\"1363\\\" height=\\\"1182\\\"           |\n",
            "|        |       ymhdp2rl=\\\"\\\" aria-label=\\\"Universidad       |    <a href=\\\"http://www.uv.mx\\\" data-astro-cid-    |    <a href=\\\"http://www.uv.mx\\\" data-astro-cid-    |      decoding=\\\"async\\\">\\n            </a>\\n       |\n",
            "|        | Veracruzana\\\">\\n                <img src=\\\"https:/ |       ymhdp2rl=\\\"\\\" aria-label=\\\"Universidad       |       ymhdp2rl=\\\"\\\" aria-label=\\\"Universidad       | </div>\\n    </nav>\\n\\n    <main class=\\\"container  |\n",
            "|        | /sistemasfei.uv.mx/inicio/_astro/logoUV.gPBiyME4_N | Veracruzana\\\">\\n                <img src=\\\"https:/ | Veracruzana\\\" title=\\\"Universidad Veracruzana\\\">\\n | mt-4\\\">\\n        <div class=\\\"row row-cols-1 row-  |\n",
            "|        |      2yL.webp\\\" class=\\\"logo-uv\\\" alt=\\\"Logo       | /sistemasfei.uv.mx/inicio/_astro/logoUV.gPBiyME4_N | <img src=\\\"https://sistemasfei.uv.mx/inicio/_astro |         cols-md-3 g-4\\\">\\n            <div         |\n",
            "|        | Universidad Veracruzana\\\" loading=\\\"eager\\\" data-  |      2yL.webp\\\" class=\\\"logo-uv\\\" alt=\\\"Logo       |   /logoUV.gPBiyME4_N2yL.webp\\\" class=\\\"logo-uv\\\"   | class=\\\"col\\\">\\n                <div class=\\\"card  |\n",
            "|        |       astro-cid-ymhdp2rl=\\\"\\\" width=\\\"1363\\\"       |            Universidad Veracruzana\\\"\\n             |        alt=\\\"Logo Universidad Veracruzana\\\"        |         h-100\\\" data-astro-cid-dohjnao5>\\n         |\n",
            "|        | height=\\\"1182\\\" decoding=\\\"async\\\" style=\\\"filter: |   loading=\\\"eager\\\" data-astro-cid-ymhdp2rl=\\\"\\\"   |   loading=\\\"eager\\\" data-astro-cid-ymhdp2rl=\\\"\\\"   | <img src=\\\"https://sistemasfei.uv.mx/inicio/_astro |\n",
            "|        | invert(0);\\\">\\n            </a>\\n        </div>\\n  |           width=\\\"1363\\\" height=\\\"1182\\\"           |           width=\\\"1363\\\" height=\\\"1182\\\"           | /aulaFEI.Bfi36lLc_Z2aGaTO.webp\\\" class=\\\"card-img- |\n",
            "|        | </nav>\\n\\n    <main id=\\\"main\\\" tabindex=\\\"0\\\">\\n  |                decoding=\\\"async\\\"\\n                |    decoding=\\\"async\\\">\\n                </a>\\n     |    top\\\" alt=\\\"Sistema de Gestion de Claves de     |\n",
            "|        |     <div class=\\\"contenedor\\\" data-astro-cid-      |          style=\\\"filter: invert(0);\\\">\\n           | </div>\\n        </nav>\\n    </header>\\n\\n    <main |   Aulas\\\" data-astro-cid-dohjnao5 width=\\\"4176\\\"   |\n",
            "|        |   bji27afj=\\\"\\\">\\n            <div class=\\\"card    |        <span class=\\\"sr-only\\\">Universidad         |  id=\\\"main-content\\\" role=\\\"main\\\">\\n        <div  |       height=\\\"2784\\\" decoding=\\\"async\\\">\\n        |\n",
            "|        |   mx-2\\\" style=\\\"width: 18rem;\\\" data-astro-cid-   |       Veracruzana</span>\\n            </a>\\n       | class=\\\"contenedor\\\" data-astro-cid-bji27afj=\\\"\\\"  |      <div class=\\\"card-body\\\" data-astro-cid-      |\n",
            "|        |   dohjnao5=\\\"\\\" aria-roledescription=\\\"card\\\">\\n   |          </div>\\n    </nav>\\n\\n    <main           |   role=\\\"region\\\" aria-label=\\\"Sistemas FEI\\\">\\n   |       dohjnao5>\\n                        <h2       |\n",
            "|        | <img src=\\\"https://sistemasfei.uv.mx/inicio/_astro |        class=\\\"contenedor\\\" data-astro-cid-        |    <article class=\\\"card mx-2\\\" style=\\\"width:     |  class=\\\"card-title text-light\\\" data-astro-cid-   |\n",
            "|        | /aulaFEI.Bfi36lLc_Z2aGaTO.webp\\\" class=\\\"card-img- |  bji27afj=\\\"\\\">\\n        <div class=\\\"card mx-2\\\"  |       18rem;\\\" data-astro-cid-dohjnao5=\\\"\\\"        |      dohjnao5>Sistema de Gestion de Claves de      |\n",
            "|        |   top\\\" loading=\\\"eager\\\" alt=\\\"Aula de clases\\\"   |      style=\\\"width: 18rem;\\\" data-astro-cid-       | role=\\\"article\\\">\\n                <img src=\\\"http |      Aulas</h2>\\n                        <div      |\n",
            "|        |    data-astro-cid-dohjnao5=\\\"\\\" width=\\\"4176\\\"     | dohjnao5=\\\"\\\">\\n            <img src=\\\"https://sis | s://sistemasfei.uv.mx/inicio/_astro/aulaFEI.Bfi36l |   class=\\\"text-end\\\" data-astro-cid-dohjnao5>\\n    |\n",
            "|        | height=\\\"2784\\\" decoding=\\\"async\\\" style=\\\"filter: | temasfei.uv.mx/inicio/_astro/aulaFEI.Bfi36lLc_Z2aG |      Lc_Z2aGaTO.webp\\\" class=\\\"card-img-top\\\"      |  <a href=\\\"https://sistemasfei.uv.mx/aulaclase/\\\"  |\n",
            "|        | invert(0);\\\">\\n                <div class=\\\"card-  |         aTO.webp\\\" class=\\\"card-img-top\\\"          |   loading=\\\"eager\\\" alt=\\\"Aula de clases\\\" data-   | class=\\\"btn btn-success text-end\\\" data-astro-cid- |\n",
            "|        |       body\\\" data-astro-cid-dohjnao5=\\\"\\\">\\n       |  loading=\\\"eager\\\"\\n                alt=\\\"Aula de  |       astro-cid-dohjnao5=\\\"\\\" width=\\\"4176\\\"       |               dohjnao5>Entrar</a>\\n                |\n",
            "|        |  <h5 class=\\\"card-title text-light\\\" data-astro-   |       clases\\\" data-astro-cid-dohjnao5=\\\"\\\"        | height=\\\"2784\\\" decoding=\\\"async\\\" role=\\\"img\\\">\\n |        </div>\\n                    </div>\\n        |\n",
            "|        |   cid-dohjnao5=\\\"\\\" aria-level=\\\"3\\\">Sistema de    |           width=\\\"4176\\\" height=\\\"2784\\\"           |      <div class=\\\"card-body\\\" data-astro-cid-      |    </div>\\n            </div>\\n            <div    |\n",
            "|        |         Gestion de Claves de Aulas</h5>\\n          |                decoding=\\\"async\\\"\\n                |      dohjnao5=\\\"\\\">\\n                    <h5       | class=\\\"col\\\">\\n                <div class=\\\"card  |\n",
            "|        |      <div class=\\\"text-end\\\" data-astro-cid-       |  style=\\\"filter: invert(0);\\\">\\n            <div   |  class=\\\"card-title text-light\\\" data-astro-cid-   |         h-100\\\" data-astro-cid-dohjnao5>\\n         |\n",
            "|        |     dohjnao5=\\\"\\\">\\n                        <a     |        class=\\\"card-body\\\" data-astro-cid-         |   dohjnao5=\\\"\\\">Sistema de Gestion de Claves de    | <img src=\\\"https://sistemasfei.uv.mx/inicio/_astro |\n",
            "|        |   href=\\\"https://sistemasfei.uv.mx/aulaclase/\\\"    | dohjnao5=\\\"\\\">\\n                <h2 class=\\\"card-  | Aulas</h5>\\n                    <div class=\\\"text- | /edificioFEI.C5q6RF30_Z1jodpw.webp\\\" class=\\\"card- |\n",
            "|        | class=\\\"btn btn-success text-end\\\" data-astro-cid- |         title text-light\\\" data-astro-cid-         |       end\\\" data-astro-cid-dohjnao5=\\\"\\\">\\n        |    img-top\\\" alt=\\\"MOODLE FEI\\\" data-astro-cid-    |\n",
            "|        |  dohjnao5=\\\"\\\" aria-label=\\\"Sistema de Gestion de  |   dohjnao5=\\\"\\\">Sistema de Gestion de Claves de    |  <a href=\\\"https://sistemasfei.uv.mx/aulaclase/\\\"  |       dohjnao5 width=\\\"1024\\\" height=\\\"768\\\"       |\n",
            "|        |           Claves de Aulas\\\">Entrar</a>\\n           |   Aulas</h2>\\n                <div class=\\\"text-   | class=\\\"btn btn-success text-end\\\" data-astro-cid- |   decoding=\\\"async\\\">\\n                    <div    |\n",
            "|        |          </div>\\n                </div>\\n          |       end\\\" data-astro-cid-dohjnao5=\\\"\\\">\\n        |  dohjnao5=\\\"\\\" aria-label=\\\"Sistema de Gestion de  |   class=\\\"card-body\\\" data-astro-cid-dohjnao5>\\n   |\n",
            "|        |   </div>\\n\\n            <div class=\\\"card mx-2\\\"   |  <a href=\\\"https://sistemasfei.uv.mx/aulaclase/\\\"  |  Claves de Aulas\\\" title=\\\"Sistema de Gestion de   |  <h2 class=\\\"card-title text-light\\\" data-astro-   |\n",
            "|        |      style=\\\"width: 18rem;\\\" data-astro-cid-       | class=\\\"btn btn-success text-end\\\" data-astro-cid- |           Claves de Aulas\\\">Entrar</a>\\n           |           cid-dohjnao5>MOODLE FEI</h2>\\n           |\n",
            "|        |   dohjnao5=\\\"\\\" aria-roledescription=\\\"card\\\">\\n   |    dohjnao5=\\\"\\\"\\n                        aria-    |          </div>\\n                </div>\\n          | <div class=\\\"text-end\\\" data-astro-cid-dohjnao5>\\n |\n",
            "|        | <img src=\\\"https://sistemasfei.uv.mx/inicio/_astro | label=\\\"Entrar al Sistema de Gestion de Claves de  |  </article>\\n\\n            <article class=\\\"card   |   <a href=\\\"https://sistemasfei.uv.mx/moodle/\\\"    |\n",
            "|        | /edificioFEI.C5q6RF30_Z1jodpw.webp\\\" class=\\\"card- |    Aulas\\\">Entrar</a>\\n                </div>\\n    |   mx-2\\\" style=\\\"width: 18rem;\\\" data-astro-cid-   | class=\\\"btn btn-success text-end\\\" data-astro-cid- |\n",
            "|        |  img-top\\\" loading=\\\"eager\\\" alt=\\\"Edificio de la  |       </div>\\n        </div>\\n\\n        <div       |         dohjnao5=\\\"\\\" role=\\\"article\\\">\\n          |               dohjnao5>Entrar</a>\\n                |\n",
            "|        |      facultad\\\" data-astro-cid-dohjnao5=\\\"\\\"       | class=\\\"card mx-2\\\" style=\\\"width: 18rem;\\\" data-  | <img src=\\\"https://sistemasfei.uv.mx/inicio/_astro |        </div>\\n                    </div>\\n        |\n",
            "|        |  width=\\\"1024\\\" height=\\\"768\\\" decoding=\\\"async\\\"  | astro-cid-dohjnao5=\\\"\\\">\\n            <img src=\\\"h | /edificioFEI.C5q6RF30_Z1jodpw.webp\\\" class=\\\"card- |    </div>\\n            </div>\\n            <div    |\n",
            "|        |          style=\\\"filter: invert(0);\\\">\\n           | ttps://sistemasfei.uv.mx/inicio/_astro/edificioFEI |  img-top\\\" loading=\\\"eager\\\" alt=\\\"Edificio de la  | class=\\\"col\\\">\\n                <div class=\\\"card  |\n",
            "|        |      <div class=\\\"card-body\\\" data-astro-cid-      |  .C5q6RF30_Z1jodpw.webp\\\" class=\\\"card-img-top\\\"   | FEI\\\" data-astro-cid-dohjnao5=\\\"\\\" width=\\\"1024\\\"  |         h-100\\\" data-astro-cid-dohjnao5>\\n         |\n",
            "|        |      dohjnao5=\\\"\\\">\\n                    <h5       | loading=\\\"eager\\\"\\n                alt=\\\"Edificio  | height=\\\"768\\\" decoding=\\\"async\\\" role=\\\"img\\\">\\n  | <img src=\\\"https://sistemasfei.uv.mx/inicio/_astro |\n",
            "|        |  class=\\\"card-title text-light\\\" data-astro-cid-   |      de la FEI\\\" data-astro-cid-dohjnao5=\\\"\\\"      |      <div class=\\\"card-body\\\" data-astro-cid-      |  /PEDPA.CaZEdBX2_Zm1Ox5.webp\\\" class=\\\"card-img-   |\n",
            "|        |  dohjnao5=\\\"\\\" aria-level=\\\"3\\\">MOODLE FEI</h5>\\n  | width=\\\"1024\\\" height=\\\"768\\\" decoding=\\\"async\\\"\\n |      dohjnao5=\\\"\\\">\\n                    <h5       | top\\\" alt=\\\"Sistema de Estimulos al Desempeño del  |\n",
            "|        |      <div class=\\\"text-end\\\" data-astro-cid-       |  style=\\\"filter: invert(0);\\\">\\n            <div   |  class=\\\"card-title text-light\\\" data-astro-cid-   |    Personal Academico\\\" data-astro-cid-dohjnao5    |\n",
            "|        |     dohjnao5=\\\"\\\">\\n                        <a     |        class=\\\"card-body\\\" data-astro-cid-         |          dohjnao5=\\\"\\\">MOODLE FEI</h5>\\n           | width=\\\"474\\\" height=\\\"450\\\" decoding=\\\"async\\\">\\n |\n",
            "|        |     href=\\\"https://sistemasfei.uv.mx/moodle/\\\"     | dohjnao5=\\\"\\\">\\n                <h2 class=\\\"card-  |      <div class=\\\"text-end\\\" data-astro-cid-       |      <div class=\\\"card-body\\\" data-astro-cid-      |\n",
            "|        | class=\\\"btn btn-success text-end\\\" data-astro-cid- |         title text-light\\\" data-astro-cid-         |     dohjnao5=\\\"\\\">\\n                        <a     |       dohjnao5>\\n                        <h2       |\n",
            "|        |         dohjnao5=\\\"\\\" aria-label=\\\"MOODLE          |          dohjnao5=\\\"\\\">MOODLE FEI</h2>\\n           |     href=\\\"https://sistemasfei.uv.mx/moodle/\\\"     |  class=\\\"card-title text-light\\\" data-astro-cid-   |\n",
            "|        |   FEI\\\">Entrar</a>\\n                    </div>\\n   |      <div class=\\\"text-end\\\" data-astro-cid-       | class=\\\"btn btn-success text-end\\\" data-astro-cid- |   dohjnao5>Sistema de Estimulos al Desempeño del   |\n",
            "|        |   </div>\\n            </div>\\n\\n            <div   |       dohjnao5=\\\"\\\">\\n                    <a       |      dohjnao5=\\\"\\\" aria-label=\\\"MOODLE FEI\\\"       |             Personal Academico</h2>\\n              |\n",
            "|        | class=\\\"card mx-2\\\" style=\\\"width: 18rem;\\\" data-  |     href=\\\"https://sistemasfei.uv.mx/moodle/\\\"     |         title=\\\"MOODLE FEI\\\">Entrar</a>\\n          | <div class=\\\"text-end\\\" data-astro-cid-dohjnao5>\\n |\n",
            "|        |           astro-cid-dohjnao5=\\\"\\\" aria-            | class=\\\"btn btn-success text-end\\\" data-astro-cid- |          </div>\\n                </div>\\n          |    <a href=\\\"https://sistemasfei.uv.mx/pedpa/\\\"    |\n",
            "|        | roledescription=\\\"card\\\">\\n                <img sr |    dohjnao5=\\\"\\\"\\n                        aria-    |  </article>\\n\\n            <article class=\\\"card   | class=\\\"btn btn-success text-end\\\" data-astro-cid- |\n",
            "|        | c=\\\"https://sistemasfei.uv.mx/inicio/_astro/PEDPA. |     label=\\\"Entrar a MOODLE FEI\\\">Entrar</a>\\n     |   mx-2\\\" style=\\\"width: 18rem;\\\" data-astro-cid-   |               dohjnao5>Entrar</a>\\n                |\n",
            "|        |   CaZEdBX2_Zm1Ox5.webp\\\" class=\\\"card-img-top\\\"    |   </div>\\n            </div>\\n        </div>\\n\\n   |         dohjnao5=\\\"\\\" role=\\\"article\\\">\\n          |        </div>\\n                    </div>\\n        |\n",
            "|        |  loading=\\\"eager\\\" alt=\\\"Imagen representativa de  |  <div class=\\\"card mx-2\\\" style=\\\"width: 18rem;\\\"  | <img src=\\\"https://sistemasfei.uv.mx/inicio/_astro |    </div>\\n            </div>\\n            <div    |\n",
            "|        | PEDPA\\\" data-astro-cid-dohjnao5=\\\"\\\" width=\\\"474\\\" | data-astro-cid-dohjnao5=\\\"\\\">\\n            <img sr |  /PEDPA.CaZEdBX2_Zm1Ox5.webp\\\" class=\\\"card-img-   | class=\\\"col\\\">\\n                <div class=\\\"card  |\n",
            "|        | height=\\\"450\\\" decoding=\\\"async\\\" style=\\\"filter:  | c=\\\"https://sistemasfei.uv.mx/inicio/_astro/PEDPA. |  top\\\" loading=\\\"eager\\\" alt=\\\"Imagen del sistema  |         h-100\\\" data-astro-cid-dohjnao5>\\n         |\n",
            "|        | invert(0);\\\">\\n                <div class=\\\"card-  |   CaZEdBX2_Zm1Ox5.webp\\\" class=\\\"card-img-top\\\"    | PEDPA\\\" data-astro-cid-dohjnao5=\\\"\\\" width=\\\"474\\\" | <img src=\\\"https://sistemasfei.uv.mx/inicio/_astro |\n",
            "|        |       body\\\" data-astro-cid-dohjnao5=\\\"\\\">\\n       |  loading=\\\"eager\\\"\\n                alt=\\\"Imagen   | height=\\\"450\\\" decoding=\\\"async\\\" role=\\\"img\\\">\\n  |  /sistemaAvisosFEI.webp\\\" class=\\\"card-img-top\\\"   |\n",
            "|        |  <h5 class=\\\"card-title text-light\\\" data-astro-   |  del sistema PEDPA\\\" data-astro-cid-dohjnao5=\\\"\\\"  |      <div class=\\\"card-body\\\" data-astro-cid-      | alt=\\\"Sistema de Avisos\\\" data-astro-cid-dohjnao5  |\n",
            "|        |   cid-dohjnao5=\\\"\\\" aria-level=\\\"3\\\">Sistema de    | width=\\\"474\\\" height=\\\"450\\\" decoding=\\\"async\\\"\\n  |      dohjnao5=\\\"\\\">\\n                    <h5       | width=\\\"830\\\" height=\\\"400\\\" decoding=\\\"async\\\">\\n |\n",
            "|        |        Estimulos al Desempeño del Personal         |  style=\\\"filter: invert(0);\\\">\\n            <div   |  class=\\\"card-title text-light\\\" data-astro-cid-   |      <div class=\\\"card-body\\\" data-astro-cid-      |\n",
            "|        |      Academico</h5>\\n                    <div      |        class=\\\"card-body\\\" data-astro-cid-         |  dohjnao5=\\\"\\\">Sistema de Estimulos al Desempeño   |       dohjnao5>\\n                        <h2       |\n",
            "|        | class=\\\"text-end\\\" data-astro-cid-dohjnao5=\\\"\\\">\\n | dohjnao5=\\\"\\\">\\n                <h2 class=\\\"card-  |           del Personal Academico</h5>\\n            |  class=\\\"card-title text-light\\\" data-astro-cid-   |\n",
            "|        |    <a href=\\\"https://sistemasfei.uv.mx/pedpa/\\\"    |         title text-light\\\" data-astro-cid-         |      <div class=\\\"text-end\\\" data-astro-cid-       |         dohjnao5>Sistema de Avisos</h2>\\n          |\n",
            "|        | class=\\\"btn btn-success text-end\\\" data-astro-cid- |  dohjnao5=\\\"\\\">Sistema de Estimulos al Desempeño   |     dohjnao5=\\\"\\\">\\n                        <a     | <div class=\\\"text-end\\\" data-astro-cid-dohjnao5>\\n |\n",
            "|        | dohjnao5=\\\"\\\" aria-label=\\\"Sistema de Estimulos al | del Personal Academico</h2>\\n                <div  |     href=\\\"https://sistemasfei.uv.mx/pedpa/\\\"      | <a href=\\\"https://sistemasfei.uv.mx/bannersfei/\\\"  |\n",
            "|        |  Desempeño del Personal Academico\\\">Entrar</a>\\n   | class=\\\"text-end\\\" data-astro-cid-dohjnao5=\\\"\\\">\\n | class=\\\"btn btn-success text-end\\\" data-astro-cid- | class=\\\"btn btn-success text-end\\\" data-astro-cid- |\n",
            "|        |          </div>\\n                </div>\\n          |    <a href=\\\"https://sistemasfei.uv.mx/pedpa/\\\"    | dohjnao5=\\\"\\\" aria-label=\\\"Sistema de Estimulos al |               dohjnao5>Entrar</a>\\n                |\n",
            "|        |   </div>\\n\\n            <div class=\\\"card mx-2\\\"   | class=\\\"btn btn-success text-end\\\" data-astro-cid- | Desempeño del Personal Academico\\\" title=\\\"Sistema |        </div>\\n                    </div>\\n        |\n",
            "|        |      style=\\\"width: 18rem;\\\" data-astro-cid-       |    dohjnao5=\\\"\\\"\\n                        aria-    |       de Estimulos al Desempeño del Personal       |    </div>\\n            </div>\\n            <div    |\n",
            "|        |   dohjnao5=\\\"\\\" aria-roledescription=\\\"card\\\">\\n   |     label=\\\"Entrar al Sistema de Estimulos al      |              Academico\\\">Entrar</a>\\n              | class=\\\"col\\\">\\n                <div class=\\\"card  |\n",
            "|        | <img src=\\\"https://sistemasfei.uv.mx/inicio/_astro |  Desempeño del Personal Academico\\\">Entrar</a>\\n   |          </div>\\n                </div>\\n          |         h-100\\\" data-astro-cid-dohjnao5>\\n         |\n",
            "|        |  /sistemaAvisosFEI.webp\\\" class=\\\"card-img-top\\\"   |   </div>\\n            </div>\\n        </div>\\n\\n   |  </article>\\n\\n            <article class=\\\"card   | <img src=\\\"https://sistemasfei.uv.mx/inicio/_astro |\n",
            "|        | loading=\\\"eager\\\" alt=\\\"Imagen representativa del  |  <div class=\\\"card mx-2\\\" style=\\\"width: 18rem;\\\"  |   mx-2\\\" style=\\\"width: 18rem;\\\" data-astro-cid-   |   /formularioForms.webp\\\" class=\\\"card-img-top\\\"   |\n",
            "|        |  sistema de avisos\\\" data-astro-cid-dohjnao5=\\\"\\\"  | data-astro-cid-dohjnao5=\\\"\\\">\\n            <img sr |         dohjnao5=\\\"\\\" role=\\\"article\\\">\\n          |  alt=\\\"Formulario de Registro de Eventos\\\" data-   |\n",
            "|        |  width=\\\"830\\\" height=\\\"400\\\" decoding=\\\"async\\\"   | c=\\\"https://sistemasfei.uv.mx/inicio/_astro/sistem | <img src=\\\"https://sistemasfei.uv.mx/inicio/_astro |  astro-cid-dohjnao5 width=\\\"1200\\\" height=\\\"800\\\"  |\n",
            "|        |          style=\\\"filter: invert(0);\\\">\\n           |      aAvisosFEI.webp\\\" class=\\\"card-img-top\\\"      |  /sistemaAvisosFEI.webp\\\" class=\\\"card-img-top\\\"   |   decoding=\\\"async\\\">\\n                    <div    |\n",
            "|        |      <div class=\\\"card-body\\\" data-astro-cid-      |  loading=\\\"eager\\\"\\n                alt=\\\"Imagen   |   loading=\\\"eager\\\" alt=\\\"Imagen del sistema de    |   class=\\\"card-body\\\" data-astro-cid-dohjnao5>\\n   |\n",
            "|        |      dohjnao5=\\\"\\\">\\n                    <h5       |      del sistema de avisos\\\" data-astro-cid-       |       avisos\\\" data-astro-cid-dohjnao5=\\\"\\\"        |  <h2 class=\\\"card-title text-light\\\" data-astro-   |\n",
            "|        |  class=\\\"card-title text-light\\\" data-astro-cid-   |     dohjnao5=\\\"\\\" width=\\\"830\\\" height=\\\"400\\\"     |  width=\\\"830\\\" height=\\\"400\\\" decoding=\\\"async\\\"   |       cid-dohjnao5>Formulario de Registro de       |\n",
            "|        |     dohjnao5=\\\"\\\" aria-level=\\\"3\\\">Sistema de      |                decoding=\\\"async\\\"\\n                | role=\\\"img\\\">\\n                <div class=\\\"card-  |     Eventos</h2>\\n                        <div     |\n",
            "|        |       Avisos</h5>\\n                    <div        |  style=\\\"filter: invert(0);\\\">\\n            <div   |       body\\\" data-astro-cid-dohjnao5=\\\"\\\">\\n       |   class=\\\"text-end\\\" data-astro-cid-dohjnao5>\\n    |\n",
            "|        | class=\\\"text-end\\\" data-astro-cid-dohjnao5=\\\"\\\">\\n |        class=\\\"card-body\\\" data-astro-cid-         |  <h5 class=\\\"card-title text-light\\\" data-astro-   | <a href=\\\"https://forms.office.com/pages/responsep |\n",
            "|        | <a href=\\\"https://sistemasfei.uv.mx/bannersfei/\\\"  | dohjnao5=\\\"\\\">\\n                <h2 class=\\\"card-  |     cid-dohjnao5=\\\"\\\">Sistema de Avisos</h5>\\n     | age.aspx?id=UXaQPMbYpkyopGokJDDmU-mq0IRCUa9Ei8mq08 |\n",
            "|        | class=\\\"btn btn-success text-end\\\" data-astro-cid- |         title text-light\\\" data-astro-cid-         |      <div class=\\\"text-end\\\" data-astro-cid-       | oDurxUMDJJQkQ2S1RTRU4zRTQ0SVpINENHQTNWRi4u&amp;rou |\n",
            "|        |       dohjnao5=\\\"\\\" aria-label=\\\"Sistema de        |       dohjnao5=\\\"\\\">Sistema de Avisos</h2>\\n       |     dohjnao5=\\\"\\\">\\n                        <a     |  te=shorturl\\\" class=\\\"btn btn-success text-end\\\"  |\n",
            "|        | Avisos\\\">Entrar</a>\\n                    </div>\\n  |      <div class=\\\"text-end\\\" data-astro-cid-       |   href=\\\"https://sistemasfei.uv.mx/bannersfei/\\\"   |        data-astro-cid-dohjnao5>Entrar</a>\\n        |\n",
            "|        |   </div>\\n            </div>\\n\\n            <div   |       dohjnao5=\\\"\\\">\\n                    <a       | class=\\\"btn btn-success text-end\\\" data-astro-cid- |        </div>\\n                    </div>\\n        |\n",
            "|        | class=\\\"card mx-2\\\" style=\\\"width: 18rem;\\\" data-  |   href=\\\"https://sistemasfei.uv.mx/bannersfei/\\\"   |   dohjnao5=\\\"\\\" aria-label=\\\"Sistema de Avisos\\\"   |    </div>\\n            </div>\\n            <div    |\n",
            "|        |           astro-cid-dohjnao5=\\\"\\\" aria-            | class=\\\"btn btn-success text-end\\\" data-astro-cid- |      title=\\\"Sistema de Avisos\\\">Entrar</a>\\n      | class=\\\"col\\\">\\n                <div class=\\\"card  |\n",
            "|        | roledescription=\\\"card\\\">\\n                <img sr |    dohjnao5=\\\"\\\"\\n                        aria-    |          </div>\\n                </div>\\n          |         h-100\\\" data-astro-cid-dohjnao5>\\n         |\n",
            "|        | c=\\\"https://sistemasfei.uv.mx/inicio/_astro/formul | label=\\\"Entrar al Sistema de Avisos\\\">Entrar</a>\\n |  </article>\\n\\n            <article class=\\\"card   | <img src=\\\"https://sistemasfei.uv.mx/inicio/_astro |\n",
            "|        |      arioForms.webp\\\" class=\\\"card-img-top\\\"       |   </div>\\n            </div>\\n        </div>\\n\\n   |   mx-2\\\" style=\\\"width: 18rem;\\\" data-astro-cid-   |   /DashboardDesign.webp\\\" class=\\\"card-img-top\\\"   |\n",
            "|        | loading=\\\"eager\\\" alt=\\\"Imagen representativa del  |  <div class=\\\"card mx-2\\\" style=\\\"width: 18rem;\\\"  |         dohjnao5=\\\"\\\" role=\\\"article\\\">\\n          |   alt=\\\"Dashboard PBR\\\" data-astro-cid-dohjnao5    |\n",
            "|        |  formulario de registro de eventos\\\" data-astro-   | data-astro-cid-dohjnao5=\\\"\\\">\\n            <img sr | <img src=\\\"https://sistemasfei.uv.mx/inicio/_astro |           width=\\\"1720\\\" height=\\\"900\\\"            |\n",
            "|        |  cid-dohjnao5=\\\"\\\" width=\\\"1200\\\" height=\\\"800\\\"   | c=\\\"https://sistemasfei.uv.mx/inicio/_astro/formul |   /formularioForms.webp\\\" class=\\\"card-img-top\\\"   |   decoding=\\\"async\\\">\\n                    <div    |\n",
            "|        | decoding=\\\"async\\\" style=\\\"filter: invert(0);\\\">\\n |      arioForms.webp\\\" class=\\\"card-img-top\\\"       |  loading=\\\"eager\\\" alt=\\\"Imagen del formulario de  |   class=\\\"card-body\\\" data-astro-cid-dohjnao5>\\n   |\n",
            "|        |      <div class=\\\"card-body\\\" data-astro-cid-      |  loading=\\\"eager\\\"\\n                alt=\\\"Imagen   | registro de eventos\\\" data-astro-cid-dohjnao5=\\\"\\\" |  <h2 class=\\\"card-title text-light\\\" data-astro-   |\n",
            "|        |      dohjnao5=\\\"\\\">\\n                    <h5       |   del formulario de registro de eventos\\\" data-    |  width=\\\"1200\\\" height=\\\"800\\\" decoding=\\\"async\\\"  |         cid-dohjnao5>Dashboard PBR</h2>\\n          |\n",
            "|        |  class=\\\"card-title text-light\\\" data-astro-cid-   |       astro-cid-dohjnao5=\\\"\\\" width=\\\"1200\\\"       | role=\\\"img\\\">\\n                <div class=\\\"card-  | <div class=\\\"text-end\\\" data-astro-cid-dohjnao5>\\n |\n",
            "|        |    dohjnao5=\\\"\\\" aria-level=\\\"3\\\">Formulario de    | height=\\\"800\\\"\\n                decoding=\\\"async\\\" |       body\\\" data-astro-cid-dohjnao5=\\\"\\\">\\n       | <a href=\\\"https://sistemasfei.uv.mx/dashboardfei/l |\n",
            "|        | Registro de Eventos</h5>\\n                    <div |  style=\\\"filter: invert(0);\\\">\\n            <div   |  <h5 class=\\\"card-title text-light\\\" data-astro-   |  ogin\\\" class=\\\"btn btn-success text-end\\\" data-   |\n",
            "|        | class=\\\"text-end\\\" data-astro-cid-dohjnao5=\\\"\\\">\\n |        class=\\\"card-body\\\" data-astro-cid-         |    cid-dohjnao5=\\\"\\\">Formulario de Registro de     |          astro-cid-dohjnao5>Entrar</a>\\n           |\n",
            "|        | <a href=\\\"https://forms.office.com/pages/responsep | dohjnao5=\\\"\\\">\\n                <h2 class=\\\"card-  |       Eventos</h5>\\n                    <div       |        </div>\\n                    </div>\\n        |\n",
            "|        | age.aspx?id=UXaQPMbYpkyopGokJDDmU-mq0IRCUa9Ei8mq08 |         title text-light\\\" data-astro-cid-         | class=\\\"text-end\\\" data-astro-cid-dohjnao5=\\\"\\\">\\n |    </div>\\n            </div>\\n            <div    |\n",
            "|        | oDurxUMDJJQkQ2S1RTRU4zRTQ0SVpINENHQTNWRi4u&amp;rou |      dohjnao5=\\\"\\\">Formulario de Registro de       | <a href=\\\"https://forms.office.com/pages/responsep | class=\\\"col\\\">\\n                <div class=\\\"card  |\n",
            "|        |  te=shorturl\\\" class=\\\"btn btn-success text-end\\\"  |  Eventos</h2>\\n                <div class=\\\"text-  | age.aspx?id=UXaQPMbYpkyopGokJDDmU-mq0IRCUa9Ei8mq08 |         h-100\\\" data-astro-cid-dohjnao5>\\n         |\n",
            "|        |         data-astro-cid-dohjnao5=\\\"\\\" aria-         |       end\\\" data-astro-cid-dohjnao5=\\\"\\\">\\n        | oDurxUMDJJQkQ2S1RTRU4zRTQ0SVpINENHQTNWRi4u&amp;rou | <img src=\\\"https://sistemasfei.uv.mx/inicio/_astro |\n",
            "|        |         label=\\\"Formulario de Registro de          | <a href=\\\"https://forms.office.com/pages/responsep |  te=shorturl\\\" class=\\\"btn btn-success text-end\\\"  |   /registroHorario.webp\\\" class=\\\"card-img-top\\\"   |\n",
            "|        | Eventos\\\">Entrar</a>\\n                    </div>\\n | age.aspx?id=UXaQPMbYpkyopGokJDDmU-mq0IRCUa9Ei8mq08 |         data-astro-cid-dohjnao5=\\\"\\\" aria-         |   alt=\\\"Registro de Horarios de Tutoría\\\" data-    |\n",
            "|        |   </div>\\n            </div>\\n\\n            <div   | oDurxUMDJJQkQ2S1RTRU4zRTQ0SVpINENHQTNWRi4u&amp;rou |    label=\\\"Formulario de Registro de Eventos\\\"     |  astro-cid-dohjnao5 width=\\\"362\\\" height=\\\"362\\\"   |\n",
            "|        | class=\\\"card mx-2\\\" style=\\\"width: 18rem;\\\" data-  | te=shorturl\\\"\\n                        class=\\\"btn |         title=\\\"Formulario de Registro de          |   decoding=\\\"async\\\">\\n                    <div    |\n",
            "|        |           astro-cid-dohjnao5=\\\"\\\" aria-            |       btn-success text-end\\\" data-astro-cid-       | Eventos\\\">Entrar</a>\\n                    </div>\\n |   class=\\\"card-body\\\" data-astro-cid-dohjnao5>\\n   |\n",
            "|        | roledescription=\\\"card\\\">\\n                <img sr |    dohjnao5=\\\"\\\"\\n                        aria-    |         </div>\\n            </article>\\n\\n         |  <h2 class=\\\"card-title text-light\\\" data-astro-   |\n",
            "|        | c=\\\"https://sistemasfei.uv.mx/inicio/_astro/Dashbo |    label=\\\"Entrar al Formulario de Registro de     |    <article class=\\\"card mx-2\\\" style=\\\"width:     |        cid-dohjnao5>Registro de Horarios de        |\n",
            "|        |      ardDesign.webp\\\" class=\\\"card-img-top\\\"       |   Eventos\\\">Entrar</a>\\n                </div>\\n   |       18rem;\\\" data-astro-cid-dohjnao5=\\\"\\\"        |     Tutoría</h2>\\n                        <div     |\n",
            "|        | loading=\\\"eager\\\" alt=\\\"Imagen representativa del  |       </div>\\n        </div>\\n\\n        <div       | role=\\\"article\\\">\\n                <img src=\\\"http |   class=\\\"text-end\\\" data-astro-cid-dohjnao5>\\n    |\n",
            "|        |    dashboard PBR\\\" data-astro-cid-dohjnao5=\\\"\\\"    | class=\\\"card mx-2\\\" style=\\\"width: 18rem;\\\" data-  | s://sistemasfei.uv.mx/inicio/_astro/DashboardDesig |                         <a                         |\n",
            "|        |  width=\\\"1720\\\" height=\\\"900\\\" decoding=\\\"async\\\"  | astro-cid-dohjnao5=\\\"\\\">\\n            <img src=\\\"h | n.webp\\\" class=\\\"card-img-top\\\" loading=\\\"eager\\\"  | href=\\\"https://sistemasfei.uv.mx/agendatutorias/\\\" |\n",
            "|        |          style=\\\"filter: invert(0);\\\">\\n           | ttps://sistemasfei.uv.mx/inicio/_astro/DashboardDe |  alt=\\\"Imagen del dashboard PBR\\\" data-astro-cid-  | class=\\\"btn btn-success text-end\\\" data-astro-cid- |\n",
            "|        |      <div class=\\\"card-body\\\" data-astro-cid-      |         sign.webp\\\" class=\\\"card-img-top\\\"         |    dohjnao5=\\\"\\\" width=\\\"1720\\\" height=\\\"900\\\"     |               dohjnao5>Entrar</a>\\n                |\n",
            "|        |      dohjnao5=\\\"\\\">\\n                    <h5       |  loading=\\\"eager\\\"\\n                alt=\\\"Imagen   |         decoding=\\\"async\\\" role=\\\"img\\\">\\n         |        </div>\\n                    </div>\\n        |\n",
            "|        |  class=\\\"card-title text-light\\\" data-astro-cid-   |  del Dashboard PBR\\\" data-astro-cid-dohjnao5=\\\"\\\"  |      <div class=\\\"card-body\\\" data-astro-cid-      |    </div>\\n            </div>\\n            <div    |\n",
            "|        |      dohjnao5=\\\"\\\" aria-level=\\\"3\\\">Dashboard      | width=\\\"1720\\\" height=\\\"900\\\" decoding=\\\"async\\\"\\n |      dohjnao5=\\\"\\\">\\n                    <h5       | class=\\\"col\\\">\\n                <div class=\\\"card  |\n",
            "|        |  PBR</h5>\\n                    <div class=\\\"text-  |  style=\\\"filter: invert(0);\\\">\\n            <div   |  class=\\\"card-title text-light\\\" data-astro-cid-   |         h-100\\\" data-astro-cid-dohjnao5>\\n         |\n",
            "|        |       end\\\" data-astro-cid-dohjnao5=\\\"\\\">\\n        |        class=\\\"card-body\\\" data-astro-cid-         |         dohjnao5=\\\"\\\">Dashboard PBR</h5>\\n         | <img src=\\\"https://sistemasfei.uv.mx/inicio/_astro |\n",
            "|        | <a href=\\\"https://sistemasfei.uv.mx/dashboardfei/l | dohjnao5=\\\"\\\">\\n                <h2 class=\\\"card-  |      <div class=\\\"text-end\\\" data-astro-cid-       |     /sistemampa.webp\\\" class=\\\"card-img-top\\\"      |\n",
            "|        |  ogin\\\" class=\\\"btn btn-success text-end\\\" data-   |         title text-light\\\" data-astro-cid-         | dohjnao5=\\\"\\\">\\n                        <a href=\\\" |   alt=\\\"Módulo de Programación Académica\\\" data-   |\n",
            "|        |   astro-cid-dohjnao5=\\\"\\\" aria-label=\\\"Dashboard   |         dohjnao5=\\\"\\\">Dashboard PBR</h2>\\n         |   https://sistemasfei.uv.mx/dashboardfei/login\\\"   | astro-cid-dohjnao5 width=\\\"1600\\\" height=\\\"1200\\\"  |\n",
            "|        |   PBR\\\">Entrar</a>\\n                    </div>\\n   |      <div class=\\\"text-end\\\" data-astro-cid-       | class=\\\"btn btn-success text-end\\\" data-astro-cid- |   decoding=\\\"async\\\">\\n                    <div    |\n",
            "|        |   </div>\\n            </div>\\n\\n            <div   | dohjnao5=\\\"\\\">\\n                    <a href=\\\"http |     dohjnao5=\\\"\\\" aria-label=\\\"Dashboard PBR\\\"     |   class=\\\"card-body\\\" data-astro-cid-dohjnao5>\\n   |\n",
            "|        | class=\\\"card mx-2\\\" style=\\\"width: 18rem;\\\" data-  |     s://sistemasfei.uv.mx/dashboardfei/login\\\"     |        title=\\\"Dashboard PBR\\\">Entrar</a>\\n        |  <h2 class=\\\"card-title text-light\\\" data-astro-   |\n",
            "|        |           astro-cid-dohjnao5=\\\"\\\" aria-            | class=\\\"btn btn-success text-end\\\" data-astro-cid- |          </div>\\n                </div>\\n          |        cid-dohjnao5>Módulo de Programación         |\n",
            "|        | roledescription=\\\"card\\\">\\n                <img sr |    dohjnao5=\\\"\\\"\\n                        aria-    |  </article>\\n\\n            <article class=\\\"card   |    Académica</h2>\\n                        <div    |\n",
            "|        | c=\\\"https://sistemasfei.uv.mx/inicio/_astro/regist |   label=\\\"Entrar al Dashboard PBR\\\">Entrar</a>\\n   |   mx-2\\\" style=\\\"width: 18rem;\\\" data-astro-cid-   |   class=\\\"text-end\\\" data-astro-cid-dohjnao5>\\n    |\n",
            "|        |      roHorario.webp\\\" class=\\\"card-img-top\\\"       |   </div>\\n            </div>\\n        </div>\\n\\n   |         dohjnao5=\\\"\\\" role=\\\"article\\\">\\n          |  <a href=\\\"https://sistemasfei.uv.mx/apoyompa/\\\"   |\n",
            "|        | loading=\\\"eager\\\" alt=\\\"Imagen representativa del  |  <div class=\\\"card mx-2\\\" style=\\\"width: 18rem;\\\"  | <img src=\\\"https://sistemasfei.uv.mx/inicio/_astro | class=\\\"btn btn-success text-end\\\" data-astro-cid- |\n",
            "|        | registro de horarios de tutoria\\\" data-astro-cid-  | data-astro-cid-dohjnao5=\\\"\\\">\\n            <img sr |   /registroHorario.webp\\\" class=\\\"card-img-top\\\"   |               dohjnao5>Entrar</a>\\n                |\n",
            "|        |     dohjnao5=\\\"\\\" width=\\\"362\\\" height=\\\"362\\\"     | c=\\\"https://sistemasfei.uv.mx/inicio/_astro/regist |   loading=\\\"eager\\\" alt=\\\"Imagen del registro de   |        </div>\\n                    </div>\\n        |\n",
            "|        | decoding=\\\"async\\\" style=\\\"filter: invert(0);\\\">\\n |      roHorario.webp\\\" class=\\\"card-img-top\\\"       | horarios de tutoria\\\" data-astro-cid-dohjnao5=\\\"\\\" |    </div>\\n            </div>\\n        </div>\\n    |\n",
            "|        |      <div class=\\\"card-body\\\" data-astro-cid-      |  loading=\\\"eager\\\"\\n                alt=\\\"Imagen   |  width=\\\"362\\\" height=\\\"362\\\" decoding=\\\"async\\\"   | </main>\\n\\n    <footer class=\\\"bd-footer py-4 py-  |\n",
            "|        |      dohjnao5=\\\"\\\">\\n                    <h5       | del registro de horarios de tutoria\\\" data-astro-  | role=\\\"img\\\">\\n                <div class=\\\"card-  |    md-5 mt-5 bg-body-tertiary\\\">\\n        <div     |\n",
            "|        |  class=\\\"card-title text-light\\\" data-astro-cid-   |  cid-dohjnao5=\\\"\\\" width=\\\"362\\\" height=\\\"362\\\"\\n  |       body\\\" data-astro-cid-dohjnao5=\\\"\\\">\\n       |        class=\\\"container px-4 px-md-3\\\">\\n         |\n",
            "|        |     dohjnao5=\\\"\\\" aria-level=\\\"3\\\">Registro de     | decoding=\\\"async\\\" style=\\\"filter: invert(0);\\\">\\n |  <h5 class=\\\"card-title text-light\\\" data-astro-   |     <div class=\\\"row\\\">\\n                <div      |\n",
            "|        | Horarios de Tutoría</h5>\\n                    <div |      <div class=\\\"card-body\\\" data-astro-cid-      |     cid-dohjnao5=\\\"\\\">Registro de Horarios de      |  class=\\\"col-lg-3 mb-3\\\">\\n                    <a  |\n",
            "|        | class=\\\"text-end\\\" data-astro-cid-dohjnao5=\\\"\\\">\\n | dohjnao5=\\\"\\\">\\n                <h2 class=\\\"card-  |       Tutoría</h5>\\n                    <div       |   class=\\\"d-inline-flex align-items-center mb-2    |\n",
            "|        |                         <a                         |         title text-light\\\" data-astro-cid-         | class=\\\"text-end\\\" data-astro-cid-dohjnao5=\\\"\\\">\\n |     text-body-emphasis text-decoration-none\\\"      |\n",
            "|        | href=\\\"https://sistemasfei.uv.mx/agendatutorias/\\\" |       dohjnao5=\\\"\\\">Registro de Horarios de        |                         <a                         |         href=\\\"https://www.uv.mx/\\\" aria-          |\n",
            "|        | class=\\\"btn btn-success text-end\\\" data-astro-cid- |  Tutoría</h2>\\n                <div class=\\\"text-  | href=\\\"https://sistemasfei.uv.mx/agendatutorias/\\\" |        label=\\\"Universidad Veracruzana\\\">\\n        |\n",
            "|        | dohjnao5=\\\"\\\" aria-label=\\\"Registro de Horarios de |       end\\\" data-astro-cid-dohjnao5=\\\"\\\">\\n        | class=\\\"btn btn-success text-end\\\" data-astro-cid- | <img width=\\\"50\\\" src=\\\"https://sistemasfei.uv.mx/ |\n",
            "|        | Tutoría\\\">Entrar</a>\\n                    </div>\\n |                         <a                         | dohjnao5=\\\"\\\" aria-label=\\\"Registro de Horarios de |     inicio/_astro/logoUV.gPBiyME4_N2yL.webp\\\"      |\n",
            "|        |   </div>\\n            </div>\\n\\n            <div   | href=\\\"https://sistemasfei.uv.mx/agendatutorias/\\\" |     Tutoría\\\" title=\\\"Registro de Horarios de      |   alt=\\\"Logo de la Universidad Veracruzana\\\">\\n    |\n",
            "|        | class=\\\"card mx-2\\\" style=\\\"width: 18rem;\\\" data-  | class=\\\"btn btn-success text-end\\\" data-astro-cid- | Tutoría\\\">Entrar</a>\\n                    </div>\\n |     <span class=\\\"fs-5\\\">Sistemas FEI</span>\\n     |\n",
            "|        |           astro-cid-dohjnao5=\\\"\\\" aria-            |    dohjnao5=\\\"\\\"\\n                        aria-    |         </div>\\n            </article>\\n\\n         |    </a>\\n                    <ul class=\\\"list-     |\n",
            "|        | roledescription=\\\"card\\\">\\n                <img sr |     label=\\\"Entrar al Registro de Horarios de      |    <article class=\\\"card mx-2\\\" style=\\\"width:     |   unstyled small\\\">\\n                        <li   |\n",
            "|        | c=\\\"https://sistemasfei.uv.mx/inicio/_astro/sistem |   Tutoría\\\">Entrar</a>\\n                </div>\\n   |       18rem;\\\" data-astro-cid-dohjnao5=\\\"\\\"        |  class=\\\"mb-2\\\">Portal de sistemas de la Facultad  |\n",
            "|        |         ampa.webp\\\" class=\\\"card-img-top\\\"         |       </div>\\n        </div>\\n\\n        <div       | role=\\\"article\\\">\\n                <img src=\\\"http |        de Estadistica e Informatica.</li>\\n        |\n",
            "|        | loading=\\\"eager\\\" alt=\\\"Imagen representativa del  | class=\\\"card mx-2\\\" style=\\\"width: 18rem;\\\" data-  | s://sistemasfei.uv.mx/inicio/_astro/sistemampa.web |          </ul>\\n                </div>\\n           |\n",
            "|        | modulo de programacion academica\\\" data-astro-cid- | astro-cid-dohjnao5=\\\"\\\">\\n            <img src=\\\"h |    p\\\" class=\\\"card-img-top\\\" loading=\\\"eager\\\"    |          <div class=\\\"col-lg-9 mb-3\\\">\\n           |\n",
            "|        |    dohjnao5=\\\"\\\" width=\\\"1600\\\" height=\\\"1200\\\"    | ttps://sistemasfei.uv.mx/inicio/_astro/sistemampa. |      alt=\\\"Imagen del modulo de programacion       |       <h2 class=\\\"h5\\\">Mapa de sitio</h2>\\n        |\n",
            "|        | decoding=\\\"async\\\" style=\\\"filter: invert(0);\\\">\\n | webp\\\" class=\\\"card-img-top\\\" loading=\\\"eager\\\"\\n  |      academica\\\" data-astro-cid-dohjnao5=\\\"\\\"      |           <ul class=\\\"list-unstyled\\\">\\n           |\n",
            "|        |      <div class=\\\"card-body\\\" data-astro-cid-      |      alt=\\\"Imagen del modulo de programacion       | width=\\\"1600\\\" height=\\\"1200\\\" decoding=\\\"async\\\"  | <li class=\\\"mb-2\\\"><a class=\\\"link-body-emphasis\\\" |\n",
            "|        |      dohjnao5=\\\"\\\">\\n                    <h5       |      academica\\\" data-astro-cid-dohjnao5=\\\"\\\"      | role=\\\"img\\\">\\n                <div class=\\\"card-  |     href=\\\"https://www.uv.mx/\\\">UV</a></li>\\n      |\n",
            "|        |  class=\\\"card-title text-light\\\" data-astro-cid-   |          width=\\\"1600\\\" height=\\\"1200\\\"\\n          |       body\\\" data-astro-cid-dohjnao5=\\\"\\\">\\n       | <li class=\\\"mb-2\\\"><a class=\\\"link-body-emphasis\\\" |\n",
            "|        |      dohjnao5=\\\"\\\" aria-level=\\\"3\\\">Módulo de      | decoding=\\\"async\\\" style=\\\"filter: invert(0);\\\">\\n |  <h5 class=\\\"card-title text-light\\\" data-astro-   |   href=\\\"https://www.uv.mx/fei/\\\">FEI</a></li>\\n   |\n",
            "|        |           Programación Académica</h5>\\n            |      <div class=\\\"card-body\\\" data-astro-cid-      |      cid-dohjnao5=\\\"\\\">Módulo de Programación      |          </ul>\\n                </div>\\n           |\n",
            "|        |      <div class=\\\"text-end\\\" data-astro-cid-       | dohjnao5=\\\"\\\">\\n                <h2 class=\\\"card-  |      Académica</h5>\\n                    <div      |     </div>\\n        </div>\\n    </footer>\\n\\n      |\n",
            "|        |     dohjnao5=\\\"\\\">\\n                        <a     |         title text-light\\\" data-astro-cid-         | class=\\\"text-end\\\" data-astro-cid-dohjnao5=\\\"\\\">\\n | <script src=\\\"https://cdn.jsdelivr.net/npm/bootstr |\n",
            "|        |    href=\\\"https://sistemasfei.uv.mx/apoyompa/\\\"    |        dohjnao5=\\\"\\\">Módulo de Programación        |  <a href=\\\"https://sistemasfei.uv.mx/apoyompa/\\\"   | ap@5.3.3/dist/js/bootstrap.bundle.min.js\\\"></scrip |\n",
            "|        | class=\\\"btn btn-success text-end\\\" data-astro-cid- | Académica</h2>\\n                <div class=\\\"text- | class=\\\"btn btn-success text-end\\\" data-astro-cid- |              t>\\n</body>\\n\\n</html>\"               |\n",
            "|        | dohjnao5=\\\"\\\" aria-label=\\\"Módulo de Programación  |       end\\\" data-astro-cid-dohjnao5=\\\"\\\">\\n        | dohjnao5=\\\"\\\" aria-label=\\\"Módulo de Programación  |                         }                          |\n",
            "|        |              Académica\\\">Entrar</a>\\n              |  <a href=\\\"https://sistemasfei.uv.mx/apoyompa/\\\"   |     Académica\\\" title=\\\"Módulo de Programación     |                                                    |\n",
            "|        |          </div>\\n                </div>\\n          | class=\\\"btn btn-success text-end\\\" data-astro-cid- |              Académica\\\">Entrar</a>\\n              |                                                    |\n",
            "|        |              </div>\\n        </div>\\n              |    dohjnao5=\\\"\\\"\\n                        aria-    |          </div>\\n                </div>\\n          |                                                    |\n",
            "|        |             </main>\\n</body>\\n</html>\"             |      label=\\\"Entrar al Módulo de Programación      |    </article>\\n        </div>\\n    </main>\\n\\n     |                                                    |\n",
            "|        |                         }                          |  Académica\\\">Entrar</a>\\n                </div>\\n  | <footer role=\\\"contentinfo\\\">\\n        <!-- Footer |                                                    |\n",
            "|        |                                                    | </div>\\n        </div>\\n    </main>\\n\\n    <footer | content here -->\\n    </footer>\\n</body>\\n</html>\" |                                                    |\n",
            "|        |                                                    |    class=\\\"bd-footer py-4 py-md-5 mt-5 bg-body-    |                         }                          |                                                    |\n",
            "|        |                                                    |  tertiary\\\">\\n        <div class=\\\"container px-4  |                                                    |                                                    |\n",
            "|        |                                                    |   px-md-3\\\">\\n            <div class=\\\"row\\\">\\n    |                                                    |                                                    |\n",
            "|        |                                                    |          <div class=\\\"col-lg-3 mb-3\\\">\\n           |                                                    |                                                    |\n",
            "|        |                                                    |  <a class=\\\"d-inline-flex align-items-center mb-2  |                                                    |                                                    |\n",
            "|        |                                                    |     text-body-emphasis text-decoration-none\\\"      |                                                    |                                                    |\n",
            "|        |                                                    |     href=\\\"#\\\"\\n                        aria-      |                                                    |                                                    |\n",
            "|        |                                                    |             label=\\\"Sistemas FEI\\\">\\n              |                                                    |                                                    |\n",
            "|        |                                                    | <img width=\\\"50\\\" src=\\\"https://sistemasfei.uv.mx/ |                                                    |                                                    |\n",
            "|        |                                                    |    inicio/_astro/logoFEI.CKAzzJnF_ZyfpCW.webp\\\"    |                                                    |                                                    |\n",
            "|        |                                                    |  alt=\\\"Logo FEI\\\">\\n                        <span  |                                                    |                                                    |\n",
            "|        |                                                    |        class=\\\"fs-5\\\">Sistemas FEI</span>\\n        |                                                    |                                                    |\n",
            "|        |                                                    |    </a>\\n                    <ul class=\\\"list-     |                                                    |                                                    |\n",
            "|        |                                                    |   unstyled small\\\">\\n                        <li   |                                                    |                                                    |\n",
            "|        |                                                    |  class=\\\"mb-2\\\">Portal de sistemas de la Facultad  |                                                    |                                                    |\n",
            "|        |                                                    |        de Estadística e Informática.</li>\\n        |                                                    |                                                    |\n",
            "|        |                                                    |          </ul>\\n                </div>\\n           |                                                    |                                                    |\n",
            "|        |                                                    |          <div class=\\\"col-lg-9 mb-3\\\">\\n           |                                                    |                                                    |\n",
            "|        |                                                    |       <h2 class=\\\"h5\\\">Mapa de sitio</h2>\\n        |                                                    |                                                    |\n",
            "|        |                                                    |           <ul class=\\\"list-unstyled\\\">\\n           |                                                    |                                                    |\n",
            "|        |                                                    | <li class=\\\"mb-2\\\"><a class=\\\"link-body-emphasis\\\" |                                                    |                                                    |\n",
            "|        |                                                    | href=\\\"https://sistemasfei.uv.mx/inicio/\\\">Home</a |                                                    |                                                    |\n",
            "|        |                                                    |        ></li>\\n                        <li         |                                                    |                                                    |\n",
            "|        |                                                    |   class=\\\"mb-2\\\"><a class=\\\"link-body-emphasis\\\"   |                                                    |                                                    |\n",
            "|        |                                                    |    href=\\\"http://www.uv.mx/fei\\\">FEI</a></li>\\n    |                                                    |                                                    |\n",
            "|        |                                                    | <li class=\\\"mb-2\\\"><a class=\\\"link-body-emphasis\\\" |                                                    |                                                    |\n",
            "|        |                                                    |      href=\\\"http://www.uv.mx\\\">UV</a></li>\\n       |                                                    |                                                    |\n",
            "|        |                                                    |          </ul>\\n                </div>\\n           |                                                    |                                                    |\n",
            "|        |                                                    |     </div>\\n        </div>\\n    </footer>\\n\\n      |                                                    |                                                    |\n",
            "|        |                                                    | <script src=\\\"https://cdn.jsdelivr.net/npm/bootstr |                                                    |                                                    |\n",
            "|        |                                                    | ap@5.3.3/dist/js/bootstrap.bundle.min.js\\\"></scrip |                                                    |                                                    |\n",
            "|        |                                                    |              t>\\n</body>\\n\\n</html>\"               |                                                    |                                                    |\n",
            "|        |                                                    |                         }                          |                                                    |                                                    |\n",
            "+--------+----------------------------------------------------+----------------------------------------------------+----------------------------------------------------+----------------------------------------------------+\n"
          ]
        }
      ],
      "source": [
        "extracted_json_html, extracted_json_html_template, extracted_json_md, extracted_json_md_template = display_extracted_content(\"gemini-2.0-flash\", all_content_html, all_content_md, \"Crawl4ai\", \"Blocks\", \"blocks\")"
      ]
    },
    {
      "cell_type": "code",
      "execution_count": null,
      "metadata": {},
      "outputs": [],
      "source": [
        "create_interface(extracted_json_html, extracted_json_html_template, extracted_json_md, extracted_json_md_template)"
      ]
    },
    {
      "cell_type": "code",
      "execution_count": 48,
      "metadata": {},
      "outputs": [],
      "source": [
        "generate_output_files(\"gemini-blocks\", extracted_json_html, extracted_json_html_template, extracted_json_md, extracted_json_md_template)"
      ]
    },
    {
      "cell_type": "markdown",
      "metadata": {},
      "source": [
        "## OpenAI: Example form\n",
        "\n",
        "Revisemos el resultado que produce este modelo."
      ]
    },
    {
      "cell_type": "code",
      "execution_count": 54,
      "metadata": {},
      "outputs": [
        {
          "data": {
            "application/vnd.jupyter.widget-view+json": {
              "model_id": "992d85f76d414a51ab5218e61c276693",
              "version_major": 2,
              "version_minor": 0
            },
            "text/plain": [
              "Processing results:   0%|          | 0/2 [00:00<?, ?it/s]"
            ]
          },
          "metadata": {},
          "output_type": "display_data"
        },
        {
          "data": {
            "application/vnd.jupyter.widget-view+json": {
              "model_id": "70ffab12f011433eb28d37d768532b97",
              "version_major": 2,
              "version_minor": 0
            },
            "text/plain": [
              "Extracting content with Crawl4ai for HTML input:   0%|          | 0/1 [00:00<?, ?it/s]"
            ]
          },
          "metadata": {},
          "output_type": "display_data"
        },
        {
          "data": {
            "application/vnd.jupyter.widget-view+json": {
              "model_id": "5f799dd613914abfbea7142cba2d74c2",
              "version_major": 2,
              "version_minor": 0
            },
            "text/plain": [
              "Extracting content with Crawl4ai for HTML input and template:   0%|          | 0/1 [00:00<?, ?it/s]"
            ]
          },
          "metadata": {},
          "output_type": "display_data"
        },
        {
          "data": {
            "application/vnd.jupyter.widget-view+json": {
              "model_id": "87b305ca500f48fda02a1c750e21fa82",
              "version_major": 2,
              "version_minor": 0
            },
            "text/plain": [
              "Extracting content with Crawl4ai for Markdown input:   0%|          | 0/1 [00:00<?, ?it/s]"
            ]
          },
          "metadata": {},
          "output_type": "display_data"
        },
        {
          "data": {
            "application/vnd.jupyter.widget-view+json": {
              "model_id": "6bcb09e3f4124b7ab52145fd9b930e74",
              "version_major": 2,
              "version_minor": 0
            },
            "text/plain": [
              "Extracting content with Crawl4ai for Markdown input and template:   0%|          | 0/1 [00:00<?, ?it/s]"
            ]
          },
          "metadata": {},
          "output_type": "display_data"
        },
        {
          "name": "stdout",
          "output_type": "stream",
          "text": [
            "Extracted Content Table:\n",
            "+------+----------------------------------------------------+----------------------------------------------------+----------------------------------------------------+----------------------------------------------------+\n",
            "| Site |                     From HTML                      |              From HTML with template               |                   From markdown                    |            From markdown with template             |\n",
            "+------+----------------------------------------------------+----------------------------------------------------+----------------------------------------------------+----------------------------------------------------+\n",
            "| Form |              Completion tokens: 1,785              |              Completion tokens: 1,517              |              Completion tokens: 1,926              |              Completion tokens: 1,312              |\n",
            "|      |               Prompt tokens: 11,058                |               Prompt tokens: 11,854                |               Prompt tokens: 11,110                |               Prompt tokens: 11,849                |\n",
            "|      |               Total cost: $0.032107                |               Total cost: $0.033427                |               Total cost: $0.032590                |               Total cost: $0.032903                |\n",
            "|      |                                                    |                                                    |                                                    |                                                    |\n",
            "|      |                                                    |                                                    |                                                    |                                                    |\n",
            "|      | {\"Procedure\":\"1. Added lang attribute to the html  | {\"Procedure\":\"1. Added lang attribute to the html  | {\"Procedure\":\"1. Added lang attribute to the html  |                         {                          |\n",
            "|      | tag. 2. Converted relative URLs to absolute URLs.  |  tag to specify the language as Spanish (es). 2.   |     tag to specify the language as Spanish. 2.     |      \"Procedure\": \"1. Added lang attribute to the  |\n",
            "|      |  3. Added alt text to the image. 4. Ensured color  |  Converted relative URLs to absolute URLs for CSS  | Converted relative URLs to absolute URLs for CSS,  |  html tag to specify the language as Spanish. 2.   |\n",
            "|      |  contrast meets WCAG standards. 5. Used semantic   |  and JS files. 3. Added alt text to the image for  |   JS, and image files. 3. Added alt text to the    |  Converted relative URLs to absolute URLs for CSS  |\n",
            "|      |     HTML elements. 6. Corrected heading levels     |    better accessibility. 4. Used semantic HTML     |  image for better accessibility. 4. Used semantic  | and JS files. 3. Added alt attribute to the image  |\n",
            "|      | starting from h1. 7. Added aria-labels for better  |   elements such as header, main, and footer. 5.    | HTML elements such as header, main, and footer. 5. | for accessibility. 4. Used semantic HTML elements  |\n",
            "|      |    accessibility. 8. Ensured form elements have    |  Ensured correct heading levels starting from h1.  |  Ensured correct heading levels starting from h1.  |  like header, main, and footer. 5. Ensured color   |\n",
            "|      |   associated labels. 9. Added sr-only class for    | 6. Improved color contrast for better readability. | 6. Improved color contrast for better readability. |  contrast meets WCAG standards. 6. Used Bootstrap  |\n",
            "|      |     visually hidden elements. 10. Ensured all      |  7. Added aria-labels to form elements for better  |   7. Added aria-labels to form inputs for better   |   classes for responsive design. 7. Added aria-    |\n",
            "|      | interactive elements are keyboard accessible. 11.  |  screen reader support. 8. Used Bootstrap classes  |    screen reader support. 8. Ensured responsive    |  labels for form inputs for better accessibility.  |\n",
            "|      | Added role attributes where necessary. 12. Ensured | for responsive design. 9. Added inline styles for  |  design using Bootstrap classes. 9. Added inline   |  8. Ensured correct heading levels starting from   |\n",
            "|      |   all scripts are loaded with absolute URLs. 13.   | custom fonts and colors. 10. Ensured form elements | styles in the head section for better control. 10. |  h1. 9. Added inline styles for custom fonts and   |\n",
            "|      | Added inline styles for sr-only class. 14. Ensured |   have associated labels. 11. Added a script to    |   Ensured all interactive elements are keyboard    | colors. 10. Ensured form elements have associated  |\n",
            "|      |    all text is readable and not too small. 15.     | handle form validation and submission. 12. Ensured |    accessible. 11. Added role attributes where     |    labels. 11. Used Bootstrap's grid system for    |\n",
            "|      |     Checked for any missing or incorrect aria      | all interactive elements are keyboard accessible.  | necessary for better ARIA support. 12. Ensured all |     layout. 12. Added a script to handle form      |\n",
            "|      |      references. 16. Ensured all buttons have      |     13. Used Bootstrap's card component for a      |  form elements have associated labels. 13. Added   |   validation with accessible error messages. 13.   |\n",
            "|      | descriptive text. 17. Checked for any redundant or |  structured layout. 14. Added a meta viewport tag  |  focus styles for better keyboard navigation. 14.  |  Ensured buttons and links have descriptive text.  |\n",
            "|      |    unnecessary code. 18. Ensured all links are     |   for responsive design. 15. Ensured all text is   |   Ensured all scripts are loaded correctly. 15.    |    14. Used Bootstrap's card component for form    |\n",
            "|      |    descriptive and meaningful. 19. Verified all    |   readable and has sufficient contrast. 16. Used   |   Added meta tags for viewport and charset. 16.    |  layout. 15. Ensured all interactive elements are  |\n",
            "|      |  changes for compliance with WCAG 2.2. 20. Final   |  Bootstrap's grid system for layout. 17. Added a   | Ensured all elements have a logical tab order. 17. |    keyboard accessible. 16. Added meta tags for    |\n",
            "|      |         review and validation of the HTML          | title to the document for better SEO. 18. Ensured  |   Added error handling for form validation. 18.    |  viewport settings. 17. Used Bootstrap's utility   |\n",
            "|      |      structure.\",\"HTML\":\"<!DOCTYPE html><html      |    all links have descriptive text. 19. Added a    | Ensured all links have descriptive text. 19. Added | classes for spacing and alignment. 18. Ensured all |\n",
            "|      | lang=\\\"es\\\"><head> <meta charset=\\\"UTF-8\\\"> <meta  |  button with a clear call to action. 20. Ensured   | aria-live regions for dynamic content updates. 20. |    text is readable and not too small. 19. Used    |\n",
            "|      |           http-equiv=\\\"X-UA-Compatible\\\"           |          all elements have a logical tab           |      Ensured all images have descriptive alt       | Bootstrap's button classes for consistent styling. |\n",
            "|      |    content=\\\"IE=edge\\\"> <meta name=\\\"viewport\\\"    |        order.\",\"HTML\":\"<!DOCTYPE html><html        |       text.\",\"HTML\":\"<!DOCTYPE html>\\n<html        |    20. Ensured all elements have a logical tab     |\n",
            "|      | content=\\\"width=device-width, initial-scale=1.0\\\"> |   lang=\\\"es\\\"><head>    <meta charset=\\\"UTF-8\\\">   |          lang=\\\"es\\\">\\n<head>\\n    <meta           |                      order.\",                      |\n",
            "|      | <link rel=\\\"stylesheet\\\" href=\\\"https://sistemasfe |  <meta name=\\\"viewport\\\" content=\\\"width=device-   |  charset=\\\"UTF-8\\\">\\n    <meta http-equiv=\\\"X-UA-  |             \"HTML\": \"<!DOCTYPE html><html          |\n",
            "|      |     i.uv.mx/aulaclase/css/bootstrap.min.css\\\">     |   width, initial-scale=1\\\">    <title>Inicio de    |    Compatible\\\" content=\\\"IE=edge\\\">\\n    <meta    |   lang=\\\"es\\\"><head>    <meta charset=\\\"UTF-8\\\">   |\n",
            "|      | <title>Inicio de sesión</title> <style> @font-face | sesión</title>    <link href=\\\"https://cdn.jsdeliv |  name=\\\"viewport\\\" content=\\\"width=device-width,   |  <meta name=\\\"viewport\\\" content=\\\"width=device-   |\n",
            "|      | { font-family: GillSansBold; src: url('https://sis | r.net/npm/bootstrap@5.3.3/dist/css/bootstrap.min.c | initial-scale=1.0\\\">\\n    <link rel=\\\"stylesheet\\\" |   width, initial-scale=1\\\">    <title>Inicio de    |\n",
            "|      |  temasfei.uv.mx/aulaclase/GillSans/Gill\\\\ Sans\\\\   | ss\\\" rel=\\\"stylesheet\\\">    <style>        @font-  | href=\\\"https://sistemasfei.uv.mx/aulaclase/css/boo | sesión</title>    <link href=\\\"https://cdn.jsdeliv |\n",
            "|      |      Bold.otf'); } @font-face { font-family:       |    face {            font-family: GillSansBold;    |      tstrap.min.css\\\">\\n    <title>Inicio de       | r.net/npm/bootstrap@5.3.3/dist/css/bootstrap.min.c |\n",
            "|      | GillSansRegular; src: url('https://sistemasfei.uv. | src: url('https://sistemasfei.uv.mx/aulaclase/Gill |  sesión</title>\\n    <style>\\n        @font-face   | ss\\\" rel=\\\"stylesheet\\\">    <style>        @font-  |\n",
            "|      | mx/aulaclase/GillSans/Gill\\\\ Sans.otf'); } h1, h2, |      Sans/Gill%20Sans%20Bold.otf');        }       |    {\\n            font-family: GillSansBold;\\n     |    face {            font-family: GillSansBold;    |\n",
            "|      | h4 { font-family: GillSansBold; } p { font-family: |        @font-face {            font-family:        | src: url('https://sistemasfei.uv.mx/aulaclase/Gill | src: url('https://sistemasfei.uv.mx/aulaclase/Gill |\n",
            "|      |  GillSansRegular; } @media only screen and (max-   | GillSansRegular;            src: url('https://sist |   Sans/Gill\\\\ Sans\\\\ Bold.otf');\\n        }\\n\\n    |      Sans/Gill%20Sans%20Bold.otf');        }       |\n",
            "|      |  width: 576px) { .form { padding-top: 10rem; } }   | emasfei.uv.mx/aulaclase/GillSans/Gill%20Sans.otf') |       @font-face {\\n            font-family:       |        @font-face {            font-family:        |\n",
            "|      |     .custom-button { background-color: #28AD56     | ;        }        h2, h4 {            font-family: | GillSansRegular;\\n            src: url('https://si | GillSansRegular;            src: url('https://sist |\n",
            "|      |   !important; } .btn { background-color: #18529D   | GillSansBold;        }        p {            font- |     stemasfei.uv.mx/aulaclase/GillSans/Gill\\\\      | emasfei.uv.mx/aulaclase/GillSans/Gill%20Sans.otf') |\n",
            "|      | !important; } .borderRed { --tw-border-opacity: 1; | family: GillSansRegular;        }        .custom-  |  Sans.otf');\\n        }\\n\\n        h1, h2, h4 {\\n  |  ;        }        h1, h2, h4 {            font-   |\n",
            "|      |  border-color: rgba(239, 68, 68, var(--tw-border-  |   button {            background-color: #28AD56    |     font-family: GillSansBold;\\n        }\\n\\n      |  family: GillSansBold;        }        p, label {  |\n",
            "|      |  opacity)); } .borderGreen { --tw-border-opacity:  |         !important;        }        .btn {         |          p, a {\\n            font-family:          |       font-family: GillSansRegular;        }       |\n",
            "|      |   1; border-color: rgba(16, 185, 129, var(--tw-    |   background-color: #18529D !important;        }   |  GillSansRegular;\\n        }\\n\\n        .custom-   |   .custom-button {            background-color:    |\n",
            "|      |    border-opacity)); } .imgLogin { width: 50%;     |  .borderRed {            --tw-border-opacity: 1;   |  button {\\n            background-color: #28AD56   |     #28AD56 !important;        }        .btn {     |\n",
            "|      |     height: 100%; position: fixed; } .pleca {      |  border-color: rgba(239, 68, 68, var(--tw-border-  |     !important;\\n        }\\n\\n        .btn {\\n     |   background-color: #18529D !important;        }   |\n",
            "|      | background: #0D47A1; color: #fff; font-size: 18px; |     opacity));        }        .borderGreen {      |      background-color: #18529D !important;\\n       |  .borderRed {            border-color: rgba(239,   |\n",
            "|      |  font-weight: normal; height: 2em; padding-right:  |  --tw-border-opacity: 1;            border-color:  |   }\\n\\n        .borderRed {\\n            border-   |     68, 68, 1);        }        .borderGreen {     |\n",
            "|      |  2em; padding-left: 2em; } .float-right { float:   |   rgba(16, 185, 129, var(--tw-border-opacity));    |    color: rgba(239, 68, 68, 1);\\n        }\\n\\n     |   border-color: rgba(16, 185, 129, 1);        }    |\n",
            "|      |    right!important; } a { color: #007bff; text-    |    }        .imgLogin {            width: 50%;     | .borderGreen {\\n            border-color: rgba(16, |  </style></head><body>    <div class=\\\"container   |\n",
            "|      |  decoration: none; background-color: transparent;  | height: 100%;            position: fixed;        } | 185, 129, 1);\\n        }\\n\\n        .imgLogin {\\n  |        mt-5\\\" style=\\\"max-width: 576px;\\\">         |\n",
            "|      |    -webkit-text-decoration-skip: objects; font-    |      .pleca {            background: #0D47A1;      |      width: 50%;\\n            height: 100%;\\n      |   <header>            <h1 class=\\\"h3 text-center   |\n",
            "|      | family: GillSansRegular; } #colImg { padding-left: |      color: #fff;            font-size: 18px;      | position: fixed;\\n        }\\n\\n        .pleca {\\n  |   text-success\\\">Sistema de Gestión de Claves y    |\n",
            "|      |  0; } img { vertical-align: middle; border-style:  |    font-weight: normal;            height: 2em;    |  background: #0D47A1;\\n            color: #fff;\\n  |   Préstamo de Equipo (SGCPE)</h1>            <h2   |\n",
            "|      |  none; } @media (min-width: 768px) { .col-md-6 {   | padding-right: 2em;            padding-left: 2em;  |    font-size: 18px;\\n            height: 2em;\\n    |  class=\\\"h5 text-center text-muted\\\">Facultad de   |\n",
            "|      | -ms-flex: 0 0 50%; flex: 0 0 50%; max-width: 50%;  |     }        .float-right {            float:      |   padding-right: 2em;\\n            padding-left:   |  Estadística e Informática</h2>        </header>   |\n",
            "|      | } .col-md-12 { -ms-flex: 0 0 100%; flex: 0 0 100%; |        right!important;        }        a {        |    2em;\\n        }\\n\\n        .float-right {\\n     | <main>            <form action=\\\"https://sistemasf |\n",
            "|      |  max-width: 100%; } } @media (max-width: 767px) {  | color: #007bff;            text-decoration: none;  |  float: right!important;\\n        }\\n\\n        a   |        ei.uv.mx/aulaclase/userSearch.php\\\"         |\n",
            "|      |  #colImg { display: none; } } @media (max-width:   | background-color: transparent;            -webkit- | {\\n            color: #007bff;\\n            text-  |  method=\\\"post\\\" id=\\\"form\\\">                <div  |\n",
            "|      | 767px) { .text { padding-left: 6.3rem !important;  |  text-decoration-skip: objects;            font-   |  decoration: none;\\n        }\\n\\n        #colImg   |            class=\\\"card mx-auto mt-3\\\">            |\n",
            "|      | } } .text { padding-left: 10.625rem; } .sr-only {  | family: GillSansRegular;        }        #colImg { |   {\\n            padding-left: 0;\\n        }\\n\\n   |            <div class=\\\"card-header\\\">             |\n",
            "|      |    position: absolute; width: 1px; height: 1px;    |       padding-left: 0;        }        img {       |    img {\\n            vertical-align: middle;\\n    |     Inicio de sesión                    </div>     |\n",
            "|      | padding: 0; margin: -1px; overflow: hidden; clip:  |  vertical-align: middle;            border-style:  |  border-style: none;\\n        }\\n\\n        .text   |             <div class=\\\"card-body\\\">              |\n",
            "|      |           rect(0, 0, 0, 0); border: 0; }           | none;        }        .text {            padding-  |     {\\n            padding-left: 10.625rem;\\n      |                <div class=\\\"mb-3\\\">                |\n",
            "|      |   </style></head><body> <div class=\\\"container-    | left: 10.625rem;        }    </style></head><body> |     }\\n\\n        @media (max-width: 767px) {\\n     |  <label for=\\\"user\\\" class=\\\"form-label\\\">Correo   |\n",
            "|      |   fluid\\\"> <div class=\\\"row\\\"> <div class=\\\"col-   |  <div class=\\\"container mt-5\\\" style=\\\"max-width:  |    #colImg {\\n                display: none;\\n     |               institucional:</label>               |\n",
            "|      |   md-6\\\" id=\\\"colImg\\\"> <div class=\\\"row\\\"> <div   |      576px;\\\">        <header>            <h1      | }\\n\\n            .text {\\n                padding- |  <input type=\\\"email\\\" name=\\\"user\\\" id=\\\"user\\\"   |\n",
            "|      | class=\\\"col-md-12\\\"> <img src=\\\"https://sistemasfe |  class=\\\"h3 text-center text-success\\\">Sistema de  |     left: 6.3rem !important;\\n            }\\n      |  class=\\\"form-control\\\" placeholder=\\\"Ingrese su   |\n",
            "|      |        i.uv.mx/aulaclase/image_login.jpg\\\"         |       Gestión de Claves y Préstamo de Equipo       |  }\\n    </style>\\n</head>\\n<body>\\n    <header>\\n  |     correo institucional\\\" aria-label=\\\"Correo     |\n",
            "|      |  class=\\\"imgLogin row\\\" alt=\\\"Imagen de inicio de  | (SGCPE)</h1>            <h2 class=\\\"h5 text-center |       <div class=\\\"pleca\\\">\\n            <a        |  institucional\\\" aria-describedby=\\\"emailHelp\\\">   |\n",
            "|      | sesión\\\"> </div> </div> </div> <div id=\\\"divIzq\\\"  |       text-muted\\\">Facultad de Estadística e       |             href=\\\"https://www.uv.mx\\\"             |  <div id=\\\"emailHelp\\\" class=\\\"form-text\\\">Ejem:   |\n",
            "|      |   class=\\\"col-sm-12 col-md-6\\\"> <div class=\\\"row   |  Informática</h2>        </header>        <main>   |        style=\\\"color:#ffffff;\\\">Universidad        | jhondoe@uv.mx</div>                        </div>  |\n",
            "|      |      float-right\\\"> <div class=\\\"pleca\\\"> <a       | <form action=\\\"https://sistemasfei.uv.mx/aulaclase |  Veracruzana</a>\\n        </div>\\n    </header>\\n  |                <div class=\\\"mb-3\\\">                |\n",
            "|      |             href=\\\"https://www.uv.mx\\\"             |   /userSearch.php\\\" method=\\\"post\\\" id=\\\"form\\\">   |   <main class=\\\"container-fluid\\\">\\n        <div   |       <label for=\\\"password\\\" class=\\\"form-        |\n",
            "|      | style=\\\"color:#ffffff;\\\" aria-label=\\\"Enlace a la  |         <div class=\\\"card mx-auto mt-3\\\">          |   class=\\\"row\\\">\\n            <div class=\\\"col-    |            label\\\">Contraseña:</label>             |\n",
            "|      |       Universidad Veracruzana\\\">Universidad        |            <div class=\\\"card-header\\\">             | md-6\\\" id=\\\"colImg\\\">\\n                <img src=\\\" |     <input type=\\\"password\\\" name=\\\"password\\\"     |\n",
            "|      | Veracruzana</a> </div> </div> <div style=\\\"width:  |     Inicio de sesión                    </div>     | https://sistemasfei.uv.mx/aulaclase/image_login.jp |       id=\\\"password\\\" class=\\\"form-control\\\"       |\n",
            "|      |    100%; height: 100%; display: table;\\\"> <div     |             <div class=\\\"card-body\\\">              |   g\\\" class=\\\"imgLogin\\\" alt=\\\"Login Image\\\">\\n    |    placeholder=\\\"Ingrese su contraseña\\\" aria-     |\n",
            "|      |    style=\\\"display: table-cell; vertical-align:    |                <div class=\\\"mb-3\\\">                |       </div>\\n            <div id=\\\"divIzq\\\"       |               label=\\\"Contraseña\\\">                |\n",
            "|      | middle;\\\" class=\\\"pt-4\\\"> <h1 class=\\\"text-center  |  <label for=\\\"user\\\" class=\\\"form-label\\\">Correo   |          class=\\\"col-sm-12 col-md-6\\\">\\n           |          </div>                    </div>          |\n",
            "|      | pt-4\\\" style=\\\"color:#18529D\\\">Sistema de Gestión  |               institucional:</label>               |  <div style=\\\"width: 100%; height: 100%; display:  |      <div class=\\\"card-footer text-center\\\">       |\n",
            "|      |  de Claves y Préstamo de Equipo (SGCPE)</h1> <h2   |  <input type=\\\"email\\\" name=\\\"user\\\" id=\\\"user\\\"   |        table;\\\">\\n                    <div         |      <button type=\\\"submit\\\" name=\\\"enviar\\\"       |\n",
            "|      |  class=\\\"text-center\\\">Facultad de Estadística e   |  class=\\\"form-control\\\" placeholder=\\\"Ingrese su   |    style=\\\"display: table-cell; vertical-align:    |  id=\\\"enviar\\\" class=\\\"btn btn-primary\\\">Iniciar   |\n",
            "|      | Informática</h2> <h2 class=\\\"text-center\\\">Inicio  |     correo institucional\\\" aria-label=\\\"Correo     |            middle;\\\" class=\\\"pt-4\\\">\\n             |     sesión</button>                    </div>      |\n",
            "|      | de sesión</h2> <form action=\\\"https://sistemasfei. |  institucional\\\" aria-describedby=\\\"emailHelp\\\">   |           <h1 class=\\\"text-center pt-4\\\"           | </div>            </form>        </main>    </div> |\n",
            "|      |  uv.mx/aulaclase/userSearch.php\\\" method=\\\"post\\\"  |  <div id=\\\"emailHelp\\\" class=\\\"form-text\\\">Ejem:   |   style=\\\"color:#18529D\\\">Sistema de Gestión de    | <script src=\\\"https://sistemasfei.uv.mx/aulaclase/ |\n",
            "|      |  id=\\\"form\\\" aria-labelledby=\\\"form-title\\\"> <div  | jhondoe@uv.mx</div>                        </div>  |     Claves y Préstamo de Equipo (SGCPE)</h1>\\n     | js/bootstrap.bundle.min.js\\\"></script>    <script  |\n",
            "|      | class=\\\"row justify-content-center\\\"> <div> <label |                <div class=\\\"mb-3\\\">                | <h2 class=\\\"text-center\\\">Facultad de Estadística  | src=\\\"https://cdn.jsdelivr.net/npm/sweetalert2@11\\ |\n",
            "|      |       for=\\\"user\\\" class=\\\"h-3 text\\\">Correo       |       <label for=\\\"password\\\" class=\\\"form-        |  e Informática</h2>\\n                        <h2   | \"></script>    <script src=\\\"https://sistemasfei.u |\n",
            "|      | institucional:</label> </div> <div class=\\\"input-  |            label\\\">Contraseña:</label>             |   class=\\\"text-center\\\">Inicio de sesión</h2>\\n    |   v.mx/aulaclase/js/jquery-3.7.0.js\\\"></script>    |\n",
            "|      |      group row\\\" style=\\\"width: 50%\\\"> <input      |     <input type=\\\"password\\\" name=\\\"password\\\"     | <form action=\\\"https://sistemasfei.uv.mx/aulaclase |   <script>        $(document).ready(function() {   |\n",
            "|      |      type=\\\"text\\\" name=\\\"user\\\" id=\\\"user\\\"       |       id=\\\"password\\\" class=\\\"form-control\\\"       |  /userSearch.php\\\" method=\\\"post\\\" id=\\\"form\\\">\\n  |     $(\\\"#enviar\\\").on(\\\"click\\\", function(e) {     |\n",
            "|      |  class=\\\"form-control\\\" placeholder=\\\"Ingrese su   |    placeholder=\\\"Ingrese su contraseña\\\" aria-     |    <div class=\\\"row justify-content-center\\\">\\n    |                e.preventDefault();                 |\n",
            "|      |     correo institucional\\\" aria-label=\\\"Correo     |               label=\\\"Contraseña\\\">                | <div>\\n                                    <label  |        validarFormulario();            });         |\n",
            "|      | institucional\\\" aria-describedby=\\\"basic-addon2\\\"> |          </div>                    </div>          |       for=\\\"user\\\" class=\\\"h-3 text\\\">Correo       |       $('#user').on(\\\"change\\\", function() {       |\n",
            "|      |    <p class=\\\"text-secondary sr-only\\\">Ejemplo:    |      <div class=\\\"card-footer text-center\\\">       |              institucional:</label>\\n              |  $(this).removeClass(\\\"borderGreen borderRed\\\");   |\n",
            "|      |       jhondoe@uv.mx</p> </div> <div> <label        |      <button type=\\\"submit\\\" name=\\\"enviar\\\"       |    </div>\\n                                <div    |    });            $('#password').on(\\\"change\\\",    |\n",
            "|      |            for=\\\"password\\\" class=\\\"h-3            |  id=\\\"enviar\\\" class=\\\"btn btn-primary\\\">Iniciar   | class=\\\"input-group row\\\" style=\\\"width: 50%\\\">\\n  |                    function() {                    |\n",
            "|      |       text\\\">Contraseña:</label> </div> <div       |     sesión</button>                    </div>      |   <input type=\\\"text\\\" name=\\\"user\\\" id=\\\"user\\\"   |  $(this).removeClass(\\\"borderGreen borderRed\\\");   |\n",
            "|      |  class=\\\"input-group mb-3\\\" style=\\\"width: 50%\\\">  | </div>            </form>        </main>    </div> |  class=\\\"form-control\\\" placeholder=\\\"Ingrese su   | });        });        function validarFormulario() |\n",
            "|      |     <input type=\\\"password\\\" name=\\\"password\\\"     | <script src=\\\"https://sistemasfei.uv.mx/aulaclase/ |     correo institucional\\\" aria-label=\\\"Correo     |    {            var usuario = $('#user').val();    |\n",
            "|      |       id=\\\"password\\\" class=\\\"form-control\\\"       | js/bootstrap.bundle.min.js\\\"></script>    <script  |     institucional\\\" aria-describedby=\\\"basic-      |         var clave = $('#password').val();          |\n",
            "|      |    placeholder=\\\"Ingrese su contraseña\\\" aria-     | src=\\\"https://cdn.jsdelivr.net/npm/sweetalert2@11\\ | addon2\\\">\\n                                    <p  |             if(usuario.length == 0) {              |\n",
            "|      |   label=\\\"Contraseña\\\" aria-describedby=\\\"basic-   | \"></script>    <script src=\\\"https://sistemasfei.u | class=\\\"text-secondary\\\">Ejem: jhondoe@uv.mx</p>\\n |   Swal.fire({                    icon: 'error',    |\n",
            "|      | addon2\\\"> </div> <div class=\\\"text-center pt-5\\\">  |   v.mx/aulaclase/js/jquery-3.7.0.js\\\"></script>    |  </div>\\n                                <div>\\n   |  html: '<p>Es necesario ingresar su correo/cuenta  |\n",
            "|      |      <button type=\\\"submit\\\" name=\\\"enviar\\\"       |   <script>        $(document).ready(function() {   |        <label for=\\\"password\\\" class=\\\"h-3         |                institucional.</p>',                |\n",
            "|      |  id=\\\"enviar\\\" class=\\\"btn btn-primary\\\">Iniciar   |     $(\\\"#enviar\\\").on(\\\"click\\\", function(e) {     |            text\\\">Contraseña:</label>\\n            |             showConfirmButton: false,              |\n",
            "|      |    sesión</button> </div> </div> </form> </div>    |                e.preventDefault();                 |    </div>\\n                                <div    |           timer: 3500                });           |\n",
            "|      | </div> </div> </div> </div> <script src=\\\"https:// |        validarFormulario();            });         | class=\\\"input-group mb-3\\\" style=\\\"width: 50%\\\">\\n |        $('#user').addClass(\\\"borderRed\\\");         |\n",
            "|      | sistemasfei.uv.mx/aulaclase/js/bootstrap.bundle.mi |       $('#user').on(\\\"change\\\", function() {       |     <input type=\\\"password\\\" name=\\\"password\\\"     |         return false;            } else {          |\n",
            "|      | n.js\\\"></script> <script src=\\\"https://cdn.jsdeliv |  $(this).removeClass(\\\"borderGreen borderRed\\\");   |       id=\\\"password\\\" class=\\\"form-control\\\"       | $('#user').addClass(\\\"borderGreen\\\");            } |\n",
            "|      | r.net/npm/sweetalert2@11\\\"></script> <script src=\\ |    });            $('#password').on(\\\"change\\\",    |    placeholder=\\\"Ingrese su contraseña\\\" aria-     |              if (clave.length == 0) {              |\n",
            "|      |  \"https://sistemasfei.uv.mx/aulaclase/js/jquery-   |                    function() {                    |   label=\\\"Contraseña\\\" aria-describedby=\\\"basic-   |   Swal.fire({                    icon: 'error',    |\n",
            "|      |           3.7.0.js\\\"></script> <script>            |  $(this).removeClass(\\\"borderGreen borderRed\\\");   |                    addon2\\\">\\n                     | html: '<p>Es necesario ingresar su password.</p>', |\n",
            "|      |           $(document).ready(function() {           | });        });        function validarFormulario() |    </div>\\n                                <div    |             showConfirmButton: false,              |\n",
            "|      |     $(\\\"#enviar\\\").on(\\\"click\\\", function(e) {     |    {            var usuario = $('#user').val();    |           class=\\\"text-center pt-5\\\">\\n            |           timer: 3500                });           |\n",
            "|      |    e.preventDefault(); validarFormulario(); })     |         var clave = $('#password').val();          |      <button type=\\\"submit\\\" name=\\\"enviar\\\"       |      $('#password').addClass(\\\"borderRed\\\");       |\n",
            "|      |       $('#user').on(\\\"change\\\", function() {       |             if(usuario.length == 0) {              |  id=\\\"enviar\\\" class=\\\"btn btn-primary\\\">Iniciar   |         return false;            } else {          |\n",
            "|      | $(this).removeClass(\\\"borderGreen borderRed\\\") }); |   Swal.fire({                    icon: 'error',    |                 sesión</button>\\n                  |     $('#password').addClass(\\\"borderGreen\\\");      |\n",
            "|      |     $('#password').on(\\\"change\\\", function() {     |  html: '<p>Es necesario ingresar su correo/cuenta  |    </div>\\n                            </div>\\n    |    }            $(\\\"#form\\\").submit();        }    |\n",
            "|      | $(this).removeClass(\\\"borderGreen borderRed\\\") }); |                institucional.</p>',                |       </form>\\n                    </div>\\n        |              </script></body></html>\"              |\n",
            "|      |  }); function validarFormulario() { var usuario =  |             showConfirmButton: false,              |    </div>\\n            </div>\\n        </div>\\n    |                         }                          |\n",
            "|      |           $('#user').val(); var clave =            |           timer: 3500                });           | </main>\\n    <footer>\\n        <script src=\\\"https |                                                    |\n",
            "|      |  $('#password').val(); if(usuario.length == 0) {   |        $('#user').addClass(\\\"borderRed\\\");         | ://sistemasfei.uv.mx/aulaclase/js/bootstrap.bundle |                                                    |\n",
            "|      | Swal.fire({ icon: 'error', html: '<p>Es necesario  |         return false;            } else {          | .min.js\\\"></script>\\n        <script src=\\\"https:/ |                                                    |\n",
            "|      |   ingresar su correo/cuenta institucional.</p>',   | $('#user').addClass(\\\"borderGreen\\\");            } | /cdn.jsdelivr.net/npm/sweetalert2@11\\\"></script>\\n |                                                    |\n",
            "|      |     showConfirmButton: false, timer: 3500 });      |              if (clave.length == 0) {              | <script src=\\\"https://sistemasfei.uv.mx/aulaclase/ |                                                    |\n",
            "|      | $('#user').addClass(\\\"borderRed\\\"); return false;  |   Swal.fire({                    icon: 'error',    | js/jquery-3.7.0.js\\\"></script>\\n        <script>\\n |                                                    |\n",
            "|      |  } else { $('#user').addClass(\\\"borderGreen\\\"); }  | html: '<p>Es necesario ingresar su password.</p>', |          $(document).ready(function() {\\n          |                                                    |\n",
            "|      |     if (clave.length == 0) { Swal.fire({ icon:     |             showConfirmButton: false,              |    $(\\\"#enviar\\\").on(\\\"click\\\", function(e) {\\n    |                                                    |\n",
            "|      |    'error', html: '<p>Es necesario ingresar su     |           timer: 3500                });           |               e.preventDefault();\\n                |                                                    |\n",
            "|      |  password.</p>', showConfirmButton: false, timer:  |      $('#password').addClass(\\\"borderRed\\\");       |   validarFormulario();\\n                });\\n\\n    |                                                    |\n",
            "|      |  3500 }); $('#password').addClass(\\\"borderRed\\\");  |         return false;            } else {          |      $('#user').on(\\\"change\\\", function() {\\n      |                                                    |\n",
            "|      |               return false; } else {               |     $('#password').addClass(\\\"borderGreen\\\");      |  $(this).removeClass(\\\"borderGreen borderRed\\\")\\n  |                                                    |\n",
            "|      |    $('#password').addClass(\\\"borderGreen\\\"); }     |    }            $(\\\"#form\\\").submit();        }    |                      });\\n\\n                       |                                                    |\n",
            "|      | $(\\\"#form\\\").submit(); } </script></body></html>\"} |             </script></body></html>\"}              |    $('#password').on(\\\"change\\\", function() {\\n    |                                                    |\n",
            "|      |                                                    |                                                    |  $(this).removeClass(\\\"borderGreen borderRed\\\")\\n  |                                                    |\n",
            "|      |                                                    |                                                    |    });\\n            });\\n\\n            function    |                                                    |\n",
            "|      |                                                    |                                                    | validarFormulario() {\\n                var usuario |                                                    |\n",
            "|      |                                                    |                                                    |  = $('#user').val();\\n                var clave =  |                                                    |\n",
            "|      |                                                    |                                                    |              $('#password').val();\\n               |                                                    |\n",
            "|      |                                                    |                                                    |            if(usuario.length == 0) {\\n             |                                                    |\n",
            "|      |                                                    |                                                    |     Swal.fire({\\n                        icon:     |                                                    |\n",
            "|      |                                                    |                                                    |   'error',\\n                        html: '<p>Es   |                                                    |\n",
            "|      |                                                    |                                                    |        necesario ingresar su correo/cuenta         |                                                    |\n",
            "|      |                                                    |                                                    |               institucional.</p>',\\n               |                                                    |\n",
            "|      |                                                    |                                                    |            showConfirmButton: false,\\n             |                                                    |\n",
            "|      |                                                    |                                                    |       timer: 3500\\n                    });\\n       |                                                    |\n",
            "|      |                                                    |                                                    |       $('#user').addClass(\\\"borderRed\\\");\\n        |                                                    |\n",
            "|      |                                                    |                                                    |     return false;\\n                } else {\\n      |                                                    |\n",
            "|      |                                                    |                                                    |      $('#user').addClass(\\\"borderGreen\\\");\\n       |                                                    |\n",
            "|      |                                                    |                                                    |   }\\n                if (clave.length == 0) {\\n    |                                                    |\n",
            "|      |                                                    |                                                    |     Swal.fire({\\n                        icon:     |                                                    |\n",
            "|      |                                                    |                                                    |   'error',\\n                        html: '<p>Es   |                                                    |\n",
            "|      |                                                    |                                                    |      necesario ingresar su password.</p>',\\n       |                                                    |\n",
            "|      |                                                    |                                                    |            showConfirmButton: false,\\n             |                                                    |\n",
            "|      |                                                    |                                                    |       timer: 3500\\n                    });\\n       |                                                    |\n",
            "|      |                                                    |                                                    |     $('#password').addClass(\\\"borderRed\\\");\\n      |                                                    |\n",
            "|      |                                                    |                                                    |     return false;\\n                } else {\\n      |                                                    |\n",
            "|      |                                                    |                                                    |    $('#password').addClass(\\\"borderGreen\\\");\\n     |                                                    |\n",
            "|      |                                                    |                                                    |    }\\n                $(\\\"#form\\\").submit();\\n     |                                                    |\n",
            "|      |                                                    |                                                    |               }\\n        </script>\\n               |                                                    |\n",
            "|      |                                                    |                                                    |           </footer>\\n</body>\\n</html>\"}            |                                                    |\n",
            "+------+----------------------------------------------------+----------------------------------------------------+----------------------------------------------------+----------------------------------------------------+\n"
          ]
        }
      ],
      "source": [
        "extracted_json_html, extracted_json_html_template, extracted_json_md, extracted_json_md_template = display_extracted_content(\"gpt-4o\", all_content_html, all_content_md, \"Crawl4ai\", \"Form\", \"form\")"
      ]
    },
    {
      "cell_type": "code",
      "execution_count": 55,
      "metadata": {},
      "outputs": [],
      "source": [
        "generate_output_files(\"gpt-form\", extracted_json_html, extracted_json_html_template, extracted_json_md, extracted_json_md_template)"
      ]
    },
    {
      "cell_type": "markdown",
      "metadata": {},
      "source": [
        "## Google Gemini form\n",
        "\n",
        "Revisemos el resultado que produce este modelo."
      ]
    },
    {
      "cell_type": "code",
      "execution_count": 58,
      "metadata": {},
      "outputs": [
        {
          "data": {
            "application/vnd.jupyter.widget-view+json": {
              "model_id": "932ca66b90f440edb677b5f9df9c6eae",
              "version_major": 2,
              "version_minor": 0
            },
            "text/plain": [
              "Processing results:   0%|          | 0/2 [00:00<?, ?it/s]"
            ]
          },
          "metadata": {},
          "output_type": "display_data"
        },
        {
          "data": {
            "application/vnd.jupyter.widget-view+json": {
              "model_id": "b1852f41d885447fa82f95963b72827e",
              "version_major": 2,
              "version_minor": 0
            },
            "text/plain": [
              "Extracting content with Crawl4ai for HTML input:   0%|          | 0/1 [00:00<?, ?it/s]"
            ]
          },
          "metadata": {},
          "output_type": "display_data"
        },
        {
          "data": {
            "application/vnd.jupyter.widget-view+json": {
              "model_id": "d9b6e5bb593443faab007bb52af09d57",
              "version_major": 2,
              "version_minor": 0
            },
            "text/plain": [
              "Extracting content with Crawl4ai for HTML input and template:   0%|          | 0/1 [00:00<?, ?it/s]"
            ]
          },
          "metadata": {},
          "output_type": "display_data"
        },
        {
          "data": {
            "application/vnd.jupyter.widget-view+json": {
              "model_id": "9842f9ed2e584c7e98aeb47124747cde",
              "version_major": 2,
              "version_minor": 0
            },
            "text/plain": [
              "Extracting content with Crawl4ai for Markdown input:   0%|          | 0/1 [00:00<?, ?it/s]"
            ]
          },
          "metadata": {},
          "output_type": "display_data"
        },
        {
          "data": {
            "application/vnd.jupyter.widget-view+json": {
              "model_id": "6c61b3347dd34bc08ae2438216efa619",
              "version_major": 2,
              "version_minor": 0
            },
            "text/plain": [
              "Extracting content with Crawl4ai for Markdown input and template:   0%|          | 0/1 [00:00<?, ?it/s]"
            ]
          },
          "metadata": {},
          "output_type": "display_data"
        },
        {
          "name": "stdout",
          "output_type": "stream",
          "text": [
            "Extracted Content Table:\n",
            "+------+----------------------------------------------------+----------------------------------------------------+----------------------------------------------------+----------------------------------------------------+\n",
            "| Site |                     From HTML                      |              From HTML with template               |                   From markdown                    |            From markdown with template             |\n",
            "+------+----------------------------------------------------+----------------------------------------------------+----------------------------------------------------+----------------------------------------------------+\n",
            "| Form |              Completion tokens: 3,164              |              Completion tokens: 2,378              |              Completion tokens: 3,618              |              Completion tokens: 2,069              |\n",
            "|      |               Prompt tokens: 12,720                |               Prompt tokens: 13,569                |               Prompt tokens: 12,773                |               Prompt tokens: 13,564                |\n",
            "|      |               Total cost: $0.039710                |               Total cost: $0.039868                |               Total cost: $0.040978                |               Total cost: $0.039083                |\n",
            "|      |                                                    |                                                    |                                                    |                                                    |\n",
            "|      |                                                    |                                                    |                                                    |                                                    |\n",
            "|      |                         {                          |                         {                          |                         {                          |                         {                          |\n",
            "|      |   \"Procedure\": \"1.  Added the `lang` attribute to  |    \"Procedure\": \"1.  Set the language of the HTML  |    \"Procedure\": \"1.  Detected the language of the  |    \"Procedure\": \"1.  Set the language of the HTML  |\n",
            "|      |  the `html` tag, setting it to \\\"en\\\" as the page  |   document to Spanish (`es`) instead of English    | HTML code is English and added the lang attribute  | document to Spanish (es).\\n2.  Added a descriptive |\n",
            "|      |    content is in English.\\n2.  Added a skip to     |   (`en`).\\n2.  Added a skip to content link for    | to the html tag.\\n2.  Added a skip to content link |  title to the page.\\n3.  Included a viewport meta  |\n",
            "|      |   content link for keyboard users.\\n3.  Replaced   |  keyboard users.\\n3.  Replaced relative URLs for   | for keyboard users.\\n3.  Added a main landmark to  |     tag for responsive design.\\n4.  Linked to      |\n",
            "|      | `div` elements used for layout with semantic HTML5 |   CSS, JavaScript, and image files with absolute   | the content.\\n4.  Used semantic HTML elements.\\n5. | Bootstrap CSS for styling.\\n5.  Added a container  |\n",
            "|      | elements like `<main>`, `<aside>`, and `<nav>` to  | URLs based on the provided root URL.\\n4.  Inlined  |   Corrected heading levels starting from h1.\\n6.   |   for the main content with a maximum width.\\n6.   |\n",
            "|      |   improve structure and navigation.\\n4.  Ensured   |  CSS styles from the `<style>` tags into a single  | Added alt text to the image.\\n7.  Added aria-label |  Created a header with a main heading (h1) and a   |\n",
            "|      | proper heading hierarchy, starting with `<h1>` for |    `<style>` block in the `<head>` section.\\n5.    |  to the form elements.\\n8.  Added a label to the   |    subheading (h2), using appropriate Bootstrap    |\n",
            "|      |   the main title and using `<h2>` and `<h3>` for   | Added a `sr-only` class to hide elements visually  |     input elements.\\n9.  Added a title to the      |    classes for styling and text alignment.\\n7.     |\n",
            "|      | subsequent sections.\\n5.  Added `alt` text to the  |      while keeping them accessible to screen       |    iframe.\\n10. Added a role to the navigation     | Implemented a login form within a card layout.\\n8. |\n",
            "|      |    `<img>` tag to describe the image.\\n6.  Used    |   readers.\\n6.  Replaced `div` elements used for   |   element.\\n11. Added a sr-only rule to hide the   |    Added labels to the email and password input    |\n",
            "|      |   `<label>` elements with the `for` attribute to   | layout with semantic HTML5 elements like `<main>`, | elements.\\n12. Added the style rules inline in the |   fields, associating them with their respective   |\n",
            "|      | associate labels with form input fields, improving |  `<aside>`, and `<footer>` where appropriate.\\n7.  | head section.\\n13. Corrected the color contrast of |    inputs using the 'for' attribute.\\n9.  Used     |\n",
            "|      | accessibility for screen reader users.\\n7.  Added  | Ensured a logical heading structure, starting with | the text and background.\\n14. Replaced deprecated  |  Bootstrap form classes for consistent styling of  |\n",
            "|      | `title` attributes to the input fields to provide  |   `<h1>` and proceeding in descending order.\\n8.   |  HTML tags with CSS styles.\\n15. Added a title to  |  form elements.\\n10. Added a helper text for the   |\n",
            "|      | additional context and instructions.\\n8.  Ensured  | Added `alt` attributes to `<img>` tags to provide  |   the page.\\n16. Added a meta description to the   |      email input field to provide additional       |\n",
            "|      |     sufficient color contrast between text and     |   alternative text descriptions for images.\\n9.    | page.\\n17. Added a meta keywords to the page.\\n18. |   information.\\n11. Included a login button with   |\n",
            "|      |  background colors to meet WCAG AA standards.\\n9.  | Added `aria-label` attributes to form elements and | Added a meta author to the page.\\n19. Added a meta | Bootstrap styling.\\n12. Ensured that all text has  |\n",
            "|      |    Added `aria-describedby` attributes to input    |  buttons to provide descriptive labels for screen  | robots to the page.\\n20. Added a meta viewport to  |  sufficient contrast against its background.\\n13.  |\n",
            "|      |     fields to link them with descriptive text,     |  readers.\\n10. Used `<label>` elements correctly   |                    the page.\",                     |  Added ARIA attributes where necessary to improve  |\n",
            "|      | providing additional context for users.\\n10. Added | associated with form input fields using the `for`  |           \"HTML\": \"<!DOCTYPE html>\\n<html          |  accessibility for screen readers.\\n14. Replaced   |\n",
            "|      |    `tabindex=\\\"0\\\"` to the main content area to    | attribute.\\n11. Ensured sufficient color contrast  |          lang=\\\"en\\\">\\n<head>\\n    <meta           | generic div elements with semantic HTML5 elements  |\n",
            "|      | ensure it can receive focus programmatically.\\n11. |  between text and background colors to meet WCAG   |  charset=\\\"UTF-8\\\">\\n    <meta name=\\\"viewport\\\"   |  like <header>, <main>, and <form> to improve the  |\n",
            "|      |  Added a `sr-only` class (visually hidden) to the  |  requirements.\\n12. Added `tabindex=\\\"0\\\"` to the  |       content=\\\"width=device-width, initial-       | structure and accessibility of the document.\\n15.  |\n",
            "|      |  labels to make them accessible to screen readers  |  main content area to ensure it can receive focus  |    scale=1.0\\\">\\n    <meta name=\\\"description\\\"    |    Ensured that the form elements are properly     |\n",
            "|      |     but not visible on the page.\\n12. Added a      |  programmatically.\\n13. Added a wrapper div with   |      content=\\\"Inicio de sesión\\\">\\n    <meta      |  labeled and associated with their corresponding   |\n",
            "|      |        `role=\\\"banner\\\"` to the header and         |     `role=\\\"region\\\"` and an `aria-labelledby`     | name=\\\"keywords\\\" content=\\\"login, SGCPE, Facultad |   input fields.\\n16. Checked and corrected color   |\n",
            "|      |  `role=\\\"contentinfo\\\"` to the footer for better   |  attribute to provide a meaningful label for the   |   de Estadística e Informática, UV\\\">\\n    <meta   |  contrast to meet WCAG AA standards.\\n17. Added a  |\n",
            "|      |  ARIA support.\\n13. Replaced the custom CSS rules  | login form section.\\n14. Added a `lang` attribute  | name=\\\"author\\\" content=\\\"Your Name\\\">\\n    <meta  |  main heading (h1) to provide a clear page title   |\n",
            "|      |    with inline styles in the head section.\\n14.    |  to the `html` tag.\\n15. Added a `main` tag with   |    name=\\\"robots\\\" content=\\\"index, follow\\\">\\n    |   for screen reader users.\\n18. Ensured that the   |\n",
            "|      |   Updated relative URLs for CSS, JavaScript, and   |  `tabindex=\\\"-1\\\"` to ensure it can receive focus  |   <title>Inicio de sesión</title>\\n    <style>\\n   | focus order is logical and intuitive.\\n19. Tested  |\n",
            "|      | image files to absolute URLs based on the provided | programmatically.\\n16. Added a `sr-only` class to  |   body {\\n            font-family: sans-serif;\\n   |      the page with a screen reader to verify       |\n",
            "|      |  root URL.\\n15. Added a main landmark to the form  |   hide the label of the image.\\n17. Removed the    |       margin: 0;\\n            padding: 0;\\n        |      accessibility.\\n20. Added a link to the       |\n",
            "|      |     section.\\n16. Added a `width` and `height`     |     original javascript code and added the no      |   background-color: #f4f4f4;\\n            color:   | Universidad Veracruzana with appropriate contrast  |\n",
            "|      |       attributes to the image.\\n17. Added a        | javascript message.\\n18. Added a `noscript` tag to |       #333;\\n            line-height: 1.6;\\n       |           and accessibility features.\",            |\n",
            "|      | `autocomplete` attribute to the input fields.\\n18. |    display a message to users who have disabled    |   }\\n\\n        .sr-only {\\n            position:   |           \"HTML\": \"<!DOCTYPE html>\\n<html          |\n",
            "|      |     Added a `required` attribute to the input      | JavaScript in their browsers.\\n19. Added a `title` |        absolute;\\n            width: 1px;\\n        |          lang=\\\"es\\\">\\n<head>\\n    <meta           |\n",
            "|      | fields.\\n19. Added a `type=\\\"email\\\"` to the email |      attribute to the Universidad Veracruzana      |      height: 1px;\\n            padding: 0;\\n       |  charset=\\\"UTF-8\\\">\\n    <meta name=\\\"viewport\\\"   |\n",
            "|      |  input field.\\n20. Added a `novalidate` attribute  |     link.\\n20. Added a `role=\\\"alert\\\"` to the     |   margin: -1px;\\n            overflow: hidden;\\n   | content=\\\"width=device-width, initial-scale=1\\\">\\n |\n",
            "|      | to the form to prevent the browser from validating |              sweetalert2 container.\",              | clip: rect(0, 0, 0, 0);\\n            border: 0;\\n  | <title>Inicio de sesión - SGCPE</title>\\n    <link |\n",
            "|      |  the form before the JavaScript validation.\\n21.   |           \"HTML\": \"<!DOCTYPE html>\\n<html          |         }\\n\\n        .container-fluid {\\n          | href=\\\"https://cdn.jsdelivr.net/npm/bootstrap@5.3. |\n",
            "|      |    Added a `aria-live=\\\"polite\\\"` to the error     |          lang=\\\"es\\\">\\n<head>\\n    <meta           |  width: 100%;\\n            padding-right: 15px;\\n  |           3/dist/css/bootstrap.min.css\\\"           |\n",
            "|      | messages to announce them to screen readers.\\n22.  |  charset=\\\"UTF-8\\\">\\n    <meta http-equiv=\\\"X-UA-  |   padding-left: 15px;\\n            margin-right:   |  rel=\\\"stylesheet\\\">\\n    <style>\\n        @font-  |\n",
            "|      |    Added a `aria-atomic=\\\"true\\\"` to the error     |    Compatible\\\" content=\\\"IE=edge\\\">\\n    <meta    |      auto;\\n            margin-left: auto;\\n       |  face {\\n            font-family: GillSansBold;\\n  |\n",
            "|      | messages to announce the entire message to screen  |  name=\\\"viewport\\\" content=\\\"width=device-width,   |   }\\n\\n        .row {\\n            display: -ms-   | src: url(https://sistemasfei.uv.mx/aulaclase/GillS |\n",
            "|      |  readers.\\n23. Added a `aria-relevant=\\\"additions  |     initial-scale=1.0\\\">\\n    <title>Inicio de     |       flexbox;\\n            display: flex;\\n       |    ans/Gill\\\\ Sans\\\\ Bold.otf);\\n        }\\n\\n     |\n",
            "|      |   text\\\"` to the error messages to announce the    | sesión</title>\\n    <link href=\\\"https://cdn.jsdel |    -ms-flex-wrap: wrap;\\n            flex-wrap:    |       @font-face {\\n            font-family:       |\n",
            "|      |   changes to screen readers.\\n24. Added a `aria-   | ivr.net/npm/bootstrap@5.3.3/dist/css/bootstrap.min |     wrap;\\n            margin-right: -15px;\\n      | GillSansRegular;\\n            src: url(https://sis |\n",
            "|      |  invalid=\\\"true\\\"` to the input fields when they   |     .css\\\" rel=\\\"stylesheet\\\">\\n    <style>\\n      |  margin-left: -15px;\\n        }\\n\\n        .col-   |      temasfei.uv.mx/aulaclase/GillSans/Gill\\\\      |\n",
            "|      |  are invalid.\\n25. Added a `aria-describedby` to   |       @font-face {\\n            font-family:       |     md-6 {\\n            position: relative;\\n      |  Sans.otf);\\n        }\\n\\n        h1, h2, h3, h4   |\n",
            "|      |    the input fields to link them with the error    | GillSansBold;\\n            src: url(https://sistem |    width: 100%;\\n            min-height: 1px;\\n    |    {\\n            font-family: GillSansBold;\\n     |\n",
            "|      | messages.\\n26. Added a `aria-errormessage` to the  |    asfei.uv.mx/aulaclase/GillSans/Gill\\\\ Sans\\\\    |  padding-right: 15px;\\n            padding-left:   |   }\\n\\n        p, a {\\n            font-family:    |\n",
            "|      |      input fields to link them with the error      |  Bold.otf);\\n        }\\n\\n        @font-face {\\n   |   15px;\\n        }\\n\\n        @media (min-width:   |  GillSansRegular;\\n        }\\n\\n        .custom-   |\n",
            "|      |                    messages.\",                     | font-family: GillSansRegular;\\n            src: ur |        768px) {\\n            .col-md-6 {\\n         |  button {\\n            background-color: #28AD56   |\n",
            "|      |           \"HTML\": \"<!DOCTYPE html>\\n<html          | l(https://sistemasfei.uv.mx/aulaclase/GillSans/Gil |   -ms-flex: 0 0 50%;\\n                flex: 0 0    |     !important;\\n        }\\n\\n        .btn {\\n     |\n",
            "|      |          lang=\\\"en\\\">\\n<head>\\n    <meta           |     l\\\\ Sans.otf);\\n        }\\n\\n        h2,\\n     |      50%;\\n                max-width: 50%;\\n       |      background-color: #18529D !important;\\n       |\n",
            "|      |  charset=\\\"UTF-8\\\">\\n    <meta http-equiv=\\\"X-UA-  |   h4 {\\n            font-family: GillSansBold;\\n   |       }\\n        }\\n\\n        .col-md-12 {\\n       |      color: white !important;\\n        }\\n\\n       |\n",
            "|      |    Compatible\\\" content=\\\"IE=edge\\\">\\n    <meta    |     }\\n\\n        p {\\n            font-family:     |  position: relative;\\n            width: 100%;\\n   |   .borderRed {\\n            --tw-border-opacity:   |\n",
            "|      |  name=\\\"viewport\\\" content=\\\"width=device-width,   | GillSansRegular;\\n        }\\n\\n        @media only |    min-height: 1px;\\n            padding-right:    |  1;\\n            border-color: rgba(239, 68, 68,   |\n",
            "|      |     initial-scale=1.0\\\">\\n    <title>Inicio de     | screen and (max-width: 576px) {\\n            .form |      15px;\\n            padding-left: 15px;\\n      |     var(--tw-border-opacity));\\n        }\\n\\n      |\n",
            "|      |  sesión</title>\\n    <style>\\n        @font-face   |      {\\n                padding-top: 10rem;\\n      |     }\\n\\n        @media (min-width: 768px) {\\n     |  .borderGreen {\\n            --tw-border-opacity:  |\n",
            "|      |    {\\n            font-family: GillSansBold;\\n     |     }\\n        }\\n\\n        .custom-button {\\n     |    .col-md-12 {\\n                -ms-flex: 0 0     |  1;\\n            border-color: rgba(16, 185, 129,  |\n",
            "|      | src: url(https://sistemasfei.uv.mx/aulaclase/GillS |      background-color: #28AD56 !important;\\n       |      100%;\\n                flex: 0 0 100%;\\n      |     var(--tw-border-opacity));\\n        }\\n\\n      |\n",
            "|      |    ans/Gill\\\\ Sans\\\\ Bold.otf);\\n        }\\n\\n     | }\\n\\n        .btn {\\n            background-color: |   max-width: 100%;\\n            }\\n        }\\n\\n   |      .imgLogin {\\n            width: 100%;\\n       |\n",
            "|      |       @font-face {\\n            font-family:       |         #18529D !important;\\n        }\\n\\n         |     #colImg {\\n            padding-left: 0;\\n      |  height: auto;\\n            max-height: 500px;\\n   |\n",
            "|      | GillSansRegular;\\n            src: url(https://sis |   .borderRed {\\n            --tw-border-opacity:   |  }\\n\\n        img {\\n            vertical-align:   |   display: block;\\n            margin: 0 auto;\\n   |\n",
            "|      |      temasfei.uv.mx/aulaclase/GillSans/Gill\\\\      |  1;\\n            border-color: rgba(239, 68, 68,   |     middle;\\n            border-style: none;\\n     |   }\\n\\n        .pleca {\\n            background:   |\n",
            "|      |  Sans.otf);\\n        }\\n\\n        h2,\\n        h4  |     var(--tw-border-opacity));\\n        }\\n\\n      |    }\\n\\n        .imgLogin {\\n            width:    |        #0D47A1;\\n            color: #fff;\\n        |\n",
            "|      |    {\\n            font-family: GillSansBold;\\n     |  .borderGreen {\\n            --tw-border-opacity:  |         50%;\\n            height: 100%;\\n          |     font-size: 18px;\\n            font-weight:     |\n",
            "|      |     }\\n\\n        p {\\n            font-family:     |  1;\\n            border-color: rgba(16, 185, 129,  |  position: fixed;\\n            object-fit: cover;  |        normal;\\n            height: 2em;\\n         |\n",
            "|      | GillSansRegular;\\n        }\\n\\n        @media only |     var(--tw-border-opacity));\\n        }\\n\\n      |      /* Ensure the image covers the area */\\n      |   padding-right: 2em;\\n            padding-left:   |\n",
            "|      | screen and (max-width: 576px) {\\n            .form |       .imgLogin {\\n            width: 50%;\\n       |   }\\n\\n        .pleca {\\n            background:   | 2em;\\n            line-height: 2em;\\n        }\\n\\n |\n",
            "|      |      {\\n                padding-top: 10rem;\\n      |   height: 100%;\\n            position: fixed;\\n    |        #0D47A1;\\n            color: #fff;\\n        |      .float-right {\\n            float: right      |\n",
            "|      |     }\\n        }\\n\\n        .custom-button {\\n     |   }\\n\\n        .pleca {\\n            background:   |     font-size: 18px;\\n            font-weight:     |      !important;\\n        }\\n\\n        a {\\n       |\n",
            "|      |      background-color: #28AD56 !important;\\n       |        #0D47A1;\\n            color: #fff;\\n        |        normal;\\n            height: 2em;\\n         |   color: #007bff;\\n            text-decoration:    |\n",
            "|      | }\\n\\n        .btn {\\n            background-color: |     font-size: 18px;\\n            font-weight:     |   padding-right: 2em;\\n            padding-left:   |        none;\\n            background-color:        |\n",
            "|      |         #18529D !important;\\n        }\\n\\n         |        normal;\\n            height: 2em;\\n         |    2em;\\n        }\\n\\n        .float-right {\\n     | transparent;\\n            -webkit-text-decoration- |\n",
            "|      |   .borderRed {\\n            --tw-border-opacity:   |   padding-right: 2em;\\n            padding-left:   |  float: right!important;\\n        }\\n\\n        a   |   skip: objects;\\n        }\\n\\n        .text {\\n   |\n",
            "|      |  1;\\n            border-color: rgba(239, 68, 68,   |    2em;\\n        }\\n\\n        .float-right {\\n     | {\\n            color: #007bff;\\n            text-  | margin-bottom: 0.5rem;\\n        }\\n\\n        .sr-  |\n",
            "|      |     var(--tw-border-opacity));\\n        }\\n\\n      |  float: right !important;\\n        }\\n\\n        a  |  decoration: none;\\n            background-color:  |     only {\\n            position: absolute;\\n      |\n",
            "|      |  .borderGreen {\\n            --tw-border-opacity:  | {\\n            color: #007bff;\\n            text-  | transparent;\\n            -webkit-text-decoration- |      width: 1px;\\n            height: 1px;\\n       |\n",
            "|      |  1;\\n            border-color: rgba(16, 185, 129,  |  decoration: none;\\n            background-color:  | skip: objects;\\n        }\\n\\n        @media (max-  |      padding: 0;\\n            margin: -1px;\\n      |\n",
            "|      |     var(--tw-border-opacity));\\n        }\\n\\n      | transparent;\\n            -webkit-text-decoration- |      width: 767px) {\\n            #colImg {\\n      | overflow: hidden;\\n            clip: rect(0, 0, 0, |\n",
            "|      |       .imgLogin {\\n            width: 50%;\\n       |      skip: objects;\\n            font-family:      |    display: none;\\n            }\\n        }\\n\\n    |      0);\\n            border: 0;\\n        }\\n      |\n",
            "|      |   height: 100%;\\n            position: fixed;\\n    | GillSansRegular;\\n        }\\n\\n        #colImg {\\n |      #divIzq {\\n            padding: 20px;\\n       |        </style>\\n</head>\\n<body>\\n    <div         |\n",
            "|      |   }\\n\\n        .pleca {\\n            background:   |   padding-left: 0;\\n        }\\n\\n        img {\\n   |  }\\n\\n        h1 {\\n            font-size: 2em;\\n  |     class=\\\"container mt-5\\\">\\n        <header     |\n",
            "|      |        #0D47A1;\\n            color: #fff;\\n        | vertical-align: middle;\\n            border-style: |     margin-bottom: 0.5em;\\n            color:      |  class=\\\"mb-4\\\">\\n            <div class=\\\"pleca   |\n",
            "|      |     font-size: 18px;\\n            font-weight:     |   none;\\n        }\\n\\n        @media (min-width:   |    #18529D;\\n            text-align: center;\\n     |         float-right\\\">\\n                <a         |\n",
            "|      |        normal;\\n            height: 2em;\\n         |        768px) {\\n            .col-md-6 {\\n         | }\\n\\n        h2 {\\n            font-size: 1.5em;\\n |             href=\\\"https://www.uv.mx\\\"             |\n",
            "|      |   padding-right: 2em;\\n            padding-left:   |   -ms-flex: 0 0 50%;\\n                flex: 0 0    |     margin-bottom: 0.5em;\\n            color:      |        style=\\\"color:#ffffff;\\\">Universidad        |\n",
            "|      |    2em;\\n        }\\n\\n        .float-right {\\n     |      50%;\\n                max-width: 50%;\\n       |    #18529D;\\n            text-align: center;\\n     |       Veracruzana</a>\\n            </div>\\n        |\n",
            "|      |  float: right !important;\\n        }\\n\\n        a  |          }\\n\\n            .col-md-12 {\\n           |  }\\n\\n        .form-group {\\n            margin-   | <h1 class=\\\"h3 text-center text-primary\\\">Sistema  |\n",
            "|      | {\\n            color: #007bff;\\n            text-  |   -ms-flex: 0 0 100%;\\n                flex: 0 0   |    bottom: 1em;\\n        }\\n\\n        label {\\n    |     de Gestión de Claves y Préstamo de Equipo      |\n",
            "|      |  decoration: none;\\n            background-color:  |     100%;\\n                max-width: 100%;\\n      |    display: block;\\n            margin-bottom:     |   (SGCPE)</h1>\\n            <h2 class=\\\"h5 text-   |\n",
            "|      | transparent;\\n            -webkit-text-decoration- | }\\n        }\\n\\n        @media (max-width: 767px)  |      0.5em;\\n            font-weight: bold;\\n      | center text-secondary\\\">Facultad de Estadística e  |\n",
            "|      |      skip: objects;\\n            font-family:      | {\\n            #colImg {\\n                display: |        }\\n\\n        input[type=\\\"text\\\"],\\n        |       Informática</h2>\\n        </header>\\n        |\n",
            "|      | GillSansRegular;\\n        }\\n\\n        #colImg {\\n | none;\\n            }\\n        }\\n\\n        @media  |   input[type=\\\"password\\\"] {\\n            width:   |     <main>\\n            <div class=\\\"row\\\">\\n      |\n",
            "|      |   padding-left: 0;\\n        }\\n\\n        img {\\n   |    (max-width: 767px) {\\n            .text {\\n     |        100%;\\n            padding: 0.5em;\\n        | <div class=\\\"col-md-6\\\">\\n                    <img |\n",
            "|      | vertical-align: middle;\\n            border-style: | padding-left: 6.3rem !important;\\n            }\\n  |    border: 1px solid #ccc;\\n            border-    | src=\\\"https://sistemasfei.uv.mx/aulaclase/image_lo |\n",
            "|      |   none;\\n        }\\n\\n        @media (min-width:   |  }\\n\\n        .text {\\n            padding-left:   |   radius: 4px;\\n            box-sizing: border-    |     gin.jpg\\\" class=\\\"imgLogin\\\" alt=\\\"Imagen      |\n",
            "|      |        768px) {\\n            .col-md-6 {\\n         |   10.625rem;\\n        }\\n\\n        .sr-only {\\n    |      box;\\n            margin-top: 0.25em;\\n       |      representativa del inicio de sesión\\\">\\n      |\n",
            "|      |   -ms-flex: 0 0 50%;\\n                flex: 0 0    |   position: absolute;\\n            width: 1px;\\n   | }\\n\\n        .btn {\\n            display: inline-  | </div>\\n                <div class=\\\"col-md-6\\\">\\n |\n",
            "|      |      50%;\\n                max-width: 50%;\\n       |      height: 1px;\\n            padding: 0;\\n       |     block;\\n            padding: 0.5em 1em;\\n      |  <form action=\\\"userSearch.php\\\" method=\\\"post\\\"   |\n",
            "|      |          }\\n\\n            .col-md-12 {\\n           |   margin: -1px;\\n            overflow: hidden;\\n   |   background-color: #18529D;\\n            color:   |     id=\\\"form\\\">\\n                        <h3      |\n",
            "|      |   -ms-flex: 0 0 100%;\\n                flex: 0 0   | clip: rect(0, 0, 0, 0);\\n            white-space:  |         #fff;\\n            border: none;\\n         | class=\\\"text-center mb-4\\\">Inicio de sesión</h3>\\n |\n",
            "|      |     100%;\\n                max-width: 100%;\\n      |    nowrap;\\n            border: 0;\\n        }\\n    |      border-radius: 4px;\\n            cursor:      |               <div class=\\\"mb-3\\\">\\n               |\n",
            "|      | }\\n        }\\n\\n        @media (max-width: 767px)  |  </style>\\n</head>\\n<body>\\n    <a href=\\\"#main\\\"  |   pointer;\\n            text-decoration: none;\\n   |       <label for=\\\"user\\\" class=\\\"form-label       |\n",
            "|      | {\\n            #colImg {\\n                display: |  class=\\\"sr-only sr-only-focusable\\\">Skip to main  | }\\n\\n        .btn:hover {\\n            background- |       text\\\">Correo institucional:</label>\\n       |\n",
            "|      | none;\\n            }\\n        }\\n\\n        @media  | content</a>\\n    <div class=\\\"container-fluid\\\">\\n | color: #0D47A1;\\n        }\\n\\n        .text-center |    <input type=\\\"email\\\" class=\\\"form-control\\\"    |\n",
            "|      |    (max-width: 767px) {\\n            .text {\\n     |      <div class=\\\"row\\\">\\n            <aside       | {\\n            text-align: center;\\n        }\\n\\n  | id=\\\"user\\\" name=\\\"user\\\" placeholder=\\\"Ingrese su |\n",
            "|      | padding-left: 6.3rem !important;\\n            }\\n  |        class=\\\"col-md-6\\\" id=\\\"colImg\\\">\\n         |     .pt-4 {\\n            padding-top: 1.5em;\\n     |            correo institucional\\\" aria-            |\n",
            "|      |  }\\n\\n        .text {\\n            padding-left:   |   <div class=\\\"row\\\">\\n                    <div    |  }\\n\\n        .mb-3 {\\n            margin-bottom:  |            describedby=\\\"emailHelp\\\">\\n            |\n",
            "|      |   10.625rem;\\n        }\\n\\n        .sr-only {\\n    | class=\\\"col-md-12\\\">\\n                        <img |   1em;\\n        }\\n\\n        .text-secondary {\\n   |   <div id=\\\"emailHelp\\\" class=\\\"form-text\\\">Ej:    |\n",
            "|      |   position: absolute;\\n            width: 1px;\\n   | src=\\\"https://sistemasfei.uv.mx/aulaclase/image_lo |  color: #6c757d;\\n            font-size: 0.8em;\\n  |               jhondoe@uv.mx</div>\\n                |\n",
            "|      |      height: 1px;\\n            padding: 0;\\n       |  gin.jpg\\\" class=\\\"imgLogin row\\\" alt=\\\"Imagen de  |      }\\n\\n        .justify-content-center {\\n      |        </div>\\n                        <div        |\n",
            "|      |   margin: -1px;\\n            overflow: hidden;\\n   | inicio de sesión\\\">\\n                    </div>\\n  |      justify-content: center;\\n        }\\n\\n       |                 class=\\\"mb-3\\\">\\n                  |\n",
            "|      | clip: rect(0, 0, 0, 0);\\n            white-space:  |  </div>\\n            </aside>\\n            <main   | .input-group {\\n            position: relative;\\n  |     <label for=\\\"password\\\" class=\\\"form-label     |\n",
            "|      |    nowrap;\\n            border: 0;\\n        }\\n    |      id=\\\"main\\\" class=\\\"col-sm-12 col-md-6\\\"      |    display: -ms-flexbox;\\n            display:     |            text\\\">Contraseña:</label>\\n            |\n",
            "|      | </style>\\n    <link rel=\\\"stylesheet\\\" href=\\\"http | tabindex=\\\"-1\\\">\\n                <div class=\\\"row |     flex;\\n            -ms-flex-wrap: wrap;\\n      |  <input type=\\\"password\\\" class=\\\"form-control\\\"   |\n",
            "|      | s://sistemasfei.uv.mx/aulaclase/css/bootstrap.min. |      float-right\\\">\\n                    <div      |   flex-wrap: wrap;\\n            -ms-flex-align:    |         id=\\\"password\\\" name=\\\"password\\\"          |\n",
            "|      |  css\\\">\\n</head>\\n\\n<body>\\n    <a href=\\\"#main\\\"  |    class=\\\"pleca\\\">\\n                        <a    |   stretch;\\n            align-items: stretch;\\n    |      placeholder=\\\"Ingrese su contraseña\\\">\\n      |\n",
            "|      |  class=\\\"sr-only sr-only-focusable\\\">Skip to main  |             href=\\\"https://www.uv.mx\\\"             |  width: 100%;\\n        }\\n\\n        .form-control  | </div>\\n                        <div class=\\\"text- |\n",
            "|      | content</a>\\n    <div class=\\\"container-fluid\\\">\\n |    style=\\\"color:#ffffff;\\\" title=\\\"Universidad    | {\\n            display: block;\\n            width: |   center\\\">\\n                            <button   |\n",
            "|      |      <div class=\\\"row\\\">\\n            <aside       |    Veracruzana\\\">Universidad Veracruzana</a>\\n     |  100%;\\n            padding: 0.375rem 0.75rem;\\n   |   type=\\\"submit\\\" name=\\\"enviar\\\" id=\\\"enviar\\\"    |\n",
            "|      |        class=\\\"col-md-6\\\" id=\\\"colImg\\\">\\n         |          </div>\\n                </div>\\n          | font-size: 1rem;\\n            line-height: 1.5;\\n  |         class=\\\"btn btn-primary\\\">Iniciar          |\n",
            "|      |   <div class=\\\"row\\\">\\n                    <div    |  <div style=\\\"width: 100%; height: 100%; display:  |   color: #495057;\\n            background-color:   | sesión</button>\\n                        </div>\\n  |\n",
            "|      | class=\\\"col-md-12\\\">\\n                        <img |        table;\\\">\\n                    <div         | #fff;\\n            background-clip: padding-box;\\n |         </form>\\n                </div>\\n          |\n",
            "|      | src=\\\"https://sistemasfei.uv.mx/aulaclase/image_lo |    style=\\\"display: table-cell; vertical-align:    |  border: 1px solid #ced4da;\\n            border-   | </div>\\n        </main>\\n    </div>\\n    <script s |\n",
            "|      |    gin.jpg\\\" class=\\\"imgLogin row\\\" alt=\\\"Login    |            middle;\\\" class=\\\"pt-4\\\">\\n             | radius: 0.25rem;\\n            transition: border-  | rc=\\\"https://sistemasfei.uv.mx/aulaclase/js/bootst |\n",
            "|      |      Image\\\" width=\\\"600\\\" height=\\\"800\\\">\\n       |           <h1 class=\\\"text-center pt-4\\\"           |  color .15s ease-in-out,box-shadow .15s ease-in-   | rap.bundle.min.js\\\"></script>\\n    <script src=\\\"h |\n",
            "|      |          </div>\\n                </div>\\n          |   style=\\\"color:#18529D\\\">Sistema de Gestión de    |     out;\\n        }\\n\\n        .borderRed {\\n      | ttps://cdn.jsdelivr.net/npm/sweetalert2@11\\\"></scr |\n",
            "|      |     </aside>\\n            <main id=\\\"divIzq\\\"      |     Claves y Préstamo de Equipo (SGCPE)</h1>\\n     | --tw-border-opacity: 1;\\n            border-color: | ipt>\\n    <script src=\\\"https://sistemasfei.uv.mx/ |\n",
            "|      |          class=\\\"col-sm-12 col-md-6\\\">\\n           |      <h2 class=\\\"h4 text-center\\\">Facultad de      |   rgba(239, 68, 68, var(--tw-border-opacity));\\n   |     aulaclase/js/jquery-3.7.0.js\\\"></script>\\n     |\n",
            "|      |         <div class=\\\"row float-right\\\">\\n          |          Estadística e Informática</h2>\\n          |   }\\n\\n        .borderGreen {\\n            --tw-   |  <script>\\n        $(document).ready(function ()   |\n",
            "|      |    <nav class=\\\"pleca\\\" role=\\\"navigation\\\">\\n     |             <div role=\\\"region\\\" aria-             |   border-opacity: 1;\\n            border-color:    |    {\\n            $(\\\"#enviar\\\").on(\\\"click\\\",     |\n",
            "|      |           <a href=\\\"https://www.uv.mx\\\"            |         labelledby=\\\"loginFormHeader\\\">\\n          |  rgba(16, 185, 129, var(--tw-border-opacity));\\n   |                  function (e) {\\n                  |\n",
            "|      |        style=\\\"color:#ffffff;\\\">Universidad        |      <h2 id=\\\"loginFormHeader\\\" class=\\\"text-      |    }\\n\\n        @font-face {\\n            font-    |               e.preventDefault();\\n                |\n",
            "|      |   Veracruzana</a>\\n                    </nav>\\n    |          center\\\">Inicio de sesión</h2>\\n          | family: GillSansBold;\\n            src: url(https: |      validarFormulario();\\n            })\\n\\n      |\n",
            "|      | </div>\\n                <div style=\\\"width: 100%;  |  <form action=\\\"userSearch.php\\\" method=\\\"post\\\"   |   //sistemasfei.uv.mx/aulaclase/GillSans/Gill\\\\    |     $('#user').on(\\\"change\\\", function () {\\n      |\n",
            "|      |         height: 100%; display: table;\\\">\\n         | id=\\\"form\\\">\\n                                <div | Sans\\\\ Bold.otf);\\n        }\\n\\n        @font-face |  $(this).removeClass(\\\"borderGreen borderRed\\\")\\n  |\n",
            "|      | <div style=\\\"display: table-cell; vertical-align:  |      class=\\\"row justify-content-center\\\">\\n       |   {\\n            font-family: GillSansRegular;\\n   |  });\\n\\n            $('#password').on(\\\"change\\\",  |\n",
            "|      |            middle;\\\" class=\\\"pt-4\\\">\\n             |                      <div>\\n                       | src: url(https://sistemasfei.uv.mx/aulaclase/GillS |                  function () {\\n                   |\n",
            "|      |           <h1 class=\\\"text-center pt-4\\\"           |   <label for=\\\"user\\\" class=\\\"h-3 text\\\">Correo    | ans/Gill\\\\ Sans.otf);\\n        }\\n\\n        h2,\\n  |  $(this).removeClass(\\\"borderGreen borderRed\\\")\\n  |\n",
            "|      |   style=\\\"color:#18529D\\\">Sistema de Gestión de    |              institucional:</label>\\n              |   h4 {\\n            font-family: GillSansBold;\\n   |        });\\n        });\\n\\n        function        |\n",
            "|      |     Claves y Préstamo de Equipo (SGCPE)</h1>\\n     |  </div>\\n                                    <div  |     }\\n\\n        p {\\n            font-family:     |  validarFormulario() {\\n            var usuario =  |\n",
            "|      | <h2 class=\\\"text-center\\\">Facultad de Estadística  | class=\\\"input-group row\\\" style=\\\"width: 50%\\\">\\n  | GillSansRegular;\\n        }\\n\\n        @media only |     $('#user').val();\\n            var clave =     |\n",
            "|      |  e Informática</h2>\\n                        <h3   |  <input type=\\\"email\\\" name=\\\"user\\\" id=\\\"user\\\"   | screen and (max-width: 576px) {\\n            .form |       $('#password').val();\\n            if        |\n",
            "|      |   class=\\\"text-center\\\">Inicio de sesión</h3>\\n    |  class=\\\"form-control\\\" placeholder=\\\"Ingrese su   |      {\\n                padding-top: 10rem;\\n      |             (usuario.length == 0) {\\n              |\n",
            "|      |     <section aria-labelledby=\\\"login-heading\\\"     |     correo institucional\\\" aria-label=\\\"Correo     |     }\\n        }\\n\\n        .custom-button {\\n     | Swal.fire({\\n                    icon: 'error',\\n  |\n",
            "|      | tabindex=\\\"0\\\">\\n                            <form | institucional\\\" aria-describedby=\\\"emailHelp\\\">\\n  |      background-color: #28AD56 !important;\\n       |  html: '<p>Es necesario ingresar su correo/cuenta  |\n",
            "|      |     action=\\\"userSearch.php\\\" method=\\\"post\\\"      | <div id=\\\"emailHelp\\\" class=\\\"form-text\\\">Ejemplo: | }\\n\\n        .btn {\\n            background-color: |               institucional.</p>',\\n               |\n",
            "|      |             id=\\\"form\\\" novalidate>\\n              |               jhondoe@uv.mx</div>\\n                |  #18529D !important;\\n        }\\n\\n        a {\\n   |            showConfirmButton: false,\\n             |\n",
            "|      |    <div class=\\\"row justify-content-center\\\">\\n    |                      </div>\\n                      |   color: #007bff;\\n            text-decoration:    |         timer: 3500\\n                });\\n         |\n",
            "|      |                      <div>\\n                       |                      <div>\\n                       |        none;\\n            background-color:        |       $('#user').addClass(\\\"borderRed\\\");\\n        |\n",
            "|      |      <label for=\\\"user\\\" class=\\\"h-3 text sr-      |        <label for=\\\"password\\\" class=\\\"h-3         | transparent;\\n            -webkit-text-decoration- | return false;\\n            }\\n            else {\\n |\n",
            "|      |       only\\\">Correo institucional:</label>\\n       |            text\\\">Contraseña:</label>\\n            |      skip: objects;\\n            font-family:      |      $('#user').addClass(\\\"borderGreen\\\");\\n       |\n",
            "|      | <p class=\\\"h-3 text\\\">Correo institucional:</p>\\n  |  </div>\\n                                    <div  |  GillSansRegular;\\n        }\\n\\n        .text {\\n  |     }\\n            if (clave.length == 0) {\\n      |\n",
            "|      |  </div>\\n                                    <div  | class=\\\"input-group mb-3\\\" style=\\\"width: 50%\\\">\\n |      padding-left: 10.625rem;\\n        }\\n\\n       | Swal.fire({\\n                    icon: 'error',\\n  |\n",
            "|      | class=\\\"input-group row\\\" style=\\\"width: 50%\\\">\\n  |     <input type=\\\"password\\\" name=\\\"password\\\"     | @media (max-width: 767px) {\\n            .text {\\n |         html: '<p>Es necesario ingresar su         |\n",
            "|      |  <input type=\\\"email\\\" name=\\\"user\\\" id=\\\"user\\\"   |       id=\\\"password\\\" class=\\\"form-control\\\"       | padding-left: 6.3rem !important;\\n            }\\n  |                 password.</p>',\\n                  |\n",
            "|      |  class=\\\"form-control\\\" placeholder=\\\"Ingrese su   |    placeholder=\\\"Ingrese su contraseña\\\" aria-     |      }\\n    </style>\\n</head>\\n<body>\\n    <a      |            showConfirmButton: false,\\n             |\n",
            "|      |  correo institucional\\\" aria-label=\\\"Recipient's   |              label=\\\"Contraseña\\\">\\n               |   href=\\\"#main\\\" class=\\\"sr-only\\\">Skip to main    |         timer: 3500\\n                });\\n         |\n",
            "|      |  username\\\" aria-describedby=\\\"basic-addon2 user-  |  </div>\\n                                    <div  | content</a>\\n    <div class=\\\"container-fluid\\\">\\n |     $('#password').addClass(\\\"borderRed\\\");\\n      |\n",
            "|      |  description user-error\\\" autocomplete=\\\"email\\\"   |           class=\\\"text-center pt-5\\\">\\n            | <div class=\\\"row\\\">\\n            <div class=\\\"col- | return false;\\n            }\\n            else {\\n |\n",
            "|      |                    required>\\n                     |      <button type=\\\"submit\\\" name=\\\"enviar\\\"       |    md-6\\\" id=\\\"colImg\\\">\\n                <div     |    $('#password').addClass(\\\"borderGreen\\\");\\n     |\n",
            "|      |      <p id=\\\"user-description\\\" class=\\\"text-      |   id=\\\"enviar\\\" class=\\\"btn btn-primary\\\" aria-    |      class=\\\"row\\\">\\n                    <div      | }\\n            $(\\\"#form\\\").submit();\\n        }\\n |\n",
            "|      |       secondary\\\">Ejem: jhondoe@uv.mx</p>\\n        | label=\\\"Iniciar sesión\\\">Iniciar sesión</button>\\n | class=\\\"col-md-12\\\">\\n                        <img |            </script>\\n</body>\\n</html>\"            |\n",
            "|      | <div id=\\\"user-error\\\" class=\\\"invalid-feedback\\\"  |  </div>\\n                                </div>\\n  | src=\\\"https://sistemasfei.uv.mx/aulaclase/image_lo |                         }                          |\n",
            "|      |  aria-live=\\\"polite\\\" aria-atomic=\\\"true\\\" aria-   |     </form>\\n                        </div>\\n      |     gin.jpg\\\" class=\\\"imgLogin row\\\" alt=\\\"UV      |                                                    |\n",
            "|      |        relevant=\\\"additions text\\\"></div>\\n        |          </div>\\n                </div>\\n          |     Building\\\">\\n                    </div>\\n      |                                                    |\n",
            "|      |                      </div>\\n                      |       </main>\\n        </div>\\n    </div>\\n        |    </div>\\n            </div>\\n            <div    |                                                    |\n",
            "|      |                      <div>\\n                       | <noscript>\\n        <p>Please enable JavaScript to |   id=\\\"divIzq\\\" class=\\\"col-sm-12 col-md-6\\\">\\n    |                                                    |\n",
            "|      |    <label for=\\\"password\\\" class=\\\"h-3 text sr-    | use this site.</p>\\n    </noscript>\\n    <script s |         <div class=\\\"row float-right\\\">\\n          |                                                    |\n",
            "|      |            only\\\">Contraseña:</label>\\n            | rc=\\\"https://sistemasfei.uv.mx/aulaclase/js/bootst | <div class=\\\"pleca\\\">\\n                        <a  |                                                    |\n",
            "|      |      <p class=\\\"h-3 text\\\">Contraseña:</p>\\n       | rap.bundle.min.js\\\"></script>\\n    <script src=\\\"h |             href=\\\"https://www.uv.mx\\\"             |                                                    |\n",
            "|      |  </div>\\n                                    <div  | ttps://cdn.jsdelivr.net/npm/sweetalert2@11\\\"></scr |        style=\\\"color:#ffffff;\\\">Universidad        |                                                    |\n",
            "|      | class=\\\"input-group mb-3\\\" style=\\\"width: 50%\\\">\\n | ipt>\\n    <script src=\\\"https://sistemasfei.uv.mx/ |   Veracruzana</a>\\n                    </div>\\n    |                                                    |\n",
            "|      |     <input type=\\\"password\\\" name=\\\"password\\\"     |                aulaclase/js/jquery-                |     </div>\\n                <main id=\\\"main\\\"      |                                                    |\n",
            "|      |       id=\\\"password\\\" class=\\\"form-control\\\"       |      3.7.0.js\\\"></script>\\n</body>\\n</html>\"       |    style=\\\"width: 100%; height: 100%; display:     |                                                    |\n",
            "|      |    placeholder=\\\"Ingrese su contraseña\\\" aria-     |                         }                          |        table;\\\">\\n                    <div         |                                                    |\n",
            "|      |        label=\\\"Recipient's username\\\" aria-        |                                                    |    style=\\\"display: table-cell; vertical-align:    |                                                    |\n",
            "|      |    describedby=\\\"basic-addon2 password-error\\\"     |                                                    |            middle;\\\" class=\\\"pt-4\\\">\\n             |                                                    |\n",
            "|      |   autocomplete=\\\"current-password\\\" required>\\n    |                                                    |           <h1 class=\\\"text-center pt-4\\\"           |                                                    |\n",
            "|      |    <div id=\\\"password-error\\\" class=\\\"invalid-     |                                                    |   style=\\\"color:#18529D\\\">Sistema de Gestión de    |                                                    |\n",
            "|      |       feedback\\\" aria-live=\\\"polite\\\" aria-        |                                                    |     Claves y Préstamo de Equipo (SGCPE)</h1>\\n     |                                                    |\n",
            "|      |     atomic=\\\"true\\\" aria-relevant=\\\"additions      |                                                    | <h2 class=\\\"text-center\\\">Facultad de Estadística  |                                                    |\n",
            "|      |                  text\\\"></div>\\n                   |                                                    |  e Informática</h2>\\n                        <h2   |                                                    |\n",
            "|      |  </div>\\n                                    <div  |                                                    |   class=\\\"text-center\\\">Inicio de sesión</h2>\\n    |                                                    |\n",
            "|      |           class=\\\"text-center pt-5\\\">\\n            |                                                    |  <form action=\\\"userSearch.php\\\" method=\\\"post\\\"   |                                                    |\n",
            "|      |      <button type=\\\"submit\\\" name=\\\"enviar\\\"       |                                                    |   id=\\\"form\\\">\\n                            <div   |                                                    |\n",
            "|      |  id=\\\"enviar\\\" class=\\\"btn btn-primary\\\">Iniciar   |                                                    |      class=\\\"row justify-content-center\\\">\\n       |                                                    |\n",
            "|      |                 sesión</button>\\n                  |                                                    |            <div class=\\\"form-group\\\">\\n            |                                                    |\n",
            "|      |  </div>\\n                                </div>\\n  |                                                    |   <label for=\\\"user\\\" class=\\\"h-3 text\\\">Correo    |                                                    |\n",
            "|      |   </form>\\n                        </section>\\n    |                                                    |              institucional:</label>\\n              |                                                    |\n",
            "|      |          </div>\\n                </div>\\n          |                                                    |   <div class=\\\"input-group row\\\" style=\\\"width:    |                                                    |\n",
            "|      | </main>\\n        </div>\\n    </div>\\n    <script s |                                                    |                      50%\\\">\\n                      |                                                    |\n",
            "|      | rc=\\\"https://sistemasfei.uv.mx/aulaclase/js/bootst |                                                    |   <input type=\\\"text\\\" name=\\\"user\\\" id=\\\"user\\\"   |                                                    |\n",
            "|      | rap.bundle.min.js\\\"></script>\\n    <script src=\\\"h |                                                    |  class=\\\"form-control\\\" placeholder=\\\"Ingrese su   |                                                    |\n",
            "|      | ttps://cdn.jsdelivr.net/npm/sweetalert2@11\\\"></scr |                                                    |     correo institucional\\\" aria-label=\\\"Correo     |                                                    |\n",
            "|      | ipt>\\n    <script src=\\\"https://sistemasfei.uv.mx/ |                                                    | institucional\\\" aria-describedby=\\\"emailHelp\\\">\\n  |                                                    |\n",
            "|      |  aulaclase/js/jquery-3.7.0.js\\\"></script>\\n\\n\\n\\n  |                                                    |       <small id=\\\"emailHelp\\\" class=\\\"text-        |                                                    |\n",
            "|      |  <script>\\n        $(document).ready(function ()   |                                                    |     secondary\\\">Ejem: jhondoe@uv.mx</small>\\n      |                                                    |\n",
            "|      |    {\\n            $(\\\"#enviar\\\").on(\\\"click\\\",     |                                                    |  </div>\\n                                </div>\\n  |                                                    |\n",
            "|      |                  function (e) {\\n                  |                                                    |            <div class=\\\"form-group\\\">\\n            |                                                    |\n",
            "|      |               e.preventDefault();\\n                |                                                    |        <label for=\\\"password\\\" class=\\\"h-3         |                                                    |\n",
            "|      |      validarFormulario();\\n            })\\n\\n      |                                                    |            text\\\">Contraseña:</label>\\n            |                                                    |\n",
            "|      |     $('#user').on(\\\"change\\\", function () {\\n      |                                                    |   <div class=\\\"input-group mb-3\\\" style=\\\"width:   |                                                    |\n",
            "|      |  $(this).removeClass(\\\"borderGreen borderRed\\\")\\n  |                                                    |                      50%\\\">\\n                      |                                                    |\n",
            "|      |  });\\n\\n            $('#password').on(\\\"change\\\",  |                                                    |     <input type=\\\"password\\\" name=\\\"password\\\"     |                                                    |\n",
            "|      |                  function () {\\n                   |                                                    |       id=\\\"password\\\" class=\\\"form-control\\\"       |                                                    |\n",
            "|      |  $(this).removeClass(\\\"borderGreen borderRed\\\")\\n  |                                                    |    placeholder=\\\"Ingrese su contraseña\\\" aria-     |                                                    |\n",
            "|      |        });\\n        });\\n\\n        function        |                                                    |              label=\\\"Contraseña\\\">\\n               |                                                    |\n",
            "|      |  validarFormulario() {\\n            var usuario =  |                                                    |  </div>\\n                                </div>\\n  |                                                    |\n",
            "|      |     $('#user').val();\\n            var clave =     |                                                    |         <div class=\\\"text-center pt-5\\\">\\n         |                                                    |\n",
            "|      |       $('#password').val();\\n            if        |                                                    |      <button type=\\\"submit\\\" name=\\\"enviar\\\"       |                                                    |\n",
            "|      |             (usuario.length == 0) {\\n              |                                                    |  id=\\\"enviar\\\" class=\\\"btn btn-primary\\\">Iniciar   |                                                    |\n",
            "|      | Swal.fire({\\n                    icon: 'error',\\n  |                                                    |                 sesión</button>\\n                  |                                                    |\n",
            "|      |  html: '<p>Es necesario ingresar su correo/cuenta  |                                                    |    </div>\\n                            </div>\\n    |                                                    |\n",
            "|      |               institucional.</p>',\\n               |                                                    |       </form>\\n                    </div>\\n        |                                                    |\n",
            "|      |            showConfirmButton: false,\\n             |                                                    |   </main>\\n            </div>\\n        </div>\\n    |                                                    |\n",
            "|      |         timer: 3500\\n                });\\n         |                                                    | </div>\\n    <script src=\\\"https://sistemasfei.uv.m |                                                    |\n",
            "|      |       $('#user').addClass(\\\"borderRed\\\");\\n        |                                                    | x/aulaclase/js/bootstrap.bundle.min.js\\\"></script> |                                                    |\n",
            "|      |   $('#user').attr(\\\"aria-invalid\\\", \\\"true\\\");\\n   |                                                    | \\n    <script src=\\\"https://cdn.jsdelivr.net/npm/s |                                                    |\n",
            "|      |  $('#user-error').text(\\\"Es necesario ingresar su  |                                                    | weetalert2@11\\\"></script>\\n    <script src=\\\"https |                                                    |\n",
            "|      |         correo/cuenta institucional.\\\");\\n         |                                                    |     ://sistemasfei.uv.mx/aulaclase/js/jquery-      |                                                    |\n",
            "|      | return false;\\n            }\\n            else {\\n |                                                    |       3.7.0.js\\\"></script>\\n\\n    <script>\\n       |                                                    |\n",
            "|      |      $('#user').addClass(\\\"borderGreen\\\");\\n       |                                                    |         $(document).ready(function () {\\n          |                                                    |\n",
            "|      |  $('#user').attr(\\\"aria-invalid\\\", \\\"false\\\");\\n   |                                                    |   $(\\\"#enviar\\\").on(\\\"click\\\", function (e) {\\n    |                                                    |\n",
            "|      |   $('#user-error').text(\\\"\\\");\\n            }\\n    |                                                    |               e.preventDefault();\\n                |                                                    |\n",
            "|      |             if (clave.length == 0) {\\n             |                                                    |      validarFormulario();\\n            })\\n\\n      |                                                    |\n",
            "|      | Swal.fire({\\n                    icon: 'error',\\n  |                                                    |     $('#user').on(\\\"change\\\", function () {\\n      |                                                    |\n",
            "|      |         html: '<p>Es necesario ingresar su         |                                                    |  $(this).removeClass(\\\"borderGreen borderRed\\\")\\n  |                                                    |\n",
            "|      |                 password.</p>',\\n                  |                                                    |  });\\n\\n            $('#password').on(\\\"change\\\",  |                                                    |\n",
            "|      |            showConfirmButton: false,\\n             |                                                    |                  function () {\\n                   |                                                    |\n",
            "|      |         timer: 3500\\n                });\\n         |                                                    |  $(this).removeClass(\\\"borderGreen borderRed\\\")\\n  |                                                    |\n",
            "|      |     $('#password').addClass(\\\"borderRed\\\");\\n      |                                                    |        });\\n        });\\n\\n        function        |                                                    |\n",
            "|      | $('#password').attr(\\\"aria-invalid\\\", \\\"true\\\");\\n |                                                    |  validarFormulario() {\\n            var usuario =  |                                                    |\n",
            "|      | $('#password-error').text(\\\"Es necesario ingresar  |                                                    |     $('#user').val();\\n            var clave =     |                                                    |\n",
            "|      | su password.\\\");\\n                return false;\\n  |                                                    |       $('#password').val();\\n            if        |                                                    |\n",
            "|      |              }\\n            else {\\n               |                                                    |             (usuario.length == 0) {\\n              |                                                    |\n",
            "|      |    $('#password').addClass(\\\"borderGreen\\\");\\n     |                                                    | Swal.fire({\\n                    icon: 'error',\\n  |                                                    |\n",
            "|      |       $('#password').attr(\\\"aria-invalid\\\",        |                                                    |  html: '<p>Es necesario ingresar su correo/cuenta  |                                                    |\n",
            "|      |     \\\"false\\\");\\n                $('#password-     |                                                    |               institucional.</p>',\\n               |                                                    |\n",
            "|      |        error').text(\\\"\\\");\\n            }\\n        |                                                    |            showConfirmButton: false,\\n             |                                                    |\n",
            "|      |        $(\\\"#form\\\").submit();\\n        }\\n         |                                                    |         timer: 3500\\n                });\\n         |                                                    |\n",
            "|      |           </script>\\n</body>\\n\\n</html>\"           |                                                    |       $('#user').addClass(\\\"borderRed\\\");\\n        |                                                    |\n",
            "|      |                         }                          |                                                    | return false;\\n            }\\n            else {\\n |                                                    |\n",
            "|      |                                                    |                                                    |      $('#user').addClass(\\\"borderGreen\\\");\\n       |                                                    |\n",
            "|      |                                                    |                                                    |     }\\n            if (clave.length == 0) {\\n      |                                                    |\n",
            "|      |                                                    |                                                    | Swal.fire({\\n                    icon: 'error',\\n  |                                                    |\n",
            "|      |                                                    |                                                    |         html: '<p>Es necesario ingresar su         |                                                    |\n",
            "|      |                                                    |                                                    |                 password.</p>',\\n                  |                                                    |\n",
            "|      |                                                    |                                                    |            showConfirmButton: false,\\n             |                                                    |\n",
            "|      |                                                    |                                                    |         timer: 3500\\n                });\\n         |                                                    |\n",
            "|      |                                                    |                                                    |     $('#password').addClass(\\\"borderRed\\\");\\n      |                                                    |\n",
            "|      |                                                    |                                                    | return false;\\n            }\\n            else {\\n |                                                    |\n",
            "|      |                                                    |                                                    |    $('#password').addClass(\\\"borderGreen\\\");\\n     |                                                    |\n",
            "|      |                                                    |                                                    | }\\n            $(\\\"#form\\\").submit();\\n        }\\n |                                                    |\n",
            "|      |                                                    |                                                    |            </script>\\n</body>\\n</html>\"            |                                                    |\n",
            "|      |                                                    |                                                    |                         }                          |                                                    |\n",
            "+------+----------------------------------------------------+----------------------------------------------------+----------------------------------------------------+----------------------------------------------------+\n"
          ]
        }
      ],
      "source": [
        "extracted_json_html, extracted_json_html_template, extracted_json_md, extracted_json_md_template = display_extracted_content(\"gemini-2.0-flash\", all_content_html, all_content_md, \"Crawl4ai\", \"Form\", \"form\")"
      ]
    },
    {
      "cell_type": "code",
      "execution_count": 59,
      "metadata": {},
      "outputs": [],
      "source": [
        "generate_output_files(\"gemini-form\", extracted_json_html, extracted_json_html_template, extracted_json_md, extracted_json_md_template)"
      ]
    },
    {
      "cell_type": "markdown",
      "metadata": {},
      "source": [
        "## Evaluación de los resultados\n",
        "\n",
        "Los resultados se encuentran en la carpeta ouput y ahora hay que utilizar la herramienta WAVE y Lighthouse para evaluar la accesibilidad utilizando la metodología WCAG-EM. A continuación hay que colocar los resultados de las evaluaciones."
      ]
    },
    {
      "cell_type": "code",
      "execution_count": null,
      "metadata": {},
      "outputs": [],
      "source": [
        "wcag_blocks_eval = {\n",
        "    \"original\": {\n",
        "        \"wave\": {\n",
        "            \"errors\": 2,\n",
        "            \"contrast errors\": 0,\n",
        "            \"alerts\": 8,\n",
        "            \"features\": 4,\n",
        "        },\n",
        "        \"lighthouse\": {\n",
        "            \"accessibility\": 0,\n",
        "        }\n",
        "    },\n",
        "    \"gpt-html\": {\n",
        "        \"wave\": {\n",
        "            \"errors\": 0,\n",
        "            \"contrast errors\": 0,\n",
        "            \"alerts\": 0,\n",
        "            \"features\": 11,\n",
        "        },\n",
        "        \"lighthouse\": {\n",
        "            \"accessibility\": 100,\n",
        "        }\n",
        "    },\n",
        "    \"gpt-html-template\": {\n",
        "        \"wave\": {\n",
        "            \"errors\": 0,\n",
        "            \"contrast errors\": 0,\n",
        "            \"alerts\": 0,\n",
        "            \"features\": 11,\n",
        "        },\n",
        "        \"lighthouse\": {\n",
        "            \"accessibility\": 100,\n",
        "        }\n",
        "    },\n",
        "    \"gpt-md\": {\n",
        "        \"wave\": {\n",
        "            \"errors\": 0,\n",
        "            \"contrast errors\": 8,\n",
        "            \"alerts\": 5,\n",
        "            \"features\": 6,\n",
        "        },\n",
        "        \"lighthouse\": {\n",
        "            \"accessibility\": 100,\n",
        "        }\n",
        "    },\n",
        "    \"gpt-md-template\": {\n",
        "        \"wave\": {\n",
        "            \"errors\": 0,\n",
        "            \"contrast errors\": 0,\n",
        "            \"alerts\": 1,\n",
        "            \"features\": 11,\n",
        "        },\n",
        "        \"lighthouse\": {\n",
        "            \"accessibility\": 100,\n",
        "        }\n",
        "    },\n",
        "    \"gemini-html\": {\n",
        "        \"wave\": {\n",
        "            \"errors\": 0,\n",
        "            \"contrast errors\": 2,\n",
        "            \"alerts\": 0,\n",
        "            \"features\": 11,\n",
        "        },\n",
        "        \"lighthouse\": {\n",
        "            \"accessibility\": 100,\n",
        "        }\n",
        "    },\n",
        "    \"gemini-html-template\": {\n",
        "        \"wave\": {\n",
        "            \"errors\": 0,\n",
        "            \"contrast errors\": 0,\n",
        "            \"alerts\": 0,\n",
        "            \"features\": 4,\n",
        "        },\n",
        "        \"lighthouse\": {\n",
        "            \"accessibility\": 100,\n",
        "        }\n",
        "    },\n",
        "    \"gemini-md\": {\n",
        "        \"wave\": {\n",
        "            \"errors\": 0,\n",
        "            \"contrast errors\": 0,\n",
        "            \"alerts\": 1,\n",
        "            \"features\": 11,\n",
        "        },\n",
        "        \"lighthouse\": {\n",
        "            \"accessibility\": 100,\n",
        "        }\n",
        "    },\n",
        "    \"gemini-md-template\": {\n",
        "        \"wave\": {\n",
        "            \"errors\": 0,\n",
        "            \"contrast errors\": 0,\n",
        "            \"alerts\": 2,\n",
        "            \"features\": 11,\n",
        "        },\n",
        "        \"lighthouse\": {\n",
        "            \"accessibility\": 100,\n",
        "        }\n",
        "    }\n",
        "}"
      ]
    },
    {
      "cell_type": "code",
      "execution_count": null,
      "metadata": {},
      "outputs": [],
      "source": [
        "wcag_form_eval = {\n",
        "    \"original\": {\n",
        "        \"wave\": {\n",
        "            \"errors\": 2,\n",
        "            \"contrast errors\": 0,\n",
        "            \"alerts\": 8,\n",
        "            \"features\": 4,\n",
        "        },\n",
        "        \"lighthouse\": {\n",
        "            \"accessibility\": 0,\n",
        "        }\n",
        "    },\n",
        "    \"gpt-html\": {\n",
        "        \"wave\": {\n",
        "            \"errors\": 0,\n",
        "            \"contrast errors\": 0,\n",
        "            \"alerts\": 0,\n",
        "            \"features\": 11,\n",
        "        },\n",
        "        \"lighthouse\": {\n",
        "            \"accessibility\": 100,\n",
        "        }\n",
        "    },\n",
        "    \"gpt-html-template\": {\n",
        "        \"wave\": {\n",
        "            \"errors\": 0,\n",
        "            \"contrast errors\": 0,\n",
        "            \"alerts\": 0,\n",
        "            \"features\": 11,\n",
        "        },\n",
        "        \"lighthouse\": {\n",
        "            \"accessibility\": 100,\n",
        "        }\n",
        "    },\n",
        "    \"gpt-md\": {\n",
        "        \"wave\": {\n",
        "            \"errors\": 0,\n",
        "            \"contrast errors\": 8,\n",
        "            \"alerts\": 5,\n",
        "            \"features\": 6,\n",
        "        },\n",
        "        \"lighthouse\": {\n",
        "            \"accessibility\": 100,\n",
        "        }\n",
        "    },\n",
        "    \"gpt-md-template\": {\n",
        "        \"wave\": {\n",
        "            \"errors\": 0,\n",
        "            \"contrast errors\": 0,\n",
        "            \"alerts\": 1,\n",
        "            \"features\": 11,\n",
        "        },\n",
        "        \"lighthouse\": {\n",
        "            \"accessibility\": 100,\n",
        "        }\n",
        "    },\n",
        "    \"gemini-html\": {\n",
        "        \"wave\": {\n",
        "            \"errors\": 0,\n",
        "            \"contrast errors\": 2,\n",
        "            \"alerts\": 0,\n",
        "            \"features\": 11,\n",
        "        },\n",
        "        \"lighthouse\": {\n",
        "            \"accessibility\": 100,\n",
        "        }\n",
        "    },\n",
        "    \"gemini-html-template\": {\n",
        "        \"wave\": {\n",
        "            \"errors\": 0,\n",
        "            \"contrast errors\": 0,\n",
        "            \"alerts\": 0,\n",
        "            \"features\": 4,\n",
        "        },\n",
        "        \"lighthouse\": {\n",
        "            \"accessibility\": 100,\n",
        "        }\n",
        "    },\n",
        "    \"gemini-md\": {\n",
        "        \"wave\": {\n",
        "            \"errors\": 0,\n",
        "            \"contrast errors\": 0,\n",
        "            \"alerts\": 1,\n",
        "            \"features\": 11,\n",
        "        },\n",
        "        \"lighthouse\": {\n",
        "            \"accessibility\": 100,\n",
        "        }\n",
        "    },\n",
        "    \"gemini-md-template\": {\n",
        "        \"wave\": {\n",
        "            \"errors\": 0,\n",
        "            \"contrast errors\": 0,\n",
        "            \"alerts\": 2,\n",
        "            \"features\": 11,\n",
        "        },\n",
        "        \"lighthouse\": {\n",
        "            \"accessibility\": 100,\n",
        "        }\n",
        "    }\n",
        "}"
      ]
    },
    {
      "cell_type": "markdown",
      "metadata": {},
      "source": [
        "## Analisis estadistico de los datos\n",
        "\n",
        "A continuación se analizan los resultados de la intervención de la IA para la mejora de la accesibilidad en páginas web."
      ]
    }
  ],
  "metadata": {
    "colab": {
      "include_colab_link": true,
      "provenance": []
    },
    "kernelspec": {
      "display_name": ".venv",
      "language": "python",
      "name": "python3"
    },
    "language_info": {
      "codemirror_mode": {
        "name": "ipython",
        "version": 3
      },
      "file_extension": ".py",
      "mimetype": "text/x-python",
      "name": "python",
      "nbconvert_exporter": "python",
      "pygments_lexer": "ipython3",
      "version": "3.13.2"
    }
  },
  "nbformat": 4,
  "nbformat_minor": 0
}
